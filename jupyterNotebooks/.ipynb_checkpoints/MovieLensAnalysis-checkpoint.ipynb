{
 "cells": [
  {
<<<<<<< HEAD
   "cell_type": "code",
   "execution_count": 1,
=======
   "cell_type": "markdown",
   "metadata": {},
   "source": [
    "# MovieLens Dataset Pre-Processing and Analysis\n",
    "\n",
    "##### This python notebook is designed to pre-process and pre-analyze the data found in the MovieLens database."
   ]
  },
  {
   "cell_type": "code",
   "execution_count": 18,
>>>>>>> 6b8d1830d7a28b42516c442dc91ffb05451d04b1
   "metadata": {},
   "outputs": [],
   "source": [
    "import pandas as pd\n",
    "import numpy as np\n",
    "import matplotlib.pyplot as plt\n",
    "import time\n",
    "from datetime import datetime\n",
<<<<<<< HEAD
=======
    "from scipy import stats\n",
    "import imdb\n",
    "import os\n",
    "from numpy import array\n",
    "from scipy.linalg import svd\n",
    "from sklearn.cluster import KMeans\n",
    "import seaborn as sns\n",
    "import operator\n",
>>>>>>> 6b8d1830d7a28b42516c442dc91ffb05451d04b1
    "%matplotlib inline"
   ]
  },
  {
<<<<<<< HEAD
   "cell_type": "code",
   "execution_count": 2,
=======
   "cell_type": "markdown",
   "metadata": {},
   "source": [
    "#### Importing Data from CSVs\n",
    "#### Editing Timestamps \n",
    "#### Printing Dataset Shape"
   ]
  },
  {
   "cell_type": "code",
   "execution_count": 19,
>>>>>>> 6b8d1830d7a28b42516c442dc91ffb05451d04b1
   "metadata": {},
   "outputs": [
    {
     "name": "stdout",
     "output_type": "stream",
     "text": [
      "(3683, 4)\n",
      "links (9742, 3)\n",
      "movies (9742, 3)\n",
      "ratings (100836, 4)\n",
      "tags (3683, 4)\n"
     ]
    }
   ],
   "source": [
<<<<<<< HEAD
    "links = pd.read_csv(r\"ml-latest-small/links.csv\") #Links show Movie ID, IMDB ID, and TMDB ID\n",
    "movies = pd.read_csv(r\"ml-latest-small/movies.csv\") #Movies Show Movie ID, Title, Genres\n",
    "ratings = pd.read_csv(r\"ml-latest-small/ratings.csv\") #Ratings show userid, movieid, ratings, and timestamps (Can we apply a flocking algorithm?)\n",
    "tags = pd.read_csv(r\"ml-latest-small/tags.csv\") #User ID, Movie ID, Tag, and Timestamp\n",
=======
    "links = pd.read_csv(r\"../ml-latest-small/links.csv\") #Links show Movie ID, IMDB ID, and TMDB ID\n",
    "movies = pd.read_csv(r\"../ml-latest-small/movies.csv\") #Movies Show Movie ID, Title, Genres\n",
    "ratings = pd.read_csv(r\"../ml-latest-small/ratings.csv\") #Ratings show userid, movieid, ratings, and timestamps (Can we apply a flocking algorithm?)\n",
    "tags = pd.read_csv(r\"../ml-latest-small/tags.csv\") #User ID, Movie ID, Tag, and Timestamp\n",
>>>>>>> 6b8d1830d7a28b42516c442dc91ffb05451d04b1
    "print(tags.shape)\n",
    "tags.timestamp = tags.apply(lambda x : datetime.strptime(time.ctime(x.timestamp),\"%a %b %d %H:%M:%S %Y\"), axis = 1)\n",
    "ratings.timestamp = ratings.apply(lambda x : datetime.strptime(time.ctime(x.timestamp),\"%a %b %d %H:%M:%S %Y\"), axis = 1)\n",
    "print(\"links\", links.shape) \n",
    "print(\"movies\", movies.shape)\n",
    "print(\"ratings\", ratings.shape)\n",
<<<<<<< HEAD
    "print(\"tags\", tags.shape)\n",
    "#What do we need to do? / Basic Ideas\n",
    "# 1. Can we identify trend setters?\n",
    "# 2. Create node visual for genre clusters (20 Genres, which tend to cluster together)\n",
    "# 3. Identify associations in tags"
   ]
  },
  {
   "cell_type": "code",
   "execution_count": 3,
   "metadata": {},
   "outputs": [
    {
     "data": {
      "text/html": [
       "<div>\n",
       "<style scoped>\n",
       "    .dataframe tbody tr th:only-of-type {\n",
       "        vertical-align: middle;\n",
       "    }\n",
       "\n",
       "    .dataframe tbody tr th {\n",
       "        vertical-align: top;\n",
       "    }\n",
       "\n",
       "    .dataframe thead th {\n",
       "        text-align: right;\n",
       "    }\n",
       "</style>\n",
       "<table border=\"1\" class=\"dataframe\">\n",
       "  <thead>\n",
       "    <tr style=\"text-align: right;\">\n",
       "      <th></th>\n",
       "      <th>movieId</th>\n",
       "      <th>imdbId</th>\n",
       "      <th>tmdbId</th>\n",
       "    </tr>\n",
       "  </thead>\n",
       "  <tbody>\n",
       "    <tr>\n",
       "      <td>0</td>\n",
       "      <td>1</td>\n",
       "      <td>114709</td>\n",
       "      <td>862.0</td>\n",
       "    </tr>\n",
       "    <tr>\n",
       "      <td>1</td>\n",
       "      <td>2</td>\n",
       "      <td>113497</td>\n",
       "      <td>8844.0</td>\n",
       "    </tr>\n",
       "    <tr>\n",
       "      <td>2</td>\n",
       "      <td>3</td>\n",
       "      <td>113228</td>\n",
       "      <td>15602.0</td>\n",
       "    </tr>\n",
       "    <tr>\n",
       "      <td>3</td>\n",
       "      <td>4</td>\n",
       "      <td>114885</td>\n",
       "      <td>31357.0</td>\n",
       "    </tr>\n",
       "    <tr>\n",
       "      <td>4</td>\n",
       "      <td>5</td>\n",
       "      <td>113041</td>\n",
       "      <td>11862.0</td>\n",
       "    </tr>\n",
       "  </tbody>\n",
       "</table>\n",
       "</div>"
      ],
      "text/plain": [
       "   movieId  imdbId   tmdbId\n",
       "0        1  114709    862.0\n",
       "1        2  113497   8844.0\n",
       "2        3  113228  15602.0\n",
       "3        4  114885  31357.0\n",
       "4        5  113041  11862.0"
      ]
     },
     "execution_count": 3,
     "metadata": {},
     "output_type": "execute_result"
    }
   ],
   "source": [
    "links.head()"
   ]
  },
  {
   "cell_type": "code",
   "execution_count": 4,
   "metadata": {},
   "outputs": [
    {
     "data": {
      "text/html": [
       "<div>\n",
       "<style scoped>\n",
       "    .dataframe tbody tr th:only-of-type {\n",
       "        vertical-align: middle;\n",
       "    }\n",
       "\n",
       "    .dataframe tbody tr th {\n",
       "        vertical-align: top;\n",
       "    }\n",
       "\n",
       "    .dataframe thead th {\n",
       "        text-align: right;\n",
       "    }\n",
       "</style>\n",
       "<table border=\"1\" class=\"dataframe\">\n",
       "  <thead>\n",
       "    <tr style=\"text-align: right;\">\n",
       "      <th></th>\n",
       "      <th>movieId</th>\n",
       "      <th>title</th>\n",
       "      <th>genres</th>\n",
       "    </tr>\n",
       "  </thead>\n",
       "  <tbody>\n",
       "    <tr>\n",
       "      <td>0</td>\n",
       "      <td>1</td>\n",
       "      <td>Toy Story (1995)</td>\n",
       "      <td>Adventure|Animation|Children|Comedy|Fantasy</td>\n",
       "    </tr>\n",
       "    <tr>\n",
       "      <td>1</td>\n",
       "      <td>2</td>\n",
       "      <td>Jumanji (1995)</td>\n",
       "      <td>Adventure|Children|Fantasy</td>\n",
       "    </tr>\n",
       "    <tr>\n",
       "      <td>2</td>\n",
       "      <td>3</td>\n",
       "      <td>Grumpier Old Men (1995)</td>\n",
       "      <td>Comedy|Romance</td>\n",
       "    </tr>\n",
       "    <tr>\n",
       "      <td>3</td>\n",
       "      <td>4</td>\n",
       "      <td>Waiting to Exhale (1995)</td>\n",
       "      <td>Comedy|Drama|Romance</td>\n",
       "    </tr>\n",
       "    <tr>\n",
       "      <td>4</td>\n",
       "      <td>5</td>\n",
       "      <td>Father of the Bride Part II (1995)</td>\n",
       "      <td>Comedy</td>\n",
       "    </tr>\n",
       "  </tbody>\n",
       "</table>\n",
       "</div>"
      ],
      "text/plain": [
       "   movieId                               title  \\\n",
       "0        1                    Toy Story (1995)   \n",
       "1        2                      Jumanji (1995)   \n",
       "2        3             Grumpier Old Men (1995)   \n",
       "3        4            Waiting to Exhale (1995)   \n",
       "4        5  Father of the Bride Part II (1995)   \n",
       "\n",
       "                                        genres  \n",
       "0  Adventure|Animation|Children|Comedy|Fantasy  \n",
       "1                   Adventure|Children|Fantasy  \n",
       "2                               Comedy|Romance  \n",
       "3                         Comedy|Drama|Romance  \n",
       "4                                       Comedy  "
      ]
     },
     "execution_count": 4,
     "metadata": {},
     "output_type": "execute_result"
    }
   ],
   "source": [
    "movies.head()"
   ]
  },
  {
   "cell_type": "code",
   "execution_count": 5,
   "metadata": {},
   "outputs": [],
   "source": [
    "# import re\n",
    "# movies.dropna\n",
    "# movies['Release_Year'] = 0\n",
    "# for index, row in movies.iterrows():\n",
    "#     try:\n",
    "#         movies.loc[index, \"Release_Year\"] = re.search(r'\\((.*?)\\)',row[\"title\"]).groups(1)[0]\n",
    "#     except:\n",
    "#         movies.loc[index, \"Release_Year\"] = \"NaN\""
   ]
  },
  {
   "cell_type": "code",
   "execution_count": 6,
   "metadata": {},
   "outputs": [],
   "source": [
    "#Probably a better Idea to get release date form imdb database\n",
    "#First let's get an idea of what we want to show with the date data\n",
    "# movies.Release_Year.unique()"
=======
    "print(\"tags\", tags.shape)"
   ]
  },
  {
   "cell_type": "markdown",
   "metadata": {},
   "source": [
    "#### Printing Initial Data Information "
>>>>>>> 6b8d1830d7a28b42516c442dc91ffb05451d04b1
   ]
  },
  {
   "cell_type": "code",
<<<<<<< HEAD
   "execution_count": 7,
=======
   "execution_count": 20,
>>>>>>> 6b8d1830d7a28b42516c442dc91ffb05451d04b1
   "metadata": {},
   "outputs": [
    {
     "name": "stdout",
     "output_type": "stream",
     "text": [
      "Min Time:  1996-03-30 02:36:55\n",
      "Max Time:  2018-09-24 22:27:30\n",
      "Number of users:  610\n",
      "Average # of Ratings per User:  165.30491803278687\n",
      "Median # of Ratings per User:  70.5\n",
      "Average Ratings per Movie:  36.310468942821885\n",
      "Median # of Ratings per Movie 8.5\n",
      "rating min:  0.5\n",
      "rating max:  5.0\n",
      "Unique Rating Possibilities:  [4.  5.  3.  2.  1.  4.5 3.5 2.5 0.5 1.5]\n"
     ]
<<<<<<< HEAD
    },
    {
     "data": {
      "text/html": [
       "<div>\n",
       "<style scoped>\n",
       "    .dataframe tbody tr th:only-of-type {\n",
       "        vertical-align: middle;\n",
       "    }\n",
       "\n",
       "    .dataframe tbody tr th {\n",
       "        vertical-align: top;\n",
       "    }\n",
       "\n",
       "    .dataframe thead th {\n",
       "        text-align: right;\n",
       "    }\n",
       "</style>\n",
       "<table border=\"1\" class=\"dataframe\">\n",
       "  <thead>\n",
       "    <tr style=\"text-align: right;\">\n",
       "      <th></th>\n",
       "      <th>userId</th>\n",
       "      <th>movieId</th>\n",
       "      <th>rating</th>\n",
       "      <th>timestamp</th>\n",
       "    </tr>\n",
       "  </thead>\n",
       "  <tbody>\n",
       "    <tr>\n",
       "      <td>0</td>\n",
       "      <td>1</td>\n",
       "      <td>1</td>\n",
       "      <td>4.0</td>\n",
       "      <td>2000-07-31 02:45:03</td>\n",
       "    </tr>\n",
       "    <tr>\n",
       "      <td>1</td>\n",
       "      <td>1</td>\n",
       "      <td>3</td>\n",
       "      <td>4.0</td>\n",
       "      <td>2000-07-31 02:20:47</td>\n",
       "    </tr>\n",
       "    <tr>\n",
       "      <td>2</td>\n",
       "      <td>1</td>\n",
       "      <td>6</td>\n",
       "      <td>4.0</td>\n",
       "      <td>2000-07-31 02:37:04</td>\n",
       "    </tr>\n",
       "    <tr>\n",
       "      <td>3</td>\n",
       "      <td>1</td>\n",
       "      <td>47</td>\n",
       "      <td>5.0</td>\n",
       "      <td>2000-07-31 03:03:35</td>\n",
       "    </tr>\n",
       "    <tr>\n",
       "      <td>4</td>\n",
       "      <td>1</td>\n",
       "      <td>50</td>\n",
       "      <td>5.0</td>\n",
       "      <td>2000-07-31 02:48:51</td>\n",
       "    </tr>\n",
       "  </tbody>\n",
       "</table>\n",
       "</div>"
      ],
      "text/plain": [
       "   userId  movieId  rating           timestamp\n",
       "0       1        1     4.0 2000-07-31 02:45:03\n",
       "1       1        3     4.0 2000-07-31 02:20:47\n",
       "2       1        6     4.0 2000-07-31 02:37:04\n",
       "3       1       47     5.0 2000-07-31 03:03:35\n",
       "4       1       50     5.0 2000-07-31 02:48:51"
      ]
     },
     "execution_count": 7,
     "metadata": {},
     "output_type": "execute_result"
=======
>>>>>>> 6b8d1830d7a28b42516c442dc91ffb05451d04b1
    }
   ],
   "source": [
    "#Data Range Between 1996-2018\n",
<<<<<<< HEAD
    "#we likely want to look at this table for the flocking algorithm\n",
    "#an interaction between users will be classified as an interaction\n",
    "#over similar movie ratings (10,000 movies and 100,000 ratings)\n",
=======
>>>>>>> 6b8d1830d7a28b42516c442dc91ffb05451d04b1
    "print(\"Min Time: \", min(ratings.timestamp))\n",
    "print(\"Max Time: \", max(ratings.timestamp))\n",
    "print(\"Number of users: \", ratings.userId.nunique())\n",
    "print(\"Average # of Ratings per User: \", np.mean(list(ratings.userId.value_counts())))\n",
    "print(\"Median # of Ratings per User: \", np.median(list(ratings.userId.value_counts())))\n",
    "print(\"Average Ratings per Movie: \", ratings.groupby(by = \"movieId\", axis = 0).sum().rating.mean())\n",
    "print(\"Median # of Ratings per Movie\", ratings.groupby(by = \"movieId\", axis = 0).sum().rating.median())\n",
    "print(\"rating min: \", min(ratings.rating))\n",
    "print(\"rating max: \", max(ratings.rating))\n",
<<<<<<< HEAD
    "print(\"Unique Rating Possibilities: \", ratings.rating.unique())\n",
    "ratings.head()"
   ]
  },
  {
   "cell_type": "code",
   "execution_count": 8,
   "metadata": {},
   "outputs": [
    {
     "data": {
      "text/plain": [
       "8.5"
      ]
     },
     "execution_count": 8,
     "metadata": {},
     "output_type": "execute_result"
    }
   ],
   "source": [
    "ratings.groupby(by = \"movieId\", axis = 0).sum().rating.median()"
=======
    "print(\"Unique Rating Possibilities: \", ratings.rating.unique())"
   ]
  },
  {
   "cell_type": "markdown",
   "metadata": {},
   "source": [
    "#### Calculating Standard Deviations to Identify Outliers which may Skew Data"
>>>>>>> 6b8d1830d7a28b42516c442dc91ffb05451d04b1
   ]
  },
  {
   "cell_type": "code",
<<<<<<< HEAD
   "execution_count": 9,
   "metadata": {},
   "outputs": [
    {
     "data": {
      "text/plain": [
       "2.3428753180661577"
      ]
     },
     "execution_count": 9,
     "metadata": {},
     "output_type": "execute_result"
    }
   ],
   "source": [
    "tags.groupby(by = \"movieId\", axis = 0).count().tag.mean()"
=======
   "execution_count": 21,
   "metadata": {},
   "outputs": [
    {
     "name": "stdout",
     "output_type": "stream",
     "text": [
      "Inner-Quantile Range 133.0\n",
      "Standard Deviation of Ratings Count:  269.2596080610495\n",
      "Outliers (Right)  438.5\n",
      "Outliers (Left)  102.5\n",
      "\n",
      "\n"
     ]
    },
    {
     "data": {
      "text/plain": [
       "<matplotlib.axes._subplots.AxesSubplot at 0x1251c36d0>"
      ]
     },
     "execution_count": 21,
     "metadata": {},
     "output_type": "execute_result"
    },
    {
     "data": {
      "image/png": "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\n",
      "text/plain": [
       "<Figure size 432x288 with 1 Axes>"
      ]
     },
     "metadata": {
      "needs_background": "light"
     },
     "output_type": "display_data"
    }
   ],
   "source": [
    "std_dev = pd.DataFrame(ratings.groupby(by = \"userId\", axis = 0).count().rating)\n",
    "std_dev = std_dev.reset_index()\n",
    "st_dev = np.std(std_dev.rating)\n",
    "print(\"Inner-Quantile Range\", std_dev.quantile(.75)[1] - std_dev.quantile(.25)[1])\n",
    "print(\"Standard Deviation of Ratings Count: \", st_dev)\n",
    "print(\"Outliers (Right) \", std_dev.quantile(.5)[0] + std_dev.quantile(.75)[1] - std_dev.quantile(.25)[1])\n",
    "print(\"Outliers (Left) \", std_dev.quantile(.5)[0] - std_dev.quantile(.75)[1] - std_dev.quantile(.25)[1])\n",
    "print(\"\\n\")\n",
    "std_dev.boxplot()"
   ]
  },
  {
   "cell_type": "markdown",
   "metadata": {},
   "source": [
    "#### Attributes of Data for Tags"
>>>>>>> 6b8d1830d7a28b42516c442dc91ffb05451d04b1
   ]
  },
  {
   "cell_type": "code",
<<<<<<< HEAD
   "execution_count": 10,
=======
   "execution_count": 22,
>>>>>>> 6b8d1830d7a28b42516c442dc91ffb05451d04b1
   "metadata": {},
   "outputs": [
    {
     "name": "stdout",
     "output_type": "stream",
     "text": [
<<<<<<< HEAD
      "<class 'pandas._libs.tslibs.timestamps.Timestamp'>\n",
=======
>>>>>>> 6b8d1830d7a28b42516c442dc91ffb05451d04b1
      "Min Time: 2006-01-14 03:09:12\n",
      "Max Time: 2018-09-16 19:50:03\n",
      "number of users 58\n",
      "Average Number of Tags per Movie: 2.3428753180661577\n",
<<<<<<< HEAD
      "Median Number of Tags per Movie: 1.0\n"
     ]
    },
    {
     "data": {
      "text/html": [
       "<div>\n",
       "<style scoped>\n",
       "    .dataframe tbody tr th:only-of-type {\n",
       "        vertical-align: middle;\n",
       "    }\n",
       "\n",
       "    .dataframe tbody tr th {\n",
       "        vertical-align: top;\n",
       "    }\n",
       "\n",
       "    .dataframe thead th {\n",
       "        text-align: right;\n",
       "    }\n",
       "</style>\n",
       "<table border=\"1\" class=\"dataframe\">\n",
       "  <thead>\n",
       "    <tr style=\"text-align: right;\">\n",
       "      <th></th>\n",
       "      <th>userId</th>\n",
       "      <th>movieId</th>\n",
       "      <th>tag</th>\n",
       "      <th>timestamp</th>\n",
       "    </tr>\n",
       "  </thead>\n",
       "  <tbody>\n",
       "    <tr>\n",
       "      <td>0</td>\n",
       "      <td>2</td>\n",
       "      <td>60756</td>\n",
       "      <td>funny</td>\n",
       "      <td>2015-10-25 03:29:54</td>\n",
       "    </tr>\n",
       "    <tr>\n",
       "      <td>1</td>\n",
       "      <td>2</td>\n",
       "      <td>60756</td>\n",
       "      <td>Highly quotable</td>\n",
       "      <td>2015-10-25 03:29:56</td>\n",
       "    </tr>\n",
       "    <tr>\n",
       "      <td>2</td>\n",
       "      <td>2</td>\n",
       "      <td>60756</td>\n",
       "      <td>will ferrell</td>\n",
       "      <td>2015-10-25 03:29:52</td>\n",
       "    </tr>\n",
       "    <tr>\n",
       "      <td>3</td>\n",
       "      <td>2</td>\n",
       "      <td>89774</td>\n",
       "      <td>Boxing story</td>\n",
       "      <td>2015-10-25 03:33:27</td>\n",
       "    </tr>\n",
       "    <tr>\n",
       "      <td>4</td>\n",
       "      <td>2</td>\n",
       "      <td>89774</td>\n",
       "      <td>MMA</td>\n",
       "      <td>2015-10-25 03:33:20</td>\n",
       "    </tr>\n",
       "  </tbody>\n",
       "</table>\n",
       "</div>"
      ],
      "text/plain": [
       "   userId  movieId              tag           timestamp\n",
       "0       2    60756            funny 2015-10-25 03:29:54\n",
       "1       2    60756  Highly quotable 2015-10-25 03:29:56\n",
       "2       2    60756     will ferrell 2015-10-25 03:29:52\n",
       "3       2    89774     Boxing story 2015-10-25 03:33:27\n",
       "4       2    89774              MMA 2015-10-25 03:33:20"
      ]
     },
     "execution_count": 10,
     "metadata": {},
     "output_type": "execute_result"
    }
   ],
   "source": [
    "# print(tags.tag.nunique()) #1589 Unique Tags\n",
    "#Data Tags Range from 2006 to 2018\n",
    "print(type(tags.timestamp[0]))\n",
=======
      "Median Number of Tags per Movie: 1.0\n",
      "Number of Unique Tags:  1589\n",
      "Number of Unique Users:  58\n",
      "Number of Unique Movies:  1572\n",
      "Number of Tags:  3683\n"
     ]
    }
   ],
   "source": [
>>>>>>> 6b8d1830d7a28b42516c442dc91ffb05451d04b1
    "print(\"Min Time:\", tags.timestamp.min())\n",
    "print(\"Max Time:\", tags.timestamp.max())\n",
    "print(\"number of users\", tags.userId.nunique())\n",
    "print(\"Average Number of Tags per Movie:\", tags.groupby(by = \"movieId\", axis = 0).count().tag.mean())\n",
    "print(\"Median Number of Tags per Movie:\", tags.groupby(by = \"movieId\", axis = 0).count().tag.median()) #Median Tag Number is 1\n",
<<<<<<< HEAD
    "tags.head()"
=======
    "\n",
    "print(\"Number of Unique Tags: \", tags.tag.nunique())\n",
    "print(\"Number of Unique Users: \", tags.userId.nunique())\n",
    "print(\"Number of Unique Movies: \", tags.movieId.nunique())\n",
    "print(\"Number of Tags: \", tags.shape[0])"
   ]
  },
  {
   "cell_type": "markdown",
   "metadata": {},
   "source": [
    "## Section: Analyze the Most Frequent Genres in the Movie Set"
>>>>>>> 6b8d1830d7a28b42516c442dc91ffb05451d04b1
   ]
  },
  {
   "cell_type": "code",
<<<<<<< HEAD
   "execution_count": 11,
=======
   "execution_count": 23,
>>>>>>> 6b8d1830d7a28b42516c442dc91ffb05451d04b1
   "metadata": {},
   "outputs": [
    {
     "name": "stdout",
     "output_type": "stream",
     "text": [
      "odict_values([34, 87, 158, 167, 334, 382, 440, 573, 611, 664, 779, 978, 980, 1199, 1263, 1596, 1828, 1894, 3756, 4361])\n",
      "odict_keys(['(no genres listed)', 'Film-Noir', 'IMAX', 'Western', 'Musical', 'War', 'Documentary', 'Mystery', 'Animation', 'Children', 'Fantasy', 'Horror', 'Sci-Fi', 'Crime', 'Adventure', 'Romance', 'Action', 'Thriller', 'Comedy', 'Drama'])\n"
     ]
    }
   ],
   "source": [
    "#Getting unique genres and unique tags\n",
    "import collections\n",
    "genre_dict = {}\n",
    "for entry in movies.genres:\n",
    "    temp = entry.split('|')\n",
    "    for j in temp:\n",
    "        try:\n",
    "            genre_dict[j] += 1\n",
    "        except:\n",
    "            genre_dict[j] = 1\n",
    "            \n",
    "genre_dict = collections.OrderedDict(sorted(genre_dict.items(), key=lambda x:x[1]))\n",
    "print(genre_dict.values())\n",
    "print(genre_dict.keys())"
   ]
  },
  {
   "cell_type": "code",
<<<<<<< HEAD
   "execution_count": 12,
=======
   "execution_count": 24,
>>>>>>> 6b8d1830d7a28b42516c442dc91ffb05451d04b1
   "metadata": {},
   "outputs": [
    {
     "name": "stdout",
     "output_type": "stream",
     "text": [
      "Length: 20\n"
     ]
    },
    {
     "data": {
      "text/plain": [
       "(-1.101904743349182,\n",
       " 1.1163828500180555,\n",
       " -1.1024517392200537,\n",
       " 1.1001167576325557)"
      ]
     },
<<<<<<< HEAD
     "execution_count": 12,
=======
     "execution_count": 24,
>>>>>>> 6b8d1830d7a28b42516c442dc91ffb05451d04b1
     "metadata": {},
     "output_type": "execute_result"
    },
    {
     "data": {
<<<<<<< HEAD
      "image/png": "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\n",
      "text/plain": [
       "<Figure size 720x720 with 1 Axes>"
=======
      "image/png": "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\n",
      "text/plain": [
       "<Figure size 720x504 with 1 Axes>"
>>>>>>> 6b8d1830d7a28b42516c442dc91ffb05451d04b1
      ]
     },
     "metadata": {},
     "output_type": "display_data"
    }
   ],
   "source": [
<<<<<<< HEAD
    "#Graph Distribution\n",
    "\n",
    "print(\"Length:\", len(genre_dict))\n",
    "plt.figure(figsize=(10,10))\n",
    "patches, texts, autotext = plt.pie(genre_dict.values(),  autopct='%2.0f%%', startangle=90)\n",
    "plt.legend(patches, genre_dict.keys(), loc=\"best\")\n",
    "# plt.tight_layout()\n",
    "plt.axis('equal')\n"
=======
    "print(\"Length:\", len(genre_dict))\n",
    "plt.figure(figsize=(10,7))\n",
    "patches, texts, autotext = plt.pie(genre_dict.values(),  autopct='%2.0f%%', startangle=90)\n",
    "plt.legend(patches, genre_dict.keys(), loc=\"best\")\n",
    "# plt.tight_layout()\n",
    "plt.axis('equal')"
>>>>>>> 6b8d1830d7a28b42516c442dc91ffb05451d04b1
   ]
  },
  {
   "cell_type": "code",
<<<<<<< HEAD
   "execution_count": 13,
=======
   "execution_count": 25,
>>>>>>> 6b8d1830d7a28b42516c442dc91ffb05451d04b1
   "metadata": {},
   "outputs": [
    {
     "data": {
      "image/png": "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\n",
      "text/plain": [
       "<Figure size 2160x720 with 1 Axes>"
      ]
     },
     "metadata": {
      "needs_background": "light"
     },
     "output_type": "display_data"
    }
   ],
   "source": [
    "plt.figure(figsize=(30,10))\n",
    "plt.bar(range(len(genre_dict)), list(genre_dict.values()), align='center')\n",
    "plt.xticks(range(len(genre_dict)), list(genre_dict.keys()))\n",
<<<<<<< HEAD
    "# # for python 2.x:\n",
    "# plt.bar(range(len(D)), D.values(), align='center')  # python 2.x\n",
    "# plt.xticks(range(len(D)), D.keys())  # in python 2.x\n",
=======
>>>>>>> 6b8d1830d7a28b42516c442dc91ffb05451d04b1
    "plt.show()"
   ]
  },
  {
<<<<<<< HEAD
   "cell_type": "code",
   "execution_count": 14,
   "metadata": {},
   "outputs": [],
   "source": [
    "#identify genres commonly seen together (this would be good for a node chart)\n",
    "from numpy import array\n",
    "from scipy.linalg import svd\n",
    "\n",
    "#First creating the initial matrix\n",
    "#we want users as rows, movies as columns\n",
    "\n",
=======
   "cell_type": "markdown",
   "metadata": {},
   "source": [
    "## Performing Initial SVD/PCA Analysis\n",
    "\n",
    "The purpose here is to understand the dimensionality of the dataset, specifically on which factors (and how many) contribute to a significant portion of the information concerning users viewing habits"
   ]
  },
  {
   "cell_type": "markdown",
   "metadata": {},
   "source": [
    "The first step concerns creating a ratings matrix, which pivots the ratings matrix on user_Id (index) and movie_Id (columns), such that each column represents a movie and each index a user (cross-section indicating user ratings for a specific movie)\n",
    "\n",
    "It is imortant to normalize the resulting numpy array, before creating the correlation matrix to be used in SVD (AAT and ATA Matrices) which will extract the movie and user \"concepts\" from the dataset"
   ]
  },
  {
   "cell_type": "code",
   "execution_count": 26,
   "metadata": {},
   "outputs": [],
   "source": [
>>>>>>> 6b8d1830d7a28b42516c442dc91ffb05451d04b1
    "rating_matrix = ratings.pivot(index = \"userId\", columns = \"movieId\", values = \"rating\")\n",
    "rating_matrix = rating_matrix.fillna(0)\n",
    "nparray = rating_matrix.to_numpy()\n",
    "nparray_norm = (nparray - np.mean(nparray)) / np.std(nparray)"
   ]
  },
  {
<<<<<<< HEAD
   "cell_type": "code",
   "execution_count": 15,
   "metadata": {},
   "outputs": [
    {
     "name": "stdout",
     "output_type": "stream",
     "text": [
      "(610, 9724)\n"
     ]
    },
    {
     "data": {
      "text/plain": [
       "array([[ 8.33760998, -0.1259491 ,  8.33760998, ..., -0.1259491 ,\n",
       "        -0.1259491 , -0.1259491 ],\n",
       "       [-0.1259491 , -0.1259491 , -0.1259491 , ..., -0.1259491 ,\n",
       "        -0.1259491 , -0.1259491 ],\n",
       "       [-0.1259491 , -0.1259491 , -0.1259491 , ..., -0.1259491 ,\n",
       "        -0.1259491 , -0.1259491 ],\n",
       "       ...,\n",
       "       [ 5.16377533,  4.10583044,  4.10583044, ..., -0.1259491 ,\n",
       "        -0.1259491 , -0.1259491 ],\n",
       "       [ 6.22172021, -0.1259491 , -0.1259491 , ..., -0.1259491 ,\n",
       "        -0.1259491 , -0.1259491 ],\n",
       "       [10.45349975, -0.1259491 , -0.1259491 , ..., -0.1259491 ,\n",
       "        -0.1259491 , -0.1259491 ]])"
      ]
     },
     "execution_count": 15,
     "metadata": {},
     "output_type": "execute_result"
    }
   ],
   "source": [
    "print(nparray_norm.shape)\n",
    "nparray_norm"
=======
   "cell_type": "markdown",
   "metadata": {},
   "source": [
    "##### We use numpy's SVD package to perform the Singular Value Decomposition"
>>>>>>> 6b8d1830d7a28b42516c442dc91ffb05451d04b1
   ]
  },
  {
   "cell_type": "code",
<<<<<<< HEAD
   "execution_count": 16,
=======
   "execution_count": 27,
>>>>>>> 6b8d1830d7a28b42516c442dc91ffb05451d04b1
   "metadata": {},
   "outputs": [],
   "source": [
    "s, v, d = np.linalg.svd(nparray_norm, compute_uv = True)"
   ]
  },
  {
   "cell_type": "code",
<<<<<<< HEAD
   "execution_count": 17,
=======
   "execution_count": 28,
>>>>>>> 6b8d1830d7a28b42516c442dc91ffb05451d04b1
   "metadata": {},
   "outputs": [
    {
     "name": "stdout",
     "output_type": "stream",
     "text": [
<<<<<<< HEAD
      "(610, 610) (610,) (9724, 9724)\n",
      "[83]\n",
      "<class 'numpy.ndarray'>\n",
      "<class 'numpy.float64'>\n",
      "[]\n"
=======
      "Shape of the S, V, and D, Matrices:  (610, 610) (610,) (9724, 9724)\n",
      "No User actual correspons to the maximum eigen vector:  []\n"
>>>>>>> 6b8d1830d7a28b42516c442dc91ffb05451d04b1
     ]
    }
   ],
   "source": [
<<<<<<< HEAD
    "print(s.shape, v.shape, d.shape)\n",
    "#The first users most powerful concept is:\n",
=======
    "print(\"Shape of the S, V, and D, Matrices: \", s.shape, v.shape, d.shape)\n",
>>>>>>> 6b8d1830d7a28b42516c442dc91ffb05451d04b1
    "\n",
    "#Find users whose \"concepts\" correspond to the largest eigen vector\n",
    "index_of_top = []\n",
    "for i in range(len(s)):\n",
    "    index = np.where(s[i] == np.amax(s[i]))[0][0]\n",
    "    if index == 0:\n",
    "        index_of_top += [i]\n",
<<<<<<< HEAD
    "#     print(list(index))\n",
    "\n",
    "print(np.where(s[0] == np.amax(s[0]))[0])\n",
    "print(type(np.where(s[0] == np.amax(s[0]))[0]))\n",
    "print(type(np.amin(s[0])))\n",
    "sum(s[0])\n",
    "print(index_of_top)"
=======
    "print(\"No User actual correspons to the maximum eigen vector: \", index_of_top)"
   ]
  },
  {
   "cell_type": "markdown",
   "metadata": {},
   "source": [
    "This first round of SVD is not particularly successful, as there are plenty of outliers currently in the dataset"
   ]
  },
  {
   "cell_type": "markdown",
   "metadata": {},
   "source": [
    "We also reverse engineer the matrices to test whether Numpy's Linear Algebra Function Correctly calculated SVD"
>>>>>>> 6b8d1830d7a28b42516c442dc91ffb05451d04b1
   ]
  },
  {
   "cell_type": "code",
<<<<<<< HEAD
   "execution_count": 18,
   "metadata": {},
   "outputs": [
    {
     "name": "stdout",
     "output_type": "stream",
     "text": [
      "(610, 9724)\n",
      "[[ 8.33760998 -0.1259491   8.33760998 ... -0.1259491  -0.1259491\n",
      "  -0.1259491 ]\n",
      " [-0.1259491  -0.1259491  -0.1259491  ... -0.1259491  -0.1259491\n",
      "  -0.1259491 ]\n",
      " [-0.1259491  -0.1259491  -0.1259491  ... -0.1259491  -0.1259491\n",
      "  -0.1259491 ]\n",
      " ...\n",
      " [ 5.16377533  4.10583044  4.10583044 ... -0.1259491  -0.1259491\n",
      "  -0.1259491 ]\n",
      " [ 6.22172021 -0.1259491  -0.1259491  ... -0.1259491  -0.1259491\n",
      "  -0.1259491 ]\n",
      " [10.45349975 -0.1259491  -0.1259491  ... -0.1259491  -0.1259491\n",
      "  -0.1259491 ]]\n",
      "[[ 8.33760998 -0.1259491   8.33760998 ... -0.1259491  -0.1259491\n",
      "  -0.1259491 ]\n",
      " [-0.1259491  -0.1259491  -0.1259491  ... -0.1259491  -0.1259491\n",
      "  -0.1259491 ]\n",
      " [-0.1259491  -0.1259491  -0.1259491  ... -0.1259491  -0.1259491\n",
      "  -0.1259491 ]\n",
      " ...\n",
      " [ 5.16377533  4.10583044  4.10583044 ... -0.1259491  -0.1259491\n",
      "  -0.1259491 ]\n",
      " [ 6.22172021 -0.1259491  -0.1259491  ... -0.1259491  -0.1259491\n",
      "  -0.1259491 ]\n",
      " [10.45349975 -0.1259491  -0.1259491  ... -0.1259491  -0.1259491\n",
      "  -0.1259491 ]]\n",
      "(610, 9724)\n"
     ]
    }
   ],
   "source": [
    "type(d.T[0:610])\n",
    "print(d.T[0:610].shape)\n",
    "print(np.dot(np.dot(s,np.diag(v)), d[0:610]))\n",
    "print(nparray_norm)\n",
    "#Testing if numpy correctly performs SVD (it does)\n",
    "#Applying result to original array\n",
    "print(nparray_norm.shape)\n",
=======
   "execution_count": 29,
   "metadata": {},
   "outputs": [],
   "source": [
    "#Testing if numpy correctly performs SVD (it does)\n",
    "#Applying result to original array\n",
>>>>>>> 6b8d1830d7a28b42516c442dc91ffb05451d04b1
    "#This should be the covariance matrix PCA for users (610 users represented by 2 attributes)\n",
    "pca_mat_user = np.dot(np.dot(nparray_norm,nparray_norm.T), s[:,:2])\n",
    "pca_mat_mov = np.dot(np.dot(nparray_norm.T, nparray_norm),d[:,:2])\n",
    "pca_mat_user_test = np.dot(s[:,:2],np.diag(v)[:2,:2]**2)\n",
    "pca_mat_mov_test = np.dot(d[:,:2],np.diag(v)[:2,:2]**2)"
   ]
  },
  {
<<<<<<< HEAD
   "cell_type": "code",
   "execution_count": 19,
   "metadata": {},
   "outputs": [
    {
     "name": "stdout",
     "output_type": "stream",
     "text": [
      "-0.05651213974860059\n",
      "[1051.86830807  492.65070266  470.83771998  371.33882105  326.20280597\n",
      "  309.11211903  285.87492007  259.8960798   258.5832499   239.81179017\n",
      "  234.24201395  228.44562213  224.32837924  215.74052321  211.54497932\n",
      "  210.37722216  205.64522506  197.62422968  195.38342627  192.58768608\n",
      "  191.15611499  186.30436718  184.2262184   182.07009292  180.83792238\n",
      "  175.83713105  174.86927989  173.53450926  170.47306226  168.64886781\n",
      "  167.27049157  166.03653438  165.31949727  162.3482464   160.32450285\n",
      "  159.26158955  158.90437973  157.43489072  156.6516716   155.79741195\n",
      "  155.03356     153.27577971  151.94232069  148.52616696  148.50625136\n",
      "  148.06971252  147.40718142  146.37714317  144.69214191  143.64250602\n",
      "  143.11466516  142.78697901  141.92979222  141.07753516  139.8308434\n",
      "  138.60685856  138.13768378  137.0717038   136.24751032  135.74775335\n",
      "  135.03458682  134.66097825  133.94475649  133.56357251  133.18672321\n",
      "  131.83399164  130.89539426  130.39264459  130.05431448  128.65384187\n",
      "  128.32667176  127.97884355  127.23179944  126.44306867  125.79913296\n",
      "  125.5041032   124.89849451  124.55341469  123.6156336   123.18493959\n",
      "  123.0196489   122.71517868  121.77670099  121.30539217  120.78609812\n",
      "  120.4756999   120.33404685  119.59444101  118.80175089  118.56592919\n",
      "  117.49734797  117.00190965  116.44710319  115.76660941  115.3694453\n",
      "  115.24559499  114.67130014  114.34889112  113.47603059  113.39149166\n",
      "  112.49979027  112.18133047  111.76739069  111.41822174  110.72862973\n",
      "  110.27887506  110.21186424  110.10889112  109.56267982  109.16513235\n",
      "  108.25531499  107.64901001  107.3986643   106.83410235  106.4006875\n",
      "  106.10801803  105.57584757  105.16328979  104.33922594  104.00777285\n",
      "  103.84602541  103.32137106  103.01448814  102.44106402  102.12879719\n",
      "  101.95015296  101.50569553  100.85292535  100.79291119  100.21989342\n",
      "   99.61422834   99.41607817   98.51857001   98.41549407   98.30366671\n",
      "   97.87411108   97.52393561   96.94430639   96.73834952   96.39658843\n",
      "   95.76229576   95.39949835   94.77061025   94.4049605    94.01218195\n",
      "   93.53540802   93.4408899    93.30628572   93.14849501   92.93907573\n",
      "   92.63252099   92.10926098   91.88433449   91.70567014   90.91683361\n",
      "   90.80184478   90.69810766   90.47045425   89.91420098   89.52598749\n",
      "   89.07158476   88.88318782   88.3869485    88.16008507   87.5461575\n",
      "   86.8809095    86.66600163   86.4628734    86.2585879    86.00981713\n",
      "   85.47305621   85.24666269   84.85062609   84.48340076   84.36411666\n",
      "   84.06517048   83.88549107   83.50812247   83.47861107   83.19268806\n",
      "   82.73704392   82.38240484   82.04147101   81.61111008   81.21752919\n",
      "   81.02619299   80.82307476   80.31589788   79.96046417   79.72669991\n",
      "   79.36838315   79.2038983    78.76262002   78.43231386   78.33611976\n",
      "   78.16488966   77.88421445   77.4976503    77.25835717   77.04683612\n",
      "   76.57580003   76.41742877   76.18280766   76.01180576   75.80856003\n",
      "   75.40421668   74.8238177    74.61847768   74.5746119    74.36985451\n",
      "   73.89664474   73.59204675   73.45490812   73.09699991   72.93237614\n",
      "   72.71925459   72.52122897   72.45110432   72.00754228   71.97880299\n",
      "   71.63570837   71.31619151   71.01168246   70.72253293   70.57391557\n",
      "   70.30200279   70.1739149    70.13556809   69.64422815   69.46884598\n",
      "   69.15187246   68.89839668   68.59746786   68.33445848   68.0061763\n",
      "   67.83472692   67.44895236   67.36836566   67.2454593    67.04344685\n",
      "   66.57497737   66.16175712   65.94576886   65.66350158   65.59416459\n",
      "   65.29878967   65.16378448   64.93369529   64.65245335   64.45850845\n",
      "   63.9562791    63.93723592   63.75306376   63.57567858   63.48009131\n",
      "   63.42888725   63.16897994   62.82581099   62.41529584   62.30951033\n",
      "   62.17420079   61.88655778   61.84869314   61.49701982   61.33196095\n",
      "   60.9769045    60.88424339   60.51300884   60.25215784   60.1898234\n",
      "   60.15819562   59.89626785   59.71273581   59.30747305   59.15828081\n",
      "   58.94572232   58.78094232   58.55385579   58.2940209    58.16167483\n",
      "   58.0632205    57.97410633   57.87663706   57.55783922   57.38890196\n",
      "   57.2650835    56.95149719   56.74254546   56.60910067   56.49749545\n",
      "   56.39143719   56.06410025   55.78620605   55.68061657   55.57394951\n",
      "   55.3499132    55.30187562   55.07911503   55.0586138    54.72718371\n",
      "   54.5134324    54.47704722   54.04641391   53.97034523   53.87298478\n",
      "   53.65729247   53.5916823    53.43439349   53.17372344   52.99525986\n",
      "   52.89282187   52.53556515   52.48973785   52.27085489   52.16012446\n",
      "   52.08220172   51.89305159   51.61747469   51.32618448   51.09575607\n",
      "   51.00456985   50.86308918   50.55358775   50.48447588   50.3845301\n",
      "   50.19484682   50.02077119   49.85527684   49.76778223   49.66603667\n",
      "   49.29369469   49.24961313   49.07790114   48.94933794   48.76933969\n",
      "   48.6149246    48.50367198   48.3894645    48.2005602    48.08730984\n",
      "   47.91485679   47.86858487   47.60495372   47.39914695   47.31808337\n",
      "   47.08357969   47.03313724   46.8558682    46.74778241   46.69711742\n",
      "   46.45593924   46.25446821   46.20981444   46.03610745   45.97862921\n",
      "   45.66524097   45.57447289   45.48125398   45.31764231   45.14406046\n",
      "   45.11153869   44.91317593   44.76802207   44.63529727   44.46655843\n",
      "   44.41648939   44.25194166   44.14603906   44.0773898    43.95336338\n",
      "   43.61406976   43.55272635   43.40631026   43.34305119   43.18593725\n",
      "   43.10979394   42.76981266   42.74603194   42.34381061   42.26678578\n",
      "   42.21398138   42.12694398   41.98945015   41.88767303   41.6624186\n",
      "   41.53168644   41.45070313   41.39670382   41.27327155   41.20786245\n",
      "   41.10074577   40.8164225    40.72358869   40.59454188   40.56376407\n",
      "   40.38709218   40.16583277   40.0902076    40.06870785   39.90992549\n",
      "   39.70839185   39.61939802   39.41534352   39.39719366   39.30752508\n",
      "   39.25626642   39.09196377   38.97395331   38.63006902   38.61101079\n",
      "   38.48533316   38.39016316   38.21422992   38.0823886    37.84330126\n",
      "   37.78733156   37.75229107   37.61321139   37.46992525   37.43362842\n",
      "   37.27386598   37.20718744   37.18808379   36.98058348   36.73349799\n",
      "   36.65131902   36.47851408   36.46014195   36.27850719   36.14102145\n",
      "   36.02264857   35.90531256   35.81199095   35.76293963   35.65851774\n",
      "   35.60139504   35.36271712   35.27684326   35.06997021   35.01820914\n",
      "   34.98487888   34.76892953   34.71474039   34.59509447   34.36362799\n",
      "   34.27861657   34.22257448   34.12649213   33.92868401   33.86746832\n",
      "   33.73037045   33.56101802   33.54964355   33.3634412    33.30836527\n",
      "   33.16660802   32.99972507   32.91429815   32.80653763   32.7051515\n",
      "   32.58923791   32.44287532   32.33895588   32.24899056   32.16080147\n",
      "   32.03343617   32.00537754   31.75387973   31.65355256   31.51957043\n",
      "   31.42910165   31.29846647   31.25233554   31.10776455   31.06483067\n",
      "   30.98418109   30.82016097   30.61628426   30.58273445   30.39101708\n",
      "   30.34762711   30.21007346   30.08220077   30.05738508   29.82650386\n",
      "   29.73843266   29.62489494   29.54943093   29.48589648   29.26566914\n",
      "   29.17615118   29.08085935   28.99682085   28.89583285   28.70103232\n",
      "   28.60725453   28.47860532   28.31638965   28.26309647   28.17443179\n",
      "   28.01626317   27.99128807   27.73750714   27.72012169   27.46627722\n",
      "   27.35556955   27.21181665   27.05461236   26.88232086   26.83345384\n",
      "   26.71129526   26.6674864    26.40258978   26.32403185   26.19166717\n",
      "   26.13168587   26.10763131   25.92043853   25.88036179   25.76524998\n",
      "   25.56337187   25.52015545   25.36406057   25.2330139    25.10218917\n",
      "   25.01844981   24.88589844   24.70048291   24.61135629   24.5009974\n",
      "   24.32704524   24.17477313   24.13069703   23.98310082   23.81190796\n",
      "   23.6529565    23.57290023   23.41208207   23.39309629   23.21332409\n",
      "   23.14463061   22.98103448   22.89040316   22.86558426   22.74349008\n",
      "   22.51735235   22.40641247   22.31166628   22.01945291   21.98765408\n",
      "   21.81924145   21.66681066   21.52080122   21.39214277   21.34231957\n",
      "   21.27398847   20.94998262   20.75456634   20.55490896   20.35532199\n",
      "   20.30684687   20.24480789   20.01883404   19.80757191   19.77570443\n",
      "   19.64333343   19.40143649   19.25953288   18.98762755   18.86310567\n",
      "   18.78409141   18.64047504   18.51499526   18.42568521   18.09291022\n",
      "   18.03600507   17.66420981   17.49087563   17.27585476   17.21822867\n",
      "   16.82346771   16.65032828   16.56601291   16.45131302   16.29627787\n",
      "   15.65745512   15.57892322   15.35690127   15.1158616    14.95356189\n",
      "   14.57474311   14.19188455   13.95818207   13.8382396    13.47460775\n",
      "   13.12429166   12.91408411   12.81293955   12.52448043   12.1188139\n",
      "   11.50940875   10.98619792   10.50199042   10.11162892    9.66294675\n",
      "    9.50365904    9.28930664    8.20738392    6.59742961    6.23799726]\n"
     ]
    }
   ],
   "source": [
    "print(s[0][0])\n",
    "print(v)\n"
   ]
  },
  {
   "cell_type": "code",
   "execution_count": 20,
   "metadata": {},
   "outputs": [
    {
     "name": "stdout",
     "output_type": "stream",
     "text": [
      "[[-4162.33521779  -423.95995964]\n",
      " [-1235.31546179  -576.92003447]\n",
      " [ -372.79142633  -169.53927899]\n",
      " ...\n",
      " [   53.76555732    -4.40076691]\n",
      " [   53.76555732    -4.40076691]\n",
      " [   76.21118402    14.39101203]]\n",
      "[[ -62526.55371512   15623.96073751]\n",
      " [  -2808.64017619   -1858.78953874]\n",
      " [   2841.68306199    1819.9833517 ]\n",
      " ...\n",
      " [-133644.32417246    1170.27236716]\n",
      " [  -4780.11091157    6656.78800023]\n",
      " [-153677.80949393  -55266.99290624]]\n",
      "[[ -62526.55371512   15623.96073751]\n",
      " [  -2808.64017619   -1858.78953874]\n",
      " [   2841.68306199    1819.9833517 ]\n",
      " ...\n",
      " [-133644.32417246    1170.27236716]\n",
      " [  -4780.11091157    6656.78800023]\n",
      " [-153677.80949393  -55266.99290623]]\n",
      "[[-80295.35890795  -9531.05146987]\n",
      " [ 56038.12908223   2512.96276426]\n",
      " [ 58046.85815074   5563.57068199]\n",
      " ...\n",
      " [   156.36794387   -188.37190356]\n",
      " [   156.36794387   -188.37190356]\n",
      " [  4239.65636581    354.0984063 ]]\n"
     ]
    }
   ],
   "source": [
    "print(pca_mat_mov)\n",
    "print(pca_mat_user)\n",
    "print(pca_mat_user_test)\n",
    "print(pca_mat_mov_test)"
=======
   "cell_type": "markdown",
   "metadata": {},
   "source": [
    "Because SVD is simply a deeper breakdown of both correlation matrices (Users and Movies), we are able to back out PCA by multipylying the eigen vector matrix (S) against the correlation matrix of the user-movie pivoted table"
   ]
  },
  {
   "cell_type": "markdown",
   "metadata": {},
   "source": [
    "Based on the plots, we see that both PCA matrices perform identically"
>>>>>>> 6b8d1830d7a28b42516c442dc91ffb05451d04b1
   ]
  },
  {
   "cell_type": "code",
<<<<<<< HEAD
   "execution_count": 21,
=======
   "execution_count": 30,
>>>>>>> 6b8d1830d7a28b42516c442dc91ffb05451d04b1
   "metadata": {},
   "outputs": [
    {
     "data": {
      "text/plain": [
<<<<<<< HEAD
       "[<matplotlib.lines.Line2D at 0x109308410>]"
      ]
     },
     "execution_count": 21,
=======
       "[<matplotlib.lines.Line2D at 0x1248ce550>]"
      ]
     },
     "execution_count": 30,
>>>>>>> 6b8d1830d7a28b42516c442dc91ffb05451d04b1
     "metadata": {},
     "output_type": "execute_result"
    },
    {
     "data": {
      "image/png": "iVBORw0KGgoAAAANSUhEUgAAAYsAAAD4CAYAAAAdIcpQAAAABHNCSVQICAgIfAhkiAAAAAlwSFlzAAALEgAACxIB0t1+/AAAADh0RVh0U29mdHdhcmUAbWF0cGxvdGxpYiB2ZXJzaW9uMy4xLjIsIGh0dHA6Ly9tYXRwbG90bGliLm9yZy8li6FKAAAgAElEQVR4nO3df4xl5X3f8fd3Z3doJ8Rhd6AYATuDVRoF2ko1I+o/EinKujbepMVt3Qprlkyw3ZWHWEJ1o3TTbZWoEVJtq3JBtsEbB3dhRsLUUmpkrUMWEvc/wEtqg8HGDDiz7AY7ywJuyDhgdp/+cZ7jOXPn/HjOvefc8+N+XtLR3Pvcc+95zrm753uf3+acQ0REJM+OpjMgIiLtp2AhIiKFFCxERKSQgoWIiBRSsBARkUI7m85AXS6++GI3Pz/fdDZERDrliSeeeNk5d8lgem+Dxfz8PCdOnGg6GyIinWJm62npqoYSEZFCChYiIlJIwUJERAopWIiISCEFCxERKaRgISKpVldhfh527Ij+rq42nSNpUm+7zorI8FZX4eBB2NiInq+vR88BFheby5c0RyULEdnm8OHNQBHb2IjSk1T6mBwqWYjINidPpqevr0dB4eRJ2LMH/vqv4c03N19T6aO/VLIQkW327k1PN4uCgnNw9uxmoIillT6kHxQsRGSb22+HmZmtaWZRkCiSVSqRblOwEJFtFhfhyBGYm4uCxNxcWKCA7FKJdJuChYikWlyEv/gLOH8++js3F/a+/fvrzJU0RcFCRIKkVU2lOXas/rzI+ClYiEiQwaqpLGqz6CcFCxEJlqyayqqWymqz0JiMblOwEJGhpFVLzcxE6YPiEeFxt9t4TIYCRncoWIjIUNJ6TB05kj4gL3REuLSXudD+cB2zsLDgtKyqSDvs2JHe9dYsqtKS9jCzJ5xzC4PpKlmISO2y2jE0JqM7FCxEpHKDjdn794e3b4w7b2o3CaNgISKVSmvMPnoUlpbC2jfGnTc1tIdRm4WIVGp+ProJD5qbi7rdNqnNeWsLtVmIyFhkDcprw2C9Nuet7RQsRKRSbW7MbnPe2k7BQkQqVWaw3ri1OW9tp2AhIpUqM1ivi3mb1N5UChbSKpP6H7HrBr832Dq9ed2Bosy/m8Gp18sGiontTeWc6+V23XXXOemWlRXnZmaci/4bRtvMTJQu7VXH97ay4tzcnHNm0d+8zwo5fpnPyzM3t/U48TY3N9zntRFwwqXcUxu/qde1KVh0zyT8R6xTVTfEsqr+3kKDT3y+acdOHr/KYGaWfiyz4c61jWoLFsCVwJ8BzwBPA7f59D3AceA5/3e3TzfgTmANeBJ4Z+Kzlvz+zwFLifTrgKf8e+7Ejw/J2xQsumcS/iPWpclS2bDfW1ZwKwo+KyvOzc5mB4nB41cZzCbhB02dweKy+IYP/CzwPeAa4JPAIZ9+CPiEf7wf+JoPGu8CHnObweUF/3e3fxwHmMf9vubf+76ifClYdM8k/EesS5PXbphjpwU3M+eWl/ODT9r7ikoWefuUNQlVpWOrhgK+Avwz4FngMrcZUJ71jz8PfDCx/7P+9Q8Cn0+kf96nXQZ8N5G+Zb+sTcGieybhP2JdmiyVla02MnNuaio7v1mlhrm5/GqnrONnHWtqavjzbaK6b1yygkWlvaHMbB74J8BjwKXOuZf8Sz8ALvWPLwdeTLztlE/LSz+Vkp52/INmdsLMTpw5c2akc5Hxa3OXy7ZrcrBZyPc22Ivo3Ln0z4p+D2aPhQgZaT14/KxjZaUXiXtT3Xdf9Pzmmyek515aBBlmAy4EngD+lX/+2sDrr/q/XwV+MZH+CLAA/BbwnxPp/8WnLQAPJ9J/CfhqUX5UspBJ0vZSWWiJIFndVKY9I+98Q9pAypYU2n69R0Gd1VDALuAh4OOJNFVDiYxRm6tHsqrJqmjrgKjqKut8827sw970swLQ1FQ7r38ZtQULokbne4H/MZD+KbY2cH/SP/5VtjZwP+7T9wDfJ2rc3u0f7/GvDTZw7y/Kl4KFSHsM09aQZdiSwDA9r7KEBL/p6W4GjDqDxS8Cjqgb7Df9th+Y9VVMzwEPJ278BnwWeJ6oO+xC4rM+RNQ9dg24JZG+AHzbv+czqOusSKdk/YJfXm62NDRsx4DQ4Dc7O5bTqFSt1VBt3BQsRNql7KjscQSRrJv+7Gz+8ct04e1atZSChYh0QtqNeNeu6AZe9Y0361jT01vTiroCV1XF1gZZwUITCYpIqxw+DBsbW9N+8hM4eza67VY5eV9at9+3vQ3efHPrfhsbUb5gc9LCm2+Ont93H8zOFh8r+RldpGVVRaRVduyIgkKRupZCzTv+8nK0nngymM3MROuLf+ELUVArMjcXjRlp6/ghLasq0gBNuV5e6EDCMkuhlvke8o5/993bSz0bG3DsGHzkI1HppEhXpzVXsBCpSRfWPihzEx1H4FtdhZdfDts3NKikfQ+33AIXXhjd3M3g4os3zydtNb1YVonj5MkoYIRW1HSySiqtIaMPmxq4pWltnxixzIC0cYxYXlmJGpdDexiFHju0m2tyXMTKSth7koPxyuwfb21s8Ea9oUTqkdXNs+1TrpcJZuMIfKE39Xh22lDDjh7Pyk+ZzwvZypzLOGQFC1VDiYwgr6qpycn9QmTV+aell9k3TUgVVshnTU1FvY8+97nwz92zJyyPyTysrsLrr29/fWYGPvrRqJG6Knfdtb0qrJXSIkgfNpUsZBzyfnG3fbK5cZUsQq9DmQWNshZASltONbRqK+97g+3zT5WZHDF0a8MUIagaSqR6RVVNbZ7cr+o2i1HnXwoJFnk38zJVSXk36qKlWouqGUfdmm7TUrAQqUHbG7GLVDUFR96v8aJSQqzo5hsHp6IAkPzcvM9M5i1Zaii6mcf5KApuF164fSR46NbkjwoFC5EatL2qaVzybuBZN+zBgFrVL/qQkkVeMA/p2TQ7WxwI4mOElJjSrllT/4aygoUauEVGoNX9InmN085tH6wWr3yXlDa+YWYGVlaikdrxNc3rIDD4uVmfOXhs2GwsD1lB7+zZ7VOCDFpfjxqtz54t/rxBzrVwHEZaBOnDppKFyHZ1taGEtA2EHDckf2UXQEr7zMG0ffvqa4MYZWsCqoYS6bZRb/R1VpmVaXSuwijXosz04k1vTVRFZQULTSQo0gGrq9EUFcmJ6nbtgi9+MbzKa34+qhoZVNWEfKurcNtt26tdZmbaVTWXdR3aaGoK3nprvMfURIIiY1T1PEq33bZ9RtOf/CRKDzXswLrQc1lcjOZ1Wl6ObnIQ/V1aak+ggHITEDbt3DnYvbvpXEQULEQqVscEglmNpGUaT4cZUV72XFZXoym840bic+ei520amdyWEfShXnsNLr+86VwoWIhULm3xnjbMMlqmZ1Cs7Lm09dxjWdN4tN1f/iVce22z090rWIhUbNR5lNJkrcQWskJbbJhuvmXPpY5zr0pcSgopjV1wQf35KeuZZ5qd7l7BQqRidUwgeMcdMD29NW16OkovY3Exasw+f37r2IUsZc+lbZMnJttblpa2l3ogCrjJALqyAm9/+9izWtq4S2wKFiIVG6a6p8jiItxzz9ab2j331N9wXPZc6jj3YQ22t2QNtnvlle0BtA0loRDjzKeChUjFqhrVPdgLCcqVCqpQ9lyaGtGe1mMrrf0kTVqpJ6QkFK+016SxltjSBl/0YdOgPOmySZ5zquyAu6xrFToHUzxoMGRixHjbtcu5HTvSX8tKr2Pbt6/6649GcIt0R9dnsy0jGRzSJugrCpJZ16rszXzXru0BIzkJYPy+ogkE40kAy6yjMcpW9dT3WcFC1VAiLdTmXkVVGmxXSJugr6ghN+uanD+fnr57d3ovsrRBjj/+8dbPm5oqnkDQOThwYPsgyrqMq2eUgoVIC7WtV1FdQtsV8oJk2WvyyithgxzT8hYyI20TxtEzSsFCJEXV03WU1aZeRXUKLSnlBYSsa5U1BqUouMTfd1fmj4rVnV8FC5EBdUzXUdakrJMRUipIBsm0IJ51re64Iz2I7N+ff7z19WjSxq7ZUffdPK0how+bGrhlWJPUuNy0tF5Hu3ZFDcuDvaGKeoiFrFsRsixrl7cqoN5QImGyFsEZXDO6a+pa+GhUofnKC+Jluho3fUOvc5ueHv17zQoWWs9CZEDd6z40Ia5aSzbYtm2diSI7dkS3xEFmUXVW2nc2NRX1Ytq7d7Mq68CBevPZBisrw3+vWs9CJFAfG5ezZoM9cGB7A37TjftZ8nqIZTWUnzsXBZi43ekjHwk71q5d2+fi6pKlpeo/U8FCZEAfG5fzeh0lG/DH2bhfNijlBfGQhvKNDfjbv81+Pfl9f/GLW+fi6ppz52pYAyOtbqoPm9osRDaFNOrOzQ3XuD9MW8iw05lkHauKdbXjz0mO2p6dDWsUn5vb+r62bMNMB4IauEWa0YaG5ZCbqVn5xv3Qm/7gNci6sU5NDX99Bm/0ZbY4KKRN5bFrl3PLy9nXb2Ymer3pwJC1lb2eChYiDWjThIBFv5CHKVmE7F/2V38csKamNj8r9HoN2y02pPQQd+dt+uZfdivb5bvzwQK4AXgWWAMOFe2vYCFt0MYxG3kBrGxwCymJVDGuITTADnMzX14e/r1d2Mp2+e50sACmgOeBdwDTwLeAa/Leo2AhbdDWMRvLy5u/3KemNm+YzpWrNgsJhlXdhEMCbFZ+4nMd3GZnN885a5+ub1WVLLrSG+p6YM0594Jz7k3gfuDGhvMkUqiNEwKursLRo5uT4p07Fz2PeyOVWXo1pJtx1rn+zM+Uy3fIPFJZ+Tl4MD39jjs2e4C1dZLAUVTa5TstgrRtAz4AfCHx/GbgMyn7HQROACf27t1bLpyK1KBNbRaxqqvGikoiWdegbGN0aP7yekylTQfS1xLFsJ0F6Hg1VFCwSG6qhpK2aENvqKQmqsbSrkGZ6qk6AmxW76c+bKNM+5EVLLpSDXUauDLx/AqfJtJ6Zap1Qo0yyrqJqrG0axB6vKmpegZF3nZb8UJGXXXPPdVfr64Ei28AV5vZVWY2DdwEPNhwnkQaMeoo67ZMZ5KWj0EzM1F7Sh2j57MWQIJujtqOzc3Vc706ESycc28BHwMeAr4DPOCce7rZXIk0I2uep9CV0toynUlaPpaXq83XsCWwqLa7e+oM+jvr+djqOeeOAceazodI07JWROvi+tyLi8MFg9XVKDiePLk5o+zg5wzOtBuXwOLjzs6mly7iFfbySh5tE8+8m3YdKpPWkNGHTQ3c0kd5DcNlegvV2UOr7gb9tPzH1yR5vKJeXysr0VQeydfiqT0G09u8JcfIVIEu94YaZlOwkD7KugGajT4lRhVdZ2dnt99o47mTqgogRSPC48CX19sqqzttcrDi4LZjR/OBYXAbZqLAIlnBQosfiXRI1gJAkJ0e+hlmUW+lMtIWVUpjtvWYoyy8lHcNYnNz0d+sKru044ecy8xM8bnG9u2DRx+Fv/mbsP3LGub7CvtcLX4k0nlZ3U3jm+Mon1Gm62zccHzgQNjNc/DmXqZBflBIPtfX83tbpS38lNZxIClucA+91o88Ul+ggPAfB1VRsBDpkCq6vY76Gcmuu6MYtkE+pMtt3PX1yJH8/ZLdjvPyE1+feLxIG7rWlvmBUIm0uqk+bGqzkL6qogF5lM+oYhbZUdpIkvkP+fxRF35K7hO3vVTV3pCczHHfvnKfXXXDdgw1cItMlrp6JRVN0zE9vTnvU9a+Vfa+yspHPH1J6MJPVay2VyZQ5PVIC8lLXdPcZwULVUOJ9NCtt8LNN9ezlnZem8HcXDTVxMsvR4+d275P1dN3ZFXHxPlcXISlpei4WXb4O2FykGDe/oNmZ2F6uni/qalo4OHaWvrAygMHou8uOWAxy9jH1aRFkD5sKlnIpKpiLEbR54eM0xjXhIVF4y7ylkTNO4fQUkKyBJM2k26Za5NWxTTuBbRQNZTIZMir967qRh1SxTXOm1yyDWPwRlxmdttk3kKnLp+a2j7t+bDXJvmZyXMb5zT3ChYiEyLv5jjO5VybWMtj1MbnZDAd5v2h55c2enxwi/eLz2mYNcmHkRUs1GYhrTHKtNuyKatNwWy8M8s2MWHhqPX4yWuX1V4wNZXdprGxEU19HvLvOK/77dTU9i7K585t7cI7dmkRpA+bShbd0sYV5boqqw6/rq6WbTJKyWLw31vRv8nQ6q20f8dF+czrolt36RBVQ0mbNfUfo6/atjrfuGTd4C+8MP/mnHWNknNFTU2FNTyH/DvOCzTxMZpY0dA5BQtpuab+Y0y6JurE65a11nbZHmJZgSf5qz+0dDH47zjkx5FKFgoWkkIli/HLG/jVxyrA0Bt5LG+G37Tnc3PpXWfTSi8h1a5NVc0qWEirqc1i/EKny+iLsj9IhulyWzTyenCUdlFVYRPViQoW0nqTWs/elKKbYd+qAMv+ICnTJpG8VsvL7em+PIysYKGus9Ia8Yye589HfxvpHjhBiqb6LjNleReU6cq7ugqvv749Pau7a/JaHTsWhYUsXVz+FjRFucjEypvqu+y050ltHi+zuBid19690U378OHt+YvHNwyuwT07Cx/9aPH07kXBoLNBOK240YdN1VAixaruDdX2tqeQ/GVVP8XTeszORltWdWle9VWbrkUWtKyqiNRtfj59UaS5uahqsWkh+QtZthWiksYdd2yvxspanjVr/7bRsqoiUrusKpi21NOH5C+0mujs2WgaeLOt1W1pbSMrK9G07W0PFHkULERq1Ob6+zpUsb53nfLyF39X6+vhy6bGJZDB9UL62FlDwUKkJsmJ4JyrdgGitqpijfA6ZeVv//6tk/Y5txkwQhdB2tiIGsz7SsFCpCaHD6evhjauG0oTpZo6Z5qt4nyy8nfs2Pbvyrno9aNHs3uNDWpLdVsd1MAtUpOshlKzqHqiTmmNrDMz9U8RXpe6z6fou1pdjaYeH+xOO6gtDfmjUAO3yJg1WX/fdKmmSNlSwqjnU3S8ou9qcTFqoF5Z2VznYrBdo03VbbVI60/bh03jLKRpTY45aPMsvsNcl6LpM4rmV6pj0r6+Tk+D5oYSGb+mbihNzuJbdM7D5C10BtgyCw0NHq+vN/+yFCxEJsgopZpRbpohxx2m1JO1+l9IEMgrlUx6YEijYCEyYYa56Y9adVbnoj6D5xMyA2ze8bo2Dce4ZAUL9YYSkZ8adbqOkB5gVfVsCs1r1vQbRe+bVOoNJSKFRp2uI6QHWFVjMUIHAA4eL8v6+mSMsh+WgoWI/NSo3X3L3MCzpsMI7VZbJugkjxd3fU0zCaPsh5ZWN9WHTW0W0gVt64GT12YRmte6G8hHvWZFS59Oek8p1MAt0i5tXfsh7cY4rrwWNX5XlY/kOh5FjeRt/Z7qUkuwAD4FfBd4Evgj4KLEa78DrAHPAu9NpN/g09aAQ4n0q4DHfPqXgGmffoF/vuZfnw/Jm4KFtF2TYyHKGldei7rVVp2POntvdVVWsBi1zeI48A+dc/8Y+J4PEJjZNcBNwLU+OHzOzKbMbAr4LPA+4Brgg35fgE8An3bO/X3gVeDDPv3DwKs+/dN+P5HOa/vaD0njymtRm0nV+QhpY+nS91SnkYKFc+5PnHNv+aePAlf4xzcC9zvn3nDOfZ+oVHC939accy84594E7gduNDMDfgX4sn//UeD9ic866h9/Gdjn9xfptLav/ZA0rrwW3byrzkdII3mXvqc6Vdkb6kPA1/zjy4EXE6+d8mlZ6bPAa4nAE6dv+Sz/+o/8/tuY2UEzO2FmJ86cOTPyCYnUqe1rPySNK69FN+868lG0UFGXvqc6FQYLM3vYzL6dst2Y2Ocw8BbQaIcz59wR59yCc27hkksuaTIrIoXqXPuhauPMa97Nu4lr1qXvqU47i3Zwzr0773Uz+w3g14B9vnEE4DRwZWK3K3waGelngYvMbKcvPST3jz/rlJntBH7O7y/SeYuL3bnptCWvTeSjLefepJGqoczsBuC3gX/hnEsOpn8QuMnMLjCzq4CrgceBbwBXm9lVZjZN1Aj+oA8yfwZ8wL9/CfhK4rOW/OMPAH+aCEoiIjIGo7ZZfAb4WeC4mX3TzO4GcM49DTwAPAP8MfCbzrlzvtTwMeAh4DvAA35fgP8IfNzM1ojaJP7Qp/8hMOvTPw4cGjHP0kPDLLnZxLKjIp2V1p+2D5vGWUyOYReumaSBVnkmaXSyFEOzzkpfDTNT6qizq/ZF39bqltFlzTqrYCGdFzItdhXv6SMFTRmkKcqlt4YZNKWBVhGNTpZQChbSecMMmtJAq4iCpoRSsEhQ75huGmbQlAZaRRQ0JVhaq3cftrK9odQ7RibVqOtPqCdVv1DTrLO9cfjw9jV6NzaidGmWSnz1KpobKUvck2p9Pfp5pVXm+k3BwlNDXzv19YbUhwCoH1iTRcHCU0NfO/XxhtSXAKgfWJNFwcJTQ1879fGG1JcA2NQPrD6UyrpIwcJT75h26mOJry8BsIkfWH0plXWRgkXCsA19Up8+lvj6EgCb+IHVl1JZFylYSKv1scTXpwCY9QOrrqqivpTKukjBQlqvbyW+JgPgOOr766wq6kuprIs0kaDIhBjXDLN1Tk6oWXLrp4kERSbcuOr766wq6mO1ZFcUrsEtIv0wrvr+vXvTSxZVVRVpPexmqGQh0hNF7RHjqu/vUwO+bFKwkE7RgKx0IY3K47qJq6qon9TALZ2hxs1soY3Kq6tRG8XJk1GJ4vbbde1kKy2rKp2nJUCzaZlYqYp6Q0nnaUBWNo0/kLopWEhn6IaYTY3KUjcFC+kM3RCzqVFZ6qZxFtIZ8Y1PDbTpNP5A6qRgIZ2iG6JIM1QNJSIihRQsRESkkIKFiIgUUrAQEZFCChYiE0Lzasko1BtKZAIMzqsVTzQI6l0mYVSyEJkA41r4SPpLwUJkAmheLRmVgoXIBNC8WjIqBQuRCaB5tWRUChYiE0ATDcqoKgkWZvYfzMyZ2cX+uZnZnWa2ZmZPmtk7E/sumdlzfltKpF9nZk/599xpZubT95jZcb//cTPbXUWeRSbN4mK0SNT589FfBQopY+RgYWZXAu8Bkk1l7wOu9ttB4C6/7x7gd4F/ClwP/G7i5n8X8O8S77vBpx8CHnHOXQ084p+LiMgYVVGy+DTw20ByUccbgXtd5FHgIjO7DHgvcNw594pz7lXgOHCDf+1tzrlHXbTO673A+xOfddQ/PppIFxGRMRkpWJjZjcBp59y3Bl66HHgx8fyUT8tLP5WSDnCpc+4l//gHwKU5+TloZifM7MSZM2fKno6IiGQoHMFtZg8Db0956TDwn4iqoMbCOefMLGVZ+p++fgQ4ArCwsJC5n4iIlFMYLJxz705LN7N/BFwFfMu3RV8B/LmZXQ+cBq5M7H6FTzsN/PJA+td9+hUp+wP80Mwuc8695Kur/qrwrEREpFJDV0M5555yzv0959y8c26eqOronc65HwAPAr/ue0W9C/iRr0p6CHiPme32DdvvAR7yr/0/M3uX7wX168BX/KEeBOJeU0uJdBERGZO6JhI8BuwH1oAN4BYA59wrZvb7wDf8fv/VOfeKf3wr8D+Bvwt8zW8A/w14wMw+DKwD/7amPIuISAaLOh/1z8LCgjtx4kTT2RAR6RQze8I5tzCYrhHcIiJSSMFCREQKKViIiEghBQsRESmkYCEiIoUULEREpJCChYiIFFKwEBGRQgoWIiJSSMFCREQKKViIiEghBQsRESmkYCEiIoUULEREpJCChYiIFFKwEBGRQgoWIiJSSMFCREQKKViIiEghBQsRESmkYCEiIoUULEQSVldhfh527Ij+rq42nSORdtjZdAZE2mJ1FQ4ehI2N6Pn6evQcYHGxuXyJtIFKFiLe4cObgSK2sRGli0w6BQsR7+TJcukik0TBQsTbu7dcusgkUbAQIWqveP317ekzM3D77ePPj0jbKFjIxIsbts+e3Zo+OwtHjqhxWwQULERSG7YBLrxQgUIkpmAhE08N2yLFFCxk4qlhW6SYgoVMvNtvjxqyk9SwLbKVgoVMvMXFqCF7bg7Mor9q2BbZStN9iBAFBgUHkWwqWYiISCEFCxERKaRgISIihRQsRESkkIKFiIgUMudc03mohZmdAdabzgdwMfBy05mokc6v+/p+jjq/cuacc5cMJvY2WLSFmZ1wzi00nY+66Py6r+/nqPOrhqqhRESkkIKFiIgUUrCo35GmM1AznV/39f0cdX4VUJuFiIgUUslCREQKKViIiEghBYsAZvYpM/uumT1pZn9kZhf59Hkz+7GZfdNvdyfec52ZPWVma2Z2p5mZT99jZsfN7Dn/d7dPN7/fmj/OOxOfteT3f87MlsZ1fv613/F5etbM3ptIv8GnrZnZoUT6VWb2mE//kplN+/QL/PM1//p80TEqPsd/Y2ZPm9l5M1tIpPflO0w9P/9aL77DxLF+z8xOJ76z/eM81zbJOq9aOOe0FWzAe4Cd/vEngE/4x/PAtzPe8zjwLsCArwHv8+mfBA75x4cSn7Xf72f+fY/59D3AC/7vbv9495jO7xrgW8AFwFXA88CU354H3gFM+32u8e95ALjJP74bWPaPbwXu9o9vAr6Ud4wavsNfAH4e+DqwkEjvy3eYdX69+Q4T5/R7wG+lpNd+rm3a8s6rjk0liwDOuT9xzr3lnz4KXJG3v5ldBrzNOfeoi77Ve4H3+5dvBI76x0cH0u91kUeBi/znvBc47px7xTn3KnAcuKGqc4Pc87sRuN8594Zz7vvAGnC939accy84594E7gdu9L+8fwX4csb5xef9ZWCf3z/rGJVyzn3HOfds6P4d/A6zzq8332GAcZxrm6SeV10HU7Ao70NEvx5jV5nZ/zWz/2Nmv+TTLgdOJfY55dMALnXOveQf/wC4NPGeF1Pek5Vel+T5lc3TLPBaIvAk8/rT9/jXf+T3H/f5penbd5jU1+/wY76q7564GjAnH1Wea5uM9bprpTzPzB4G3p7y0mHn3Ff8PoeBt4BV/9pLwF7n3Fkzuw7432Z2begxnXPOzMbSd3nI8+uUkHNM0avvsC/yzhW4C/h9wPm//53oR47USMHCc869O+91M/sN4NeAfb5aAufcG8Ab/vETZvY88A+A0xh3WtUAAAGvSURBVGytqrrCpwH80Mwuc8695Kso/sqnnwauTHnPaeCXB9K/XvL0hjq/nDyRkX6WqOplp/81ltw//qxTZrYT+Dm/f94xSik6x4z39OY7zNCp7zAWeq5m9gfAVwfyl5aPqs61TSq/7rnqboTpw0ZUv/wMcMlA+iX4hjyiRqbTwB7/fLBxdL9P/xRbG0c/6R//KlsbRx/36XuA7xM1jO72j/eM6fyuZWuD4QtEjWo7/eOr2GxYu9a/53+xtcHwVv/4N9naYPhA3jFq/C6/ztYG4F58hznn18fv8LLE439P1E4xlnNt05Z3XrUcr+kT7sJG1FD2IvBNv8X/iP418LRP+3PgnyfeswB8m6i3wmfYHC0/CzwCPAc8nLgxGfBZv/9TA//hP+TzsAbcMq7z868d9nl6Ft8byKfvB77nXzucSH8H0U12zf9HvMCn/x3/fM2//o6iY1R8jv+SqE73DeCHwEM9+w5Tz69P32HiWPf56/sk8CBbg0ft59qmLeu86tg03YeIiBRSbygRESmkYCEiIoUULEREpJCChYiIFFKwEBGRQgoWIiJSSMFCREQK/X8Jygx+eGvqCwAAAABJRU5ErkJggg==\n",
      "text/plain": [
       "<Figure size 432x288 with 1 Axes>"
      ]
     },
     "metadata": {
      "needs_background": "light"
     },
     "output_type": "display_data"
    }
   ],
   "source": [
    "#Plotting PCA\n",
    "#COlor by most watched film genre\n",
<<<<<<< HEAD
    "\n",
    "plt.plot \n",
    "plt.plot(pca_mat_user[:,0], pca_mat_user[:,1], \"bo\")"
=======
    "plt.plot(pca_mat_user[:,0], pca_mat_user[:,1], \"bo\")\n",
    "#Test with plt.plot(pca_mat_user_test[:,0], pca_mat_user_test[:,1], \"bo\")"
>>>>>>> 6b8d1830d7a28b42516c442dc91ffb05451d04b1
   ]
  },
  {
   "cell_type": "code",
<<<<<<< HEAD
   "execution_count": 22,
=======
   "execution_count": 31,
>>>>>>> 6b8d1830d7a28b42516c442dc91ffb05451d04b1
   "metadata": {},
   "outputs": [
    {
     "data": {
      "text/plain": [
<<<<<<< HEAD
       "[<matplotlib.lines.Line2D at 0x1170f59d0>]"
      ]
     },
     "execution_count": 22,
=======
       "[<matplotlib.lines.Line2D at 0x1249effd0>]"
      ]
     },
     "execution_count": 31,
>>>>>>> 6b8d1830d7a28b42516c442dc91ffb05451d04b1
     "metadata": {},
     "output_type": "execute_result"
    },
    {
     "data": {
<<<<<<< HEAD
      "image/png": "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\n",
=======
      "image/png": "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\n",
>>>>>>> 6b8d1830d7a28b42516c442dc91ffb05451d04b1
      "text/plain": [
       "<Figure size 432x288 with 1 Axes>"
      ]
     },
     "metadata": {
      "needs_background": "light"
     },
     "output_type": "display_data"
    }
   ],
   "source": [
<<<<<<< HEAD
    "plt.plot(pca_mat_user_test[:,0], pca_mat_user_test[:,1], \"bo\")"
=======
    "plt.plot(pca_mat_mov[:,0], pca_mat_mov[:,1], \"bo\")"
   ]
  },
  {
   "cell_type": "markdown",
   "metadata": {},
   "source": [
    "### In the next section, we demonstrate the viability of linking to the imdb and tmdb databases"
>>>>>>> 6b8d1830d7a28b42516c442dc91ffb05451d04b1
   ]
  },
  {
   "cell_type": "code",
<<<<<<< HEAD
   "execution_count": 23,
   "metadata": {},
   "outputs": [
    {
     "data": {
      "text/plain": [
       "[<matplotlib.lines.Line2D at 0x116f39a10>]"
      ]
     },
     "execution_count": 23,
     "metadata": {},
     "output_type": "execute_result"
    },
    {
     "data": {
      "image/png": "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\n",
      "text/plain": [
       "<Figure size 432x288 with 1 Axes>"
      ]
     },
     "metadata": {
      "needs_background": "light"
     },
     "output_type": "display_data"
    }
   ],
   "source": [
    "plt.plot(pca_mat_mov[:,0], pca_mat_mov[:,1], \"bo\")"
=======
   "execution_count": 32,
   "metadata": {},
   "outputs": [],
   "source": [
    "ia = imdb.IMDb()\n",
    "movies_updated = movies.join(links, rsuffix=\"links\")\n",
    "movies_updated = movies_updated.drop('movieIdlinks', axis = 1)"
>>>>>>> 6b8d1830d7a28b42516c442dc91ffb05451d04b1
   ]
  },
  {
   "cell_type": "code",
<<<<<<< HEAD
   "execution_count": 24,
   "metadata": {},
   "outputs": [
    {
     "name": "stdout",
     "output_type": "stream",
     "text": [
      "Number of Unique Tags:  1589\n",
      "Number of Unique Users:  58\n",
      "Number of Unique Movies:  1572\n",
      "Number of Tags:  3683\n"
     ]
    },
    {
     "data": {
      "text/html": [
       "<div>\n",
       "<style scoped>\n",
       "    .dataframe tbody tr th:only-of-type {\n",
       "        vertical-align: middle;\n",
       "    }\n",
       "\n",
       "    .dataframe tbody tr th {\n",
       "        vertical-align: top;\n",
       "    }\n",
       "\n",
       "    .dataframe thead th {\n",
       "        text-align: right;\n",
       "    }\n",
       "</style>\n",
       "<table border=\"1\" class=\"dataframe\">\n",
       "  <thead>\n",
       "    <tr style=\"text-align: right;\">\n",
       "      <th></th>\n",
       "      <th>userId</th>\n",
       "      <th>movieId</th>\n",
       "      <th>tag</th>\n",
       "      <th>timestamp</th>\n",
       "    </tr>\n",
       "  </thead>\n",
       "  <tbody>\n",
       "    <tr>\n",
       "      <td>0</td>\n",
       "      <td>2</td>\n",
       "      <td>60756</td>\n",
       "      <td>funny</td>\n",
       "      <td>2015-10-25 03:29:54</td>\n",
       "    </tr>\n",
       "    <tr>\n",
       "      <td>1</td>\n",
       "      <td>2</td>\n",
       "      <td>60756</td>\n",
       "      <td>Highly quotable</td>\n",
       "      <td>2015-10-25 03:29:56</td>\n",
       "    </tr>\n",
       "    <tr>\n",
       "      <td>2</td>\n",
       "      <td>2</td>\n",
       "      <td>60756</td>\n",
       "      <td>will ferrell</td>\n",
       "      <td>2015-10-25 03:29:52</td>\n",
       "    </tr>\n",
       "    <tr>\n",
       "      <td>3</td>\n",
       "      <td>2</td>\n",
       "      <td>89774</td>\n",
       "      <td>Boxing story</td>\n",
       "      <td>2015-10-25 03:33:27</td>\n",
       "    </tr>\n",
       "    <tr>\n",
       "      <td>4</td>\n",
       "      <td>2</td>\n",
       "      <td>89774</td>\n",
       "      <td>MMA</td>\n",
       "      <td>2015-10-25 03:33:20</td>\n",
       "    </tr>\n",
       "  </tbody>\n",
       "</table>\n",
       "</div>"
      ],
      "text/plain": [
       "   userId  movieId              tag           timestamp\n",
       "0       2    60756            funny 2015-10-25 03:29:54\n",
       "1       2    60756  Highly quotable 2015-10-25 03:29:56\n",
       "2       2    60756     will ferrell 2015-10-25 03:29:52\n",
       "3       2    89774     Boxing story 2015-10-25 03:33:27\n",
       "4       2    89774              MMA 2015-10-25 03:33:20"
      ]
     },
     "execution_count": 24,
     "metadata": {},
     "output_type": "execute_result"
    }
   ],
   "source": [
    "#Perfect - SVD and PCA are working Great! - now it's time to cluster movies by genres and topics\n",
    "#Back to the Movies dataset (has genres & has user tags)\n",
    "#1. Identify which genres co-occur the most\n",
    "#2. Identify which tags are the most correlated with which genres\n",
    "#3. Identify which tags co-occur with each other\n",
    "#4. Identify the n-most popular tags\n",
    "#5. Use the above + extra information to identify top n movies from each cluster with the most amount of reviews \n",
    "#6. We can use them for SVD and raw PCA (for visualizing) and this information can be added to classify \n",
    "\n",
    "# There is a question of whether we can get sentiment from the tags? or perhaps group them into more general themes...\n",
    "# May look into this...\n",
    "#Tags will need lots of cleaning in order to be useful as approximately 1/2 of them are unique \n",
    "print(\"Number of Unique Tags: \", tags.tag.nunique())\n",
    "print(\"Number of Unique Users: \", tags.userId.nunique())\n",
    "print(\"Number of Unique Movies: \", tags.movieId.nunique())\n",
    "print(\"Number of Tags: \", tags.shape[0])\n",
    "tags.head()\n"
=======
   "execution_count": 33,
   "metadata": {},
   "outputs": [],
   "source": [
    "#Testing API\n",
    "ia.get_movie_infoset() #Provides the attributes of movies\n",
    "toy_story = ia.get_movie(114709, info = ['keywords'])"
   ]
  },
  {
   "cell_type": "markdown",
   "metadata": {},
   "source": [
    "Building Genere Dataframe for further analysis. Simply expanding dataframe to represent unique row for each movie genre"
>>>>>>> 6b8d1830d7a28b42516c442dc91ffb05451d04b1
   ]
  },
  {
   "cell_type": "code",
<<<<<<< HEAD
   "execution_count": 25,
=======
   "execution_count": 35,
   "metadata": {},
   "outputs": [],
   "source": [
    "genre_df = (movies.set_index(['movieId','title']).apply(lambda x : x.str.split('|').explode()).reset_index())"
   ]
  },
  {
   "cell_type": "markdown",
   "metadata": {},
   "source": [
    "### In this next section, we re-perform our initial SVD/PCA analysis. This time, we use cleaner data, to see if we can extract the correct number of \"clusters\" for further k-means analysis that will contribute to our recommendation system"
   ]
  },
  {
   "cell_type": "code",
   "execution_count": 36,
>>>>>>> 6b8d1830d7a28b42516c442dc91ffb05451d04b1
   "metadata": {},
   "outputs": [
    {
     "name": "stdout",
     "output_type": "stream",
     "text": [
<<<<<<< HEAD
      "Number of Unique Genres:  20\n"
     ]
    },
    {
     "data": {
      "text/html": [
       "<div>\n",
       "<style scoped>\n",
       "    .dataframe tbody tr th:only-of-type {\n",
       "        vertical-align: middle;\n",
       "    }\n",
       "\n",
       "    .dataframe tbody tr th {\n",
       "        vertical-align: top;\n",
       "    }\n",
       "\n",
       "    .dataframe thead th {\n",
       "        text-align: right;\n",
       "    }\n",
       "</style>\n",
       "<table border=\"1\" class=\"dataframe\">\n",
       "  <thead>\n",
       "    <tr style=\"text-align: right;\">\n",
       "      <th></th>\n",
       "      <th>movieId</th>\n",
       "      <th>title</th>\n",
       "      <th>genres</th>\n",
       "    </tr>\n",
       "  </thead>\n",
       "  <tbody>\n",
       "    <tr>\n",
       "      <td>0</td>\n",
       "      <td>1</td>\n",
       "      <td>Toy Story (1995)</td>\n",
       "      <td>Adventure|Animation|Children|Comedy|Fantasy</td>\n",
       "    </tr>\n",
       "    <tr>\n",
       "      <td>1</td>\n",
       "      <td>2</td>\n",
       "      <td>Jumanji (1995)</td>\n",
       "      <td>Adventure|Children|Fantasy</td>\n",
       "    </tr>\n",
       "    <tr>\n",
       "      <td>2</td>\n",
       "      <td>3</td>\n",
       "      <td>Grumpier Old Men (1995)</td>\n",
       "      <td>Comedy|Romance</td>\n",
       "    </tr>\n",
       "    <tr>\n",
       "      <td>3</td>\n",
       "      <td>4</td>\n",
       "      <td>Waiting to Exhale (1995)</td>\n",
       "      <td>Comedy|Drama|Romance</td>\n",
       "    </tr>\n",
       "    <tr>\n",
       "      <td>4</td>\n",
       "      <td>5</td>\n",
       "      <td>Father of the Bride Part II (1995)</td>\n",
       "      <td>Comedy</td>\n",
       "    </tr>\n",
       "  </tbody>\n",
       "</table>\n",
       "</div>"
      ],
      "text/plain": [
       "   movieId                               title  \\\n",
       "0        1                    Toy Story (1995)   \n",
       "1        2                      Jumanji (1995)   \n",
       "2        3             Grumpier Old Men (1995)   \n",
       "3        4            Waiting to Exhale (1995)   \n",
       "4        5  Father of the Bride Part II (1995)   \n",
       "\n",
       "                                        genres  \n",
       "0  Adventure|Animation|Children|Comedy|Fantasy  \n",
       "1                   Adventure|Children|Fantasy  \n",
       "2                               Comedy|Romance  \n",
       "3                         Comedy|Drama|Romance  \n",
       "4                                       Comedy  "
      ]
     },
     "execution_count": 25,
     "metadata": {},
     "output_type": "execute_result"
    }
   ],
   "source": [
    "# Let's begin with Genre Analysis then\n",
    "# Use Genre Analysis to group movies (we can use genres as a )\n",
    "print(\"Number of Unique Genres: \", len(genre_dict))\n",
    "movies.head()"
=======
      "Count of Users Removed:  130\n"
     ]
    }
   ],
   "source": [
    "iqr = std_dev.quantile(.50)[1] + std_dev.quantile(.75)[1] - std_dev.quantile(.25)[1]\n",
    "ratings_merge = pd.merge(std_dev, ratings, on = \"userId\")\n",
    "ratings_cleaned = ratings_merge[ratings_merge[\"rating_x\"] < iqr]\n",
    "rating_matrix = ratings_cleaned.pivot(index = \"userId\", columns = \"movieId\", values = \"rating_y\")\n",
    "rating_matrix = rating_matrix.fillna(0)\n",
    "nparray = rating_matrix.to_numpy()\n",
    "nparray_norm = (nparray - np.mean(nparray)) / np.std(nparray)\n",
    "print(\"Count of Users Removed: \", std_dev.shape[0] - nparray_norm.shape[0])"
>>>>>>> 6b8d1830d7a28b42516c442dc91ffb05451d04b1
   ]
  },
  {
   "cell_type": "code",
<<<<<<< HEAD
   "execution_count": 26,
   "metadata": {},
   "outputs": [],
   "source": [
    "#can do a \"most popular genres over time\"\n",
    "#Definitely do a Parallel Coordinates Chart\n",
    "#Use the Radial Axis Technique to model the user tags (can switch tags based on top n-most popular)\n",
    "#Likely will requires some NLP to cluster the tags...\n",
    "#Can even do a geo map of release times for the movies\n",
    "#Glyphs and Icon Visualization Strategy...\n",
    "#Use a SPiral Chart to show movies released over time (with color corresponding to genre)\n",
    "\n",
    "#Let's connect to IMDB API\n",
    "import imdb"
=======
   "execution_count": 37,
   "metadata": {},
   "outputs": [],
   "source": [
    "s, v, d = np.linalg.svd(nparray_norm, compute_uv = True)"
>>>>>>> 6b8d1830d7a28b42516c442dc91ffb05451d04b1
   ]
  },
  {
   "cell_type": "code",
<<<<<<< HEAD
   "execution_count": 27,
   "metadata": {},
   "outputs": [],
   "source": [
    "ia = imdb.IMDb()"
=======
   "execution_count": 38,
   "metadata": {},
   "outputs": [],
   "source": [
    "pca_mat_user_clean = np.dot(s[:,:2],np.diag(v)[:2,:2]**2)\n",
    "pca_mat_mov_clean = np.dot(d[:,:2],np.diag(v)[:2,:2]**2)"
>>>>>>> 6b8d1830d7a28b42516c442dc91ffb05451d04b1
   ]
  },
  {
   "cell_type": "code",
<<<<<<< HEAD
   "execution_count": 28,
=======
   "execution_count": 39,
>>>>>>> 6b8d1830d7a28b42516c442dc91ffb05451d04b1
   "metadata": {},
   "outputs": [
    {
     "data": {
<<<<<<< HEAD
      "text/html": [
       "<div>\n",
       "<style scoped>\n",
       "    .dataframe tbody tr th:only-of-type {\n",
       "        vertical-align: middle;\n",
       "    }\n",
       "\n",
       "    .dataframe tbody tr th {\n",
       "        vertical-align: top;\n",
       "    }\n",
       "\n",
       "    .dataframe thead th {\n",
       "        text-align: right;\n",
       "    }\n",
       "</style>\n",
       "<table border=\"1\" class=\"dataframe\">\n",
       "  <thead>\n",
       "    <tr style=\"text-align: right;\">\n",
       "      <th></th>\n",
       "      <th>movieId</th>\n",
       "      <th>title</th>\n",
       "      <th>genres</th>\n",
       "      <th>imdbId</th>\n",
       "      <th>tmdbId</th>\n",
       "    </tr>\n",
       "  </thead>\n",
       "  <tbody>\n",
       "    <tr>\n",
       "      <td>0</td>\n",
       "      <td>1</td>\n",
       "      <td>Toy Story (1995)</td>\n",
       "      <td>Adventure|Animation|Children|Comedy|Fantasy</td>\n",
       "      <td>114709</td>\n",
       "      <td>862.0</td>\n",
       "    </tr>\n",
       "    <tr>\n",
       "      <td>1</td>\n",
       "      <td>2</td>\n",
       "      <td>Jumanji (1995)</td>\n",
       "      <td>Adventure|Children|Fantasy</td>\n",
       "      <td>113497</td>\n",
       "      <td>8844.0</td>\n",
       "    </tr>\n",
       "    <tr>\n",
       "      <td>2</td>\n",
       "      <td>3</td>\n",
       "      <td>Grumpier Old Men (1995)</td>\n",
       "      <td>Comedy|Romance</td>\n",
       "      <td>113228</td>\n",
       "      <td>15602.0</td>\n",
       "    </tr>\n",
       "    <tr>\n",
       "      <td>3</td>\n",
       "      <td>4</td>\n",
       "      <td>Waiting to Exhale (1995)</td>\n",
       "      <td>Comedy|Drama|Romance</td>\n",
       "      <td>114885</td>\n",
       "      <td>31357.0</td>\n",
       "    </tr>\n",
       "    <tr>\n",
       "      <td>4</td>\n",
       "      <td>5</td>\n",
       "      <td>Father of the Bride Part II (1995)</td>\n",
       "      <td>Comedy</td>\n",
       "      <td>113041</td>\n",
       "      <td>11862.0</td>\n",
       "    </tr>\n",
       "    <tr>\n",
       "      <td>...</td>\n",
       "      <td>...</td>\n",
       "      <td>...</td>\n",
       "      <td>...</td>\n",
       "      <td>...</td>\n",
       "      <td>...</td>\n",
       "    </tr>\n",
       "    <tr>\n",
       "      <td>9737</td>\n",
       "      <td>193581</td>\n",
       "      <td>Black Butler: Book of the Atlantic (2017)</td>\n",
       "      <td>Action|Animation|Comedy|Fantasy</td>\n",
       "      <td>5476944</td>\n",
       "      <td>432131.0</td>\n",
       "    </tr>\n",
       "    <tr>\n",
       "      <td>9738</td>\n",
       "      <td>193583</td>\n",
       "      <td>No Game No Life: Zero (2017)</td>\n",
       "      <td>Animation|Comedy|Fantasy</td>\n",
       "      <td>5914996</td>\n",
       "      <td>445030.0</td>\n",
       "    </tr>\n",
       "    <tr>\n",
       "      <td>9739</td>\n",
       "      <td>193585</td>\n",
       "      <td>Flint (2017)</td>\n",
       "      <td>Drama</td>\n",
       "      <td>6397426</td>\n",
       "      <td>479308.0</td>\n",
       "    </tr>\n",
       "    <tr>\n",
       "      <td>9740</td>\n",
       "      <td>193587</td>\n",
       "      <td>Bungo Stray Dogs: Dead Apple (2018)</td>\n",
       "      <td>Action|Animation</td>\n",
       "      <td>8391976</td>\n",
       "      <td>483455.0</td>\n",
       "    </tr>\n",
       "    <tr>\n",
       "      <td>9741</td>\n",
       "      <td>193609</td>\n",
       "      <td>Andrew Dice Clay: Dice Rules (1991)</td>\n",
       "      <td>Comedy</td>\n",
       "      <td>101726</td>\n",
       "      <td>37891.0</td>\n",
       "    </tr>\n",
       "  </tbody>\n",
       "</table>\n",
       "<p>9742 rows × 5 columns</p>\n",
       "</div>"
      ],
      "text/plain": [
       "      movieId                                      title  \\\n",
       "0           1                           Toy Story (1995)   \n",
       "1           2                             Jumanji (1995)   \n",
       "2           3                    Grumpier Old Men (1995)   \n",
       "3           4                   Waiting to Exhale (1995)   \n",
       "4           5         Father of the Bride Part II (1995)   \n",
       "...       ...                                        ...   \n",
       "9737   193581  Black Butler: Book of the Atlantic (2017)   \n",
       "9738   193583               No Game No Life: Zero (2017)   \n",
       "9739   193585                               Flint (2017)   \n",
       "9740   193587        Bungo Stray Dogs: Dead Apple (2018)   \n",
       "9741   193609        Andrew Dice Clay: Dice Rules (1991)   \n",
       "\n",
       "                                           genres   imdbId    tmdbId  \n",
       "0     Adventure|Animation|Children|Comedy|Fantasy   114709     862.0  \n",
       "1                      Adventure|Children|Fantasy   113497    8844.0  \n",
       "2                                  Comedy|Romance   113228   15602.0  \n",
       "3                            Comedy|Drama|Romance   114885   31357.0  \n",
       "4                                          Comedy   113041   11862.0  \n",
       "...                                           ...      ...       ...  \n",
       "9737              Action|Animation|Comedy|Fantasy  5476944  432131.0  \n",
       "9738                     Animation|Comedy|Fantasy  5914996  445030.0  \n",
       "9739                                        Drama  6397426  479308.0  \n",
       "9740                             Action|Animation  8391976  483455.0  \n",
       "9741                                       Comedy   101726   37891.0  \n",
       "\n",
       "[9742 rows x 5 columns]"
      ]
     },
     "execution_count": 28,
     "metadata": {},
     "output_type": "execute_result"
    }
   ],
   "source": [
    "movies_updated = movies.join(links, rsuffix=\"links\")\n",
    "movies_updated = movies_updated.drop('movieIdlinks', axis = 1)\n",
    "movies_updated"
   ]
  },
  {
   "cell_type": "code",
   "execution_count": 29,
   "metadata": {},
   "outputs": [],
   "source": [
    "#Testing API\n",
    "ia.get_movie_infoset() #Provides the attributes of movies\n",
    "toy_story = ia.get_movie(114709, info = ['keywords'])\n",
    "# test = ia.get_movie(movies_updated.imdbId[20], info = ['release dates'])"
=======
      "text/plain": [
       "[<matplotlib.lines.Line2D at 0x124c64610>]"
      ]
     },
     "execution_count": 39,
     "metadata": {},
     "output_type": "execute_result"
    },
    {
     "data": {
      "image/png": "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\n",
      "text/plain": [
       "<Figure size 432x288 with 1 Axes>"
      ]
     },
     "metadata": {
      "needs_background": "light"
     },
     "output_type": "display_data"
    }
   ],
   "source": [
    "plt.plot(pca_mat_user_clean[:,0], pca_mat_user_clean[:,1], \"bo\")"
   ]
  },
  {
   "cell_type": "markdown",
   "metadata": {},
   "source": [
    "It's clear that we are able to capture more variance in these dimensions, however, the data set is still pretty noisy. We print the eigen value diagonal matrix and see that the values are relatively high in the range of 0-20, indicating a large amount of groups & clusters."
>>>>>>> 6b8d1830d7a28b42516c442dc91ffb05451d04b1
   ]
  },
  {
   "cell_type": "code",
<<<<<<< HEAD
   "execution_count": 30,
   "metadata": {},
   "outputs": [],
   "source": [
    "# toy_story.get('keywords')"
   ]
  },
  {
   "cell_type": "code",
   "execution_count": 31,
   "metadata": {},
   "outputs": [
    {
     "data": {
      "text/plain": [
       "movieId                                                   1\n",
       "title                                      Toy Story (1995)\n",
       "genres          Adventure|Animation|Children|Comedy|Fantasy\n",
       "imdbId                                               114709\n",
       "tmdbId                                                  862\n",
       "Release_Year                                            NaN\n",
       "Name: 0, dtype: object"
      ]
     },
     "execution_count": 31,
     "metadata": {},
     "output_type": "execute_result"
    }
   ],
   "source": [
    "movies_updated[\"Release_Year\"] = \"NaN\"\n",
    "movies_updated.iloc[0]"
=======
   "execution_count": 40,
   "metadata": {},
   "outputs": [
    {
     "name": "stdout",
     "output_type": "stream",
     "text": [
      "[486.01993857 344.98568283 240.71480428 213.01459306 179.73745866\n",
      " 173.1291618  164.30249466 155.04246451 148.39840267 139.08300493\n",
      " 137.10248579 131.19550595 130.67282487 125.68792711 125.02823627\n",
      " 124.48683309 122.72579462 119.45922892 119.18343594 118.03929969]\n"
     ]
    }
   ],
   "source": [
    "print(v[:20])"
   ]
  },
  {
   "cell_type": "markdown",
   "metadata": {},
   "source": [
    "### We run K-means to cluster the data using sklearns KMeans package. We the plot the PCA coordinates and color them by the Kmeans clusters."
>>>>>>> 6b8d1830d7a28b42516c442dc91ffb05451d04b1
   ]
  },
  {
   "cell_type": "code",
<<<<<<< HEAD
   "execution_count": 32,
   "metadata": {},
   "outputs": [],
   "source": [
    "#create the ranges\n",
    "ranges = [(i,i+100) for i in range(0,10000,100)]"
=======
   "execution_count": 80,
   "metadata": {},
   "outputs": [],
   "source": [
    "kmeans = KMeans(7, init = \"k-means++\", n_init=10, max_iter = 300)\n",
    "pred_y = kmeans.fit_predict(nparray_norm)"
>>>>>>> 6b8d1830d7a28b42516c442dc91ffb05451d04b1
   ]
  },
  {
   "cell_type": "code",
<<<<<<< HEAD
   "execution_count": 33,
   "metadata": {},
   "outputs": [],
   "source": [
    "#Release Dates seem to return ordered (Grab, the first one)\n",
    "# movies_updated.Release_Year = movies_updated.apply(lambda x : ia.get_movie(x.imdbId, info = ['release dates']).get('release dates')[0], axis = 1)\n",
    "# toy_story.infoset2keys\n",
    "# toy_story.get('release dates')\n",
    "# start = ranges[0][0]\n",
    "# stop = ranges[0][1]\n",
    "# for index, row in movies_updated.iterrows():\n",
    "#     if index >= start & index < stop:\n",
    "#         try:\n",
    "#             result = ia.get_movie(row['imdbId'], info = ['release dates']).get('release dates')[0]\n",
    "#             movies_updated.loc[index, \"Release_Year\"] = result\n",
    "#         except:\n",
    "#             print(\"Error: \", row['title'])\n",
    "#         if index % 20 == 0:\n",
    "#             print(\"Success: \", index, movies_updated.loc[index, \"Release_Year\"])\n",
    "#     else:\n",
    "#         break"
=======
   "execution_count": 81,
   "metadata": {},
   "outputs": [],
   "source": [
    "pca_df = pd.DataFrame(pca_mat_user_clean)\n",
    "pca_df.columns = [\"x\", \"y\"]\n",
    "pca_df['userId'] = rating_matrix.index\n",
    "pca_df['predicted'] = pred_y"
>>>>>>> 6b8d1830d7a28b42516c442dc91ffb05451d04b1
   ]
  },
  {
   "cell_type": "code",
<<<<<<< HEAD
   "execution_count": 34,
   "metadata": {},
   "outputs": [],
   "source": [
    "#Preparing Data for radial axis graph\n",
    "#There needs to be some pre-processing?\n",
    "#Won't work, not enough diversity in the data set\n",
    "#Instead, let's focus on grouping movies by genre (and finding the relationships there...)\n",
    "# What's the best way to depict the strength of the overlapping relationships graphically?\n",
    "#Can split the dataframe to columns \n",
    "#What about the streangth of the relationship being a function of genres\n",
    "#E.g. Toy Story may be categorized as Adventure, Animation, Children, Comedy, etc.\n",
    "#and the streangth of the relationship will be a calculation of the overlapping gernes :) \n",
    "# In this case, we would have the genres as links** (What are the groups?) - assigned later via PCA?\n",
    "\n",
    "genre_df = (movies.set_index(['movieId','title']).apply(lambda x : x.str.split('|').explode()).reset_index())"
=======
   "execution_count": 82,
   "metadata": {},
   "outputs": [],
   "source": [
    "export_kmeans = pd.merge(pca_df, ratings_cleaned, on = \"userId\")\n",
    "export_kmeans = pd.merge(export_kmeans, movies, on = \"movieId\")\n",
    "export_kmeans = export_kmeans.drop([\"x\",\"y\",\"timestamp\"], axis = 1)\n",
    "export_kmeans.columns = ['userId', 'cluster', 'num_ratings', 'movieId', 'rating', 'title', 'genres']\n"
>>>>>>> 6b8d1830d7a28b42516c442dc91ffb05451d04b1
   ]
  },
  {
   "cell_type": "code",
<<<<<<< HEAD
   "execution_count": null,
   "metadata": {},
   "outputs": [],
   "source": [
    "print(movies.shape)\n",
    "# genre_df"
=======
   "execution_count": 83,
   "metadata": {},
   "outputs": [],
   "source": [
    "export_kmeans.to_csv(\"../csvData/exported_kmeans.csv\")"
>>>>>>> 6b8d1830d7a28b42516c442dc91ffb05451d04b1
   ]
  },
  {
   "cell_type": "code",
<<<<<<< HEAD
   "execution_count": 35,
=======
   "execution_count": 91,
>>>>>>> 6b8d1830d7a28b42516c442dc91ffb05451d04b1
   "metadata": {},
   "outputs": [
    {
     "data": {
<<<<<<< HEAD
      "text/html": [
       "<div>\n",
       "<style scoped>\n",
       "    .dataframe tbody tr th:only-of-type {\n",
       "        vertical-align: middle;\n",
       "    }\n",
       "\n",
       "    .dataframe tbody tr th {\n",
       "        vertical-align: top;\n",
       "    }\n",
       "\n",
       "    .dataframe thead th {\n",
       "        text-align: right;\n",
       "    }\n",
       "</style>\n",
       "<table border=\"1\" class=\"dataframe\">\n",
       "  <thead>\n",
       "    <tr style=\"text-align: right;\">\n",
       "      <th></th>\n",
       "      <th>movieId</th>\n",
       "      <th>title</th>\n",
       "      <th>genres</th>\n",
       "    </tr>\n",
       "  </thead>\n",
       "  <tbody>\n",
       "    <tr>\n",
       "      <td>0</td>\n",
       "      <td>1</td>\n",
       "      <td>Toy Story (1995)</td>\n",
       "      <td>Adventure</td>\n",
       "    </tr>\n",
       "    <tr>\n",
       "      <td>1</td>\n",
       "      <td>1</td>\n",
       "      <td>Toy Story (1995)</td>\n",
       "      <td>Animation</td>\n",
       "    </tr>\n",
       "    <tr>\n",
       "      <td>2</td>\n",
       "      <td>1</td>\n",
       "      <td>Toy Story (1995)</td>\n",
       "      <td>Children</td>\n",
       "    </tr>\n",
       "    <tr>\n",
       "      <td>3</td>\n",
       "      <td>1</td>\n",
       "      <td>Toy Story (1995)</td>\n",
       "      <td>Comedy</td>\n",
       "    </tr>\n",
       "    <tr>\n",
       "      <td>4</td>\n",
       "      <td>1</td>\n",
       "      <td>Toy Story (1995)</td>\n",
       "      <td>Fantasy</td>\n",
       "    </tr>\n",
       "    <tr>\n",
       "      <td>...</td>\n",
       "      <td>...</td>\n",
       "      <td>...</td>\n",
       "      <td>...</td>\n",
       "    </tr>\n",
       "    <tr>\n",
       "      <td>22079</td>\n",
       "      <td>193583</td>\n",
       "      <td>No Game No Life: Zero (2017)</td>\n",
       "      <td>Fantasy</td>\n",
       "    </tr>\n",
       "    <tr>\n",
       "      <td>22080</td>\n",
       "      <td>193585</td>\n",
       "      <td>Flint (2017)</td>\n",
       "      <td>Drama</td>\n",
       "    </tr>\n",
       "    <tr>\n",
       "      <td>22081</td>\n",
       "      <td>193587</td>\n",
       "      <td>Bungo Stray Dogs: Dead Apple (2018)</td>\n",
       "      <td>Action</td>\n",
       "    </tr>\n",
       "    <tr>\n",
       "      <td>22082</td>\n",
       "      <td>193587</td>\n",
       "      <td>Bungo Stray Dogs: Dead Apple (2018)</td>\n",
       "      <td>Animation</td>\n",
       "    </tr>\n",
       "    <tr>\n",
       "      <td>22083</td>\n",
       "      <td>193609</td>\n",
       "      <td>Andrew Dice Clay: Dice Rules (1991)</td>\n",
       "      <td>Comedy</td>\n",
       "    </tr>\n",
       "  </tbody>\n",
       "</table>\n",
       "<p>22084 rows × 3 columns</p>\n",
       "</div>"
      ],
      "text/plain": [
       "       movieId                                title     genres\n",
       "0            1                     Toy Story (1995)  Adventure\n",
       "1            1                     Toy Story (1995)  Animation\n",
       "2            1                     Toy Story (1995)   Children\n",
       "3            1                     Toy Story (1995)     Comedy\n",
       "4            1                     Toy Story (1995)    Fantasy\n",
       "...        ...                                  ...        ...\n",
       "22079   193583         No Game No Life: Zero (2017)    Fantasy\n",
       "22080   193585                         Flint (2017)      Drama\n",
       "22081   193587  Bungo Stray Dogs: Dead Apple (2018)     Action\n",
       "22082   193587  Bungo Stray Dogs: Dead Apple (2018)  Animation\n",
       "22083   193609  Andrew Dice Clay: Dice Rules (1991)     Comedy\n",
       "\n",
       "[22084 rows x 3 columns]"
      ]
     },
     "execution_count": 35,
=======
      "text/plain": [
       "106"
      ]
     },
     "execution_count": 91,
>>>>>>> 6b8d1830d7a28b42516c442dc91ffb05451d04b1
     "metadata": {},
     "output_type": "execute_result"
    }
   ],
   "source": [
<<<<<<< HEAD
    "genre_df"
   ]
  },
  {
   "cell_type": "code",
   "execution_count": 42,
   "metadata": {},
   "outputs": [],
   "source": [
    "#Getting the top most watched genres for each user\n",
    "user_genres = pd.merge(ratings, genre_df, on=\"movieId\")"
=======
    "export_kmeans[export_kmeans[\"userId\"] == 607].genres.nunique()"
>>>>>>> 6b8d1830d7a28b42516c442dc91ffb05451d04b1
   ]
  },
  {
   "cell_type": "code",
<<<<<<< HEAD
   "execution_count": 43,
=======
   "execution_count": 79,
>>>>>>> 6b8d1830d7a28b42516c442dc91ffb05451d04b1
   "metadata": {},
   "outputs": [
    {
     "data": {
<<<<<<< HEAD
      "text/html": [
       "<div>\n",
       "<style scoped>\n",
       "    .dataframe tbody tr th:only-of-type {\n",
       "        vertical-align: middle;\n",
       "    }\n",
       "\n",
       "    .dataframe tbody tr th {\n",
       "        vertical-align: top;\n",
       "    }\n",
       "\n",
       "    .dataframe thead th {\n",
       "        text-align: right;\n",
       "    }\n",
       "</style>\n",
       "<table border=\"1\" class=\"dataframe\">\n",
       "  <thead>\n",
       "    <tr style=\"text-align: right;\">\n",
       "      <th></th>\n",
       "      <th>userId</th>\n",
       "      <th>movieId</th>\n",
       "      <th>rating</th>\n",
       "      <th>timestamp</th>\n",
       "      <th>title</th>\n",
       "      <th>genres</th>\n",
       "    </tr>\n",
       "  </thead>\n",
       "  <tbody>\n",
       "    <tr>\n",
       "      <td>0</td>\n",
       "      <td>1</td>\n",
       "      <td>1</td>\n",
       "      <td>4.0</td>\n",
       "      <td>2000-07-31 02:45:03</td>\n",
       "      <td>Toy Story (1995)</td>\n",
       "      <td>Adventure</td>\n",
       "    </tr>\n",
       "    <tr>\n",
       "      <td>1</td>\n",
       "      <td>1</td>\n",
       "      <td>1</td>\n",
       "      <td>4.0</td>\n",
       "      <td>2000-07-31 02:45:03</td>\n",
       "      <td>Toy Story (1995)</td>\n",
       "      <td>Animation</td>\n",
       "    </tr>\n",
       "    <tr>\n",
       "      <td>2</td>\n",
       "      <td>1</td>\n",
       "      <td>1</td>\n",
       "      <td>4.0</td>\n",
       "      <td>2000-07-31 02:45:03</td>\n",
       "      <td>Toy Story (1995)</td>\n",
       "      <td>Children</td>\n",
       "    </tr>\n",
       "    <tr>\n",
       "      <td>3</td>\n",
       "      <td>1</td>\n",
       "      <td>1</td>\n",
       "      <td>4.0</td>\n",
       "      <td>2000-07-31 02:45:03</td>\n",
       "      <td>Toy Story (1995)</td>\n",
       "      <td>Comedy</td>\n",
       "    </tr>\n",
       "    <tr>\n",
       "      <td>4</td>\n",
       "      <td>1</td>\n",
       "      <td>1</td>\n",
       "      <td>4.0</td>\n",
       "      <td>2000-07-31 02:45:03</td>\n",
       "      <td>Toy Story (1995)</td>\n",
       "      <td>Fantasy</td>\n",
       "    </tr>\n",
       "    <tr>\n",
       "      <td>...</td>\n",
       "      <td>...</td>\n",
       "      <td>...</td>\n",
       "      <td>...</td>\n",
       "      <td>...</td>\n",
       "      <td>...</td>\n",
       "      <td>...</td>\n",
       "    </tr>\n",
       "    <tr>\n",
       "      <td>274475</td>\n",
       "      <td>610</td>\n",
       "      <td>160836</td>\n",
       "      <td>3.0</td>\n",
       "      <td>2017-05-04 04:53:14</td>\n",
       "      <td>Hazard (2005)</td>\n",
       "      <td>Drama</td>\n",
       "    </tr>\n",
       "    <tr>\n",
       "      <td>274476</td>\n",
       "      <td>610</td>\n",
       "      <td>160836</td>\n",
       "      <td>3.0</td>\n",
       "      <td>2017-05-04 04:53:14</td>\n",
       "      <td>Hazard (2005)</td>\n",
       "      <td>Thriller</td>\n",
       "    </tr>\n",
       "    <tr>\n",
       "      <td>274477</td>\n",
       "      <td>610</td>\n",
       "      <td>163937</td>\n",
       "      <td>3.5</td>\n",
       "      <td>2017-05-04 05:59:49</td>\n",
       "      <td>Blair Witch (2016)</td>\n",
       "      <td>Horror</td>\n",
       "    </tr>\n",
       "    <tr>\n",
       "      <td>274478</td>\n",
       "      <td>610</td>\n",
       "      <td>163937</td>\n",
       "      <td>3.5</td>\n",
       "      <td>2017-05-04 05:59:49</td>\n",
       "      <td>Blair Witch (2016)</td>\n",
       "      <td>Thriller</td>\n",
       "    </tr>\n",
       "    <tr>\n",
       "      <td>274479</td>\n",
       "      <td>610</td>\n",
       "      <td>163981</td>\n",
       "      <td>3.5</td>\n",
       "      <td>2017-05-04 06:22:35</td>\n",
       "      <td>31 (2016)</td>\n",
       "      <td>Horror</td>\n",
       "    </tr>\n",
       "  </tbody>\n",
       "</table>\n",
       "<p>274480 rows × 6 columns</p>\n",
       "</div>"
      ],
      "text/plain": [
       "        userId  movieId  rating           timestamp               title  \\\n",
       "0            1        1     4.0 2000-07-31 02:45:03    Toy Story (1995)   \n",
       "1            1        1     4.0 2000-07-31 02:45:03    Toy Story (1995)   \n",
       "2            1        1     4.0 2000-07-31 02:45:03    Toy Story (1995)   \n",
       "3            1        1     4.0 2000-07-31 02:45:03    Toy Story (1995)   \n",
       "4            1        1     4.0 2000-07-31 02:45:03    Toy Story (1995)   \n",
       "...        ...      ...     ...                 ...                 ...   \n",
       "274475     610   160836     3.0 2017-05-04 04:53:14       Hazard (2005)   \n",
       "274476     610   160836     3.0 2017-05-04 04:53:14       Hazard (2005)   \n",
       "274477     610   163937     3.5 2017-05-04 05:59:49  Blair Witch (2016)   \n",
       "274478     610   163937     3.5 2017-05-04 05:59:49  Blair Witch (2016)   \n",
       "274479     610   163981     3.5 2017-05-04 06:22:35           31 (2016)   \n",
       "\n",
       "           genres  \n",
       "0       Adventure  \n",
       "1       Animation  \n",
       "2        Children  \n",
       "3          Comedy  \n",
       "4         Fantasy  \n",
       "...           ...  \n",
       "274475      Drama  \n",
       "274476   Thriller  \n",
       "274477     Horror  \n",
       "274478   Thriller  \n",
       "274479     Horror  \n",
       "\n",
       "[274480 rows x 6 columns]"
      ]
     },
     "execution_count": 43,
     "metadata": {},
     "output_type": "execute_result"
    }
   ],
   "source": [
    "user_genres"
=======
      "text/plain": [
       "<matplotlib.legend.Legend at 0x128317710>"
      ]
     },
     "execution_count": 79,
     "metadata": {},
     "output_type": "execute_result"
    },
    {
     "data": {
      "image/png": "iVBORw0KGgoAAAANSUhEUgAABZgAAALICAYAAADyhJW9AAAABHNCSVQICAgIfAhkiAAAAAlwSFlzAAALEgAACxIB0t1+/AAAADh0RVh0U29mdHdhcmUAbWF0cGxvdGxpYiB2ZXJzaW9uMy4xLjIsIGh0dHA6Ly9tYXRwbG90bGliLm9yZy8li6FKAAAgAElEQVR4nOzdf2yceX4f9vej4XBJ7konele8JJL2YjpnCNGhySVCbgucCNVx9zZuIbtwEHj/8anYdAkkaRIEbe0IrlzQwcLXn7CBNuDGa8j5Zy9BjNYC6tyekytBGeherPia4tiy5wPtO0mwTe0eLWl3huJw9PQPUjpSS62k0Qzn1+sFCA/11TPPfOYHtav3fPj5FmVZBgAAAAAAntSBbhcAAAAAAEB/EjADAAAAANASATMAAAAAAC0RMAMAAAAA0BIBMwAAAAAALRnpdgG95pVXXim/8pWvdLsMAAAAAIBeUuy1qIP5Ae+99163SwAAAAAA6AsCZgAAAAAAWiJgBgAAAACgJQJmAAAAAABaImAGAAAAAKAlAmYAAAAAAFoiYAYAAAAAoCUCZgAAAAAAWiJgBgAAAACgJQJmAAAAAABaImAGAAAAAKAlAmYAAAAAAFoiYAYAAAAAoCUCZgAAAAAAWiJgBgAAAACgJQJmAAAAAABaImAGAAAAAKAlAmYAAAAAAFoiYAYAAAAAoCUCZgAAAAAAWiJgBgAAAACgJQJmAAAAAABaImAGAAAAAKAlAmYAAAAAAFoiYAYAAAAAoCUCZgAAAAAAWiJgBgAAAACgJSPdLgAAYD8sLK9mfnElV9dqOT45kdmZ6Zw5MdXtsgAAAPqaDmYAYOAtLK/mwqWlrN5ez+HxalZvr+fCpaUsLK92uzQAAIC+JmAGAAbe/OJKqpUiE6MjKYqtY7VSZH5xpdulAQAA9DUBMwAw8K6u1TJerexaG69Wcm2t1qWKAAAABoOAGQAYeMcnJ1JvNHet1RvNHJuc6FJFAAAAg0HADAAMvNmZ6TSaZWobmynLrWOjWWZ2ZrrbpQEAAPS1kW4XAADttLC8mvnFlVxdq+X45ERmZ6Zz5sRUt8uiy86cmMpctmYxX1ur5Zj3BgAAQFsUZVl2u4aecurUqfLKlSvdLgOAFiwsr+bCpaVUK0XGq5XUG800mmXmzp4UJAIAAMDTKfZaNCIDgIExv7iSaqXIxOhIimLrWK0UmV9c6XZpAAAAMJAEzAAMjKtrtYxXK7vWxquVXFurdakiAAAAGGwCZgAGxvHJidQbzV1r9UYzxyYnulQRAAAADDYBMwADY3ZmOo1mmdrGZspy69holpmdme52aQAAADCQBMwADIwzJ6Yyd/Zkpg6O5Wa9kamDYzb4AwAAgA4a6XYBANBOZ05MCZQBAABgn+hgBgAAAACgJQJmAAAAAABaImAGAAAAAKAlAmYAAAAAAFpikz8AgB6zsLya+cWVXF2r5fjkRGZnpm1eCQAA9CQdzAAAPWRheTUXLi1l9fZ6Do9Xs3p7PRcuLWVhebXbpQEAAHyEDmYAgBZ0qst4fnEl1UqRidGt/02bGB1JbWMz84srupgBAICeo4MZAOAJdbLL+OpaLePVyq618Wol19ZqT31tAACAdhMwAwA8oZ1dxkWxdaxWiswvrjz1tY9PTqTeaO5aqzeaOTY58dTXBgAAaDcBMwDAE+pkl/HszHQazTK1jc2U5dax0SwzOzP91NcGAABoNwEzAMAT6mSX8ZkTU5k7ezJTB8dys97I1MGxzJ09af4yAADQk2zyBwB9qlObzPFoszPTuXBpKbWNzYxXK6k3mm3tMj5zYsprCQAA9AUdzADQhzq5yRyPpssYAABgiw5mAOhDOzeZS5KJ0ZHUNjYzv7gi5NwnuowBAAB0MANAX+rkJnMAAADwuATMANCHOrnJHAAAADwuATMA9KHZmek0mmVqG5spy61jOzeZAwAAgMchYAaAPmSTOQAAAHqBTf4AoE/ZZA4AAIBu08EMAAAAAEBLBMwAAAAAALREwAwAAAAAQEsEzAAAAAAAtETADAAAAABASwTMAAAAAAC0RMAMAAAAAEBLBMwAAAAAALSkqwFzURS/WhTFalEU39yx9t8URXG9KIr/a/vXj+34s39YFMW3i6L4/4qi+MKO9Ve2175dFMXP7lj/waIovr69/s+Kohjdv0cHAAAAADDYut3BfDHJK3us/09lWf7F7V+/mSRFUfz5JD+V5OT2bf6XoigqRVFUkvzPSf5akj+f5NXtc5PkS9vX+nNJ1pK81tFHAwAAAAAwRLoaMJdluZjke495+o8n+XJZlnfKsvz9JN9O8le2f327LMuVsiw3knw5yY8XRVEk+ZEk/2L79r+W5Cfa+gAAAAAAAIZYtzuYH+bvFEXxf2+P0JjcXjua5OqOc65trz1s/fkkf1KW5eYD6wAAAAAAtEEvBsz/OMkPJfmLSf4wyf/Q6TssiuL1oiiuFEVx5caNG52+OwAAAACAgdBzAXNZln9clmWzLMu7Sf5JtkZgJMn1JMd3nHpse+1h6+8nOVwUxcgD63vd55tlWZ4qy/LUkSNH2vdgAAAAAAAGWM8FzEVR/Okdv/1Pknxz++tLSX6qKIpniqL4wSSfTvJvkvxOkk8XRfGDRVGMZmsjwEtlWZZJ/o8kf3379l9M8hv78RgAAAAAAIbByKNP6ZyiKN5OcibJC0VRXEvy80nOFEXxF5OUSf4gyWySlGW5VBTFP0/y/yTZTPK3y7Jsbl/n7yR5J0klya+WZbm0fRc/k+TLRVH8oyTfSPLWPj00AIbAwvJq5hdXcnWtluOTE5mdmc6ZE1PdLgsAAAD2TbHV6Ms9p06dKq9cudLtMgDocQvLq7lwaSnVSpHxaiX1RjONZpm5syeFzPtEwA8AALCvir0We25EBgD0g/nFlVQrRSZGR1IUW8dqpcj84kq3SxsK9wL+1dvrOTxezert9Vy4tJSF5dVulwYAADBUBMwA0IKra7WMVyu71sarlVxbq3WpouEi4AcAAOgNAmYAaMHxyYnUG81da/VGM8cmJ7pU0XAR8AMAAPQGATMAtGB2ZjqNZpnaxmbKcuvYaJaZnZnudmlDQcAPAADQGwTMANCCMyemMnf2ZKYOjuVmvZGpg2M2+NtHAn4AAIDeUJRl2e0aesqpU6fKK1eudLsMAOARFpZXM7+4kmtrtRybnMjszLSAHwAAoHOKvRZH9rsKAIB2OHNiSqAMAADQZUZkAAAAAADQEgEzAAAAAAAtETADAAAAANASATMAAAAAAC0RMAMAAAAA0JKRbhcAADBoFpZXM7+4kqtrtRyfnMjszHTOnJjqdlkAAABtp4MZAKCNFpZXc+HSUlZvr+fweDWrt9dz4dJSFpZXu10aAABA2wmYAQDaaH5xJdVKkYnRkRTF1rFaKTK/uNLt0gAAANpOwAwA0EZX12oZr1Z2rY1XK7m2VutSRQAAAJ0jYAYAaKPjkxOpN5q71uqNZo5NTnSpIgAAgM4RMAMAtNHszHQazTK1jc2U5dax0SwzOzPd7dIAAADaTsAMANBGZ05MZe7syUwdHMvNeiNTB8cyd/ZkzpyY6nZpAAAAbTfS7QIAAAbNmRNTAmUAAGAo6GAGAAAAAKAlAmYAAAAAAFoiYAYAAAAAoCUCZgAAAAAAWiJgBgAAAACgJQJmAAAAAABaImAGAAAAAKAlAmYAAAAAAFoiYAYAAAAAoCUCZgAAAAAAWiJgBgAAAACgJQJmAAAAAABaMtLtAgAAesHC8mrmF1dyda2W45MTmZ2ZzpkTU90uCwAAoKfpYAYAht7C8mouXFrK6u31HB6vZvX2ei5cWsrC8mq3SwMAAOhpOpgBgKE3v7iSaqXIxOjW/xpNjI6ktrGZ+cUVXcz0Hd34AADsJwEzADD0rq7Vcni8umttvFrJtbValyqC1tzrxq9Wil3d+HOJkLlFAnsAgI9nRAYAMPSOT06k3mjuWqs3mjk2OdGliqA1O7vxi2LrWK0UmV9c6XZpfcn4HACAR9PBDAAMvdmZ6Vy4tJTaxmbGq5XUG800mmVmZ6a7Xdoj6a58ev38HD5Y+++t3s6fOjS26xzd+K0zPgcA4NF0MAMAQ+/MianMnT2ZqYNjuVlvZOrgWObOnuz5AEl35dPr5+dwr9pvr2/m/Q/v7DpPN37rrq7VMl6t7FoT2AMA7KaDGQAgWyFzrwfKD9Jd+fT6+Tncq/bJiWq+92EjE6MjfdeN34uOT05k9fb6/ec4EdgDADxIBzMAQJ/SXfn0+vk53Kv2F557JgefqfRdN36vmp2ZTqNZpraxmbLcOgrsAQB208EMANCndFc+vX5+Dh9W+6c/eShvv/5SFysbHGdOTGUuW93i19ZqOdZnM7oBAPaDDmYAgD6lu/Lp9fNz2M+195MzJ6by9usv5fLP/Ejefv0l4TIAwAOKsiy7XUNPOXXqVHnlypVulwEA8FgWlld1Vz7Evefm6lotxz/muenn57CfawcAoO8Uey4KmHcTMAMA9L+F5dVcuLSUaqXYtdmdecQAANCyPQNmIzIAABg484srqVaKTIyOpCi2jtVKkfnFlW6XBgAAA0XADADAwLm6Vst4tbJrbbxaybW1WpcqAgCAwSRgBgBg4ByfnEi90dy1Vm80c2xyoksVAQDAYBIwAwAwcGZnptNolqltbKYst46NZpnZmelulwYAAANFwAwAwMA5c2Iqc2dPZurgWG7WG5k6OGaDPwAA6ICRbhcAAACdcObElEAZAAA6TAczAAAAAAAtETADAAAAANASATMAAAAAAC0RMAMAAAAA0BKb/AEAAD1nYXk184srubpWy/HJiczOTNu0EQCgB+lgBgAAesrC8mouXFrK6u31HB6vZvX2ei5cWsrC8mq3SwMA4AE6mAEAGFi6YPvT/OJKqpUiE6Nb/1yZGB1JbWMz84srXj8AgB6jgxkAgIGkC7Z/XV2rZbxa2bU2Xq3k2lqtSxUBAPAwAmYAAAbSzi7Yotg6VitF5hdXul0aj3B8ciL1RnPXWr3RzLHJiS5VBADAwwiYAQAYSLpg+9fszHQazTK1jc2U5dax0SwzOzPd7dIAAHiAgBkAgIGkC7Z/nTkxlbmzJzN1cCw3641MHRzL3NmT5i8DAPQgm/wBANAx3dxkb3ZmOhcuLaW2sZnxaiX1RlMXbB85c2JKoAwA0Ad0MAMA0BHd3mRPFywAAHSeDmYAADpi5yZ7STIxOpLaxmbmF1f2LeTVBQsAAJ2lgxkAgI6wyR4AAAw+ATMAAB1hkz0AABh8AmYAADpidmY6jWaZ2sZmynLraJO99ltYXs2rb76bz3/pa3n1zXf3bcY1AAAkZjADANAhZ05MZS5bs5ivrdVybHIiszPTD52JvLC8mvnFlVxdq+X4I859XJ24Zi+5t5FitVLs2khxLhmoxwkAQO8qyrLsdg095dSpU+WVK1e6XQYAwFDZGZSOVyupN5ppNMvMnT3ZclDaiWv2mlfffDert9fvb6SYJLWNzUwdHMvbr7/UxcoAABhAxV6LOpgBAOi6+cWVVCvF/aB0YnQktY3NzC+utBwGP+yaX/rK8sB0NV9dq+XweHXXmo0Uu2vQu+YBAB4kYAYAoOueJCh93ABvr2tuNu/mD96v5c8+P9ETIyWeNow8PjnxkQ5mGyl2j5ElAMAwsskfAABdd3xyIvVGc9faXkHpvQBv9fb6rgBvr43t9rrmH9+6c7+ruSi2jtVKkfnFlfY/qEd4ksfyMDZS7C07u+a7/f4CANgvAmYAALrucYPSJwnw9rzm3bv55MFndp3XrZES7Qgjz5yYytzZk5k6OJab9UamDo71zIzpheXVvPrmu/n8l76WV99894mC8351da2W8Wpl15qRJQDAoDMiAwCArjtzYipz2Qpdr63Vcuwh4yKeZJTGXtesHijSuLt7k+tujZRo1/zkMyemeiJQ3mlYR0UYWQIADCMBMwAAPeFxgtInDfAevOa94LO2sZnxaiX1RrNrIyUGOYzsxKaN/WB2Zrpn3l8AAPvFiAwAADqm3WMSnnbmcC+NlBjk+cnDOiqil95fAAD7pSjL8tFnDZFTp06VV65c6XYZAAB9b+eYhJ3dnE8buC0srz5ylEa/GKTHstOrb777ke7s2sZmpg6O5e3XX+piZQAAPIViz0UB824CZgCA9hAyDq9OfbgAAEBX7Rkwm8EMAEBHtGsTO/rP427a2An3usKvrtVyfIC6wgEAepWAGQCAljwqyBvkTex4tMfZtLHddnZOHx6vZvX2ei5cWsrcdj0AALSfTf4AAHhi94K81dvru4K8nZv4DfImdv2m3Zst9qr5xZVUK0UmRkdSFFvHaqXI/OJKt0sDABhYAmYAAJ7Y4wR5Z05MZe7syUwdHMvNeiNTB8fM4O2Cx/kwYFBcXatlvFrZtWYsCwBAZxmRAQDAE3vc+crdGJPAbjs/DEiSidGR1DY2M7+4MnCvzbCPZTF/GgDoBh3MAAA8seOTE6k3mrvWhinI6yfD1NU7zGNZhqlTHQDoLQJmAACe2DAHef1mmD4MGOaxLOZPAwDdYkQGAABP7MyJqcxlK9S6tlbLMT+O37NmZ6Zz4dJSahubGa9WUm80B/rDgH4dy/K04y0ed2wNAEC7CZgBAGhJvwZ5w6bVDwPM890/98ZbVCvFrvEWc8ljP+fDPn8aAOgeATMAAAy4J/0woB2BJ4+vHRsxDlunOgDQO8xgBgAAdjHPd3+1YyPGYZ4/DQB0V1c7mIui+NUk/3GS1bIsP7O99gNJ/lmSP5vkD5L8jbIs14qiKJL8UpIfS1JLcq4sy9/dvs0Xk/zc9mX/UVmWv7a9/peTXEwynuQ3k/y9sizLfXlwAADQp8zz3V/tGm9hbA0A0A3d7mC+mOSVB9Z+Nsm/Lsvy00n+9fbvk+SvJfn09q/Xk/zj5H4g/fNJPpfkryT5+aIoJrdv84+T/Gc7bvfgfQEAAA84PjmReqO5a808386ZnZlOo1mmtrGZstw6Gm8BAPSLrgbMZVkuJvneA8s/nuTXtr/+tSQ/sWP9n5Zb3k1yuCiKP53kC0l+qyzL75VluZbkt5K8sv1nh8qyfHe7a/mf7rgWAADwEALP/WW8BQDQz3pxk79PlmX5h9tf/1GST25/fTTJ1R3nXdte+7j1a3usf0RRFK9nqys6L7744lOWDwAA/e3MianMZWsW87W1Wo5NTmR2Zlrg2UHGWwAA/aoXA+b7yrIsi6Lo+MzksizfTPJmkpw6dcqMZgCAAbWwvJr5xZVcXavleBtC03Zfr5cIPAEAeBzdnsG8lz/eHm+R7ePq9vr1JMd3nHdse+3j1o/tsQ4AwBBaWF7NhUtLWb29nsPj1azeXs+FS0tZWF599I334XoAANCPejFgvpTki9tffzHJb+xY/+liy0tJbm6P0ngnyctFUUxub+73cpJ3tv/sVlEULxVFUST56R3XAgBgyMwvrqRaKTIxOpKi2DpWK0XmF1d64noAANCPujoioyiKt5OcSfJCURTXkvx8kl9M8s+LongtyXeS/I3t038zyY8l+XaSWpL/NEnKsvxeURS/kOR3ts+bK8vy3saBfyvJxSTjSf7l9i8AAIbQ1bVaDo9Xd62NVyu5tlbrievRXoM8vgQAoJd0NWAuy/LVh/zRX93j3DLJ337IdX41ya/usX4lyWeepkYAAAbD8cmJrN5ez8To9/8XuN5o5tjkRE9cj/a5N76kWil2jS+ZS4TMAABt1osjMgAAoO1mZ6bTaJapbWymLLeOjWaZ2Znpnrge7WN8CQDA/hEwAwAwFM6cmMrc2ZOZOjiWm/VGpg6OZe7syZY7Wtt9Pdrn6lot49XKrjXjSwAAOqOrIzIAAGA/nTkx1dYAuN3Xoz2MLwEA2D8CZgAAoCe0a2O+2ZnpXLi0lNrGZsarldQbza6ML7HRIAAwDIzIAAAAuu7exnyrt9d3bcy3sLz6xNfqhfEl7Xw8AAC9rCjLsts19JRTp06VV65c6XYZAAAwVF59892PjLWobWxm6uBY3n79pS5W1pq9Hs+N2+upbTRzaLyqoxkA6EfFXos6mAEAgK4btI35Hnw8t+qNvP/hRj7c2NTRDAAMFAEzAADQdccnJ1JvNHet9fPGfA8+nvc+uJMkGRuppCiKTIyOpFopMr+40q0SAQDaQsAMAAB03ezMdBrNMrWNzZTl1rEbG/O1y4OP587m3aRMjhx85v45/dyhDa1YWF7Nq2++m89/6Wt59c13dfADDAgBMwAA0HW9sDFfOz34eCZGK3nh4GgOjlXvn9PPHdrwpGx8CTC4Rh59CgAAQOedOTHVt4HyXnY+nnvhWm1jM+PVSuqNZl93aMOTml9cSbVS3N/4cmJ0JLWNzcwvrgzU9z3AMNLBDAAA0GGD1qENT2rQNvIE4Pt0MAMAAOyDQevQhidxfHIiq7fX73cwJ8bEAAwKHcwAAABARw3aRp4AfJ+AGQAAAOgoY2IABpcRGQAAwNBYWF7N/OJKrq7VcnxyIrMz0wIu2CfGxAAMJh3MAADAUFhYXs2FS0tZvb2ew+PVrN5ez4VLS1lYXu12aQAAfUvADAAADIX5xZVUK0UmRkdSFFvHaqXI/OJKt0sDAOhbAmYAAGAoXF2rZbxa2bU2Xq3k2lqtSxUBAPQ/M5gBAIChcHxyIqu31zMx+v1/BtUbzRybnDCbGQCgRTqYAQCAoTA7M51Gs0xtYzNluXVsNMv8+9M/YDYzAECLBMwAAMC+WlhezatvvpvPf+lrefXNd/ctyD1zYipzZ09m6uBYbtYbmTo4lrmzJ/N/rnzPbGYAgBYZkQEAAOybheXVXLi0lGql2NUtPJfsy0iKMyemPnI/P/cb38zh8equtU7OZjaOAwAYJDqYAQCAfTO/uNJz3cLHJydSbzR3rd2bzdxu9wL2bozj6FbnOAAw2ATMAADAvrm6Vst4tbJrrZPdwo/jYbOZZ2em235f3QrYuxlsAwCDzYgMAABg3xyfnMjq7fVMjH7/nyKd6hZ+XGdOTGUuW+HvtbVajnVwbMXVtdq+juO4Z2ewnSQToyOpbWxmfnHFeI7HZLQJAOxNwAwAAOyb2ZnpXLi0lNrGZsarldQbzY51Cz+JvWYzd0K3AvZuBduDotuzwwGglxmRAQAA7JszJ6Yyd/Zkpg6O5Wa9kamDY5k7e3JoQrq9xnHcrDfyJ7WNjs5G3s8504OoF2eHA0Cv0MEMAADsq/3qFu5FD47jeHa0kiLJRvNuRztje7VzvF/oAAeAhxMwAwAA7KOdAfurb76bxt2yo7OR780Orm1sZmPzbkYrRT79yUNmCD+BXpwdDgC9wogMAACALrm6Vst4tbJrrZ2dsfdmB6/eXs+fOjSWIwefycQzVeHyE9prtIkOcADYooMZAACgS560M/ZeN/LVtVqOT07sGRTvPOdWvZGJ0Uo+MT6WpDMd0sPgwdEmxx7y3APAMBIwAwAAdMmTzEa+141crRQPndf84Dl/eLOeeqOZZ0YqObQ9Q9js4NYM8+xwAPg4RmQAAAB0yZkTU5k7ezJTB8dys97I1MGxzJ09uWeQOb+4kmqlyMToSIpi61itFJlfXHnoOWMjW+M33vvgzv1zzA4GANpJBzMAAEAX7dUZu9cojKtrtRze7kK+58Fu5AfPOXLwmVxfq+fO5t2UZfmxHdIAAK0QMAMAAPSQh43COPjMSOqN5sfOa35wpvPBsWpeONjMh3eauVlvmB0MALSdgBkAAKCH7BxzkXx/Y76yLNNolh87r3mvmc7VSiW//FP/nlAZAOgIM5gBAAB6yNW1WsarlV1r49VKPtxoPnJe85PMdAYAaAcdzAAAAD3kwTEXyfdHYew1r/lBj3MOAEC76GAGAADoIbMz0/dHYZTl1tHGfABArxIwAwAA9BBjLgCAfmJEBgAAQI8x5gIA6Bc6mAEAAAAAaIkOZgAAgB6zsLya+cWVXF2r5fjkRGZnpjvS0bxf9zNoPG8A8H06mAEAAHrIwvJqLlxayurt9Rwer2b19nouXFrKwvJqX97PoPG8AcBuAmYAYOgtLK/m1Tffzee/9LW8+ua7QgKgq+YXV1KtFJkYHUlRbB2rlSLziyt9eT+DxvMGALsJmAGAoaYTDeg1V9dqGa9Wdq2NVyu5tlbry/sZNJ43ANhNwAwADDWdaECvOT45kXqjuWut3mjm2OREX97PoPG8AcBuAmYAYKjpRAN6zezMdBrNMrWNzZTl1rHRLDM7M92X99MtnRp/NOjPGwA8KQEzADDUdKIBvebMianMnT2ZqYNjuVlvZOrgWObOnsyZE1N9eT/d0MnxR4P8vAFAK4qyLLtdQ085depUeeXKlW6XAQDsk3shRLVSZLxaSb3RTKNZCgtgACwsr2Z+cSVX12o5PjmR2Zlp39dD4tU3383q7fVMjI7cX6ttbGbq4Fjefv2lLlYGAH2t2GtRBzMAMNR0osFgsoHncDP+CAD2z8ijTwEAGGxnTkwJlGHA7NzAM0kmRkdS29jM/OKK7/chcHxy4iMdzMYfAUBn6GAGAAAGjg7W4WYjPgDYPzqYAQCAgaODdbidOTGVuWx1sl9bq+VYH87gNkMcgH5hk78H2OQPAAD6nw08B8OwhqzevwD0KJv8AQAAw8EGnv1vmDdq3DlDvCi2jtVKkfnFlW6XBgAfYUQGAAAwkGzg2d+GeaPGq2u1HB6v7lpr5wzxYe0MB6AzBMwAAAD0nE6HrL3sYTPEnx2t5NU3332qYHjn+I2dneFziZAZgJYYkQEAAEDPOT45kXqjuWtt0DdqXFhezatvvpvfW72da2v13Li9nrIsU9vYzM16I+9/uPHUI0OM3wCg3XQwAwAA0DGPGsfwy//qW/mV3/79fLix1aH7Nz//g/m7P/rDmZ2ZzoVLS6ltbO7a6G52ZrqLj6ZzdnYW/6lDY6lW7uR7Hzay2bybT3/yUEYrB7LRvPvUI0OGuTMcgM7QwQwAAEBHPGqjvl/+V9/KL33t26k3mhk5sNWh/Etf+3Z++V99a+g2anyws/iF58ZybHI8n/7kobz9+ku5fWcraN+plWB4GDvDAegsHcwAAAB0xKM26vuV3/79HCiSkQNbvU8HimTz7t38ym//fv7uj/7wUG3U+KjO4ofNZZG8t3sAACAASURBVH5UMLywvJpf/Jf/b37//a3rHHluNHc2796//qB3hgPQeTqYAQAA6Iira7WP7br9cKOZA8Xu2xwottaHzaM6i2dnptNobs1jvjeX+VHB8MLyav6Lf/Hv8u0bH6Ysy5RlmT+6dSd3Gs2MVg4MRWc4AJ2ngxkAAICOeFTX7bOjWx20O0Pmu+XW+rB51MzpMyemMpetrvBra7Uc22Oe9YPmF1fywZ3NVIoiB7af5KIss9Esc3hiNP/y78/sx0MDYMAJmAEAAOiIR4Wmf/PzP5hf+tq3s3n3bg4UW+Hy3XJrfdg8ToD8pCNDrq7V0rxbplJ8P8EvimSzedemfgC0jYAZAACAjnhUaPp3f/SHkyS/8tu/nw83mnl2tJK/+fkfvL8+bNo9c/r45ETe++BOyrtbwXKSlOXWzGub+gHQLkVZlt2uoaecOnWqvHLlSrfLAAAA4DEsLK9mfnElV9dqOf4YYyOGyb0ZzH9Sa9wfQ3K3TCYnqvnv/vpf8DwB8KSKvRZt8gcAAEBfWlhezYVLS1m9vZ7D49Ws3l7PhUtLWVhe7XZpPeHMian893/9L+TPHXk2RVGkKIp8euo54TIAbWVEBgAAAH1pfnEl1UpxfxPBidGR1DY2M7+4IkDd1u6xGwDwIAEzAABDy4/WQ3+7ulbL4fHqrrXxasUGdn3E38MA/c+IDAAAhpIfrYf+d3xyIvVGc9davdG0gV2f8PcwwGAQMAMAMJR2/mh9UWwdq5Ui84sr3S4NeEyzM9NpNMvUNjZTllvHRrPM7Mx0t0vjMfh7GGAwCJgBABhKV9dqGa9Wdq350XroL2dOTGXu7MlMHRzLzXojUwfHMnf2pBELfcLfwwCDwQxmAACG0vHJiazeXr+/OVjiR+uhH9nErn/5exhgMOhgBgBgKPnReoDu8vcwwGDQwQwAwFA6c2Iqc9maAXptrZZjkxOZnZnWCQkMhYXl1cwvruTqWi3Hu/T3n7+HAQZDUZZlt2voKadOnSqvXLnS7TIAAACgIxaWV3Ph0lKqlSLj1UrqjWYazdL8agAepdhr0YgMAAAAGCLziyupVopMjI6kKLaO1UqR+cWVbpcGQB8yIgMAAAA+Ri+Mk2hnTVfXajk8Xt21Nl6t5NparROlAjDgdDADAAAMqIXl1bz65rv5/Je+llfffDcLy6vdLqnv3BsnsXp7PYfHq1m9vZ4Ll5a6+lw+bU3HJydSbzR3rdUbzRybnOhEuQAMOAEzAADAAOrFYLQf9eI4iaetaXZmOo1mmdrGZspy69holpmdme5w5QAMIiMyAACAjujFsQLDZGcImSQToyOpbWxmfnHF6/AEenGcxNPWdObEVOay9R65tlbLMd+fADwFATMAANB297pnq5ViV/fsXCLE2ie9GIx2w9N+0HF8ciKrt9fvB/VJ98dJtKOmMyem2va92Opz7EMogMFgRAYAANB2vThWYNiYs9ueMSG9OE6il2pq9Tk2wgVgcAiYAQCAtru6Vst4tbJrbRi7Z7upl0LIbmnHBx1nTkxl7uzJTB0cy816I1MHxzJ39mRXO217qaZWn2MfQgEMDiMyAACAtuvFsQLDZtDn7F6+djkXly7m+gfXc/S5ozl38lxOHzu965x2jQnZOU5i637/YX5x6eH3ux/aOeLiabT6HBvhAjA4dDADAABtp3u2N5w5MZW3X38pl3/mR/L26y/1RCDZDpevXc4bX38jN+o3cmj0UG7Ub+SNr7+Ry9cu7zqv3WNCHvd+h0mrz7ERLgCDQ8AMAAC0XS/9CD+D5+LSxVQr1YyPjKcoioyPjKdaqebi0sVd57X7g47Hvd9h0upz7EMogMHRsyMyiqL4gyS3kzSTbJZleaooih9I8s+S/Nkkf5Dkb5RluVYURZHkl5L8WJJaknNlWf7u9nW+mOTnti/7j8qy/LX9fBwAADCseuVH+Bk81z+4nkOjh3atjVXGcv2D6x8599nRSlbe+zBJ8oPPT+S//o/+fMvvyye532HR6iiWQR/hAjBMejZg3vYflGX53o7f/2ySf12W5S8WRfGz27//mSR/Lcmnt399Lsk/TvK57UD655OcSlIm+bdFUVwqy3JtPx8EAAAA7XP0uaO5Ub+R8ZHx+2vrzfUcfe7o/d8vLK/mwqWlVCtFPj31XOqNZmqNux2/32HU6odJPoQCGAy9HjA/6MeTnNn++teSLGQrYP7xJP+0LMsyybtFURwuiuJPb5/7W2VZfi9JiqL4rSSvJHl7f8sGoN9855vv5Rtf/W5uvb+eQ8+P5bMvv5hPfeaFbpcF7APf/73pcTZ06zcLy6uZX1zJ1bVajuvefCLnTp7LG19/I8lWB/F6cz2NZiPnTp67f8784kqqleL+RpMToyOpbWxmfnGl5ef5ce4XAIZNL89gLpN8tSiKf1sUxevba58sy/IPt7/+oySf3P76aJKrO257bXvtYeu7FEXxelEUV4qiuHLjxo12PgYA+tB3vvleFr/8rXx4cyPPTIzkw5sbWfzyt/Kdb7736BsDfc33f28axI3V7nXXrt5ez+HxalZvr+fCpaUsLK92u7S+cPrY6Zz/3PkcGT+SWxu3cmT8SM5/7vyuDx2urtUyXq3sut14tZJra7WO3u+gW1hezatvvpvPf+lrefXNd71nAejpDubPl2V5vSiKqSS/VRTF8s4/LMuyLIqibMcdlWX5ZpI3k+TUqVNtuSYA/esbX/1uDlQOpPrM1j9Kq89U0rizta6LEQab7//etHNjtST3jxeXLvZtsNeJ7tphc/rY6Y99/Y9PTmT19vr95zhJ6o1mjk1OdPR+B9nOsSM7PxiZS7xvAYZYz3Ywl2V5ffu4muR/TfJXkvzx9uiLbB/vfVR6PcnxHTc/tr32sHUAeKhb769nZHT3fyJHRg/k1vvrXaoI2C++/3vT9Q+uZ6wytmut3zdW60R3LbvNzkyn0SxT29hMWW4dG80yszPT3S6tb+38YKQoto7VSpH5xZV9q+Hytct57Z3X8sqvv5LX3nmtr3+SAWBQ9GTAXBTFs0VRHLz3dZKXk3wzyaUkX9w+7YtJfmP760tJfrrY8lKSm9ujNN5J8nJRFJNFUUxuX+edfXwoAPShQ8+PZXNj9yZAmxt3c+j5sYfcAhgUvv9709Hnjma9uTvk7/eN1Y5PTqTeaO5aa0d37TB62MiGMyemMnf2ZKYOjuVmvZGpg2OZO3tyYDtt9yN47fYHI4M4LgdgEPRkwJyt2cq/XRTFv0vyb5L872VZfiXJLyb5D4ui+L0kP7r9+yT5zSQrSb6d5J8k+VtJsr253y8k+Z3tX3P3NvwDgIf57Msv5m7zbhp3minLMo07zdxt3s1nX36x26UBHeb7vzedO3kujWYj9c16yrJMfbPe9xur6a5tj0fNsj5zYipvv/5SLv/Mj+Tt118a6HB5P4LXbn8wsnNcTlEUGR8ZT7VSzcWli/ty/wDsrShLI4d3OnXqVHnlypVulwFAl33nm+/lG1/9bm69v55Dz4/lsy+/aP4qDAnf/73p8rXLubh0Mdc/uJ6jzx3NuZPn+n4O7sLyauYXV3JtrZZjkxOZnZke2AC0U159892PzFmubWxm6uBY3n79pS5W9v3X9+paLcc7/Pq+9s5ruVG/cX8+eZLUN+s5Mn4kb33hrSe+3sNq3zmDebxaSb3RTKNZ7ltn+Cu//koOjR5KURT318qyzK2NW/nKT36l4/cPQIq9Fnt5kz8A6JpPfeYFgRIMKd//vWkQN1Y7c2JKoPyUrq7Vcni8umutF2ZZ7/dmeNc/uJ5Do4d2rbU6p/xRtc8lXftg5OhzRz8SpPf7uJxeNogf7AGd0asjMgAAAOBjdXtkw8Ps92Z47ZxT/qjauzl2ZBDH5fQq866BJyFgBgAAoC/16izr/d4Mr53B6+PW3q5NBZ/kOqePnc75z53PkfEjubVxK0fGj+T8587n9LHT+7LJ4TAx7xp4EkZkAAAA0Je6PbLhYY5PTnxkNnQnO6tPHzud8znflnEGj1P7ve7WaqW6q7v1fM4/0X22cp29xuW0q54HrznM4yHaOXYFGHwCZgAAAPpWL86ynp2ZzoVLS6ltbO7aDK+TndXtmlP+OLXv7G5Ncv94ceniE9XQa9e5Fyp/e+3b+WDzg0w+M5kfGPuBtgTW/ca8a+BJGJEBAAAAbXTmxFTmzp7M1MGx3Kw3MnVwLHNnT/ZcEL6Xx6n9+gfXM1YZ23W7Vrpbe+k6O2cOrzfXc7e8m++tfy8fNj4cyvEQ5l0DT0IHMwAAALRZL3ZWP65H1d6u7tZeus7OLujG3UYqqaQsyrxXfy/PjT43dOMh2jl2BRh8OpgBAACAx9au7tZeus7OLujqgWrKlDmQA2ncbSQZzvEQp4+dzltfeCtf+cmv5K0vvCVcBh5KwAwAAAA8ttPHTuf8587nyPiR3Nq4lSPjR3L+c08+n7iXrnP0uaNZb64nSZ4fez5lymyWmxkpRoyHAHiEoizLbtfQU06dOlVeuXKl22UAAAAA++TeDOZqpZqxyli+t/69/MmdP8lz1efyQ4d/yHgIgC3FXotmMAMAAABD7cGZw5869Kn8/MmfFyoDPAYBMwAAADD0Th87LVAGaIEZzAAAAAAAtETADAAAAABASwTMAAAAAAC0RMAMAAAAAEBLBMwAAAAAALREwAwAAAAAQEsEzAAAAAAAtETADAAAAABASwTMAAAAAAC0ZKTbBQAAAAD0u8vXLufi0sVc/+B6jj53NOdOnsvpY6e7XRZAx+lgBgAAAHgKl69dzhtffyM36jdyaPRQbtRv5I2vv5HL1y53uzSAjhMwAwAAADyFi0sXU61UMz4ynqIoMj4ynmqlmotLF7tdGkDHCZgBAAAAnsL1D65nrDK2a22sMpbrH1zvUkUA+0fADAAAAPAUjj53NOvN9V1r6831HH3uaJcqAtg/AmYAAACAp3Du5Lk0mo3UN+spyzL1zXoazUbOnTzX7dIAOk7ADAAAAPAUTh87nfOfO58j40dya+NWjowfyfnPnc/pY6e7XRpAx410uwAAAACAfnf62GmBMjCUdDADAAAAANASATMAAAAAAC0xIgMAAABgQFy+djkXly7m+gfXc/S5ozl38pzRHUBHCZgBAABgCAkie9+TvkaXr13OG19/I9VKNYdGD+VG/Ube+PobOZ/h3XDQ+xw6z4gMAAAAGDL3gsgb9Ru7gsjL1y53uzS2tfIaXVy6mGqlmvGR8RRFkfGR8VQr1Vxcurh/hfcQ73PYHwJmAAAAGDKCyN7Xymt0/YPrGauM7Vobq4zl+gfXO1xtb/I+h/0hYAYAAIAhI4jsfa28RkefO5r15vqutfXmeo4+d7QjNfY673PYH2YwAwAwEL7zzffyja9+N7feX8+h58fy2ZdfzKc+80K3ywLoSUefO5ob9RsZHxm/v9bPQeQgztlt5TU6d/Jc3vj6G0m2gtT15noazUbOnTzX6XJ70qC9z6FX6WAGAKDvfeeb72Xxy9/Khzc38szESD68uZHFL38r3/nme90uDaAnnTt5Lo1mI/XNesqyTH2z3rdB5KDO2W3lNTp97HTOf+58jowfya2NWzkyfiTnP9cbG/xdvnY5r73zWl759Vfy2juv7cvrM0jvc+hlRVmW3a6hp5w6daq8cuVKt8sAAOAJ/G//4+/mw5sbqT5Tub/WuNPMs58YzU/8g7/UxcoAetegdP2+9s5rH+lSrW/Wc2T8SN76wltdrOzpDcprdO9DgGqluquzej/C70F5DqFHFHstGpEBAEDfu/X+ep6Z2P2/tiOjB3Lr/fWH3AL2j/Et9KrTx04PRNB2/YPrOTR6aNfaoMzZ7eZr1M5gdudme0nuHy8uXez44xuU9zn0MiMyAADoe4eeH8vmxt1da5sbd3Po+bGH3AL2h/Et0Hk2tmu/do8dsdkeDDYBMwAAfe+zL7+Yu827adxppizLNO40c7d5N599+cVul8aQ+8ZXv5sDlQOpPlNJURSpPlPJgcqBfOOr3+12aTAwzNltv50dx0VRZHxkPNVKNReXLrZ0PR8CwGATMAMA0Pc+9ZkXMvNTP5xnPzGaO7XNPPuJ0cz81A8bQ0DX3Xp/PSOju//ZZXwLtFcvb2zXr9rdcexDABhsZjADADAQPvWZFwTK9JxDz499ZANK41ug/czZba+jzx39yMaJT9NxfPrY6ZzPeZvtwYASMAMAAHTIZ19+MYtf/lYad7Y6lzc37hrfAvS8cyfP5Y2vv5Fkq3N5vbn+1B3HPgSAwWVEBgAAQIcY3wL0I2NHgCdRlGXZ7Rp6yqlTp8orV650uwwAAAAAOuzytctGd8DjK/Za1MEMAAAA++jytct57Z3X8sqvv5LX3nktl69d7nZJMJQuX7ucN77+Rm7Ub+TQ6KHcqN/IG19/w/ckPCEdzA/QwQwAAECn3Au0qpXqrtm2xg9A5z3Yrfwnd/4kjbuNXZsZ1jfrOTJ+JG994a0uVgo9a88OZpv8AQAAwD65uHQx1Ur1fqB173hx6aKAGZ7Co0Zd7Pxw51638ndvfTd/5tk/sysdG6uM5foH17vwCKB/CZgBAABgn1z/4HoOjR7atSbQohOGabbwXuHxG19/I+fz/Z8M2OvDneqBalbrqzn4zMH711pvrufoc0c7WuuwvC4MDzOYAQAAYJ8cfe5o1pvru9Y6HWgxfIZttvDO8Lgoiq3wuFLNxaWL98+5/sH1jFXGdt3uhfEXsnl3M/XNesqyTH2znkazkXMnz3WkzmF7XRgeOpgBAAC65DvffC/f+Op3c+v99Rx6fiyfffnFfOozL/TsdXl6506eyxtffyNJds1g7lSg1Wm6MXvTsI1ieZyfDDj63NHcqN/YNW+5Wqnmhz7xQzk8dnhf3sPD9rowPHQwAwAAdMF3vvleFr/8rXx4cyPPTIzkw5sbWfzyt/Kdb77Xk9elPU4fO53znzufI+NHcmvjVo6MH+nbDf50Y/auvbp1B3kUy+P8ZMC5k+fSaDY+0q389//y389bX3grX/nJr+StL7zV0e/FYXtdGB46mAEAALrgG1/9bg5UDqT6TCVJUn2mksadrfWn6Tbu1HVpn9PHTvdloPygTnZj6ox+Ont16w7yKJbH+cmA08dO53zOd/V9NWyvC8NDwAwAALAPHhxb8b0//DDPHn5m1zkjowdy6/31h1zh8dx6fz3PTOz+p147rgsP6tSGhY+zYRsfb9BGsTzK44bH3f5wZ9heF4aHERkAAAAdttfYio31Zuq3G7vO29y4m0PPjz3kKo/n0PNj2dy42/brwoM6tWHh42zYxscbpFEsj6NfOt6H7XVheOhgBgAA6LC9xlY8MzGS9Q8aqT5TycjogWxu3M3d5t189uUXn+q+Pvvyi1n88rfSuJO2Xhce1KluzE51Rg+bbnfr7pdud7w/abg9LK8Lw+WRHcxFUfznRVFM7kcxAAAAg+jW++sZGd39z6+JQ6OpjlXy7CdGc6e2mWc/MZqZn/rhp56T/KnPvJCZn/rhtl8XHtSpbsxOdUYzmB634/3ytct57Z3X8sqvv5LX3nmtLZtR2ugStjxOB/Mnk/xOURS/m+RXk7xTlmXZ2bIAAAAGx6Hnx/LhzY37HczJ1tiK5//Ms/mJf/CX2n5/n/rMCwJl9kUnujHNqeVJPE7He6e6nDu50eVe+mUUCMPnkR3MZVn+XJJPJ3krybkkv1cUxRtFUfxQh2sDYMDcXlzMd754Lt/+qz+a73zxXG4vLna7JADYF599+cXcbd5N404zZVmmcadpbMWA6UR35LAyp5Yn8Tgd752a6339g+sZq+yeb9+pcS66pellj7XJ33bH8h9t/9pMMpnkXxRF8d92sDYABsjtxcX88dwvZPPGjRz4xCeyeeNG/njuF4TMAAwFYysGm+Cn/U4fO523vvBWvvKTX8lbX3hLuMxDnTt5Lo1mI/XNesqyTH2z/pGO904Fwfs5zsXml/SyR47IKIri7yX56STvJfmVJP9lWZaNoigOJPm9JP9VZ0sEYBB8761fTTE6mgPjWz82VoyP5+72+sGZme4WBwD7wNiKwbXfPyYPfN/pY6dzPuc/dnTE0eeO5kb9xv/P3r3GtpXeaYJ/3nMjKZGULIlWucSWnHKlurPWpsuJZmo7PdL0JFnbQDfSmTEw7R2guwQrO4MA242aLIL0uuAKUIUUkA9bMBAsajNoFZSqWbR3B96uKSx2bU93b7eUFLa6VXZ12p5MHLvaciSXVbpYoi68nMu7H2jSJEWKt0PykHp+hcDIMXn48pyXlPU///O82c8m4E4huJlxLlz8kryskgzmPgD/Qkq5kLtRSukIIX6nMcMiIqJOYy4uQunpydsm/H6Yi4stGhERERGRO1j4IWqtclngbhWCi2Ugn39h/+K2WxpVJCdyQ9kCs5Tyu/v83c/cHQ4REXUqPRqFtbICEXjyDyKZSECPRls4KiIiIqL6eaXwwwXAiIqrpMu5nJILBb5wHtOnphs4+jQufkleJtLxypQxNjYm5+fnWz0MIqKOk8lgFoYB4fdDJhKQqRQGX7nAiAwiIqrZws1V3Lh2H7G1BML9fpw4OcwYCmq63MJTbuGnmQvTeWEMRNVotwsiU1en9lxIiltxRAKRphSYgfY7ZtSRRNGNLDDnY4GZiKhxtmZnsT79FszFRejRKPqmzrG4TERENVu4uYrZS7ehqAo0Q4GVcuDYDhfPo5ZodeHHC8UvolIKPx9jg2N47+57bXVB5PTl0wgbYQjxpL4mpUQsFcOVM1daOLLqtPq7itpe0QJzJRnMRERErghNTLCgTERErrlx7T4UVYHuUwEAuk+FmUxvZ4GZmq1cBmyjHcQcaBbK2kOxaIk/ufknOOQ7hLAvPWfdXhizEXPDK1E49SgZ8wH3C/v8fB4sSqsHQEREREREVIvYWgKakf8rjWYoiK0lWjQiotYZCg4hYefP/XYrflUjUyhbia/kFcrmFudaPTQqMHNrBrqqI6AFIIRAQAvAdmxspbbyHufWBZFGzY3J45PYSm7h7sZd3F6/jbsbd7GV3GqrDORi50JXdczcmnH1dfj5PHhYYCYiIiIiorYU7vfDSjl526yUg3C/v0UjOpjmFucwdXUKpy+fxtTVqboLCAs3V/HuG9fx9svv4903rmPh5qpLI+1sk8cnYdom4lYcUkrErXhHLwDWrEIZ1W9pewl+Nf972VAMpOxU3ja3Log0cm5IKSEgIISAgEC7xc4WOxeNuNOBn8+DhwVmIiIiagkWEIioXidODsOxHZhJG1JKmEkbju3gxMnhVg/twHC7Sy2Tq72zmYKvS8POZgqzl27zZ0QFxqPjOP/CeUQCEcRSMUQCEU/n2darWYUyql+x7vqwLwxVURtyQaRRc2Pm1gzC/jCe6X0Gnz30WTzT+wzC/nBbFU2bdacDP58HDwvMRERE1HQsIBCRG0ZGBzBx9jl09xhI7lro7jG4wF+Tud2llpurLYSA7lOhqApuXLvv7sA71Hh0HNOnpnHlzBVMn5puaHHZ7c71ah20SJB2Vqy7Xld0TI1ONeSCSKPmRicUTZt1pwM/nwcPF/kjIiKipuPCXETklpHRAX5vtJDbC8vF1hLwdeX/mspcbe9p5kJhpUwen8TrH7wOID3nEnaioyNB2tl4dBzncb5pC741am50wiJ/zToX/HwePCwwExERUdOxgEBE1BncLriE+/3Y2UxlL0ACzNX2otzOdQDZP2duzTStwNzsoiXVZzw63vZzo1OKps04F/x8HjwsMBMREVHTsYBQuYWbq7hx7T5iawmE+/04cXKY3ZpE5BluF1xOnBzG7KXbMJPpC49WymGutge53bleq2YWLam9NGJusGhaHX4+DxbRbiteNtrY2Jicn59v9TCIiIg6WiaDWVGVvAICs1Pz8ThRo/DCBblpbnHO1YIL56f3TV2d2tO5HrfiiAQimD413cKREVEzuf39T21BFN3IAnM+FpiJiIiagwWE8t594/qeTm8zaaO7x8DXv/WFFo6M2hkvXBBRvXIzmHM7191apI2IvI/fAwdW0QIzIzKIiIioJbgwV3nMqqZG4CKbRFQvRgVQK7Bb1lu8kMVO3sECMxEREZFHMaua9lPrXQC8cEFEbmC+KjVTbrds2AhjJb6C1z94HefBbtlW8UoWO3mD0uoBEBEREVFxJ04Ow7EdmEkbUkqYSZuLXRGAJzEXO5sp+Lo07GymMHvpNhZurpZ9brjfDyvl5G3jhQsiIvKy3G5ZIQQCWgC6qmPm1kyrh3ZgDQWHkLDzL04n7ASGgkMtGhG1EgvMRERERB41MjqAibPPobvHQHLXQnePwZxcApAfcyGEgO5ToagKbly7X/a5vHBBREReMrc4h6mrUzh9+TSmrk5hbnFuz2OWtpfgV/MvhLJbtrUmj0/CtE3ErTiklIhbcZi2icnjkxXvo5JzT+2BERlEREREHsasaiqmnpiL9IULcJFNIiJquUqjL4aCQ1iJr2RzfgF2y7ZaNVnsxfKzATQ19uTNj97EOz97B7vmLrr0Lvz+534f33z+m66/zkHFAjMRERERUZupN5+bFy6I9sfFxIiao9KF4iaPT+L1D14HkO5cTtiJqrtlG8mt74xmfve48VqVZLEXu4hw4ccXsGvvwrRNGKqBfn8/Qr4QgMYsEvjmR2/ihz/9IYQQ0ISGuBXHD3/6QwBgkdkljMggIiIiImozjLkgapxMMWQlvpLXVcdbt4ncV2n0xXh0HOdfOI9IIIJYKoZIIILzL3hjgT+3vjPc3E+52Ilmfs8V5mdbtoXN1CbiVhyqUGE5Fh7uPsRWcqthsSfv/OwdSCnhOA6SThKO40BKiXd+9o7rr3VQsYOZiIiIiKjNMOaCqHEq7agkovpVE31RSbdsRjM7gd36znBjP5VGjjTze25pewlhI5z9/2uJNShCgZACUkgoUOBIB2uJNWiq1pDYk+3UNiRk9v87JeIXzQAAIABJREFUcLLbyR0sMBMRERERtSHGXHjHws1VFvs7SGExBOBiYu2C0SbtpxHRF5UWWd3i1nfGnUd30u/fMaErOvr9/QgawT372W+elyocX/zwYt5z7jy6g8HuwbrHXInCiwimYwIADNWAIx04woGAQMpONSz2RBEKbGlDQGS3SUgoorJgB363lMeIDCIiIiIiohot3FzF7KXb2NlMwdelYWczhdlLt7Fwc7XVQ6MaDQWHkLDzF8zkYmLex2iT9tSI6IvCSIaAFoCu6pi5NePewHO48Z0xtziHbWsbKScFBUo2NmI9sZ63n3LzvFjkiGmbuLt5N+8529Y21hPrJcdcScxGpSaPT8K0TcStOKSUUIUKRzoY7BrEke4j0IQGS1oI6IGGxZ7oQgeQLipn/gPSRW4vxYm0M3YwExERERER1ejGtftQVCW74KLuU2Em09vZxdyevL6YGBXXCdEmB7VLsproi0o0+y6EWr4zCs/1RnIDh3yHsJ5Yz8ZGWNLCRnID3z3+3ezzys3zYpEjq/FVaIqW95xDvkPYSG6gS+/aM+bcDnAFCv5u5e/wh3/5hzjWcwwvffGlmhYCPI/z2fc7HBrGemIdqqLCr/qhKipM23S1uJx7fLu1bliw0lEcj6MxMhJWAguxBfT5+zwRJ9LO2MFMRERERERUo9haApqR/2uVZiiIrSVKPIO8zsuLiVFplS4W51XsknRPs+9CqPY7o9i5vrtxF4ZiZDt6bWlDFzqCejBvP+XmeWG3cNyKw3RMHA4czntOn78PQT1YdMyZgqrt2Hi4+xAS6a7j+1v3XZmTvf5e/Mtf/ZcN+44tPL73t+7Dduw9xWUAEBBYT6xjO7VdstO93b9bmoUdzEREREREHseMX+8K9/uxs5nKdjADgJVyEO737/Ms8jq3Oyqp8apZLM6L2CXpnlbchVDNd0axc60rOj6Nf4pjvccQNIIAgLgVRyQQyXtuuXle2C3crXfDUA082HkAX8KHgcAAgkYQCTuBY73HMH1qes/4Mh3gCzsLEEJAgQIJmS56Py7AVjMni2Viv3f3Pdcv3GW6lj/69CMoQkEkEIHQBEzHhISEgMhb6A94kgO9llhDyBcqWjhu9++WZun4DmYhxGkhxM+FEHeEEH/c6vEQEREREQHpovG7b1zH2y+/j3ffuF4ys5cZv9524uQwHNuBmbQhpYSZtOHYDk6cHG710IgOlKKdm20UbcIuSfd4/S6EYud6IDAAy7HKzt9K5vl4dBzTp6bx8gsvY9fcRdgIQxEKUk4KD7YfYC2+tu9nI9MBbjomlMdlQwkJXdFrmpNuZGKXy4TO7Vp2pANHOni4+xBbya28orJ4/F+Gg/QCg5mFB4sVjtv9u6VZOrqDWQihAvhfAPy3ABYB/K0Q4j0p5X9u7ciIiIiI6CDLFI0VVckrGk+cxZ7OZC9l/LKTeq+R0QFMnAWPC1GLFXZutluGcau6JDs199nLdyEUO9e6quNYzzH0+nv3PRf7zfM9uc6JjXTXsC8MQzGwllhDyk5h19rF98e/X/L4ZDrAFaHAlna287ff31/TnKw1Ezvzfu5u3MW2uY1eX2/JrOTcIrahGrCkBSEF1hJrKGhazhacBQSklHDgwFCMkoXjdv9uaZaOLjAD+McA7kgpPwYAIcQlAL8LgAVmIiIiImqZaorGsbUEfF35/2xvRcZvNUXxg2ZkdODAHwNyV6cW/RqtUUXFZlxca0WsQ7HogmKLnFWyH87XypU6199+4dv7Hre5xTlc/PAi7m3dAyRwtOdoXnG58Fzej93Hke4jCGgBhHwhhHwhSCkRS8X2fZ1MQfXi9Yu4u3EXuqJjIDAATdXy5mThQnoQwI65s2cO1HLxJPN+TMdML3wIieXdZSzvLqNL60LICOVFdWSK2NupbdjSRspOAUA21sO0TeiqDsux4Mh017JP9SHsC+NR8hH8qh+RQARjg2OYuTWD733wvbz34eULFl7R6REZQwB+mfP/Fx9vyyOE+NdCiHkhxPzKykrTBkdEREREB1M1C8OF+/2wUvkL07Qi4ze3KC6EgO5ToagKbly739RxEHU6LvbmLc2MKerSu7C0tYS7m3ehC73hsQ7VRhcUiyk4KPP1zY/exJf+9Et4/u3n8aU//RLe/OjNmvdVS4TH3OIcLvz4Aj7e/BiQ6S7cuxt38cpPXskWegvPpaZoWI3nz9NKO5DHo+O4/LXL+MGXf4DPRz4PCZk3ztzzLiDw8ebHuLtxFwqUPXOgloiJmVszMB0TK/GVPbnJSTuJtfga7m7czW4bCg5hPbGOT3Y+ycZ5AOkCc7+/H4d8h/B08Gk8d+g5HO46DF3V0aV3YSQ8gou/dRF/ffavMXl8Eu/dfa/j53KjdHoHc0WklP8OwL8DgLGxMVnm4UREREREdalmYbgTJ4cxe+k2zGS6CG2lnJZk/Hqlk5oOtoPQKcnF3rylGTFFud2nx3qPIWEnsGvturLv/VQTXVCq27lL6+r4+frmR2/ihz/9IYQQ0ISGuBXHD3/6QwDAN5//Zk37rLYjdubWDHasHShCgSLSF6iFENgyt7LfiYXn8nDgMB7sPEDcitfcFV9qnLnfU8s7y+kxCWAtsYajPUezj8k8v9qIiaXtJazF1+BIZ8/f2dKGpmhIOanstsnjk/ij//ePYDlW+thAQBUqBgIDiIaimDw+mX39kfAIvnv8u3ten9+99en0AvMSgF/J+f/Rx9uIiIiIyGMOUr5vNUVjr2T8VlMUJ2oEt27n97pa80qpMZpxca1Vha1qogtKjfHe1j0c6zmW91gvztd6Lk6987N3ssVlANCgwYKFd372Ts0F5motbS/BlnZ20T0AUKDAcqzseyo8l5qq4VjvMfT6enHn0R2Y0oShGNkO9XrmVu73VGYxwNzF8grnQDUF9bnFOcRSMVjSKvkYAQFd6HnbbOdJXjQASClhKAaWtpcqen1+99an0yMy/hbAZ4UQnxFCGADOAnivxWMiIiIiogLNvAXZC9JF4+fQ3WMguWuhu8fAxNnnShaNR0YH8PVvfQF/8L0v4evf+kJLCu8nTg7DsR2YSRtSSphJuyWd1HRwVXs7f7saCg4hYecXL+tZ7K1YrAFVzo2YonLnYGl7CX41f3/NKGxVE11QaoyQcHW+NkK9MR675i5UqHnbVKjYNRvfZZ4xFByCKtS8uAgHDlRFzRbMi53Ll77wEiaPT6JL78JAYACHuw67Ev2Q+z2lKzok0ovlZaIpKslYPvPeGXzxnS/ii//+izjzH8/kRa50aV1lx7Btbmc/TzO3ZuBTfdAVHX7VD5/qg6Zq+DT+acVz0e3v3oOmowvMUkoLwP8A4CqAnwH4P6SUt1o7KiIiIiIqdBDzfb1QNK5GtUVxIre1qgjXbLXklZZyUPJxG6nei2uVnINWFbaqyQIuNcajPUddm6+NUuri1MXrFyu6+NKld8GGnbfNho0uPb8I2siLOZPHJ9GtdcORDhzpwJY2bMdGSA9lu7FLncvc97+d2sbyzjIe7jzEd+a+U/MYc7+n+vx96TE56bzjwjlQmF/9x7N/jFd+8grubtxNF8wl8PHmx7jw4wu4eP0idFVHf6B/39d3pIPBrsHs5+nOozsYCAykC93SgZTp/VqOVfFcdPO79yASUjJyONfY2Jicn59v9TCIiIiIDpS3X34fvi4NQojsNiklkrsW/uB7X2rhyIjIK6auTu25BTxuxREJRDB9arqFI3OfW1nTB+mYNVI9EU6VnIPc+JfcrNxGL/K3n8I5ODY4hvfuvld0jAA8nY3+W//7b2HX3IUlLeiKni5ESokHOw8wHB4ue8xzM5hVqLCRvtjwbz7/b7IRGc04h3OLc7j44UXc27oHSOBoz1G89IWXyu7/9OXTCBthbKe28XD3IcTj/yxp4Uj3kZJjLPc9lPv33Vo3IIAdcyfvscWOneVYUKBAU7Vs5IcjHShCgSMdHOs9BiEEPt3+FKvJvXeyqSLdtR00ggDSn6fV+CoGAgOwbAtriTWYjglVqBgODePy716u6hh7eS57hCi2sdMzmImIiIioDTDfl4jKmTw+idc/eB0Aal6wql1UuwBYKcwUdcfI6EDNd2tUcg5qWQStkYrlnb939z187djXML88X3SMbo51vyJftQXAucU5bJvb6YXhhAZLWvhk5xMA6WiHSnKvM0Xkd372DnbNXXTpXfj9z/1+Xv5ypTna9RQwa/1eyOQzryXWICDShVw48Cm+bMxQ4X6rzbzv9fcWfS+Z/GohBUxpwkE6bsaBk5cnLSBgSxtCCCTsBAJaAIeDhwEA68l1OHAQMkLpRfwk8MnOJ9Dj6YsF3Xo3DMWAaZvQVR0j4ZHsz4eXvvhSVcfKre/eg4gdzAXYwUxERETUfJkMZkVV8ha9YwQDEeVid1l12qmDuVPPbTudg4xWjnm/TmAAVXcJT12dwkJsAeuJ9WznbqaLNhqMIux7UvyXUiKWiuHKmStVjzvTJVx4J1bu/urpcq7n85F53Yc7D9M5zkJCSokj3UfQrXcXfc/l5kCp91J4EWL+4Xx6MULsXbBPFWo2sznTwTwcGsautVvy/P/bv/q32YsFDtJRGH3+PoyERzB5fLIjv0M8iB3MRERERORN6Xxf1HwLMhEdDOwuq067dH1X2y3ZTtrlHORqZef7fp3AACrqEs61tL2EPn8fDMXIRicYigHpSOiqnvfYenKvM13CuQXZwv1V2uVcqN7PR6ZD/jtz38GuuQuf4sNA1wCCRhBxK170PZebA8Xey665i+mb03g6+HR2nBIyW1wWj+uSmYUKbWlDkQoEBBzpIKSHsh3HxQrFU1en0OvrxXpiHY500s+Dg0fJR/ju8e/y50OLscBMRERERJ5Qzy3IRES0l9eiF0qptfDWDtrlHOQqVyxtZLd5ucKmgMDyzjJMx4Su6Ojz9+1b+M68l5AvhJAvBCDdiasrOnbN3ez+6y38V3IhodbC/cUPL2I1vgpb2tAVHf3+/pLRFsDjrObrF3Fv8x4ggKOho3jpiy/h++Pfz+s63m8Ru3JzoNh7iSVjsB0773McNsLYTG0CeFJYBpCNx7AcCxISAS2A3/u139s3cqXUxQK/6vf05+mgYIGZiIiIiIiIqEM1u6uvluJjp2dFt1tn5X7F0kZ3m+9X2NxIbODjzY+hCCUdu+BYeLjzEM/0PFP1e/n22LcBuLc4YSUXEirpci40tziHu5t3oQr1yXvefYjBrsGin4+5xTm88pNX8Cj5CIpQIKTAx5sf48KPL+C1f/Iazr9Q2cWOcgXzYu8l5aTgU315+3k6+DS2H6UzsDNUkV5vw5Y2BrsG0efvQ8JO4L2772F0YLTkOSh1sSASiJQ8ftQ8zGAuwAxmIiIiooNna3YW69NvwVxchB6Nom/qHEITE60eFhFRW6k1Y7Ydc4o7XakLBY0+V/vNoYvXL+Luxl2oSrrY6sCB7dg41nsMl792uer30my1fD6mrk7h71b+DhIy2/WbySv+fOTze455tY8vN97c4zY2OJbNV+7WurGeWEfIF8q+l6XtJRzyHUJ/oD+7j7gVhy503Nu6B0c6UKFCQsJ0TAgI+DU/jvYczT52v3lUT4Y1uapoBrNSbCMRERER0UGxNTuL5Vdfg7WyAqWnB9bKCpZffQ1bs7OtHhoRUVvJjboQQiCgBbK38u9n8vgkTNtE3IpDSrnvrfvUePsVZJe2l+BX/XmPd7PbfDw6jvMvnEckEEEsFUMkEMkWEHfMHTzd/TQ0oWUXenu6+2nsmDtl9zl9ahpXzlzB9KnplhUj93tvpSxtL+Fw4DCklHDgAEC2QFvs87G0vQTbsbPFZSAdK2JLu+pzlHvcJo9P4r2772ElvoKwEYYpTUgpoSt69r18Y/Qb0BV9z+f4pS++hKAWhKEYcOBAUzQICOiKDtMxs69Xbh7VcvyoeRiRQUREREQH2vr0WxCGASWQ7sYSgQCcx9vZxUxEVHkHaK1RF+2YU9ypykVg1BLzkNlvpee3VKRI5rUzHa+AdyMSSr3fzP8yf/+9D76HoVulj0fmPR/pPoLl3WUk7WQ2s7iYoeAQVuOrcOBki8wSEqpQa17AECiRk+4Hen29ed3jowOjRd/3s4eezZs39zbvZd/LLx79ArqiI2SEMBIe2Xcc7RY3c5Cwg5mIiIiIDjRzcRHCn9+NJfx+mIuLLRoREZF3ZAqOmc7FTMFxbnFuz2OHgkNI2Im8bZUUHwHvdJkedOW60CvtNp9bnMPU1SmcvnwaZ947gws/vlDRHNpPu3S6l/vMVPOZyrznpJ2E7dhQFRW6ki7+F3vO5PFJhPQQbMeGLW040oEjHXRr3XUdp0o710t9jgvPna7osKUNAQEFClJOCqvxVYwNjtU8RmotFpiJiIiI6EDTo1HIRH5BRCYS0KPRFo2IStmancXCi5O485WvYuHFScaYEDVBNbEXbhQAF26u4t03ruPtl9/Hu29cx8LNVffeTAfILdxOXZ2qukhbTrlCYiUxBYUF1IXYAjZTm7Bsq6rolELtEpFQ7jNTzWcq8553rV0AgKEYeKrrKfQH+mE6Jr4z9528uTAeHcerv/kqjvUeg4AABPBMzzN47Z+8VtdxqufiUe77yJw7Bw56jB74VB8cODAUAwOBAcwvc020dsWIDCIiIiKq2cLNVdy4dh+xtQTC/X6cODmMkdGBVg+rKn1T57D86mtwkO5clokEZCqFvqlzrR4a5chkZQvDyMvKxisXGGVC1EDVxF7UG3WxcHMVs5duQ1EV+Lo07GymMHvpNibOouTPlk74OVSpcvEVbqgkAqNcTEFhnEJmkbm1xBpCvhCA2nKbvbJYXznlPjPVRsmMR8cRNsKIBqMQIr2+2lZyC+uJdTjSQTQY3TMX3D4uk8cn8foHr2fHmllgr5qLR7njOn35NMJGOPt+AEBK6VqWNzUfO5iJiIiIqCaZQsDOZiqvENBu3WahiQkMvnIBWiQCZ3MTWiSCQRYtPSc3K1sIkf7TMLA+/Varh0bU0artXKwn6uLGtftQVAW6T4UQArpPhaIquHHtftHHd8rPoUrVuohiNdzoQi/sgtYVPbswXUY13a9AdbESrVbuM1NLN3Dhc9YSa5CQ8Km+qudCLV3wbneP19sRTd7DAjMRERER1aTaQoCXhSYmMPKjGTz7F3+OkR/NsLjsQczKJmqNZubextYS0Ix0mWLb3Ma92D3c2/kYHy8uFi2CddLPoUpUmoNbDzcKiYXFw4HAABzpQBVqzXOoGcX1ciotzJb7zNTymSp8TspOwXEc2NLGLx79Avc278GyrbJzoZ5CvZs56e2Sp02VY0QGEREREdUktpaAryv/n5OaoSC2lijxDKLa6dEorJUViMCT27aZlU2t1C6369er3tiLaoT7/djZTCGpxPHJ9ifporE0sO1fx+sfvLknCqIdfg65OU8qia9wQ70RC4VxCqqi4pDvEPr8fYilYjUdh2pjJdxWTTxJuc9MLZ+pwufoqo6UlYKEhCpUWNLCg50HONZ7bM+4c19nI7GRF1+S+XPm1kxTv7+a+b1CzcECMxEREVGBrdlZrE+/BXNxEXo0ir6pc+xoLSJTCNB9anablXIQ7vfv8yyi2jArm7ykGVm4XtKITNdiTpwcxuyl21jfeQQhBDTbgCJVPHj277Pdqrnj8PrPoXrmSbFsaTdycJuhWPHw22PfrnuRuWYU10spzJUuV5gt95mp5TOV+5wz//EMPt78GJCAhASA9KJ+8snji82/+7H7ONJ9JO84Vlqod/uiWrO+V6g5GJFBRERElCOzkJi1spK3kNjW7Gyrh+Y5J04Ow7EdmEkbUkqYSRuO7eDEyeFWD406ELOyyUu8cLt+JxoZHcDE2eewrW/CsAJI+XdxZ3QOjw4vFi2C1fNzaOHmKt594zrefvl9vPvG9YbkNtc6T0plSw9vfM7VHNxGcjNOAXAvUqGW/GGgtniSWl+rkv3d27qHHqMHmqLBgQNN0fBU91PYsXayjy82/zRFw2o8f65XUqhvpwxsag12MBMRERHlyF1IDABEIADn8XYWsvKlCwHY02E1MjrQ6qFRhwpNTPBz6ALepVG/Vt+u38lGRgfwy9/6cUXdqrX+HMoUcBVVySvgTpyFqz/Dap0nN67dR1ImsJ5cg7lrQld19Kn9uHHtPr7+rc7u+izVJetGpEI9HeXVdlC7fZdD4f5W46vYTG3iSPcRhHwhAEDciiMSiGSfU2z+HQ4cxoOdB4hb8aq64Kvt4KaDhwVmIiIiohzm4iKUnp68bVxIrLSR0QEWlInaSOYuDWEYeXdpgN3gVWn17fqdrpooiFp+DuUuDggAuk+FmUxvd/NnWq3z5NPlDazYDyEUAVVRYDkWlq2HcJZdG5onlSvK1hupUE+RtNyc3JN1nHQ367hw7INdg1jaXsJKfAVBI1j0M1Js/mmqhmO9x9Dr662qUM+LalQOIzKIiIiIcujRKGQif3EgLiRGRJ0i9y4NIUT6T8PA+vRbrR5aW3Hrdn0qbjw63tAoiNhaApqRXw5pxOKAtc6TNf0hFEeD6ZhIWEmYjgnF0bCmP3R1fF6zX6SIG3ETtcRcZOw3J4vFR9zduAvLtmp6rUrGHjSCeLr7aTjSKfkZKTX/XvrCS1XHlwwFh5Cw8z8fvKhGudjBTERERJSDC4kRUScrvEvjU/1X8HHPCcRFEH1vXGfMTYXcuF2f9ldrt2olC5GVWhzQCSYxdXXK1UXMapknHz39F3j+56egSQ2WYkGzNcBJbwf+Vc3jcUM9C72Ve26xLlnLtvDhww/x4fKH0BQNhwOHa46bqPfOg1JzslhntK7o+DT+aTa+otrXqmTsmqrh+cPPY/rUdMnxuvU91S4LTFLrCCll+UcdIGNjY3J+fr7VwyAiIqIWYj4pEXWqhRcn04uYBgL4VP8V3ApOQHFMqBqgHEkvmDZx9jkWmakt5UYs5BbBCjs7czOYNUOBlXKwm9zF3Gf+AzYGl/Ke+7VjX8P88nxTLyR86U+/hL5Ph/H8gy8jmOjDtn8dHz39l1g/fB/v/3fvN/S191Pp8a31uVNXp/KKqNupbSxtL0FKCU3RAAFIKXGk+whURUUkEClZXN1vDKZjIpaMIeWkoCoqvjH6DXzz+W/WfFxOXz6NsBGGECK7LZaM4ZOdTzAcHq76WO039lqOvVvqubhAHUUU3cgCcz4WmImIiIiIqFPlZjD/zVO/hyT8UB0T+tNHoARDMJM2unsMfP1bX2j1UKkAizvlFRYogScLn02fms47hr+2PYbnH3wFyrYP4X4//qr//8THPT/Ne+5afA2Pko8wFBxqalHvn176p9gytyAe/ycf/xfSQ/jrs3/dsNctp9zxrfe5uUVU0zbTxWWka1YaNGiqBgcONKFhJDyCWCqGK2euVPUe3vzoTUzfnIbt2DBUAyEjBF3Rcf6F8wBQ02es1HvThY5ef3VZx/t9zt34DuD3CLmgaIGZERlEREREREQHRGhiAnjlAtan30JcBKGrFvSBdHEZaEwOLdVnbnEOF69fxN2Nu9AVHQOBgZojAjrdfguRFS4g93HPT/Hz4IePi8VfwP96+TzCav5zt1JbsB3btYXaKvXsoWexEFvAVmoLpmNCV3SEjBBGwiMNe81K1LPQWyXPzUQ6XPzwIu7v3IeEhCY02NKGBQvCEVAVNZ1NXWPcxPzyPJ4OPr2nGHzxw4vYtXZLLjC4n1LxEd9+4dtVzZNGL3JYbv9E9eAif0RERETUFrZmZ7Hw4iTufOWrWHhxEluzs60eElFbCk1MYORHM+g7fhTKkeFscRlI59CG+/37PJuaKVMQWogtQBEKHOlgeXcZlm1lFz+jJ/ZbiGy/BeRKPTdlp2AoRt62ehZqyyi3YN3k8Unoio7B7kE82/ssBrsHoSt6y/Nu61nordLnjkfH0evvxXB4GF1aFxRFScdjALCkBVvaUIRSc/5vqYX+7m3d23d+7MetRSnLzdF6NXr/dLCxwExEREREnpe5rd9aWYHS0wNrZQXLr77GIjNRHU6cTGcum0kbUkqYSRuO7eDEyeFWD40eyxSEHOlAFSoUoUBAYC2x5kqhs9NMHp+EaZuIW3FIKRG34tlCZKnCYuYYFnuuqqgI+/K7butZqA14ctFgJb6S10WaW2R2q2Dptv2Or5vPzZyrgcAApJQQQkATGiQkHOlgJDxS8/EoVeiGxL7zo5zx6DimT03jypkrmD41XdPYys3RejV6/3SwscBMRERERJ63Pv0WhGFACaS7bpRAAMIwsD79VquHRtS2RkYHMHH2OXT3GEjuWujuMapa4G/h5irefeM63n75fbz7xnUs3Fxt8IgPnkxBSFd0OHAAAAKiroiATrZfYbZcB22x506NTkFX9JoKqqVU2kXqRsHSbfUUvqt5buZcBY0gjnQfyRaXQ0YIP/jyD3D5a5drPh6lCt1He47W3J3tlno6xL2wfzrYmMFMRERERJ5nLi5C6enJ2yb8fpiLiy0aEVFnGBkdqLignGvh5ipmL92GoirwdWnY2Uxh9tJtTJxFTfuj4oaCQ1iJr2AgMIBPdj6BI9JFZlWoeYXOhZuruHHtPmJrCYT7/ThxctjV89BOC4OVyqktlZObWywu9tzRgVFX33s9OcZeUE8OcKXPzT1X3Xp3OnfZpcUVMznPhecUQNn50WiVzFEv758ONiGlbPUYPGVsbEzOz8+3ehhERERElGPhxcl0PEbgyaI8TjwOLRLByI9mWjcwogPq3TeuY2czBd2nZreZSRvdPQa+/q0vtHBknSV3US7LtvBp/FNYjoVjPcfw0hdfwnh0PK/YrxkKrJQDx3aq6kavdAy5RSkvRDZUywuF8qmrU1iJr+xZZC4SiGD61HRTx+JlrThXXpgfjR6DF94jtT1RdCMLzPlYYCYiIiLynkwGszAMCL8fMpGATKUw+MoFhCYmWj08ogPn7Zffh69LgxBIbEeIAAAgAElEQVRPfs+UUiK5a+EPvvelFo6scVpVmCn3uo0u9rMg6q5OKtgT0YFUtMDMiAwiIiIi8rzQxATwygWsT78Fc3ERejSKvqlzLC4TtUi434+dzRSSShyr8VWYtgmf9GOg/1Crh9YQuUXB3IXZzqPxRcFysQKxtQR8Xfm/2muGgthaosQzKje3OIePVj6ClBIjG8fx/IMvI5g4hHjXFn4+/JO6999O3LrAUCqigcXl5mM3L5F72MFcgB3M3tfofDEiIiIiItrfws1VXPv3P8VaahWOakNzdAhHwd//2n/Cf//b/6rjijRe7uJtVAdzpqi+El/BkbXP4ksf/wvYwoTQAE3q0KWBM+d+80D8Lsau487Dc0pUs6IdzEqzR0FUj0y+2M5mKm8xEa5YTURERETUPCOjA7j1ub9Eyr8Lwwog5Y/j7n/9E2wMLmHm1kyrh+e6pe0l+FV/3javLMx24uQwHNuBmbQhpYSZtOHYDk6cHK5rvzO3ZqCrOga7BvH5B78FRzFhqyYsWLAUE+FACDeu3a94f3OLc5i6OoXTl09j6uoU5hbn6hpfM2WORUALQAiBgBaAruodOdcPCp5TInexwExt5ca1+1BUBbpPhRACuk+FoipV/cOGiIiIiIjq91+C87j5G/83/vYrf4q//43/C48OL3qm6Oq2oeAQEnZ+5ETCTmAoONSiET0xMjqAibPPobvHQHLXQneP4coCf5mietAIojd5GJZiQQKAlDgSPIJQV7DiGI7cbujciJF2KTJ7+QID1abwnG6ntvFw+yE+XP6w7S6AEHkBM5iprTQyX4yIiIiIiCo3FBzaExvhlaKr2yaPT+L1D14HgLzb6SePT7Z2YI+NjA64HlWRe36T3dsIJLphqSloioagHoSZtBHu95ffEfK7RQFk/5y5NdMWcQQHaa432n65x83KRJ5bnEMsFcPyzjIM1UCX1oXN1CYkJHyqr6aMdeY500HHDmZqK+F+P6yUk7fNSjkV/8OGiIiIiIjcMXl8EqZtIm7FIaVE3Ip7oui6NTuLhRcncecrX8XCi5PYmp2te5/j0XGcf+E8IoEIYqkYIoFIx2e15p7fXz5zA8IRUCwV/f7+qmM42r0DuNq53ug4kHaNG9mvk71ZXe6Z1+nSugAAKSeF1cQqbMeGgECX2oXlnWU83HmI78x9p6LXb/cOfSI3cJG/Alzkz9syGcyKqkAzFFgpB47tuHILGBERERERVcdrXXtbs7NYfvU1CMOA8PshEwnIVAqDr1xAaGKiZeNyUy3HvNaF0nNf69e2x/D8g69A2fZVvdh6LYskem1uVTqeRi0el3n9O4/uYNvaxiHfIfT5+7L7/9qxr2F+ed4zx6uY/eYBgH3niFvzIXcM26ltrMZXsWvtQhEK+ow+bJqbEI//s6SFI91Hyp47Ly8CStQARRf5Y4G5AAvM3lfrP46IiIiIiMjb6v23/sKLk7BWVqAEnhR6nHgcWiSCkR/NNGDEzVVL8bKeJh23inrVjrtRRdpmaESxMfd4LO8sI+WkICBwpPsIgkYQa/E1bCQ38HTwaU8fr9OXTyNshCHEk/qUlBKxVAwASv7dyy+8XNF8KJyvY4Nje4ru3/vge3te5x82/gGmY8JQDViOBUUocOBAExoGuwfLnrv93teVM1dcOXZEHlK0wMwMZmo7jcgXIyIiIiKixipXPM4thPq6NOxspjB76TYmzqLif/+bi4tQenrytgm/H+bioqvvpRUWbq7ix5d+iS/v/Gsku7axeOwjPDqcfl/7ZRnnLpQOALpPhZlMb9/vuOYWNQUEfrryU/zhX/4hjvUew0tfeKmqwuV4dBzncb7iYnU7ZzYvbS8hbITzttUbB5J7PEzHhAoVUkisxlcRNIKIJWOwHdvzx6tclnWpv6tkPuTO17ARxkJsAR8uf4iBwAD6/H3Z2IpuvRsJO5H3OmFfGBvJDaTsFFShwoEDKSUGugYqOnfM6CZigZmIiIiIiKhttOvdfJUUj2sthObSo1FYKysQOR3MMpGAHo26/6aaKHP8xK4GW0/CSHTh2ZvjuDM6Bxn55Z4CWO482d1MoatXhw41+/eVLJSeKepZtoXl3WUICChCwUJsoeoF0IB0kbnSx7tdpG1m3EYjio25x0NX9HSXLRSYjgkgnSPsU315z8k9Xl6JGym3WGapv8t0HecqnA+FReit1BaEENhKbaE/0P/kfEjAtM2819EVHVOjU3jnZ+9g19yFT/FhoGsAQSOIuBUve+5y35dlW/g0/iksx4IudMwtznmqyE/UKFzkj4iIiDxv4eYq3n3jOt5++X28+8Z1LNxcbfWQiIiaLlNk3NlM5RVp2+E7Mbd4LISA7lOhqApuXLuffUxsLQHNyP8VtZJCaK6+qXOQqRSceHoxNiceh0yl0Dd1zrX30gqZ46cYAg4kHM2CI2xE7z6/p3hZOE8ggJ1HKSR3zexjKlkoPbMw31piLVtcVoUKRzrQVR0zt2Ya9XYxFBxCws4/77UWaZu9AFsjFr/MPR79/n5ISFjSgiY0xK04VEVFyAjlPSdzvLy0AN1+i2Xu93eVzIfChSQznd6ZIjyQLijvWDtFX+ebz38T3x//Po50H0HICGFldwU/X/85lraXMDY4VtH70hUdD3YeZONLTGlysT86MFhgJiIiIk9r54IKEZGbKinSelUlxeNwvx9Wysl7TCWF0FyhiQkMvnIBWiQCZ3MTWiTSEQv8ZY7fQGAgXTiXDhzVhG83uKd4WThPgr0+SEjsbqYgpYSZtOHYDk6cHN73NTNFPdMxIR5HbjpwoCt63ZEP5bhZpM3tbBVCIKAFGlog369QWqvJ45PYSm7h7sZdfLLzCaSUEBDo0rsQCUTwjdFvQFf0oser2e+/nPHoOKZPTePKmSuYPjWdd1xK/V0l86GwCK0rOmzY0BU9uy1TlC71OuPRcXzt2NewkdyA6ZjwqT4c8h3Ce3ffK1skHo+Oo9fXi+HwMJ7pfQZhX7jlx5qomRiRQURERJ7mxi3TRESdILaWSHek5qi2w7dVwv1+7Gymst/lwN7i8YmTw5i9dBtmEnmL0ZUrhBYKTUy0fUG5UOb4BX1BHAkewWp8FU5KwuqO7yleFs4TI6AhdMiPnY0kkrtWxdEqmdv+M13LEjKbS9vofNlqM5v304hM5HKqiQMpZ25xDhevX8R6Yj27zVANdGvdeO03X8u+zujAaNHjVUm8hNdVMh8K4zdCRgir8VWEjBCklHviOEqZX57H08Gn9yzSWEmedSvmGpFXsMBMREREntbOBRWiVtiancX69FswFxehR6PomzrXccW2g6qSIq1XVVI8HhkdwMRZtGXGdKPlHr9uoxs+XwCO5mDi7HMYieYfn2LzRFEVPPVMD77+rS9U/JqZot7FDy/i7uZdaELDYNcgVEWtO/Kh0td3o0jbzguw5cZbqIoKAQEJiUggAk3V8oqepY5XO7//XOXmQ2EReiQ8gjOfPYP55fmqLlLUUyTulGOdyyv53eR9LDATERGRp7VzQYWo2bZmZ7H86msQhgGlpwfWygqWX30N6ICIAHKvw7cVKi0ej4wOsKBcRDXFdzfnSaaol1tkigQibVVkKrewnJdl4i0c6UAV6X8HOdLBWmINI+GRioqexd5/LBGDrug4ffn0nqJhowuKjdy/Gxcl6ikSt/NcKyZzgUNX9bz87moX+KSDQUgpWz0GTxkbG5Pz8/OtHgYRERE9lslgVlQl7xflibPPsQhBVGDhxUlYKytQAk9+MXbicWiRCEZ+NNO6gZFrFm6ussO3idr1eLfruBulXbswT18+jbARxkJsAZa0oEBJZ3DDQTQURSQQwfSp6bL7yX3/3Vo31hPrCPlC8Kt+rCfWsZHcQFAPoj/Qj7XdNYT94bwCab0Z0rnjyBQsG7F/N9Q7xnada8VMXZ3aU2yPW/GK5x11LFF0IwvM+VhgJiJyD2/TJrfwF2Wiytz5yleh9PRAiCf/9pdSwtncxLN/8ectHBlR++EFTm9o14KdG+POFPhsx8YnO5+kv9sloIj0go+1FGZzi4ZbyS083H0ICQld6HDgwHZsHOk+gpAvBMDdgmK7FCzbdc65LXOBo/DfFLFUDFfOXGnhyKjFihaYGZFBREQNwdu0yU28ZZqoMno0CmtlBSKng1kmEtCj0RaOiqg9cZHZ1mvXW/TdGncmckFXdTzV9RQ+jX8KS1o4Gj6Kl774Ut2LHq4l1iAgoAoVlrQApIvXa4m1bIHZzUXq2mURPDcXaWxnnZgpTY2jtHoARETUmdan30oXlwMBCCHSfxoG1qffavXQiIg6Vt/UOchUCk48nu5cjschUyn0TZ1r9dCI2k5sLQHNyP+V+SAsMju3OIepq1M4ffk0pq5OYW5xrmVjyWQQB7T0vycDWgC6qmPm1kzLxlQJt8Y9Hh3H+RfOIxKIwIGDX4/8On7w5R/g8u9errkAOhQcQsJOz2HTMSEg4MCBrujQFR0SEqZjZh/vZkEx97Ubsf9m8NLno9Emj0/CtE3ErfS/KeJWvK0zpamxWGAmIqKGMBcXIfz5i7AJvx/m4mKLRkRE1PlCExMYfOUCtEgEzuYmtEgEg7xzhKgm4X4/rJSTt60Vi8w2s6CV6bxdia/kdd62qoi2tL0Ev5p/vL3Y8VrIzXGPR8cxfWoaV85cwfSp6bo7a3OLhrqiw4YNKSUGAgMYCAxkFxRsREGx3QuWXvt8NFruBY5YKoZIIOKpvGzyFkZkEBFRQ/A2bSKi1ghNTLCgTOSCEyeHMXvpNswk8jKYT5wcbtoYmh0Rkdt5CyD758ytmZYUldr1Fn0vj3s8Oo7zOI+ZWzPYTGzCkhYO+Q6hW+9Gwk7gkO8Q+vx9iKVirucP5752O+Ybe+3z0QyMC6FKscBMREQN0Td1DsuvvgYH6c5lmUjwNm0iIiJqGyOjA5g4i5YuMtvsgla5jNxmL36WySDOjCNhJzzX8VrsmHh93LlFw8Lxf3vs2w09p+1csGyXDGmiVhBSylaPwVPGxsbk/Px8q4dBRNQRtmZnsT79FszFRejRKPqmzrGrjoiIiNrews3VphSeT18+jbARhhAiu01KiVgqhitnrrj+elNXp/Z03satOCKBSN6Cc7lF02K3zLtZiG52UbsauR3mhccEgGfHTbXZ7/MxfWq6hSMjaipRdCMLzPlYYCYiIiIiIqJSFm6uYvbSbSiqkhedMXH2OdeLzM0uaO1XMJ25NVPRWPbbR6cVWAvPz3ZqG8u7y5CQeD7yfNOLyl4uxneCgzS3ifZRtMDMRf6IiIiIiKhtLNxcxbtvXMfbL7+Pd9+4joWbq60eEh0wN67dh6Iq0H0qhBDQfSoUVcGNa/ddf61mL4q236JelS5clxvrIYRAQAtAV3XM3JppyJhbKfeYbKe28cnOJ3CkAyll0xeAO2gL0LUCF70jKo0ZzERERERE1BZyO0d9XRp2NlOYvXQbE2fR1FxcOthiawn4uvJ/ldYMBbG1hOuv5eaiaJVGl5XKyM1duG47tY3V+CqSdhJdehfmFueyz3Ezp9brHbm5x2Q1vpqOMpGApmhNXwDuIC5A1wrtnCFN1EjsYCYiIiIiorbQzM5RolLC/X5YKSdvm5VyEO73l3hGfcaj45g+NY0rZ65g+tR0zcXl5Vdfg7WyAqWnB9bKCpZffQ1bs7MV7yPTTb0WX8OD7QdIOSkoQkGX1pXXKTsUHELCzi+2J+wEhoJDVY25HTpyczvMU3YKkICERL+/H4D7C8DNLc5h6uoUTl8+jamrU3nHotIOcyKiRmCBmYiIiIiI2kJsLQHNyP8VplGdo0SlnDg5DMd2YCZtSClhJm04toMTJ4dbPbSS1qffgjAMKIF0bIUSCEAYBtan36p4H5l4gF1rFwBgKAae6noK/YH+vAgMt2I9mh21sV/xtpTcyARFKFCEgqe6nkLIFwJQW2F9v/HtV3B3q7BPRFQLFpiJiIiIiKgtNLtzlKiYkdEBTJx9Dt09BpK7Frp7jIYs8Ocmc3ERwp//ORF+P8zFxar2Mx4dR9gI47OHPoujPUezhdTcTlm3cmqb2ZFbT7d0psP84j+7iIHAADRVa0hedrmCe7PzuomIcjGDmYiIiIiI2sKJk8OYvXQbZjLduWylHM93jlJnGhkd8FRBuVxWsR6NwlpZgQgEsttkIgE9Gq36tXJzhzMKO2UryaktN+ZKXsctbuQXu5mXXUy5bOtGvz4R0X5YYCYiIiIi1yzcXMWNa/cRW0sg3O/HiZPDnirCUHtLd46Cc4woR6b7Vlf1vO7b83jSNdw3dQ7Lr74GB+nOZZlIQKZS6Js6V/XrTR6fxOsfvA4gXeBM2ImqO2UrGbMbr1MptxYmbOQCcG4V9r3K6ws6EtH+hJSy1WPwlLGxMTk/P9/qYRARERG1nYWbq5i9dBuKquR1l3r91nEionY2dXVqT+ExbsURCUQwfWo6u21rdhbr02/BXFyEHo2ib+ocQhMTNb1mLcXA3OfEUjF0aV3oD/TvO+ZmFR0rPYatlFuUzy241xI/4jWd/N6IOpAotpEdzERERETkihvX7kNRFeg+FQCg+1SYyfR2FpiJ6CByo6hb7s6QSrtvQxMTNReUC1XbKVvYsby8s4y4GYdP9SFoBEuOuVkduZV0S7e6w7aTIzDciCghotZigZmIiIiIXBFbS8DXlf/PS81QEFtLlHgGFWLECFHn2JqdxfKrr0EYBpSeHlgrK1h+9TXglQsVF3pz7wzxdWnY2Uxh9tJtTJxF9ruhmVnFtSosIBqqgZSTwmp8NVtgbuWYyxVvK4n0aNY4O6HgWlisv/PoDga7B/Me06gFHYmoMZRWD4CIiIiIOkO43w8r5eRts1IOwv3+Fo2ovWQKSTubqbxC0sLN1VYPjYhqsD79Vrq4HAhACJH+0zCwPv1WxfvIvTNECAHdp0JRFdy4dj/7mMnjkzBtE3ErDikl4la8YVnFtVraXoJfffKzoN/fDwGBpJ30zJjHo+OYPjWNK2euYPrUdF4hN7dALoRAQAtAV3XM3Jpp2XjbVaZYvxJfyRbrt61trCfW8x7ntYskRLQ/FpiJiIiIyBUnTg7DsR2YSRtSSphJG47t4MTJ4VYPrS1UUkgiOsi2Zmex8OIk7nzlq1h4cRJbs7OtHtK+zMVFCH/+BTbh98NcXKx4H7G1BDQj/9f2wjtDxqPjOP/CeUQCEcRSMUQCEc9l1w4Fh5Cwn4w55Auhz9+HLr3Ls2POVVggB9hhW6tixfpDvkPYSG54+iIJEe2PERlERERE5IqR0QFMnAUjHmrEiBGi0tyIm2g2PRqFtbICEXgSXSETCejRaMX7CPf7sbOZymbbA8XvDPFidEJu/vQfRYKY+fwm7v5XTzKOdUXH98e/77lxF9MOMSS1aEWudLHM8D5/HyzHQiQQ6bh8aaKDggVmIiIiInLNyOgAC8o1qrSQROQWNxaga6Tc8Vnr65CWBQBQDANqf382bsJLY87VN3UOy6++BgfpzmWZSECmUuibOlfxPk6cHMbspdswk+kLTlbKaYs7QwovCARjCUz9Jwd/FtDwk+FY2xUQK1kEsN20Kle6VLH+WO8xTJ+abtjrUlqrF6ukziWklK0eg6eMjY3J+fn5Vg+DiIiIqCN4vYDlJbmLeeUWkibOPseifQt0+oKLuQXA3OLnoEc6gnPH51gmrPu/TP+FpgGKAkgJ7amnIBwHz/7Fn7d2sPtw4zuwHefiwouTsFZWoOR0bzvxOLRIBCM/mmndwOrQaYW5qatTewq9cSuOSCDS0EJvbmE7t1jv5YiUTsFjTy4RRTeywJyPBWYiIiIid3i9gOVF7VhI6kSVFvvb+QKK1wuAueNL3bsHZ3cXkBJQFAjDgHQcCEVB4Nd/3RPjbSfN+J6585WvQunpgRBP6hBSSjibm56+IHCQnL58GmEjvOccxVIxXDlzpaGv3WnF+nbRqosK1HGKFpgZkUFEREREDbE+/Vb69ujHBSwRCMB5vL1dinDNxogRb8hdcBEAdJ8KM5nenjk/7ZgJnMtcXITS05O3rdoF6Bopd3wylQJ0DUiZgOOkHyAlpGlWFTdRi3a+iFBM7sUTX5eGnc0UZi/dxsRZuPrd40b+NDVWK3OlvZgZfhAUy7/mYpXkFqX8Q4iIiIiIqmcuLkL48/ODvVTAIioltpaAZuT/qlS44GLuBRQhRPrPx5nA7UCPRiET+QtIeqkAmDs+YRgQEE/iMWwbQlXhe/bZhhZ7MxcRrJWVvIsIW7OzDXvNRsu9eCKEgO5ToagKbly7X/TxW7OzWHhxEne+8lUsvDhZ8XvvmzoHmUrBicfTncvxeNX509RYk8cnYdom4lb6HMWteNvnStP+hoJDSNj53/udsFgleQMLzERERETUEF4vYNHBUEuBLNzvh5Vy8rYVLrjY7hdQvF4AzB2f0t8HadsAAG1oCPqv/Aq0gQFE/sdvNXQM7X4RoZhKLp5k1FNgD01MYPCVC9AiETibm9AiEcYjecx4dBznXziPSCCCWCqGSCDCLN4Ox4sK1EiMyCAiIiKihuibOoflV1+DA+RlMHulgEWdr9oYi0wcwuC6jv9y5Hcge0PQe4LZDOYTJ4ezj+2ECADR1QXz3j0AgPGZz+DwH3/HMwXA0MQE8MqFbDyF79lnIaWE3NmBFok0JaqiMEbE3t6CtbKK1MICFl6cbMu4jHC/H4+Wd2EmbNiWA1VToPtVHBrs2vPYemOOQhMTbXd8DhpGVRws49FxnMd55l9TQ7DATEREREQNUVgg6oT8Umov1RTIcovRg34/xOpV/ENiDHH7KHqHevcshNbOF1By36vx7LOQiQScnZ1WD2uPWgqUbmYm515EsLe3YD34BFJKCJ+v7TK3M4Z+tRcP7mxACAEhANtyYG3ZGJ14es9jvZ7TTUTV40UFahQWmImIiIioYdjBRq1UTYGssBg9iE8RWb0MTUQw8j/P7Hl8O19A6dQFOKvpWF+4uYob1+4jtpZAuN+/5wICkH8RwVpZhZQSEALawACUNj1mSz/fQFfYh1TcynYwGwENSz/fwD/67fzHdkKXfrN12qKQRESVYoGZiIiIqAB/QSTqDNUUyGrp1mzXCyid2plaaeF84eYqZi/dhqIq8HVp2NlMYfbSbUycRV6ROfciQmphAcLngzYwADUUSu/fw8es1M+x2FoCgZCOrrCRfayUsmgGc6bAbu7uwIltQSaTEJqG0G//9p7HUvWRPEREnYSL/BERERHlqGdRI+ostSwOR95SzUJ27bwoZbVztZ3f634qXXjxxrX7UFQFuk+FEAK6T4WiKrhx7f6efYYmJjDyoxl0jY1Bf+qpbHEZ8O4x2+/nWCULWGaEJiYQ/uf/HM6jDchUCsLng9Lbi9if/VlHfx/OLc5h6uoUTl8+jamrU5hbnKvoeZ24KCQRUaVYYCYiIiLKwV8QCeCFBq+qtpAampjA4CsXoEUicDY3oUUiGCzRTVhNMdpLapmr7fpey6m0cB5bS0Az8n8V1gylaBdvRjsds/1+jp04OQzHdmAmbUgpYSbtPQtY5or/zd9AHxqC/1d/Fb7PfAb6wEBH/0ycW5zD6x+8jpX4CsJGGCvxFbz+wesVFZkrvcBBRNSJWGAmIiIiysFfEAnghQYvqrXon+lAffYv/hwjP5opeat6NcVoL6llrrbrey2n0iJwNV28Ge10zPb7OTYyOoCJs89BUYFHn+xiay0O3afWtK9aefnukJlbM9BVHQEt/XkKaAHoqo6ZWzNln5u5wGFvbSF17x4St28j9fHHEN3djR84EVGLMYOZiIiIKAcXNSKgczNq21kzFqZrx0zlWudqO77XcipdePHEyWHMXrqN1MYu5MYqbBOQug9f/FxPiT0/2X87HLNKfo5ZKQehfj80Q4GVcopmUFe6r2p4Pad4aXsJYSOct82v+rG0vVT2uX1T5/DgfzoPZ3MTUNK9fNI0Ya+vY2t21hPvj4ioUdjBTERERJSjnW6Dpsbp1Izadsa7C4rjXM1XScf6yOgA/tFoCurDezAdHT6RwOdWr0L7k+95qpu2Vrk/x5b1KP6/4O/gr49MYf7oi1i4uVpVBrXbPxPXp9+CY5qwlpeR/MUvYC0vwzFNV+4OqTU7OddQcAgJO//zlLATGAoOlX1uaGIiHSGiaRBSQjEM6NEhqOEw734hoo7HAjMRERFRjna6DZoahxcavIeF1OI4V2sT+H9m8I9XL+OfPfrf8N9svodB8WnHxOBkfo6tD/46/nPXOJK+MAKHe5FAALOXbmPtwU7FGdRu/0xM/OIXsNfX4ZgmoChwHnf4Jn7xi5r2l1FPdnKuyeOTMG0TcSv9eYpbcZi2icnjkxU939nehvHMM/A99xyMo0ehBkO8EEZEBwIjMoiIiIgKtMtt0NQ4ld5qT83TN3UOy6++BgfpzmWZSLCQCnfm6tbsbEvneitev9NjcEITE1iaD8K3mcpmLKsAzCTg2BaslJOXvbxfBrWrPxMtC5ASQn382kJAWlZ6ex1ys5MBZP+cuTWD8eh4xXNsPDqO8ziPmVszWNpewlBwCJPHJzEeHa9oHIzZIqKDSkgpWz0GTxkbG5Pz8/OtHgYRERERERVodSG0E+Vm4uYW7pt150arXn/hxcn0gpE5hUAnHocWiWDkRzMNe91mevvl9+Hr0iCEyG6TUmJnI5mNxchkMDu2g4mzz+3JYHbb7d/8J7A3NyEUJZ1T7DiQjgO1pwfP/eTHNe/39OXTCBvhPe81lorhP0TON22OtfrzRETUBKLYRkZkEBERERFRW6gkX5eqk7t4ohAi/WcToyJa9foHIVok3O+HlXLytlkpB31HujFx9jl09xhI7lro7jGaUlwGAN+zz0Id6IfQdcC2IXQd6kA/fM8+W9d+98tOdmuOVZLxzJgtIjqoGJFBRERERG2J3axE9Wt1VESrXv8gxOCcODmM2Uu3YSaR16l84uQwRgqzUPoAACAASURBVEYHmlJQLpSJuhGDg65G3Uwen8TrH7wOABi9ncJv/NWnOPQohdCIguQvV6ENDuY9vto5lsl41lU9L+P5PM7vic9gzBYRHUQsMBMRERFR0yzcXMWNa/cRW/v/27v/6Lbv+t7jr7csKVJbx6kTNXQRcdulhTY5rGlNC4zqFJL+PJwWKOOEC6t97Q04l94Ll3HvoNwETjJ+jI0L3WWwsdk3gf3IGDujvVD6e1xx4PAju+lYOmhrSt0qK0GJG8dtpUiyPvcPfZ1KrpPYkqzvV9LzcY6P7I+kjz9yPvraeX0/3/cnr5WrYyeCjqWqvgw51NenUjarQzt3SawUA5bE75qxfn7/Tg8CBzatUWqbmnLMbZblCvbnaid/5+8/p6v/8QkpGtHKNet05rGiis89p1IkrMjqF1/3UufY6Wo8A0C3I2AGAABAS0weOKz03scU6glpxRlhPT9dUHrvY0pt05IDj+pLniXJ4nGVvfZODoyAZvN780S/v3+zBe3KCr9WKp/KcgX7VyWv0vqHx1Q6e6CmtnZo1SqVnz2q8hln1j3HDj53UCujK2vaYj0xHXzuYNPGDwDtjBrMAAAAaIn99z2lUE9IkRU9MrMTm0ztv++pJfdVzGRksVhNWysv6+82M+m0JoeGNbFlqyaHhjWTTvs9JDSJ3zVj/f7+zTR3ZUUpm625sqLV75dufr8u9LshvHq17MwzG5pjp6rxDAAI4ApmM/u4pN+VlPWabnfO3e3d9xFJo5JmJf0X59y9Xvv1ku6Q1CPpL51zn/baz5e0V9JqSf8s6bedc4XWvRoAAADMOXYkrxVn1P75GY6GdOxI/iTPODm/L+vvJpQj6Xx+l4rw+/s3SxCurOj29+vJfjfELrxQA3t2191vdY3nWE9M+dm8irNFDW8clhS8lesA0GpBXcH8Oefcpd7HXLh8iaRtkjZKul7SF82sx8x6JP2ppBskXSLpHd5jJekPvb42SHpWlXAaAAAAPli5OqZSoVzTViqUtXJ17CTPOLn+0RG5QkHlXE7OucptG19WH2TVoZmZVW6jUU2Njfs9NCBQgnBlRbe/X5frd8NVyat0+5W3KxFP6FjhmBLxhG6/srLBX1BWrgOAn4IaMC/kZkl7nXPHnXO/kDQh6QrvY8I594S3OnmvpJvNzCS9UdLXvefvkfRmH8YNAAAASZuvXa/ybFnF47Nyzql4fFbl2bI2X7t+yX110mX1QReE0AxoB5FkUi5fe0VGq6+s6Pb363L+brgqeZXGrhvTPbfco7Hrxk5s7tftoT4ASAEskeG5zcxulbRP0u85556VtE7SD6oek/HaJOnpee1XqlIW46hzrrTA42uY2bslvVuS1q9f+n9wAAAAcHoDm9Yota1Si/nYkbxWro5p87Xr696AqlMuqw86ypEAixOEDQt5v7b+d0Mxk1Gor6+mrZtCfQCQfAqYzewBSS9b4K6PSvqSpF2SnHf7WUnL+hvZOfdlSV+WpMHBQbec3wsAgoR6cQBabWDTmroDZfgjCKEZ0CqN/G3Um0pJO7b7+rcV79fWI9QHAMmcC26eambnSfqmc26Tt8GfnHOf8u67V9LHvYd+3Dl3ndf+Ea/t06psFPgy51zJzF5b/biTGRwcdPv27Wv2SwGA5njsfun7d0hHJ6VVA9Lr3i9ddE1dXVVvAlP9HxAuMQcAzMcJSUidPw865W+jTv93CppOmTcAsEi2YGPQAmYzO9c594z3+X+VdKVzbpuZbZT0N6rUXP41SQ9KulCVF/aYpC2SDkr6saT/4Jx7xMz+XtI/OOf2mtmfSfqJc+6Lp/r+BMwAAuux+6Vvf0gKRaVIXCrmpHJBuuGP6wqZJ4eGK5uRVK22KOdyCicSDe2yDQAAOs9SQrR2DTjn/jZysyXNHj4iVyhIPT2KDgzogju/4ffwEGDtOucBoA4LBsxBrMH8GTO7VJUSGU9Keo8keYHx1yT9m6SSpPc552Ylycxuk3SvpB5J4865R7y+fl/SXjP7A0n7JY218oUAQFN9/45KuBw9o/J19Ayp4LXXETBTLw4AACxW9UZmkmTxuMpee3WQVh1Eh/r6VMpmdWjnLqkNVnMWMxm5npBmn/mlZCb19MjNzur4xIRm0unAjx/+YU8AAN0ucAGzc+63T3HfJyR9YoH2uyXdvUD7E6qseAaA9nd0UoqdXdsWiUtHn6qrO+rFAQCAxVrsienFBtFBFEkmlfuXf6mEy6FQpdFMFom0xfhxcpMHDjdtg1kAwEuF/B4AAGCRVg1UymJUK+akVevr6q5/dESuUFA5l5NzrnLLJjAAAGABkWRSLp+vaVvoxHQxk5HFYjVt7XKFVP/oiFyxKCfJOSdXLkvOqSeRaIvxY2GTBw4rvfcxPT9d0Iozwnp+uqD03sc0eeCw30MDgI5BwAwA7eJ176/UXC68IDlXuS0XKu116E2ltHbHdoUTCZWnpxVOJNiMBAAALGixJ6YXG0QHUW8qpeiv/7osFJLKZZm3krn0zDOanZnRTDrt9xBRh/33PaVQT0iRFT0yM0VW9CjUE9L+++q7ChAA8FIEzADQLi66prKhX+9aKX+0clvnBn9zelMpDezZrQ0PPqCBPbsJlwEgoGbSaU0ODWtiy1ZNDg0TdLUQP/uKxZ6YbvcrpM750O8pvGaNevr7KyuYZ2clSXZGXId27uraf/92duxIXuFobfQRjoZ07Ej+JM8AACyVOef8HkOgDA4Oun379vk9DAAAAEBS7aZpFovJ5fNyhULXXXUyk05ramxcxUxGkWRS/aMjy/76+dnXx49/q2aaSaf17x/6byo//7xCsZh61qxWz1m9KudyCicSGtiz2+8hYgm+8T//n56fLiiyoudEW/H4rM7si+rNH7zMx5EBQFuyBRsJmGsRMAMAACBIJoeGVcpmT2yaJqnrgi6/gl5+9t1rYstWhfr6KmUyPM45laenteHBB3wcGZZqrgZzqCekcDSkUqGs8mxZqW0XsdEfACzdggEzJTIAAACAAGvnTdOaZWpsXBaNKhSPy8wqt9GopsbGl+X7zZXFeGHfPhV/+UvNPjdz4r5u+9l3q3auJY1aA5vWKLXtIp3ZF9XxF0o6sy9KuAwATRb2ewAAAADoPu1+CX0rRZJJlbJZWdUq2m4LuoqZjEJ9fTVtyxX01qyWXrFCrlBQ6d+fkX5N6jmrt+t+9t2qf3REh3buUlmqWTU/v5Z0K49lHDfrN7BpDYEyACwjVjADAACgpeYCvFI2q1Bfn0rZLJtnnUK7b5rWDK1cTVq9Wjq8Zo1kJuecStnDXfmz71aL2dSwlccyjpsAgCAjYAYAAEBLtbrcQbtbTNDV6VoZsleXJOnp7VXk3HNl0ajc8eNd+bPvZr2plAb27NaGBx/QwJ7dL/l3b+WxjOMmACDIKJEBAACAlmpluYNO0ZtKdXWo2ZtKSTu2t6Q8wPySJD29vbJwmI398BKtPJa143GTkh4A0D1YwQwAAICWYvMs1ON0q0mbhZIkWKxWHsva7bhJSQ8A6C4EzAAAAE02k05rcmhYE1u2anJomP9Qz0OAhyCjJAkWq5XHsnY7blLSAwC6iznn/B5DoAwODrp9+/b5PQwAANCm5lZtWTQqi8Xk8nm5QoGAah4unYbEPEB9Wj1vTvX9WjmWIL3u05nYslWhvj6Z2Yk255zK09Pa8OADyzVkAMDyswUbCZhrETADAIBGTA4NVy4J9uq3SlI5l6N+K1qmXUJbTsagHq2eN37OUz/fy42+bn4XAkDHWjBgpkQGAABAExUzGVksVtMW9I2Y0Dnaqe4pl9CjHq2eN37NU7/fy42+7nYr6QEAaAwBMwAAQBO120ZM6CztFNpyMgb1aPW88Wue+v1ebvR1U8scALpL2O8BAAAAdJL+0REd2rlLZanmsmJWbaEVipmMQn19NW1BDW0jyaRK2ays6hJ6TsbgdFo9b/yap36/l5vxuntTKQJlAOgSrGAGAABoIlZtwU/ttIKeS+hRj1bPG7/mqd/vZd6fAIClYJO/edjkDwAAAO2q3TbOa5cNCREsrZ43fszTILyXeX8CABaw4CZ/BMzzEDADAACgnREKLR0/MwQR8xIAEEAEzItBwAwAAIDlQmAUPEFYKQq0CscgAECDCJgXg4AZAIDOMHngsPbf95SOHclr5eqYNl+7XgOb1vg9LDRZO4UlBJnBNDk0rFI2q1DVZmblXE7hREIDe3b7N7Aq7TTPEVwcgwAATbBgwMwmfwAAoONMHjis9N7H9Px0QSvOCOv56YLSex/T5IHDfg8NTTQXlpSyWYX6+lTKZnVo5y7NpNN+D21BU2PjsmhUoXhcZla5jUY1NTbu99C6WjGTkcViNW0Wi6mYyfg0olrtNs8RXByDAADLhYAZAAB0nP33PaVQT0iRFT0yM0VW9CjUE9L++57ye2hoonYLS4IeZHarSDIpl8/XtLl8XpFk0qcR1Wq3eY7g4hgEAFguBMwAAKDjHDuSVzha+2dOOBrSsSP5kzwD7ajdwpKgB5ndqn90RK5QUDmXk3OuclsoqH90xO+hSWq/eY7gaodj0Ew6rcmhYU1s2arJoWFW6gNAmyBgBgAAHWfl6phKhXJNW6lQ1srVsZM8A+2oHcKSakEPMjvdyYKr3lRKa3dsVziRUHl6WuFEIlA1adttniO4gn4MohwMALQvAmYAANBxNl+7XuXZsorHZ+WcU/H4rMqzZW2+dr3fQ0MTBT0smS/oQWYnO11w1ZtKaWDPbm148AEN7NkdqH+TZs5zVod2t6AfgygHAwDty5xzfo8hUAYHB92+ffv8HgYAAGjQ5IHD2n/fUzp2JK+Vq2PafO16DWxa4/ew0GQz6bSmxsZVzGQUSSbVPzoSmLAEwTE5NFwJl+PxE23lXE7hREIDe3b7N7BFasY8nwvZLRqVxWJy+bxcoXDKgJH3F1ppYstWhfr6ZGYn2pxzKk9Pa8ODD/g4MgBAFVuwkYC5FgEzAAAA0FkIrpYestcTSAONaPcTQQDQJRYMmCmRAQAAAKCjUcd46ZsFUq4ArdZuZY8AAC8iYAYAAADQ0Qiulh6yLzWQBhoV9BrRAICTC/s9AAAAAABYTr2plLRje1fXE+4fHdGhnbtUlmpKXpwsZI8kkypls7KqcgWtWvVN7efu1ZtK8W8NAG2IGszzUIMZAAAsBUFI8/EzDT420WxPS3lv+VWDmdrPAAAEGpv8LQYBMwAAWCyCkObjZxocJwsjJw8cVnrvYwr1hBSOhlQqlFWeLSu17SJC5g7jx8keNnqDnzjBCQCnRcC8GATMAABgsQhCmo+faTCcKuh/cN9Zen66oMiKnhOPLx6f1Zl9Ub35g5f5OGp0goktWxXq65PZi/9/dc6pPD2tDQ8+4OPI0Ok4wQkAi7JgwMwmfwAAAHViE6zm42caDFNj47JoVKF4XGZWuY1GNTU2rmNH8gpHa/8bEY6GdOxI/iS9AYu31M0IgWY51XEPAHBqBMwAAAB1IghpPn6mwXCqoH/l6phKhXLNfaVCWStX1z4eqEf/6IhcoaByLldZuZzLnXIzQqBZOMEJAPUjYAYAAKgTQUjz8TMNhlMF/ZuvXa/ybFnF47Nyzql4fFbl2bI2X7vep9Fiucyk05ocGtZjv/l6PXrFlXr0db+pyaFhzaTTy/Y9e1Mprd2xXeFEQuXpaYUTCUoUoCU4wQkA9aMG8zzUYAYAAEvBhkDNx8/Uf/NrkZamjqj87FHZmWcqduGFyt0wrJ/9+0odO5LXytUxbb52PRv8dZi5OVAuFTV7+Eil0Uw9/f0KRSKEvug41GAGgEVhk7/FIGAGAABoDAFxZ5j7dzw+MaHyc88ptGqVwqtXE7p0ibkNN0uHDskVi1IoJFcuKxSJKLx2LRtvoiPx+wsATouAeTEImAEAAOrHCrDWW+5AZC5oDMXjJ9rKuRwBY4eb2LJVob4+FR5/XOrpkSQ556RyWSsuvFDl6WltePABn0cJAABabMGAmRrMAAAAaJqpsXFZNKpQPC4zq9xGo5oaG/d7aB1pLtAvZbMK9fWplM3q0M5dTa2Ry8ZX3WmuHq1Fo1LZ29TROYWiUerSAgCAGgTMAAAAaBrCyNZqRaDPxlfdaW7DTes9S65cliuVJOdkZ53FxpsAAKAGATMAAACahjCytVoR6M8FjeVcTs65yi0BY8frTaW0dsd2rRg4Tz19fQqdcYZCvb1acd55lLwBAAA1wn4PAAAAAJ2jf3REh3buUlmqqcFMGLk8IsmkStmsrKo+crMD/d5UStqxnY2vulBvKsW/MwAAOC02+ZuHTf4AAAAas9ybzrW7Zv582FQRCBaOfwCADrfgJn8EzPMQMAMAAGC5LEcgTKAFBAMnfAAAXYCAeTEImAEAALBcJoeGVcpmFaoqaVHO5RROJDSwZ7d/AwPQMN7fAIAusGDAzCZ/AAAAQIu0YlM+AP7g/Q0A6FYEzAAAAECLRJJJuXy+pq3Zm/IB8AfvbwBAtyJgBgAAAFqkf3RErlBQOZeTc65yWyiof3TE76EBaBDvbwBAtyJgBgA0ZCad1uTQsCa2bNXk0LBm0mm/hwQAgdWbSmntju0KJxIqT08rnEiwARjQIXh/AwC6FZv8zcMmfwCweOyWDgDLZyad1tTYuIqZjCLJpPpHRzi2AgAAwE9s8gcAaK6psXFZNKpQPC4zq9xGo5oaG/d7aADQ1uZO4JWyWYX6+lTKZnVo5y6uEgEAAEDgEDADAOrGbukAsDw4gQcAAIB2QcAMAKgbu6UDwPLgBB4AAADaBQEzAKBu7JYOAMuDE3gAAABoFwTMABAAM+m0JoeGNbFlqyaHhtumxia7pQPA8uAEHgAAANqFOef8HkOgDA4Oun379vk9DABdZG4jJ4tGZbGYXD4vVygQ1AJAl5tJpzU1Nq5iJqNIMqn+0RF+LwQc/2YAAKDD2YKNBMy1CJgBtNrk0LBK2axC8fiJtnIup3AioYE9u/0bGAAAWDROGAMAgC6wYMBMiQwA8BkbOQGt0a6laAC0h6mxcVk0qlA8LjOr3Eajmhob93toAAAAy4qAGQB8xkZOwPKbW1lYymYV6utTKZvVoZ27CJnhK056dBZOGAMAgG5FwAwAPmMjJ2D5sbIQQcNJj87DCWMAANCtCJgBwGe9qZTW7tiucCKh8vS0wokE9RqBJmNlIYKGkx6dhxPGAACgW4X9HgAAoBIyEygDyyeSTKqUzcqqNtNkZSH8VMxkFOrrq2njpEd7602lpB3bNTU2rmImo0gyqf7REX6/AwCAjkfADAAAOl7/6IgO7dylsiohnsvnWVkIX3HSozNxwhgAAHQjSmQAAICORykaBA3lFBbGxocAAADtx5xzfo8hUAYHB92+ffv8HgYAAAA63Ew6TTmFKnMbH1o0WnOlASeDAAAAAsMWbCRgrkXADAAAALTe5NCwStmsQlVlQ8q5nMKJhAb27PZvYAAAAJizYMBMDWYAAIA2wYpXdDI2PgQAAGhP1GAGAABoA3PlA0rZrEJ9fSplszq0cxc1atExIsmkXD5f08bGhwAAAMFHwAwAANAGpsbGZdGoQvG4zKxyG41qamzc76EBTcHGhwAAAO2JgBkAAKANFDMZWSxW00b5AHSS3lRKa3dsVziRUHl6WuFEgg3+AAAA2gA1mAEAANpAJJlUKZuVVW2ARvkAdJreVIpAGQAAoM2wghkAAKANUD4AAAAAQBARMAMAALQBygcAAAAACCJKZAAAALQJygcAAAAACBpWMAMAAAAAAAAA6sIKZgAAAMBnM+m0psbGVcxkFEkm1T86wmp1AAAAtAVWMAMAAAA+mkmndWjnLpWyWYX6+lTKZnVo5y7NpNN+D60pZtJpTQ4Na2LLVk0ODXfM6wIAAEAFATMAAADgo6mxcVk0qlA8LjOr3Eajmhob93toDev08BwAAAAEzAAAAPARq1ulYiYji8Vq2iwWUzGT8WlEzdPJ4TkAAAAqCJgBAADgC1a3VkSSSbl8vqbN5fOKJJM+jah5Ojk8BwAAQAUBMwAAAHzB6taK/tERuUJB5VxOzrnKbaGg/tERv4fWsE4OzwEAAFBBwAwAAABfsLq1ojeV0tod2xVOJFSenlY4kdDaHdvVm0r5PbSGdXJ4DgAAgIqw3wMAAABAd4okkypls7J4/ERbt65u7U2lOiJQnq83lZJ2bNfU2LiKmYwiyaT6R0c68rUCAAB0KwJmAAAA+KJ/dESHdu5SWZWVyy6fZ3VrB+rU8BwAAAAVlMgAAACALzq5NAQAAADQLVjBDAAAAN+wuhUAAABob76sYDaz3zKzR8ysbGaD8+77iJlNmNmjZnZdVfv1XtuEmX24qv18M/uh1/53Zhb12ld4X09495/XqtcHAAAAAAAAAN3ArxIZByS9VVK6utHMLpG0TdJGSddL+qKZ9ZhZj6Q/lXSDpEskvcN7rCT9oaTPOec2SHpW0qjXPirpWa/9c97jAAAAAAAAAABN4kvA7Jz7qXPu0QXuulnSXufccefcLyRNSLrC+5hwzj3hnCtI2ivpZjMzSW+U9HXv+Xskvbmqrz3e51+XtMV7PAAAAACgQTPptCaHhjWxZasmh4Y1k06f/kkAAKDjBG2Tv3WSnq76OuO1nax9taSjzrnSvPaavrz7p73Hv4SZvdvM9pnZvmw226SXAgAAAACdaSad1qGdu1TKZhXq61Mpm9WhnbsImQEA6ELLFjCb2QNmdmCBj5uX63vWyzn3ZefcoHNuMJFI+D0cAAAAAAi0qbFxWTSqUDwuM6vcRqOaGhv3e2gAAKDFwsvVsXNuax1POyjp5VVfJ702naT9iKRVZhb2VilXP36ur4yZhSX1eY8HAAAAADSgmMko1NdX02axmIqZjE8jAgAAfglaiYy7JG0zsxVmdr6kCyX9SNKPJV1oZuebWVSVjQDvcs45Sf8k6W3e84ck3VnV15D3+dskPeQ9HgAAAADQgEgyKZfP17S5fF6RZNKnEQEAAL/4EjCb2VvMLCPptZK+ZWb3SpJz7hFJX5P0b5LukfQ+59ystzr5Nkn3SvqppK95j5Wk35f0QTObUKXG8pjXPiZptdf+QUkfbs2rAwAAzcDmUQDqwbGjNfpHR+QKBZVzOTnnKreFgvpHR/weGgAAaDFjUW+twcFBt2/fPr+HAQBAV5vbPMqiUVksJpfPyxUKWrtju3pTKb+HByCgOHa01kw6ramxcRUzGUWSSfWPjvBzBgCgs9mCjQTMtQiYAQBz+I+zfyaHhlXKZhWKx0+0lXM5hRMJDezZ7d/AAAQaxw4AAIBltWDAHLQazAAABMLcKrhSNqtQX59K2awO7dzFpdYtUsxkZLFYTRubRwE4HY4dAAAArUfADADAAqbGxmXRqELxuMyschuNamps3O+hdQU2jwJQD44dAAAArUfADADAAlgF5y82jwJQD44dAAAArUfADADAAlgF56/eVEprd2xXOJFQeXpa4USCTboAnBbHDgAAgNZjk7952OQPACC9WIPZolFZLCaXz8sVCgQVAAAAAIBuxSZ/AAAs1nKtgptJpzU5NKyJLVs1OTTMpoEAAAAAgLbGCuZ5WMEMAFgurIoGAAAAALQxVjADAOCnqbFxWTSqUDwuM6vcRqOaGhv3e2gAAAAAANSFgBkAgBYpZjKyWKymzWIxFTMZn0YEAAAAAEBjCJgBAGiRSDIpl8/XtLl8XpFk0qcRAQAAAADQGAJmAABapH90RK5QUDmXk3OuclsoqH90xO+hAQAAAABQFwJmAABapDeV0tod2xVOJFSenlY4kWCDPwAAAABAWwv7PQAAALpJbypFoAwAAAAA6BisYAYAAAAAAAAA1IUVzAAAAAAAAACwzIrFojKZjPLzNn8PmlgspmQyqUgksqjHEzADAAAAAAAAwDLLZDLq7e3VeeedJzPzezgLcs7pyJEjymQyOv/88xf1HEpkAAAAAAAAAMAyy+fzWr16dWDDZUkyM61evXpJq6wJmAEAAAAAAACgBYIcLs9Z6hgJmAEAAAAAAAAAdSFgBgAAAAAAAIAucc899+gVr3iFNmzYoE9/+tMN98cmfwAAtNBMOq2psXEVMxlFkkn1j46oN5Xye1gAAAAAgID5zs9+pT9PP6Gnn31BLz/7DL0ndYGufuU5DfU5Ozur973vfbr//vuVTCb16le/WjfddJMuueSSuvtkBTMAAC0yk07r0M5dKmWzCvX1qZTN6tDOXZpJp/0eGgAAAAAgQL7zs19px12P6Fczea2KR/Srmbx23PWIvvOzXzXU749+9CNt2LBBF1xwgaLRqLZt26Y777yzoT4JmAEAaJGpsXFZNKpQPC4zq9xGo5oaG/d7aAAAAACAAPnz9BOK9JjOiIZlVrmN9Jj+PP1EQ/0ePHhQL3/5y098nUwmdfDgwYb6JGAGAKBFipmMLBarabNYTMVMxqcRAQAAAACC6OlnX1A80lPTFo/0KPPsCz6N6OQImAEAaJFIMimXz9e0uXxekWTSpxEBwPKZSac1OTSsiS1bNTk0TDkgAACAJXj52WcoV5ytacsVZ5U8+4yG+l23bp2efvrpE19nMhmtW7euoT4JmAEAaJH+0RG5QkHlXE7OucptoaD+0RG/hwYATUXNeQAAgMa8J3WBirNOLxRKcq5yW5x1ek/qgob6ffWrX63HH39cv/jFL1QoFLR3717ddNNNDfVJwAwAQIv0plJau2O7womEytPTCicSWrtju3pTKb+HBgBNRc15AACAxlz9ynO086aNOqc3pulcUef0xrTzpo26+pXnNNRvOBzWF77wBV133XW6+OKL9fa3v10bN25srM+Gng0AAJakN5UiUAbQ8YqZjEJ9fTVt1JwHAABYmqtfeU7DgfJCbrzxRt14441N64+AGQAAAPDRTDqtqbFxFTMZRZJJ9Y+OtP2JqEgyqVI2K4vHT7RRcx4AAKAzUSIDAAAA8Emn1iqm5jwAAED3cm33iQAAEmpJREFUIGAGAAAAfNKptYqpOQ8AANA9KJEBAAAA+KSTaxVTcx4AAKA7sIIZAAAA8EkkmZTL52vaqFUMAACAdkLADAAAAPiEWsUAAABodwTMAAAAgE+oVQwAAIBWGhkZ0TnnnKNNmzY1rU9qMAMAAAA+olYxAAAAFvTY/dL375COTkqrBqTXvV+66JqGuhweHtZtt92mW2+9tUmDZAUzALStmXRak0PDmtiyVZNDw5pJp/0eEgAAAAAAaIbH7pe+/SFp5pAUO7ty++0PVdobkEql1N/f36RBVhAwA0AbmkmndWjnLpWyWYX6+lTKZnVo5y5CZgAAAAAAOsH375BCUSl6hmRWuQ1FK+0BQ8AMAG1oamxcFo0qFI/LzCq30aimxsb9HhoAAAAAAGjU0UkpEq9ti8Slo0/5M55TIGAGgDZUzGRksVhNm8ViKmYyPo0IAAAAAAA0zaoBqZirbSvmpFXr/RnPKRAwA0AbiiSTcvl8TZvL5xVJJn0aEQAAAAAAaJrXvV8qF6TCC5JzldtyodIeMATMANCG+kdH5AoFlXM5Oecqt4WC+kdH/B4aAAAAAABo1EXXSDf8sdS7Vsofrdze8MeV9ga84x3v0Gtf+1o9+uijSiaTGhsba3io4YZ7AAC0XG8qJe3YrqmxcRUzGUWSSfWPjlTaAQAAAABA+7vomoYD5fn+9m//tqn9SQTMANC2elMpAmUAAAAAAOArSmQAAAAAAAAAAOpCwAwAAAAAAAAAqAsBMwAAAAAAAACgLgTMAAAAAAAAAIC6EDADAAAAAAAAAOpCwAwAAAAAAAAAXeDpp5/WG97wBl1yySXauHGj7rjjjob7DDdhXAAAAAAAAACAJvpu5rva/chuHXzuoNadtU7DG4d1VfKqhvoMh8P67Gc/q8suu0wzMzO6/PLLdc011+iSSy6pu09WMAMAAAAAAABAgHw381198oefVDaX1croSmVzWX3yh5/UdzPfbajfc889V5dddpkkqbe3VxdffLEOHjzYUJ8EzAAAAAAAAAAQILsf2a1IT0TxcFxmpng4rkhPRLsf2d207/Hkk09q//79uvLKKxvqh4AZAAAAAAAAAALk4HMHFeuJ1bTFemI6+Fxjq43nPPfcc7rlllv0+c9/XitXrmyoL2owAwAAYFFm0mlNjY2rmMkokkyqf3REvamU38MCAAAAOs66s9Ypm8sqHo6faMvP5rXurHUN910sFnXLLbfone98p9761rc23B8rmAEAAHBaM+m0Du3cpVI2q1Bfn0rZrA7t3KWZdNrvoQEAAAAdZ3jjsIqzReVKOTnnlCvlVJwtanjjcEP9Ouc0Ojqqiy++WB/84AebMlYCZgAAAJzW1Ni4LBpVKF6pAReKx2XRqKbGxv0eGgAAANBxrkpepduvvF2JeELHCseUiCd0+5W366rkVQ31+73vfU9f/epX9dBDD+nSSy/VpZdeqrvvvruhPimRAQAAgNMqZjIK9fXVtFkspmIm49OIAAAAgM52VfKqhgPl+V7/+tfLOdfUPgmYcQJ1FQEAwMlEkkmVsllZ/MUacC6fVySZ9HFUAAAAAPxGiQxIoq4iAAA4tf7REblCQeVcpQZcOZeTKxTUPzri99AAAAAA+IiAGZKoqwgAAE6tN5XS2h3bFU4kVJ6eVjiR0Nod27naCQAAAOhylMiAJOoqdhvKoQAA6tGbSvH7AgAAAEANVjBDUqWuosvna9qoq9iZKIcCAAAAAACAZiFghiTqKnYTyqEAAAAAAACgWQiYIYm6it2kmMnIYrGaNsqhAAAAAAAAdL58Pq8rrrhCv/Ebv6GNGzfqYx/7WMN9UoMZJ1BXsTtEkkmVsllZPH6ijXIoAAAAAAAAwbIce2itWLFCDz30kM466ywVi0W9/vWv1w033KDXvOY1dffJCmagy1AOBQAAAAAAINiWaw8tM9NZZ50lSSoWiyoWizKzhvokYAa6DOVQAAAAAAAAgm0599CanZ3VpZdeqnPOOUfXXHONrrzyyob6o0QG0IUohwIAAAAAABBcxUxGob6+mrZm7aHV09Ojhx9+WEePHtVb3vIWHThwQJs2baq7P1YwAwAAAAAAAECARJJJuXy+pq3Ze2itWrVKb3jDG3TPPfc01A8BMwAAAAAAAAAEyHLtoZXNZnX06FFJUi6X0/33369XvvKVDfVJiQwAAAAAAAAACJDeVErasV1TY+MqZjKKJJPqHx1puOTpM888o6GhIc3OzqpcLuvtb3+73vSmNzXUJwEzAAAAAAAAAATMcuyh9apXvUr79+9vap+UyAAAAAAAAAAA1IWAGQAAAAAAAABQFwJmAAAAAAAAAEBdCJgBAAAAAAAAAHUhYAYAAAAAAAAA1IWAGQAAAAAAAABQFwJmAAAAAAAAAOgis7Oz2rx5s970pjc13Fe4CeMBAAAAAAAAADTR5IHD2n/fUzp2JK+Vq2PafO16DWxa05S+77jjDl188cU6duxYw32xghkAAAAAAAAAAmTywGGl9z6m56cLWnFGWM9PF5Te+5gmDxxuuO9MJqNvfetb+p3f+Z0mjJSAGQAAAAAAAAACZf99TynUE1JkRY/MTJEVPQr1hLT/vqca7vsDH/iAPvOZzygUak40TMAMAAAAAAAAAAFy7Ehe4WhtdBuOhnTsSL6hfr/5zW/qnHPO0eWXX95QP9UImAEAAAAAAAAgQFaujqlUKNe0lQplrVwda6jf733ve7rrrrt03nnnadu2bXrooYf0rne9q6E+CZgBAAAAAAAAIEA2X7te5dmyisdn5ZxT8fisyrNlbb52fUP9fupTn1Imk9GTTz6pvXv36o1vfKP+6q/+qqE+CZgBAAAAAAAAIEAGNq1RattFOrMvquMvlHRmX1SpbRdpYNMav4f2EmG/BwAAAAAAAAAAqDWwac2yBspXX321rr766ob7YQUzAAAAAAAAAKAuvgTMZvZbZvaImZXNbLCq/Twzy5nZw97Hn1Xdd7mZ/auZTZjZn5iZee39Zna/mT3u3Z7ttZv3uAkz+4mZXdb6VwoAAAAAAAAAncuvFcwHJL1VUnqB+37unLvU+3hvVfuXJP2upAu9j+u99g9LetA5d6GkB72vJemGqse+23s+AAAAAAAAAPjCOef3EE5rqWP0JWB2zv3UOffoYh9vZudKWumc+4GrvMKvSHqzd/fNkvZ4n++Z1/4VV/EDSau8fgAAAAAAAACgpWKxmI4cORLokNk5pyNHjigWiy36OUHc5O98M9sv6Zik/+Gc+66kdZIyVY/JeG2StNY594z3+S8lrfU+Xyfp6QWe84zmMbN3q7LKWevXr2/SywAAAAAAAACAimQyqUwmo2w26/dQTikWiymZTC768csWMJvZA5JetsBdH3XO3XmSpz0jab1z7oiZXS7pG2a2cbHf0znnzGzJpwCcc1+W9GVJGhwcDO4pBAAAAAAAAABtKRKJ6Pzzz/d7GE23bAGzc25rHc85Lum49/k/m9nPJV0k6aCk6tg86bVJ0iEzO9c594xXAuNXXvtBSS8/yXMAAAAAAAAAAA3ya5O/BZlZwsx6vM8vUGWDvie8EhjHzOw1ZmaSbpU0twr6LklD3udD89pvtYrXSJquKqUBAAAAAAAAAGiQLwGzmb3FzDKSXivpW2Z2r3dXStJPzOxhSV+X9F7n3JR333+S9JeSJiT9XNK3vfZPS7rGzB6XtNX7WpLulvSE9/i/8J4PAAAAAAAAAGgSC/KuhX4ws6ykSb/HAV+tkXTY70EALca8Rzdi3qPbMOfRjZj36EbMe3Qj5n1rHHbOXT+/kYAZmMfM9jnnBv0eB9BKzHt0I+Y9ug1zHt2IeY9uxLxHN2Le+ytQNZgBAAAAAAAAAO2DgBkAAAAAAAAAUBcCZuClvuz3AAAfMO/RjZj36DbMeXQj5j26EfMe3Yh57yNqMAMAAAAAAAAA6sIKZgAAAAAAAABAXQiYAQAAAAAAAAB1IWBGxzOzXWb2EzN72MzuM7Nf89rNzP7EzCa8+y+res6QmT3ufQxVtV9uZv/qPedPzMy89n4zu997/P1mdnbrXynwIjP7IzP7mTe3/9HMVnnt55lZzns/PGxmf1b1nCXN71O9hwA/nGzee/d9xJurj5rZdVXt13ttE2b24ar2883sh17735lZ1Gtf4X094d1/XitfIzCfmf2WmT1iZmUzG6xq53iPjnWyee/dx/EeHc3MPm5mB6uO7zdW3deU+Q+0k5PNb7QWATO6wR85517lnLtU0jcl7fDab5B0offxbklfkir/uZL0MUlXSrpC0sfsxcD4S5J+t+p513vtH5b0oHPuQkkPel8Dfrpf0ibn3KskPSbpI1X3/dw5d6n38d6q9qXO7wXfQ4CPFpz3ZnaJpG2SNqoyr79oZj1m1iPpT1WZy5dIeof3WEn6Q0mfc85tkPSspFGvfVTSs17757zHAX46IOmtktIL3MfxHp1qwXnP8R5d5HNVx/e7pabPf6AtnGZ+o4UImNHxnHPHqr48U9LczpY3S/qKq/iBpFVmdq6k6yTd75ybcs49q0pgcb1330rn3A9cZXfMr0h6c1Vfe7zP91S1A75wzt3nnCt5X/5AUvJUj69zfp/sPQT44hTz/mZJe51zx51zv5A0ocoJxCskTTjnnnDOFSTtlXSzt5rzjZK+7j1//ryfez98XdKWudWfgB+ccz91zj262MdzvEcnOMW853iPbtbM+Q+0iwXnt89j6koEzOgKZvYJM3ta0jv14grmdZKernpYxms7VXtmgXZJWuuce8b7/JeS1jb1BQCNGZH07aqvzzez/Wb2f83sKq+tnvl9svcKEATV836px/vVko5WhdXVc/vEc7z7p73HA0HE8R7dhuM9usVtXsmi8aqrbZs5/4F2wd8oARH2ewBAM5jZA5JetsBdH3XO3emc+6ikj5rZRyTdpkoJjGXhnHNm5k7/SKAxp5v33mM+Kqkk6a+9+56RtN45d8TMLpf0DTPbuNjvyfyG3+qc90BbW8y8XwDHe7S1Ouc90BFONf9VKVO0S5Urc3dJ+qwqJ9YBwDcEzOgIzrmti3zoX0u6W5WA+aCkl1fdl/TaDkq6el77d7z25AKPl6RDZnauc+4Z75LRXy3xJQBLdrp5b2bDkt4kaYt3GbScc8clHfc+/2cz+7mki1Tf/D7ZewhYNvXMe516ri7UfkSVEgBhb1VP9ePn+sqYWVhSn/d4YNks4e+c6udwvEdbq2fei+M9OsRi57+Z/YUq+wxJzZ3/QLvgb5SAoEQGOp6ZXVj15c2SfuZ9fpekW63iNZKmvctC75V0rZmd7V1udK2ke737jpnZa7x6VbdKurOqryHv86GqdsAXZna9pP8u6Sbn3AtV7QlvIwSZ2QWqbNj0RJ3z+2TvIcAXJ5v3qszVbWa2wszOV2Xe/0jSjyVd6O2gHlVlY5y7vGD6nyS9zXv+/Hk/9354m6SHqoJsIDA43qNLcbxHx5tXA/8tqmx6KTV3/gPtYsH57fOYupLxOxKdzsz+QdIrJJUlTUp6r3PuoPefqi+ossPuC5L+o3Nun/ecEUm3e118wjn3v732QUm7JcVVqe35n71LSFdL+pqk9d73eLtzbqpFLxF4CTObkLRCL660+YFz7r1mdouknZKKqrwnPuac+z/ec5Y0v0/1HgL8cLJ57933UVUuHy1J+oBz7tte+42SPi+pR9K4c+4TXvsFqmwS0i9pv6R3OeeOm1lM0lclbZY0JWmbc+6JFr1E4CXM7C2S/pekhKSjkh52zl3H8R6d7GTz3ruP4z06mpl9VdKlqpTIeFLSe+ZO+jVr/rf0BQENOtn8RmsRMAMAAAAAAAAA6kKJDAAAAAAAAABAXQiYAQAAAAAAAAB1IWAGAAAAAAAAANSFgBkAAAAAAAAAUBcCZgAAAAAAAABAXQiYAQAAAAAAAAB1IWAGAAAAAAAAANSFgBkAAAAIEDN7tZn9xMxiZnammT1iZpv8HhcAAACwEHPO+T0GAAAAAFXM7A8kxSTFJWWcc5/yeUgAAADAggiYAQAAgIAxs6ikH0vKS3qdc27W5yEBAAAAC6JEBgAAABA8qyWdJalXlZXMAAAAQCCxghkAAAAIGDO7S9JeSedLOtc5d5vPQwIAAAAWFPZ7AAAAAABeZGa3Sio65/7GzHokfd/M3uice8jvsQEAAADzsYIZAAAAAAAAAFAXajADAAAAAAAAAOpCwAwAAAAAAAAAqAsBMwAAAAAAAACgLgTMAAAAAAAAAIC6EDADAAAAAAAAAOpCwAwAAAAAAAAAqAsBMwAAAAAAAACgLv8folg6RaOCspsAAAAASUVORK5CYII=\n",
      "text/plain": [
       "<Figure size 1440x720 with 1 Axes>"
      ]
     },
     "metadata": {
      "needs_background": "light"
     },
     "output_type": "display_data"
    }
   ],
   "source": [
    "sns.lmplot( x=\"x\", y=\"y\", data = pca_df, fit_reg=False, hue=\"predicted\", height = 10, aspect = 2, legend=False)\n",
    "plt.legend(loc='lower right')"
>>>>>>> 6b8d1830d7a28b42516c442dc91ffb05451d04b1
   ]
  },
  {
   "cell_type": "code",
<<<<<<< HEAD
   "execution_count": 44,
   "metadata": {},
   "outputs": [],
   "source": [
    "user_genre_dict ={}\n",
    "for index, row in user_genres.iterrows():\n",
    "    try:\n",
    "        user_genre_dict[row['userId']]\n",
    "    except:\n",
    "        user_genre_dict[row['userId']] = {}\n",
    "    try:\n",
    "        user_genre_dict[row['userId']][row['genres']] += 1\n",
    "    except:\n",
    "        user_genre_dict[row['userId']][row['genres']] = 1\n",
    "        "
   ]
  },
  {
   "cell_type": "code",
   "execution_count": 48,
   "metadata": {},
   "outputs": [],
   "source": [
    "# user_genre_dict"
=======
   "execution_count": null,
   "metadata": {},
   "outputs": [],
   "source": [
    "#Exporting K-means Clusters\n"
   ]
  },
  {
   "cell_type": "markdown",
   "metadata": {},
   "source": [
    "We also proceed with a simple analysis of the most watched user genres (which we simply classify as those genres corresponding to movies that the User has rated (e.g.) It is clear from this analysis that we may get more from interpreting K-means outcomes, as this next analysis does not take into account how much the user liked the films, whereas K-means clustering does. "
>>>>>>> 6b8d1830d7a28b42516c442dc91ffb05451d04b1
   ]
  },
  {
   "cell_type": "code",
<<<<<<< HEAD
   "execution_count": 66,
   "metadata": {},
   "outputs": [],
   "source": [
    "import operator\n",
    "fav_genre = {}\n",
    "for key in user_genre_dict:\n",
    "    maximum = max(user_genre_dict[key].items(), key = operator.itemgetter(1))[0]\n",
    "    fav_genre[key] = maximum\n",
    "\n",
    "fav_genre = pd.DataFrame.from_dict(fav_genre, orient = \"index\")"
   ]
  },
  {
   "cell_type": "code",
   "execution_count": 68,
   "metadata": {},
   "outputs": [],
   "source": [
    "fav_genre = fav_genre.reset_index()\n",
    "fav_genre.columns = ['userId','FavGenre']"
=======
   "execution_count": 108,
   "metadata": {},
   "outputs": [],
   "source": [
    "#Getting the top most watched genres for each user\n",
    "user_genres = pd.merge(ratings_cleaned, genre_df, on=\"movieId\")"
   ]
  },
  {
   "cell_type": "markdown",
   "metadata": {},
   "source": [
    "Here we get the most populare genres for each user"
>>>>>>> 6b8d1830d7a28b42516c442dc91ffb05451d04b1
   ]
  },
  {
   "cell_type": "code",
<<<<<<< HEAD
   "execution_count": 87,
   "metadata": {},
   "outputs": [],
   "source": [
=======
   "execution_count": 128,
   "metadata": {},
   "outputs": [],
   "source": [
    "user_genre_dict ={}\n",
    "for index, row in user_genres.iterrows():\n",
    "    try:\n",
    "        user_genre_dict[row['userId']]\n",
    "    except:\n",
    "        user_genre_dict[row['userId']] = {}\n",
    "    try:\n",
    "        user_genre_dict[row['userId']][row['genres']] += 1\n",
    "    except:\n",
    "        user_genre_dict[row['userId']][row['genres']] = 1\n",
    "\n",
    "fav_genre = {}\n",
    "for key in user_genre_dict:\n",
    "    maximum = max(user_genre_dict[key].items(), key = operator.itemgetter(1))[0]\n",
    "    fav_genre[key] = maximum\n",
    "    \n",
    "fav_genre = pd.DataFrame.from_dict(fav_genre, orient = \"index\")\n",
    "fav_genre = fav_genre.reset_index()\n",
    "fav_genre.columns = ['userId','FavGenre']\n",
    "pca_df = pd.DataFrame(pca_mat_user_clean)\n",
>>>>>>> 6b8d1830d7a28b42516c442dc91ffb05451d04b1
    "fav_genre.FavGenre.nunique()\n",
    "fav_genre\n",
    "pca_df.index = np.arange(1, len(pca_df) + 1)\n",
    "pca_df = pd.DataFrame(pca_mat_user)\n",
    "pca_df.index = np.arange(1, len(pca_df) + 1)\n",
    "pca_df = pca_df.reset_index()\n",
    "pca_df.columns = ['userId', 'factor_1', 'factor_2']"
   ]
  },
  {
   "cell_type": "code",
<<<<<<< HEAD
   "execution_count": 88,
   "metadata": {},
   "outputs": [],
   "source": [
    "plot_df = pd.merge(pca_df, fav_genre, on = \"userId\")"
=======
   "execution_count": 130,
   "metadata": {},
   "outputs": [],
   "source": [
    "plot_df = pd.merge(pca_df, fav_genre, on = \"userId\")\n",
    "plot_df_update = pd.merge(plot_df, std_dev, on = \"userId\")\n",
    "plot_df_update[\"outlier\"] = plot_df_update.apply(lambda x : x.rating > 203, axis = 1)"
>>>>>>> 6b8d1830d7a28b42516c442dc91ffb05451d04b1
   ]
  },
  {
   "cell_type": "code",
<<<<<<< HEAD
   "execution_count": 91,
=======
   "execution_count": 131,
>>>>>>> 6b8d1830d7a28b42516c442dc91ffb05451d04b1
   "metadata": {},
   "outputs": [
    {
     "data": {
      "text/plain": [
<<<<<<< HEAD
       "<matplotlib.legend.Legend at 0x161561250>"
      ]
     },
     "execution_count": 91,
=======
       "<matplotlib.legend.Legend at 0x1272671d0>"
      ]
     },
     "execution_count": 131,
>>>>>>> 6b8d1830d7a28b42516c442dc91ffb05451d04b1
     "metadata": {},
     "output_type": "execute_result"
    },
    {
     "data": {
<<<<<<< HEAD
      "image/png": "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\n",
      "text/plain": [
       "<Figure size 360x360 with 1 Axes>"
      ]
     },
     "metadata": {
      "needs_background": "light"
     },
     "output_type": "display_data"
    }
   ],
   "source": [
    "import seaborn as sns"
   ]
  },
  {
   "cell_type": "code",
   "execution_count": 95,
   "metadata": {},
   "outputs": [
    {
     "data": {
      "text/plain": [
       "<matplotlib.legend.Legend at 0x16208ff50>"
      ]
     },
     "execution_count": 95,
     "metadata": {},
     "output_type": "execute_result"
    },
    {
     "data": {
      "image/png": "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\n",
=======
      "image/png": "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\n",
>>>>>>> 6b8d1830d7a28b42516c442dc91ffb05451d04b1
      "text/plain": [
       "<Figure size 1440x720 with 1 Axes>"
      ]
     },
     "metadata": {
      "needs_background": "light"
     },
     "output_type": "display_data"
    }
   ],
   "source": [
    "# Use the 'hue' argument to provide a factor variable\n",
<<<<<<< HEAD
    "sns.lmplot( x=\"factor_1\", y=\"factor_2\", data=plot_df, fit_reg=False, hue='FavGenre', height = 10, aspect = 2, legend=False)\n",
=======
    "sns.lmplot( x=\"factor_1\", y=\"factor_2\", data=plot_df_update, fit_reg=False, hue='FavGenre', height = 10, aspect = 2, legend=False)\n",
>>>>>>> 6b8d1830d7a28b42516c442dc91ffb05451d04b1
    " \n",
    "# Move the legend to an empty part of the plot\n",
    "plt.legend(loc='lower right')\n"
   ]
  },
  {
<<<<<<< HEAD
   "cell_type": "code",
   "execution_count": 115,
   "metadata": {},
   "outputs": [],
   "source": [
    "#What data can be pulled from IMDB?\n",
    "ia.get_movie_infoset() #Provides the attributes of movies\n",
    "\n",
    "#Movie Recommendation Visualization\n",
    "#ia.get_top250_movies()\n",
    "\n",
    "#Possible important Attributes\n",
    "#1. awards\n",
    "#2. connections\n",
    "#3. countries\n",
    "#4. keywords (This is a long list for some movies)\n",
    "#5. \n",
    "\n",
    "#By Default IMDBpy returns (main, plot, synopsis)\n",
    "toy_story = ia.get_movie('193585')\n"
   ]
  },
  {
   "cell_type": "code",
   "execution_count": 116,
   "metadata": {},
   "outputs": [
    {
     "name": "stderr",
     "output_type": "stream",
     "text": [
      "2019-11-27 11:35:57,144 ERROR [imdbpy] /usr/local/lib/python3.7/site-packages/imdb/__init__.py:728: unknown information set \"business\"\n"
     ]
    }
   ],
   "source": [
    "ia.update(toy_story, \"business\")"
   ]
  },
  {
   "cell_type": "code",
   "execution_count": 117,
   "metadata": {},
   "outputs": [
    {
     "name": "stdout",
     "output_type": "stream",
     "text": [
      "[]\n"
     ]
    }
   ],
   "source": [
    "print(toy_story.infoset2keys['business'])"
   ]
  },
  {
   "cell_type": "code",
   "execution_count": 67,
   "metadata": {},
   "outputs": [
    {
     "data": {
      "text/plain": [
       "['airing',\n",
       " 'akas',\n",
       " 'alternate versions',\n",
       " 'awards',\n",
       " 'connections',\n",
       " 'crazy credits',\n",
       " 'critic reviews',\n",
       " 'episodes',\n",
       " 'external reviews',\n",
       " 'external sites',\n",
       " 'faqs',\n",
       " 'full credits',\n",
       " 'goofs',\n",
       " 'keywords',\n",
       " 'locations',\n",
       " 'main',\n",
       " 'misc sites',\n",
       " 'news',\n",
       " 'official sites',\n",
       " 'parents guide',\n",
       " 'photo sites',\n",
       " 'plot',\n",
       " 'quotes',\n",
       " 'release dates',\n",
       " 'release info',\n",
       " 'reviews',\n",
       " 'sound clips',\n",
       " 'soundtrack',\n",
       " 'synopsis',\n",
       " 'taglines',\n",
       " 'technical',\n",
       " 'trivia',\n",
       " 'tv schedule',\n",
       " 'video clips',\n",
       " 'vote details']"
      ]
     },
     "execution_count": 67,
     "metadata": {},
     "output_type": "execute_result"
    }
   ],
   "source": [
    "ia.get_movie_infoset()"
=======
   "cell_type": "markdown",
   "metadata": {},
   "source": [
    "We can see from the visualization above that the genres do not, at least per our current analysis, correspond to our clustering.\n",
    "\n",
    "We also signed up for a TMDb api key, in case we needed to scrape more data. Eventually, we settled on pulling in industry data from box office mojo."
>>>>>>> 6b8d1830d7a28b42516c442dc91ffb05451d04b1
   ]
  },
  {
   "cell_type": "code",
   "execution_count": null,
   "metadata": {},
   "outputs": [],
   "source": [
<<<<<<< HEAD
    "# IMDB Error Handling\n",
    "# from imdb import IMDb, IMDbError\n",
    "\n",
    "# try:\n",
    "#     ia = IMDb()\n",
    "#     people = ia.search_person('Mel Gibson')\n",
    "# except IMDbError as e:\n",
    "#     print(e)"
   ]
  },
  {
   "cell_type": "code",
   "execution_count": 118,
   "metadata": {},
   "outputs": [],
   "source": [
    "from tmdbv3api import TMDb\n",
    "tmdb = TMDb()\n",
    "tmdb.api_key = 'bbf25fae7203def03e17f79789d653c6'"
   ]
  },
  {
   "cell_type": "code",
   "execution_count": 120,
   "metadata": {},
   "outputs": [],
   "source": [
    "from tmdbv3api import Movie\n",
    "movie = Movie()"
   ]
  },
  {
   "cell_type": "code",
   "execution_count": 121,
   "metadata": {},
   "outputs": [
    {
     "data": {
      "text/html": [
       "<div>\n",
       "<style scoped>\n",
       "    .dataframe tbody tr th:only-of-type {\n",
       "        vertical-align: middle;\n",
       "    }\n",
       "\n",
       "    .dataframe tbody tr th {\n",
       "        vertical-align: top;\n",
       "    }\n",
       "\n",
       "    .dataframe thead th {\n",
       "        text-align: right;\n",
       "    }\n",
       "</style>\n",
       "<table border=\"1\" class=\"dataframe\">\n",
       "  <thead>\n",
       "    <tr style=\"text-align: right;\">\n",
       "      <th></th>\n",
       "      <th>movieId</th>\n",
       "      <th>imdbId</th>\n",
       "      <th>tmdbId</th>\n",
       "    </tr>\n",
       "  </thead>\n",
       "  <tbody>\n",
       "    <tr>\n",
       "      <td>0</td>\n",
       "      <td>1</td>\n",
       "      <td>114709</td>\n",
       "      <td>862.0</td>\n",
       "    </tr>\n",
       "    <tr>\n",
       "      <td>1</td>\n",
       "      <td>2</td>\n",
       "      <td>113497</td>\n",
       "      <td>8844.0</td>\n",
       "    </tr>\n",
       "    <tr>\n",
       "      <td>2</td>\n",
       "      <td>3</td>\n",
       "      <td>113228</td>\n",
       "      <td>15602.0</td>\n",
       "    </tr>\n",
       "    <tr>\n",
       "      <td>3</td>\n",
       "      <td>4</td>\n",
       "      <td>114885</td>\n",
       "      <td>31357.0</td>\n",
       "    </tr>\n",
       "    <tr>\n",
       "      <td>4</td>\n",
       "      <td>5</td>\n",
       "      <td>113041</td>\n",
       "      <td>11862.0</td>\n",
       "    </tr>\n",
       "  </tbody>\n",
       "</table>\n",
       "</div>"
      ],
      "text/plain": [
       "   movieId  imdbId   tmdbId\n",
       "0        1  114709    862.0\n",
       "1        2  113497   8844.0\n",
       "2        3  113228  15602.0\n",
       "3        4  114885  31357.0\n",
       "4        5  113041  11862.0"
      ]
     },
     "execution_count": 121,
     "metadata": {},
     "output_type": "execute_result"
    }
   ],
   "source": [
    "links.head()"
=======
    "# from tmdbv3api import TMDb\n",
    "# tmdb = TMDb()\n",
    "# tmdb.api_key = 'bbf25fae7203def03e17f79789d653c6'\n",
    "# from tmdbv3api import Movie\n",
    "# movie = Movie()"
   ]
  },
  {
   "cell_type": "markdown",
   "metadata": {},
   "source": [
    "### Webscrapping with Selenium and BeutifulSoup to get revenue, rank, and release data on the top grossing films from the years 1989 - 2019. "
>>>>>>> 6b8d1830d7a28b42516c442dc91ffb05451d04b1
   ]
  },
  {
   "cell_type": "code",
   "execution_count": 278,
   "metadata": {},
   "outputs": [],
   "source": [
    "from bs4 import BeautifulSoup\n",
    "import bs4\n",
    "from selenium import webdriver\n",
    "import pandas as pd\n",
    "import numpy as np\n",
    "from selenium.webdriver.chrome.options import Options\n",
    "from re import sub\n",
<<<<<<< HEAD
    "from decimal import Decimal\n"
=======
    "from decimal import Decimal"
>>>>>>> 6b8d1830d7a28b42516c442dc91ffb05451d04b1
   ]
  },
  {
   "cell_type": "code",
   "execution_count": 364,
   "metadata": {},
   "outputs": [],
   "source": [
<<<<<<< HEAD
    "\n",
    "\n",
=======
>>>>>>> 6b8d1830d7a28b42516c442dc91ffb05451d04b1
    "url = \"https://www.boxofficemojo.com/year/{}/\".format(2012)\n",
    "\n",
    "def create_driver():\n",
    "    browser_options = Options()\n",
    "    browser_options.add_argument(\"--headless\")\n",
    "    browser_options.add_argument('--no-sandbox')\n",
    "    driver = webdriver.Chrome(chrome_options=browser_options)\n",
    "    print(\"Done Creating Browser\")\n",
    "    return driver\n",
    "\n",
    "\n",
    "def convdollar(x):\n",
    "    if 'k' in x:\n",
    "        return float(x.replace('k',''))*1000\n",
    "    else:\n",
    "        return float(x)*1000000\n",
    "    \n",
    "def scrape(box_office, start, finish):\n",
    "    driver = create_driver()\n",
    "    years=[str(a) for a in range(start,finish)]\n",
    "    df_list=[]\n",
    "    for year in years:\n",
    "        url = \"https://www.boxofficemojo.com/year/{}/\".format(year) \n",
    "        driver.get(url)\n",
    "        page_content = driver.page_source\n",
    "        print('Box Office data for %s scraped' % year)\n",
    "        p=BeautifulSoup(page_content)\n",
    "        table = p.find_all(\"table\")\n",
    "        mov_dict = {}\n",
    "#         value = Decimal(sub(r'[^\\d.]', '', money))\n",
    "        mov_dict[\"rank\"] = [i.getText() for i in table[1].find_all(\"td\", { \"class\" : \"mojo-field-type-rank\"})]\n",
    "        mov_dict[\"year\"] = [year for i in range(len(mov_dict[\"rank\"]))]\n",
    "        mov_dict[\"movie\"] = [i.getText() for i in table[1].find_all(\"td\", { \"class\" : \"mojo-field-type-release\"})]\n",
    "        mov_dict[\"studio\"] = [i.getText().replace(\"\\n\",\"\") for i in table[1].find_all(\"td\", { \"class\" : \"mojo-field-type-studio\"}) if i.getText() != None]\n",
    "        mov_dict[\"gross\"] = [Decimal(sub(\"[^0-9a-zA-Z]+\",\"\", j)) for j in [i.getText() for i in table[1].find_all(\"td\", { \"class\" : \"mojo-field-type-money\"})][2::3]]\n",
    "        mov_dict[\"release\"] = [i.getText() for i in table[1].find_all(\"td\", { \"class\" : \"mojo-field-type-date\"})]\n",
    "        temp_frame = pd.DataFrame(mov_dict)\n",
    "        box_office = box_office.append(temp_frame, ignore_index = True)\n",
    "    driver.quit()\n",
    "    return box_office\n"
   ]
  },
  {
   "cell_type": "code",
<<<<<<< HEAD
   "execution_count": 365,
   "metadata": {},
   "outputs": [
    {
     "data": {
      "text/plain": [
       "Decimal('251188924')"
      ]
     },
     "execution_count": 365,
     "metadata": {},
     "output_type": "execute_result"
    }
   ],
   "source": [
    "# page_content\n",
    "Decimal(\"251188924\")"
   ]
  },
  {
   "cell_type": "code",
   "execution_count": 369,
   "metadata": {},
   "outputs": [
    {
     "name": "stdout",
     "output_type": "stream",
     "text": [
      "Empty DataFrame\n",
      "Columns: []\n",
      "Index: []\n"
     ]
    },
    {
     "name": "stderr",
     "output_type": "stream",
     "text": [
      "/usr/local/lib/python3.7/site-packages/ipykernel_launcher.py:7: DeprecationWarning: use options instead of chrome_options\n",
      "  import sys\n"
     ]
    },
    {
     "name": "stdout",
     "output_type": "stream",
     "text": [
      "Done Creating Browser\n",
      "Box Office data for 1989 scraped\n",
      "Box Office data for 1990 scraped\n",
      "Box Office data for 1991 scraped\n",
      "Box Office data for 1992 scraped\n",
      "Box Office data for 1993 scraped\n",
      "Box Office data for 1994 scraped\n",
      "Box Office data for 1995 scraped\n",
      "Box Office data for 1996 scraped\n",
      "Box Office data for 1997 scraped\n",
      "Box Office data for 1998 scraped\n",
      "Box Office data for 1999 scraped\n",
      "Box Office data for 2000 scraped\n",
      "Box Office data for 2001 scraped\n",
      "Box Office data for 2002 scraped\n",
      "Box Office data for 2003 scraped\n",
      "Box Office data for 2004 scraped\n",
      "Box Office data for 2005 scraped\n",
      "Box Office data for 2006 scraped\n",
      "Box Office data for 2007 scraped\n",
      "Box Office data for 2008 scraped\n",
      "Box Office data for 2009 scraped\n",
      "Box Office data for 2010 scraped\n",
      "Box Office data for 2011 scraped\n",
      "Box Office data for 2012 scraped\n",
      "Box Office data for 2013 scraped\n",
      "Box Office data for 2014 scraped\n",
      "Box Office data for 2015 scraped\n",
      "Box Office data for 2016 scraped\n",
      "Box Office data for 2017 scraped\n",
      "Box Office data for 2018 scraped\n"
=======
   "execution_count": 132,
   "metadata": {},
   "outputs": [
    {
     "ename": "NameError",
     "evalue": "name 'scrape' is not defined",
     "output_type": "error",
     "traceback": [
      "\u001b[0;31m---------------------------------------------------------------------------\u001b[0m",
      "\u001b[0;31mNameError\u001b[0m                                 Traceback (most recent call last)",
      "\u001b[0;32m<ipython-input-132-eee4d3ee1d93>\u001b[0m in \u001b[0;36m<module>\u001b[0;34m\u001b[0m\n\u001b[1;32m      1\u001b[0m \u001b[0mbox_office\u001b[0m \u001b[0;34m=\u001b[0m \u001b[0mpd\u001b[0m\u001b[0;34m.\u001b[0m\u001b[0mDataFrame\u001b[0m\u001b[0;34m(\u001b[0m\u001b[0;34m)\u001b[0m\u001b[0;34m\u001b[0m\u001b[0;34m\u001b[0m\u001b[0m\n\u001b[0;32m----> 2\u001b[0;31m \u001b[0mbox_office\u001b[0m \u001b[0;34m=\u001b[0m \u001b[0mscrape\u001b[0m\u001b[0;34m(\u001b[0m\u001b[0mbox_office\u001b[0m\u001b[0;34m,\u001b[0m \u001b[0;36m1989\u001b[0m\u001b[0;34m,\u001b[0m \u001b[0;36m2019\u001b[0m\u001b[0;34m)\u001b[0m\u001b[0;34m\u001b[0m\u001b[0;34m\u001b[0m\u001b[0m\n\u001b[0m\u001b[1;32m      3\u001b[0m \u001b[0mcols\u001b[0m \u001b[0;34m=\u001b[0m \u001b[0mbox_office\u001b[0m\u001b[0;34m.\u001b[0m\u001b[0mcolumns\u001b[0m\u001b[0;34m.\u001b[0m\u001b[0mtolist\u001b[0m\u001b[0;34m(\u001b[0m\u001b[0;34m)\u001b[0m\u001b[0;34m\u001b[0m\u001b[0;34m\u001b[0m\u001b[0m\n\u001b[1;32m      4\u001b[0m \u001b[0mnew_cols\u001b[0m \u001b[0;34m=\u001b[0m \u001b[0mcols\u001b[0m\u001b[0;34m[\u001b[0m\u001b[0;36m1\u001b[0m\u001b[0;34m:\u001b[0m\u001b[0;36m2\u001b[0m\u001b[0;34m]\u001b[0m \u001b[0;34m+\u001b[0m \u001b[0mcols\u001b[0m\u001b[0;34m[\u001b[0m\u001b[0;36m0\u001b[0m\u001b[0;34m:\u001b[0m\u001b[0;36m1\u001b[0m\u001b[0;34m]\u001b[0m \u001b[0;34m+\u001b[0m \u001b[0mcols\u001b[0m\u001b[0;34m[\u001b[0m\u001b[0;36m2\u001b[0m\u001b[0;34m:\u001b[0m\u001b[0;34m]\u001b[0m\u001b[0;34m\u001b[0m\u001b[0;34m\u001b[0m\u001b[0m\n\u001b[1;32m      5\u001b[0m \u001b[0mbox_office\u001b[0m \u001b[0;34m=\u001b[0m \u001b[0mbox_office\u001b[0m\u001b[0;34m[\u001b[0m\u001b[0mnew_cols\u001b[0m\u001b[0;34m]\u001b[0m\u001b[0;34m\u001b[0m\u001b[0;34m\u001b[0m\u001b[0m\n",
      "\u001b[0;31mNameError\u001b[0m: name 'scrape' is not defined"
>>>>>>> 6b8d1830d7a28b42516c442dc91ffb05451d04b1
     ]
    }
   ],
   "source": [
    "box_office = pd.DataFrame()\n",
<<<<<<< HEAD
    "# columns = [\"Year\",\"Rank\", \"Release\", \"Distributor\", \"Gross\", \"Theaters\", \"Total Gross\", \"Release Date\"]\n",
    "print(box_office)\n",
=======
>>>>>>> 6b8d1830d7a28b42516c442dc91ffb05451d04b1
    "box_office = scrape(box_office, 1989, 2019)\n",
    "cols = box_office.columns.tolist()\n",
    "new_cols = cols[1:2] + cols[0:1] + cols[2:]\n",
    "box_office = box_office[new_cols]"
   ]
  },
  {
   "cell_type": "code",
   "execution_count": 370,
   "metadata": {},
   "outputs": [],
   "source": [
    "box_office.to_csv(\"Box_Office_Data_1989_2018.csv\")"
   ]
<<<<<<< HEAD
  },
  {
   "cell_type": "code",
   "execution_count": 1,
   "metadata": {},
   "outputs": [
    {
     "ename": "NameError",
     "evalue": "name 'pd' is not defined",
     "output_type": "error",
     "traceback": [
      "\u001b[0;31m---------------------------------------------------------------------------\u001b[0m",
      "\u001b[0;31mNameError\u001b[0m                                 Traceback (most recent call last)",
      "\u001b[0;32m<ipython-input-1-f9eaca17dd70>\u001b[0m in \u001b[0;36m<module>\u001b[0;34m\u001b[0m\n\u001b[0;32m----> 1\u001b[0;31m \u001b[0mbox_office\u001b[0m \u001b[0;34m=\u001b[0m \u001b[0mpd\u001b[0m\u001b[0;34m.\u001b[0m\u001b[0mread_csv\u001b[0m\u001b[0;34m(\u001b[0m\u001b[0;34m\"Box_Office_Data_1989_2018.csv\"\u001b[0m\u001b[0;34m)\u001b[0m\u001b[0;34m\u001b[0m\u001b[0;34m\u001b[0m\u001b[0m\n\u001b[0m\u001b[1;32m      2\u001b[0m \u001b[0mbox_office\u001b[0m\u001b[0;34m[\u001b[0m\u001b[0;34m\"gross\"\u001b[0m\u001b[0;34m]\u001b[0m \u001b[0;34m=\u001b[0m \u001b[0mbox_office\u001b[0m\u001b[0;34m.\u001b[0m\u001b[0mgross\u001b[0m\u001b[0;34m.\u001b[0m\u001b[0mastype\u001b[0m\u001b[0;34m(\u001b[0m\u001b[0;34m'float'\u001b[0m\u001b[0;34m)\u001b[0m\u001b[0;34m\u001b[0m\u001b[0;34m\u001b[0m\u001b[0m\n\u001b[1;32m      3\u001b[0m \u001b[0mbox_office\u001b[0m \u001b[0;34m=\u001b[0m \u001b[0mbox_office\u001b[0m\u001b[0;34m.\u001b[0m\u001b[0mdrop\u001b[0m\u001b[0;34m(\u001b[0m\u001b[0;34m[\u001b[0m\u001b[0;34m\"Unnamed: 0\"\u001b[0m\u001b[0;34m]\u001b[0m\u001b[0;34m,\u001b[0m \u001b[0maxis\u001b[0m \u001b[0;34m=\u001b[0m \u001b[0;36m1\u001b[0m\u001b[0;34m)\u001b[0m\u001b[0;34m\u001b[0m\u001b[0;34m\u001b[0m\u001b[0m\n",
      "\u001b[0;31mNameError\u001b[0m: name 'pd' is not defined"
     ]
    }
   ],
   "source": [
    "box_office = pd.read_csv(\"Box_Office_Data_1989_2018.csv\")\n",
    "box_office[\"gross\"] = box_office.gross.astype('float')\n",
    "box_office = box_office.drop([\"Unnamed: 0\"], axis = 1)"
   ]
  },
  {
   "cell_type": "code",
   "execution_count": 410,
   "metadata": {},
   "outputs": [
    {
     "data": {
      "text/html": [
       "<div>\n",
       "<style scoped>\n",
       "    .dataframe tbody tr th:only-of-type {\n",
       "        vertical-align: middle;\n",
       "    }\n",
       "\n",
       "    .dataframe tbody tr th {\n",
       "        vertical-align: top;\n",
       "    }\n",
       "\n",
       "    .dataframe thead th {\n",
       "        text-align: right;\n",
       "    }\n",
       "</style>\n",
       "<table border=\"1\" class=\"dataframe\">\n",
       "  <thead>\n",
       "    <tr style=\"text-align: right;\">\n",
       "      <th></th>\n",
       "      <th>year</th>\n",
       "      <th>rank</th>\n",
       "      <th>movie</th>\n",
       "      <th>studio</th>\n",
       "      <th>gross</th>\n",
       "      <th>release</th>\n",
       "    </tr>\n",
       "  </thead>\n",
       "  <tbody>\n",
       "    <tr>\n",
       "      <td>12233</td>\n",
       "      <td>2018</td>\n",
       "      <td>1</td>\n",
       "      <td>Black Panther</td>\n",
       "      <td>Walt Disney Studios Motion Pictures</td>\n",
       "      <td>700059566.0</td>\n",
       "      <td>Feb 16</td>\n",
       "    </tr>\n",
       "    <tr>\n",
       "      <td>12234</td>\n",
       "      <td>2018</td>\n",
       "      <td>2</td>\n",
       "      <td>Avengers: Infinity War</td>\n",
       "      <td>Walt Disney Studios Motion Pictures</td>\n",
       "      <td>678815482.0</td>\n",
       "      <td>Apr 27</td>\n",
       "    </tr>\n",
       "    <tr>\n",
       "      <td>12235</td>\n",
       "      <td>2018</td>\n",
       "      <td>3</td>\n",
       "      <td>The Incredibles 2</td>\n",
       "      <td>Walt Disney Studios Motion Pictures</td>\n",
       "      <td>608581744.0</td>\n",
       "      <td>Jun 15</td>\n",
       "    </tr>\n",
       "    <tr>\n",
       "      <td>12236</td>\n",
       "      <td>2018</td>\n",
       "      <td>4</td>\n",
       "      <td>Jurassic World: Fallen Kingdom</td>\n",
       "      <td>Universal Pictures</td>\n",
       "      <td>417719760.0</td>\n",
       "      <td>Jun 22</td>\n",
       "    </tr>\n",
       "    <tr>\n",
       "      <td>12237</td>\n",
       "      <td>2018</td>\n",
       "      <td>5</td>\n",
       "      <td>Deadpool 2</td>\n",
       "      <td>Twentieth Century Fox</td>\n",
       "      <td>318491426.0</td>\n",
       "      <td>May 18</td>\n",
       "    </tr>\n",
       "    <tr>\n",
       "      <td>...</td>\n",
       "      <td>...</td>\n",
       "      <td>...</td>\n",
       "      <td>...</td>\n",
       "      <td>...</td>\n",
       "      <td>...</td>\n",
       "      <td>...</td>\n",
       "    </tr>\n",
       "    <tr>\n",
       "      <td>13149</td>\n",
       "      <td>2018</td>\n",
       "      <td>917</td>\n",
       "      <td>Ridge Runners</td>\n",
       "      <td>Indican Pictures</td>\n",
       "      <td>25183.0</td>\n",
       "      <td>Jan 19</td>\n",
       "    </tr>\n",
       "    <tr>\n",
       "      <td>13150</td>\n",
       "      <td>2018</td>\n",
       "      <td>918</td>\n",
       "      <td>Husband Material</td>\n",
       "      <td>Eros International</td>\n",
       "      <td>567417.0</td>\n",
       "      <td>Sep 14</td>\n",
       "    </tr>\n",
       "    <tr>\n",
       "      <td>13151</td>\n",
       "      <td>2018</td>\n",
       "      <td>919</td>\n",
       "      <td>Born to Be Wild</td>\n",
       "      <td>Warner Bros.</td>\n",
       "      <td>25921547.0</td>\n",
       "      <td>Apr 8</td>\n",
       "    </tr>\n",
       "    <tr>\n",
       "      <td>13152</td>\n",
       "      <td>2018</td>\n",
       "      <td>920</td>\n",
       "      <td>The Family</td>\n",
       "      <td>Film Movement</td>\n",
       "      <td>3696.0</td>\n",
       "      <td>Aug 3</td>\n",
       "    </tr>\n",
       "    <tr>\n",
       "      <td>13153</td>\n",
       "      <td>2018</td>\n",
       "      <td>921</td>\n",
       "      <td>Cocote</td>\n",
       "      <td>Grasshopper Film</td>\n",
       "      <td>3000.0</td>\n",
       "      <td>Aug 3</td>\n",
       "    </tr>\n",
       "  </tbody>\n",
       "</table>\n",
       "<p>921 rows × 6 columns</p>\n",
       "</div>"
      ],
      "text/plain": [
       "       year  rank                           movie  \\\n",
       "12233  2018     1                   Black Panther   \n",
       "12234  2018     2          Avengers: Infinity War   \n",
       "12235  2018     3               The Incredibles 2   \n",
       "12236  2018     4  Jurassic World: Fallen Kingdom   \n",
       "12237  2018     5                      Deadpool 2   \n",
       "...     ...   ...                             ...   \n",
       "13149  2018   917                   Ridge Runners   \n",
       "13150  2018   918                Husband Material   \n",
       "13151  2018   919                 Born to Be Wild   \n",
       "13152  2018   920                      The Family   \n",
       "13153  2018   921                          Cocote   \n",
       "\n",
       "                                    studio        gross release  \n",
       "12233  Walt Disney Studios Motion Pictures  700059566.0  Feb 16  \n",
       "12234  Walt Disney Studios Motion Pictures  678815482.0  Apr 27  \n",
       "12235  Walt Disney Studios Motion Pictures  608581744.0  Jun 15  \n",
       "12236                   Universal Pictures  417719760.0  Jun 22  \n",
       "12237                Twentieth Century Fox  318491426.0  May 18  \n",
       "...                                    ...          ...     ...  \n",
       "13149                     Indican Pictures      25183.0  Jan 19  \n",
       "13150                   Eros International     567417.0  Sep 14  \n",
       "13151                         Warner Bros.   25921547.0   Apr 8  \n",
       "13152                        Film Movement       3696.0   Aug 3  \n",
       "13153                     Grasshopper Film       3000.0   Aug 3  \n",
       "\n",
       "[921 rows x 6 columns]"
      ]
     },
     "execution_count": 410,
     "metadata": {},
     "output_type": "execute_result"
    }
   ],
   "source": [
    "#Ready for Visualization\n",
    "box_office[box_office[\"year\"] == 2018]\n",
    "#We can go by month with the visual"
   ]
  },
  {
   "cell_type": "code",
   "execution_count": 412,
   "metadata": {},
   "outputs": [
    {
     "data": {
      "text/plain": [
       "array(['Warner Bros.', 'Paramount Pictures', 'Columbia Pictures',\n",
       "       'Universal Pictures', 'Walt Disney Studios Motion Pictures', '-',\n",
       "       'Twentieth Century Fox', 'United Artists', 'Orion Pictures',\n",
       "       'Avenue Pictures Productions', 'New Line Cinema',\n",
       "       'Metro-Goldwyn-Mayer (MGM)', 'Cinecom Pictures', 'Roxie Releasing',\n",
       "       'New World Pictures', 'Taurus Entertainment Company',\n",
       "       'Corsair Pictures', 'New Century', 'Four Seasons',\n",
       "       'The Samuel Goldwyn Company', 'Orion Classics', 'Skouras Pictures',\n",
       "       'Hemdale', 'First Run', 'Vestron Pictures', 'Miramax',\n",
       "       'Apollo Associates', 'Triumph Releasing Corporation',\n",
       "       'Island Pictures', 'Alive Films', 'Trimark Pictures',\n",
       "       'Sony Pictures Releasing', 'Concorde Pictures', 'Troma',\n",
       "       'Aries Films', 'Rainbow Releasing', 'Academy Entertainment',\n",
       "       'Castle Hill Productions', 'Fine Line Features',\n",
       "       'Expanded Entertainment', 'Triton Pictures', 'Circle Films',\n",
       "       'October Films', 'Sony Pictures Classics',\n",
       "       'Cannon Film Distributors', 'Empowerment Project', 'IRS Media',\n",
       "       'Outsider Films', 'Kino International', 'Strand Releasing',\n",
       "       'Hansen Entertainment', 'Two Moon Releasing',\n",
       "       'Gramercy Pictures (I)', 'Dimension Films', 'Tara Releasing',\n",
       "       'First Look International', 'Lionsgate', 'Shadow Distribution',\n",
       "       'Ocean Releasing', 'Seventh Art Releasing',\n",
       "       'DreamWorks Distribution', 'Fox Searchlight Pictures',\n",
       "       'New Yorker Films', 'Artisan Entertainment',\n",
       "       'Banner Entertainment', 'Zeitgeist Films', 'Artistic License',\n",
       "       'Northern Arts Entertainment', 'Plainview Pictures',\n",
       "       'MacGillivray Freeman Films', 'PolyGram',\n",
       "       'Providence Entertainment', 'Rialto Pictures', 'Cowboy Pictures',\n",
       "       'Alliance Atlantis Vivafilm', 'Wellspring Media', 'IMAX',\n",
       "       'USA Films', 'Destination Films', 'Eros International',\n",
       "       'Good Machine', 'Independent Artists', 'Lot 47 Films',\n",
       "       'Paramount Classics', 'Palm Pictures', 'Sceneries Distribution',\n",
       "       'WinStar Cinema', 'Phaedra Cinema', 'Focus Features',\n",
       "       'Video Sound', 'Indican Pictures', 'Odeon', 'Empire Pictures Inc.',\n",
       "       'IDP Distribution', 'Shooting Gallery', 'Screen Gems',\n",
       "       'Regent Releasing', 'Silver Nitrate', 'Monarch',\n",
       "       'Revolution Studios', 'Newmarket Films', '8x Entertainment',\n",
       "       'IFC Films', 'Avatar Films', 'Access Entertainment',\n",
       "       'Excel Entertainment', 'Panorama Entertainment',\n",
       "       'Two Silks Releasing', 'Arrow Releasing', 'Cinemax',\n",
       "       'Attitude Films', 'Social Media Productions',\n",
       "       'Cinema Village Features', 'Menemsha Films', 'THINKFilm',\n",
       "       'Media Partners', 'Five & Two Pictures', 'Christal Films',\n",
       "       'Outrider Pictures', 'Innovation Film Group (IFG)',\n",
       "       'Peninsula Films', 'Milestone', 'MAC Releasing', 'Magic Lamp',\n",
       "       'Magnolia Pictures', 'Vitagraph Films', 'National Amusements',\n",
       "       'Icarus Films', 'TLA Releasing', 'Gabriel Film Group',\n",
       "       'Leisure Time Features', 'Tartan', 'ArtMattan Productions',\n",
       "       'Cheapo Films', 'Boll Films', 'Five Sisters Productions', 'Tips',\n",
       "       'Sundance Film Series', 'Lang Films', 'Films Philos',\n",
       "       'Spark Media', 'Music Masala Films', 'ADV Films',\n",
       "       '120 Degree Films', 'Small Island Films', 'The Cinema Guild',\n",
       "       'Sony Pictures Repertory', 'Pioneer', 'Loop Filmworks',\n",
       "       'Film Movement', 'Arab Film Distribution', 'Manifesto Films',\n",
       "       'Balcony Releasing', 'Cinema Tropical',\n",
       "       'Miracle Film Distribution', 'Cinema Four', 'R.S. Entertainment',\n",
       "       'Tidepoint Pictures', 'Arrival Pictures', 'Running Entertainment',\n",
       "       'Emerging Pictures', 'Abramorama', 'SK Films',\n",
       "       'Warner Independent Pictures (WIP)', 'Televisa Cine',\n",
       "       'Mongrel Media', 'UTV Motion Pictures', 'Arenas Entertainment',\n",
       "       'Rogue Pictures', 'Dada Films', 'Cinema Service',\n",
       "       'Slugger Pictures', 'Cinema Libre Studio', 'Koch Lorber Films',\n",
       "       'Slowhand Cinema Releasing', 'Lantern Lane Entertainment',\n",
       "       'Norador Productions', 'RKO Radio Pictures', 'Wolfe Releasing',\n",
       "       'Hannover House', 'Illuminare Entertainment',\n",
       "       'Prime Media Pictures', 'Rogue Arts', 'Screen Media Films',\n",
       "       'Unico Entertainment', 'ISA Releasing', 'RBC Radio', 'Plexifilm',\n",
       "       'Organic Pictures', 'Tag Entertainment', 'Atopia', 'Kathi Arts',\n",
       "       'The Weinstein Company', 'Giant Screen Films', 'Picturehouse',\n",
       "       'Vineyard Distribution', 'Freestyle Releasing',\n",
       "       'First Independent Pictures', 'Geneon Entertainment', 'Cineville',\n",
       "       'California Newsreel', 'Echo Bridge Entertainment',\n",
       "       'International Film Circuit', 'Fader Films', 'Fabrication Films',\n",
       "       'High Cotton Films', 'Silver Plane Films', 'Dinsdale Releasing',\n",
       "       'Cockeyed Caravan', 'Rumur Releasing',\n",
       "       'Sony Pictures Home Entertainment', 'Goodbye Cruel Releasing',\n",
       "       'Romar Entertainment', 'HB Filmworks', 'Hummingbird Pictures',\n",
       "       'Lumiere Productions', 'Viz Media', 'DreamWorks',\n",
       "       'Yari Film Group Releasing', 'Paramount Vantage', 'Dragon Dynasty',\n",
       "       'Fox Atomic', 'Adlabs Films', 'Libero', 'RAM Entertainment',\n",
       "       'Cyan Pictures', 'City Lights Pictures', 'Lovett Releasing',\n",
       "       'First Stripe Productions', 'Kindred Media Group',\n",
       "       'Meadowbrook Pictures', 'Truly Indie', 'Reel Source',\n",
       "       'Maya Entertainment', 'Thread Cross Films',\n",
       "       'Ariztical Entertainment', 'Rocky Mountain Pictures',\n",
       "       'Quixotic Media', 'Skylight Pictures', 'ABKCO Films',\n",
       "       'The Bigger Picture', 'Sagewood Cinema Ventures', 'The 7th Floor',\n",
       "       'Delphi Film Foundation', 'HP Releasing', 'Olive Films',\n",
       "       'Frontier Films', 'Four Eyed Monsters', 'Argot Pictures',\n",
       "       \"Dog Lover's Symphony\", 'Oilrag Productions',\n",
       "       'Bullz Eye Productions', 'Tilapia Film', 'Newport Films',\n",
       "       'Roadside Attractions', 'Chicago Pictures',\n",
       "       'National Geographic Entertainment', 'Summit Entertainment',\n",
       "       'ImaginAsian Pictures', '518 Media', 'Warrior Poets Releasing',\n",
       "       'Anchor Bay Films', 'Janus Films', 'Luminous Velocity Releasing',\n",
       "       'Eleven Arts', 'Wildcat Releasing', 'Monterey Media',\n",
       "       'After Dark Films', 'Priority Films', 'Codeblack Entertainment',\n",
       "       'Outsider Pictures', 'Success Films', 'Halo8 Releasing',\n",
       "       'Elephant Eye Films', 'Xenon Pictures', 'Stand Up Films',\n",
       "       'New Love Films', '600 West Productions', 'Arthouse Films',\n",
       "       'D Street Releasing', 'Green Forest Films',\n",
       "       'The Documentary Group', 'Radio London Films',\n",
       "       'Lonely Seal Releasing', 'Diversa Films',\n",
       "       'Red Envelope Entertainment', 'Mitropoulos Films',\n",
       "       'Sky Island Films', 'Overture Films', 'Studio 18',\n",
       "       'Vivendi Entertainment', 'Third Rail Releasing',\n",
       "       'Candlelight Media Group', 'Crane Movie Company',\n",
       "       'Super Chief Films', 'Fair Trade Pictures',\n",
       "       'Tentmakers Entertainment', 'Image Entertainment',\n",
       "       'Dark Coast Pictures', 'Music Box Films', 'Oscilloscope',\n",
       "       'Alluvial Film Company', 'Embrem Entertainment',\n",
       "       'Stone Five Studios', 'Typecast Releasing', 'InterPositive Media',\n",
       "       'Sidetrack Films', 'Waldo West Productions', 'The Film Desk',\n",
       "       'Cavalier Films', 'MCR Releasing', 'Myriad Pictures',\n",
       "       'Unison Films', 'Liberation Entertainment', 'Mile End Films',\n",
       "       'Mandt Bros. Productions', 'Lafayette Films',\n",
       "       'Engel Entertainment', 'Mountain Top Releasing',\n",
       "       'Arts Alliance America', 'MPI Media Group', 'Apparition',\n",
       "       'Reliance Big Pictures', '3D Entertainment',\n",
       "       'Shorts International', 'Full Circle Releasing', 'Zipporah Films',\n",
       "       'American Zoetrope', 'Cinedigm Entertainment Group',\n",
       "       'Variance Films', 'Paladin', 'Palisades Tartan',\n",
       "       '21st Century Film Production', 'Lorber Films', 'Corinth Films',\n",
       "       'Mypheduh Films', 'Trela Media', 'Roebuck Media', 'Aliquot Films',\n",
       "       'Mangusta Productions', 'Inspired Life', 'MSK Productions',\n",
       "       'Sumbadhat Productions', 'Nocturnal Features', '28 Entertainment',\n",
       "       'CBS Films', 'Relativity Media', 'GKIDS', 'CJ Entertainment',\n",
       "       'CanZion Films', 'Blue Collar Releasing',\n",
       "       'China Lion Film Distribution', 'Drafthouse Films',\n",
       "       'Parallel Media', '7-57 Releasing', 'New Films Cinema',\n",
       "       'CFI Releasing', 'IndieVest Pictures', 'Worldplay',\n",
       "       'The Film Collaborative', 'Grassroots Films', 'Walking Shadows',\n",
       "       'Darius Films', 'New American Vision', 'Cinema Purgatorio',\n",
       "       'Cabin Films', 'Delaware Pictures', 'Area 23a', 'Phase 4 Films',\n",
       "       'The World According to Shorts', 'Flicker Alley',\n",
       "       'Rockstone Releasing', 'All Rise Films', 'Clay Way Media',\n",
       "       'Driving With Our Eyes Shut', 'FilmDistrict',\n",
       "       'Open Road Films (II)', 'Visio Entertainment', 'Quaker Media',\n",
       "       'ATO Pictures', 'SModcast Pictures', 'NeoClassics Films',\n",
       "       'Peace Film', 'Submarine Deluxe', 'Arc Entertainment',\n",
       "       'Tribeca Film', 'Motion Film Group', 'Millennium Entertainment',\n",
       "       'Long Shot Factory', 'Shotown Pictures', 'Rocket Releasing',\n",
       "       'Kino Lorber', 'Tostie Productions', 'FilmDemic',\n",
       "       'Entertainment One', 'Kinobild Releasing', 'Rogers & Cowan/PMK',\n",
       "       'Blackrock Films', 'Breaking Glass Pictures',\n",
       "       'Check Entertainment', 'LD Entertainment',\n",
       "       'Atlas Distribution Company', 'Cohen Media Group',\n",
       "       'Kenn Viselman Presents', 'FIP', 'Page 124 Productions',\n",
       "       'Well Go USA Entertainment', 'Loki Films', 'Adopt Films',\n",
       "       'ArtAffects Entertainment', 'The Film Arcade', 'In the Family',\n",
       "       'Brainstorm Media', 'Dutchmen Films', 'GoDigital', 'S2BN Films',\n",
       "       '7A Productions', 'Datari Turner Productions',\n",
       "       'Pro-Motion Pictures', 'House Lights Media', 'Gravity Arch',\n",
       "       'Cortelyou Films', 'Feature Presentations Releasing',\n",
       "       'Gigapix Releasing', 'A24', 'RADiUS-TWC', 'High Top Releasing',\n",
       "       'EchoLight Studios', 'GathrFilms', 'Purdie Distribution',\n",
       "       'RCR Distribution', 'The Vladar Company',\n",
       "       'Pan Media & Entertainment', 'Ketchup Entertainment',\n",
       "       'Main Street Films', 'Film Collective', 'Focus World',\n",
       "       \"Gabriel's Messenger Films\", 'Noujaim Films', 'Le Petit Canyon',\n",
       "       'XLrator Media', 'Onyx Films', 'Cinipix', 'Carlotta Films',\n",
       "       'FilmBuff', 'Steelyard Pictures', 'Active Fox Productions',\n",
       "       'GoGoGo Entertainment', 'NoCoast Artists', 'Janson Media',\n",
       "       'Follow Your Nose Films', 'Vanguardia Films', 'Gold Cap Films',\n",
       "       'Striped Entertainment', 'Under The Milky Way', 'The Ashton Times',\n",
       "       'Reactor 88 Studios', 'Distrib Films', 'Clarius Entertainment',\n",
       "       'Screenvision', 'Saban Films', 'Ten Furlongs',\n",
       "       'Ocean Avenue Entertainment', 'American Experience Films',\n",
       "       'JSC Entertainment', 'Amplify', 'Bond/360',\n",
       "       'Proud Mother Pictures', 'Saboteur Media', 'The Orchard',\n",
       "       'Gravitas Ventures', 'Starz Digital Media', 'Spacey',\n",
       "       'Providence Film Partners', 'Big World Pictures',\n",
       "       'Kartemquin Films', 'Barking Cow Media Group',\n",
       "       'Revolver Entertainment', 'Parade Deck Films',\n",
       "       'Fox Trail Productions', 'Vertical Entertainment',\n",
       "       'Shout! Factory', 'Scarlet Sky Productions',\n",
       "       \"Brothers' Ink Productions\", 'Liberty Studios',\n",
       "       'Moving Visions Entertainment', 'Doppelganger Releasing',\n",
       "       'Phantom Pain Films', 'STX Entertainment', 'Broad Green Pictures',\n",
       "       'EuropaCorp', 'Pure Flix Entertainment',\n",
       "       'FUNimation Entertainment', 'Bleecker Street Media', 'BH Tilt',\n",
       "       'Cinelou Films', 'Universal Home Video', 'Aascar Film',\n",
       "       'Thinking Man Films', 'Alchemy', 'FilmRise', 'Blue Sky Cinema',\n",
       "       'Lionsgate Premiere', 'BBC Worldwide North America',\n",
       "       'Strasson Group', 'GVN Releasing', 'Participant', 'Fork Films',\n",
       "       'Watchman Pictures', 'Hanover Multimedia',\n",
       "       'The American Film Company', 'Dark Frames',\n",
       "       'Reel One Entertainment', 'Zell-Koj Studio', 'Monument Releasing',\n",
       "       'Fathom Events', 'LifeWay Films', 'Tugg', 'JBG Pictures',\n",
       "       'Forewarned', 'Grasshopper Film', 'Lightyear Entertainment',\n",
       "       'Dreamwest Pictures', 'Cartuna', 'Transatlantic',\n",
       "       'Linn Productions', 'Matson Films', '25th Frame',\n",
       "       'Electric Entertainment', 'Red Dirt Pictures', 'Eammon Films',\n",
       "       'WRA Productions', 'Vanish Films', 'Wonder Vision',\n",
       "       'Hey Jude Productions', 'MarVista Entertainment',\n",
       "       'Entertainment Studios Motion Pictures', 'Great India Films',\n",
       "       'Annapurna Pictures', 'Affirm Films', 'Neon', 'Amazon Studios',\n",
       "       'The H Collective', 'PBS Distribution', 'Sumerian Films',\n",
       "       'Gunpowder & Sky', 'Good Deed Entertainment', 'Newcity', 'Carusel',\n",
       "       'TriCoast Worldwide', 'Arrow Films', 'Artsploitation Films',\n",
       "       'Studio 8', 'Trafalgar Releasing', 'Greenwich Entertainment',\n",
       "       'Spanglish Movies', 'Tulip Pictures', 'Conglomerate Media', 'MUBI',\n",
       "       'Home Box Office (HBO)', 'Blue Fox Entertainment',\n",
       "       'Great Point Media', 'Idle Wild Films', 'SingularDTV',\n",
       "       'Ammo Content', 'Mr. Pictures',\n",
       "       'Gaumont British Picture Corporation', '4th Row Films',\n",
       "       'Synergetic Distribution', 'Elevation Pictures'], dtype=object)"
      ]
     },
     "execution_count": 412,
     "metadata": {},
     "output_type": "execute_result"
    }
   ],
   "source": [
    "box_office.studio.nunique() #570 unique studios\n",
    "box_office.studio.unique() #We Will visualize the largest (n) studios, 10 or 15\n",
    "#and group the others in (other) - whatever sums up to what we need in a visualization\n"
   ]
  },
  {
   "cell_type": "code",
   "execution_count": null,
   "metadata": {},
   "outputs": [],
   "source": []
=======
>>>>>>> 6b8d1830d7a28b42516c442dc91ffb05451d04b1
  }
 ],
 "metadata": {
  "kernelspec": {
   "display_name": "Python 3",
   "language": "python",
   "name": "python3"
  },
  "language_info": {
   "codemirror_mode": {
    "name": "ipython",
    "version": 3
   },
   "file_extension": ".py",
   "mimetype": "text/x-python",
   "name": "python",
   "nbconvert_exporter": "python",
   "pygments_lexer": "ipython3",
   "version": "3.7.4"
  }
 },
 "nbformat": 4,
 "nbformat_minor": 4
}
