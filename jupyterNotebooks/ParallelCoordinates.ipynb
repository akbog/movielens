{
 "cells": [
  {
   "cell_type": "code",
   "execution_count": null,
   "metadata": {},
   "outputs": [],
   "source": [
    "# Jupyter Notebook for the Parallel Coordinates Data"
   ]
  },
  {
   "cell_type": "code",
   "execution_count": 2,
   "metadata": {},
   "outputs": [],
   "source": [
    "import pandas as pd\n",
    "from datetime import datetime\n",
    "csvFolder = \"../csvData/\"\n",
    "cleaned_data = pd.read_csv(\"../csvData/box_office_data_cleaned.csv\", index_col=\"season\")"
   ]
  },
  {
   "cell_type": "code",
   "execution_count": 3,
   "metadata": {},
   "outputs": [],
   "source": [
    "quarters = [\"Q1\",\"Q2\",\"Q3\",\"Q4\"]\n",
    "years = list(str(date) for date in range(1989,2019))\n",
    "seasons=cleaned_data.loc[[\"Q1 1989\",\"Q2 1989\"]]\n",
    "seasons_dfs = []\n",
    "new_df = pd.DataFrame()\n",
    "for year in years:\n",
    "    for quarter in quarters:\n",
    "        seasons_dfs.append(new_df.append(cleaned_data.loc[quarter + ' ' + year]))\n",
    "        new_df = pd.DataFrame()\n",
    "current_index = 0\n",
    "year_dfs = [pd.DataFrame for i in range(30)]\n",
    "\n",
    "# Creates the dataframe for yearly data of the movies\n",
    "for i in range(30):\n",
    "    year_dfs[i] = seasons_dfs[current_index].append(seasons_dfs[current_index+1:current_index+4])\n",
    "    current_index += 4\n",
    "    \n",
    "# Creates the dataframe for top grossing movies per year in the last 30 years\n",
    "top10movies_per_year = pd.DataFrame()\n",
    "top20movies_per_year = pd.DataFrame()\n",
    "for df in year_dfs:\n",
    "#     top10movies_per_year = top10movies_per_year.append(df.nlargest(10,'gross'))\n",
    "    tempdf = df.nlargest(20,'gross')\n",
    "#     tempdf['movie'].unique()\n",
    "#     tempdf = tempdf.nlargest(10,'gross')\n",
    "    top20movies_per_year = top20movies_per_year.append(tempdf)\n",
    "#     top10movies_per_year = top10movies_per_year.append(df.nlargest(20,'gross'))\n",
    "#     top10movies_per_year = top10movies_per_year.append(tempdf)\n",
    "# top20movies_per_year\n",
    "unique_movies = top20movies_per_year['movie'].unique()\n",
    "# top10movies_per_year\n",
    "top20movies_per_year\n",
    "# len(top20movies_per_year)\n",
    "top20movies_per_year.to_csv(csvFolder + \"top_20_grossing_movies_per_year.csv\")"
   ]
  },
  {
   "cell_type": "code",
   "execution_count": 7,
   "metadata": {},
   "outputs": [],
   "source": [
    "# Generates the csv file for top grossing movies per year in the last 30 years\n",
    "# top10movies_per_year.to_csv(csvFolder + \"top_10_grossing_movies_per_year.csv\")\n",
    "top20movies_per_year_cleaned = pd.read_csv(\"../csvData/top_20_grossing_movies_per_year_cleaned.csv\")\n",
    "top20movies_per_year_cleaned[:-145]\n",
    "top20movies_per_year_cleaned = top20movies_per_year_cleaned[:-145]\n",
    "top20movies_per_year_cleaned[['quarter', 'year']] = top20movies_per_year_cleaned.season.str.split(' ', expand=True)\n",
    "top20movies_per_year_cleaned = top20movies_per_year_cleaned.sort_values('year')\n",
    "temp_df = pd.DataFrame()\n",
    "new_df = pd.DataFrame()\n",
    "\n",
    "\n",
    "# Make the DataFrame for the desired amount of movies per year\n",
    "top10movies_per_year_cleaned = pd.DataFrame()\n",
    "top5movies_per_year_cleaned = pd.DataFrame()\n",
    "\n",
    "quarters = [\"Q1\",\"Q2\",\"Q3\",\"Q4\"]\n",
    "years = list(str(date) for date in range(1989,2019))\n",
    "yearly_dfs = []\n",
    "for year in years:\n",
    "    # Change the first argument in the nlargest function to get the desired amoount of movies you want from the top 20\n",
    "#     temp_df = top20movies_per_year_cleaned.loc[top20movies_per_year_cleaned['year'] == year].nlargest(10,'gross')\n",
    "    temp_df = top20movies_per_year_cleaned.loc[top20movies_per_year_cleaned['year'] == year].nlargest(5,'gross')\n",
    "    yearly_dfs.append(temp_df)\n",
    "    temp_df = pd.DataFrame()\n",
    "len(yearly_dfs)\n",
    "for df in yearly_dfs:\n",
    "#     top10movies_per_year_cleaned = top10movies_per_year_cleaned.append(df).sort_values('year')\n",
    "    top5movies_per_year_cleaned = top5movies_per_year_cleaned.append(df).sort_values('year')\n",
    "\n",
    "# Make the desired csv file    \n",
    "top10movies_per_year_cleaned.to_csv(csvFolder + \"top10movies_per_year_cleaned.csv\")\n",
    "\n",
    "top5movies_per_year_cleaned.to_csv(csvFolder + \"top5movies_per_year_cleaned.csv\")\n",
    "\n",
    "# top20movies_per_year_cleaned"
   ]
  },
  {
   "cell_type": "code",
   "execution_count": null,
   "metadata": {},
   "outputs": [],
   "source": [
    "# Generates the csv files for yearly data of the movies\n",
    "for df in year_dfs:\n",
    "    df.to_csv(csvFolder + \"year\" + years[curr] + \"_dfs.csv\")"
   ]
  },
  {
   "cell_type": "code",
   "execution_count": null,
   "metadata": {},
   "outputs": [],
   "source": [
    "cleaned = cleaned_data.sort_values('release',ascending=True)"
   ]
  },
  {
   "cell_type": "code",
   "execution_count": null,
   "metadata": {},
   "outputs": [],
   "source": [
    "cleaned"
   ]
  },
  {
   "cell_type": "code",
   "execution_count": null,
   "metadata": {},
   "outputs": [],
   "source": []
  }
 ],
 "metadata": {
  "kernelspec": {
   "display_name": "Python 3",
   "language": "python",
   "name": "python3"
  },
  "language_info": {
   "codemirror_mode": {
    "name": "ipython",
    "version": 3
   },
   "file_extension": ".py",
   "mimetype": "text/x-python",
   "name": "python",
   "nbconvert_exporter": "python",
   "pygments_lexer": "ipython3",
   "version": "3.6.1"
  }
 },
 "nbformat": 4,
 "nbformat_minor": 4
}
