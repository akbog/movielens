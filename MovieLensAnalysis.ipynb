{
 "cells": [
  {
   "cell_type": "code",
   "execution_count": 1,
   "metadata": {},
   "outputs": [],
   "source": [
    "import pandas as pd\n",
    "import numpy as np\n",
    "import matplotlib.pyplot as plt\n",
    "import time\n",
    "from datetime import datetime\n",
    "%matplotlib inline"
   ]
  },
  {
   "cell_type": "code",
   "execution_count": 2,
   "metadata": {},
   "outputs": [
    {
     "name": "stdout",
     "output_type": "stream",
     "text": [
      "(3683, 4)\n",
      "links (9742, 3)\n",
      "movies (9742, 3)\n",
      "ratings (100836, 4)\n",
      "tags (3683, 4)\n"
     ]
    }
   ],
   "source": [
    "links = pd.read_csv(r\"ml-latest-small/links.csv\") #Links show Movie ID, IMDB ID, and TMDB ID\n",
    "movies = pd.read_csv(r\"ml-latest-small/movies.csv\") #Movies Show Movie ID, Title, Genres\n",
    "ratings = pd.read_csv(r\"ml-latest-small/ratings.csv\") #Ratings show userid, movieid, ratings, and timestamps (Can we apply a flocking algorithm?)\n",
    "tags = pd.read_csv(r\"ml-latest-small/tags.csv\") #User ID, Movie ID, Tag, and Timestamp\n",
    "print(tags.shape)\n",
    "tags.timestamp = tags.apply(lambda x : datetime.strptime(time.ctime(x.timestamp),\"%a %b %d %H:%M:%S %Y\"), axis = 1)\n",
    "ratings.timestamp = ratings.apply(lambda x : datetime.strptime(time.ctime(x.timestamp),\"%a %b %d %H:%M:%S %Y\"), axis = 1)\n",
    "print(\"links\", links.shape) \n",
    "print(\"movies\", movies.shape)\n",
    "print(\"ratings\", ratings.shape)\n",
    "print(\"tags\", tags.shape)\n",
    "#What do we need to do? / Basic Ideas\n",
    "# 1. Can we identify trend setters?\n",
    "# 2. Create node visual for genre clusters (20 Genres, which tend to cluster together)\n",
    "# 3. Identify associations in tags"
   ]
  },
  {
   "cell_type": "code",
   "execution_count": 3,
   "metadata": {},
   "outputs": [
    {
     "data": {
      "text/html": [
       "<div>\n",
       "<style scoped>\n",
       "    .dataframe tbody tr th:only-of-type {\n",
       "        vertical-align: middle;\n",
       "    }\n",
       "\n",
       "    .dataframe tbody tr th {\n",
       "        vertical-align: top;\n",
       "    }\n",
       "\n",
       "    .dataframe thead th {\n",
       "        text-align: right;\n",
       "    }\n",
       "</style>\n",
       "<table border=\"1\" class=\"dataframe\">\n",
       "  <thead>\n",
       "    <tr style=\"text-align: right;\">\n",
       "      <th></th>\n",
       "      <th>movieId</th>\n",
       "      <th>imdbId</th>\n",
       "      <th>tmdbId</th>\n",
       "    </tr>\n",
       "  </thead>\n",
       "  <tbody>\n",
       "    <tr>\n",
       "      <td>0</td>\n",
       "      <td>1</td>\n",
       "      <td>114709</td>\n",
       "      <td>862.0</td>\n",
       "    </tr>\n",
       "    <tr>\n",
       "      <td>1</td>\n",
       "      <td>2</td>\n",
       "      <td>113497</td>\n",
       "      <td>8844.0</td>\n",
       "    </tr>\n",
       "    <tr>\n",
       "      <td>2</td>\n",
       "      <td>3</td>\n",
       "      <td>113228</td>\n",
       "      <td>15602.0</td>\n",
       "    </tr>\n",
       "    <tr>\n",
       "      <td>3</td>\n",
       "      <td>4</td>\n",
       "      <td>114885</td>\n",
       "      <td>31357.0</td>\n",
       "    </tr>\n",
       "    <tr>\n",
       "      <td>4</td>\n",
       "      <td>5</td>\n",
       "      <td>113041</td>\n",
       "      <td>11862.0</td>\n",
       "    </tr>\n",
       "  </tbody>\n",
       "</table>\n",
       "</div>"
      ],
      "text/plain": [
       "   movieId  imdbId   tmdbId\n",
       "0        1  114709    862.0\n",
       "1        2  113497   8844.0\n",
       "2        3  113228  15602.0\n",
       "3        4  114885  31357.0\n",
       "4        5  113041  11862.0"
      ]
     },
     "execution_count": 3,
     "metadata": {},
     "output_type": "execute_result"
    }
   ],
   "source": [
    "links.head()"
   ]
  },
  {
   "cell_type": "code",
   "execution_count": 4,
   "metadata": {},
   "outputs": [
    {
     "data": {
      "text/html": [
       "<div>\n",
       "<style scoped>\n",
       "    .dataframe tbody tr th:only-of-type {\n",
       "        vertical-align: middle;\n",
       "    }\n",
       "\n",
       "    .dataframe tbody tr th {\n",
       "        vertical-align: top;\n",
       "    }\n",
       "\n",
       "    .dataframe thead th {\n",
       "        text-align: right;\n",
       "    }\n",
       "</style>\n",
       "<table border=\"1\" class=\"dataframe\">\n",
       "  <thead>\n",
       "    <tr style=\"text-align: right;\">\n",
       "      <th></th>\n",
       "      <th>movieId</th>\n",
       "      <th>title</th>\n",
       "      <th>genres</th>\n",
       "    </tr>\n",
       "  </thead>\n",
       "  <tbody>\n",
       "    <tr>\n",
       "      <td>0</td>\n",
       "      <td>1</td>\n",
       "      <td>Toy Story (1995)</td>\n",
       "      <td>Adventure|Animation|Children|Comedy|Fantasy</td>\n",
       "    </tr>\n",
       "    <tr>\n",
       "      <td>1</td>\n",
       "      <td>2</td>\n",
       "      <td>Jumanji (1995)</td>\n",
       "      <td>Adventure|Children|Fantasy</td>\n",
       "    </tr>\n",
       "    <tr>\n",
       "      <td>2</td>\n",
       "      <td>3</td>\n",
       "      <td>Grumpier Old Men (1995)</td>\n",
       "      <td>Comedy|Romance</td>\n",
       "    </tr>\n",
       "    <tr>\n",
       "      <td>3</td>\n",
       "      <td>4</td>\n",
       "      <td>Waiting to Exhale (1995)</td>\n",
       "      <td>Comedy|Drama|Romance</td>\n",
       "    </tr>\n",
       "    <tr>\n",
       "      <td>4</td>\n",
       "      <td>5</td>\n",
       "      <td>Father of the Bride Part II (1995)</td>\n",
       "      <td>Comedy</td>\n",
       "    </tr>\n",
       "  </tbody>\n",
       "</table>\n",
       "</div>"
      ],
      "text/plain": [
       "   movieId                               title  \\\n",
       "0        1                    Toy Story (1995)   \n",
       "1        2                      Jumanji (1995)   \n",
       "2        3             Grumpier Old Men (1995)   \n",
       "3        4            Waiting to Exhale (1995)   \n",
       "4        5  Father of the Bride Part II (1995)   \n",
       "\n",
       "                                        genres  \n",
       "0  Adventure|Animation|Children|Comedy|Fantasy  \n",
       "1                   Adventure|Children|Fantasy  \n",
       "2                               Comedy|Romance  \n",
       "3                         Comedy|Drama|Romance  \n",
       "4                                       Comedy  "
      ]
     },
     "execution_count": 4,
     "metadata": {},
     "output_type": "execute_result"
    }
   ],
   "source": [
    "movies.head()"
   ]
  },
  {
   "cell_type": "code",
   "execution_count": 5,
   "metadata": {},
   "outputs": [],
   "source": [
    "# import re\n",
    "# movies.dropna\n",
    "# movies['Release_Year'] = 0\n",
    "# for index, row in movies.iterrows():\n",
    "#     try:\n",
    "#         movies.loc[index, \"Release_Year\"] = re.search(r'\\((.*?)\\)',row[\"title\"]).groups(1)[0]\n",
    "#     except:\n",
    "#         movies.loc[index, \"Release_Year\"] = \"NaN\""
   ]
  },
  {
   "cell_type": "code",
   "execution_count": 6,
   "metadata": {},
   "outputs": [],
   "source": [
    "#Probably a better Idea to get release date form imdb database\n",
    "#First let's get an idea of what we want to show with the date data\n",
    "# movies.Release_Year.unique()"
   ]
  },
  {
   "cell_type": "code",
   "execution_count": 7,
   "metadata": {},
   "outputs": [
    {
     "name": "stdout",
     "output_type": "stream",
     "text": [
      "Min Time:  1996-03-30 02:36:55\n",
      "Max Time:  2018-09-24 22:27:30\n",
      "Number of users:  610\n",
      "Average # of Ratings per User:  165.30491803278687\n",
      "Median # of Ratings per User:  70.5\n",
      "Average Ratings per Movie:  36.310468942821885\n",
      "Median # of Ratings per Movie 8.5\n",
      "rating min:  0.5\n",
      "rating max:  5.0\n",
      "Unique Rating Possibilities:  [4.  5.  3.  2.  1.  4.5 3.5 2.5 0.5 1.5]\n"
     ]
    },
    {
     "data": {
      "text/html": [
       "<div>\n",
       "<style scoped>\n",
       "    .dataframe tbody tr th:only-of-type {\n",
       "        vertical-align: middle;\n",
       "    }\n",
       "\n",
       "    .dataframe tbody tr th {\n",
       "        vertical-align: top;\n",
       "    }\n",
       "\n",
       "    .dataframe thead th {\n",
       "        text-align: right;\n",
       "    }\n",
       "</style>\n",
       "<table border=\"1\" class=\"dataframe\">\n",
       "  <thead>\n",
       "    <tr style=\"text-align: right;\">\n",
       "      <th></th>\n",
       "      <th>userId</th>\n",
       "      <th>movieId</th>\n",
       "      <th>rating</th>\n",
       "      <th>timestamp</th>\n",
       "    </tr>\n",
       "  </thead>\n",
       "  <tbody>\n",
       "    <tr>\n",
       "      <td>0</td>\n",
       "      <td>1</td>\n",
       "      <td>1</td>\n",
       "      <td>4.0</td>\n",
       "      <td>2000-07-31 02:45:03</td>\n",
       "    </tr>\n",
       "    <tr>\n",
       "      <td>1</td>\n",
       "      <td>1</td>\n",
       "      <td>3</td>\n",
       "      <td>4.0</td>\n",
       "      <td>2000-07-31 02:20:47</td>\n",
       "    </tr>\n",
       "    <tr>\n",
       "      <td>2</td>\n",
       "      <td>1</td>\n",
       "      <td>6</td>\n",
       "      <td>4.0</td>\n",
       "      <td>2000-07-31 02:37:04</td>\n",
       "    </tr>\n",
       "    <tr>\n",
       "      <td>3</td>\n",
       "      <td>1</td>\n",
       "      <td>47</td>\n",
       "      <td>5.0</td>\n",
       "      <td>2000-07-31 03:03:35</td>\n",
       "    </tr>\n",
       "    <tr>\n",
       "      <td>4</td>\n",
       "      <td>1</td>\n",
       "      <td>50</td>\n",
       "      <td>5.0</td>\n",
       "      <td>2000-07-31 02:48:51</td>\n",
       "    </tr>\n",
       "  </tbody>\n",
       "</table>\n",
       "</div>"
      ],
      "text/plain": [
       "   userId  movieId  rating           timestamp\n",
       "0       1        1     4.0 2000-07-31 02:45:03\n",
       "1       1        3     4.0 2000-07-31 02:20:47\n",
       "2       1        6     4.0 2000-07-31 02:37:04\n",
       "3       1       47     5.0 2000-07-31 03:03:35\n",
       "4       1       50     5.0 2000-07-31 02:48:51"
      ]
     },
     "execution_count": 7,
     "metadata": {},
     "output_type": "execute_result"
    }
   ],
   "source": [
    "#Data Range Between 1996-2018\n",
    "#we likely want to look at this table for the flocking algorithm\n",
    "#an interaction between users will be classified as an interaction\n",
    "#over similar movie ratings (10,000 movies and 100,000 ratings)\n",
    "print(\"Min Time: \", min(ratings.timestamp))\n",
    "print(\"Max Time: \", max(ratings.timestamp))\n",
    "print(\"Number of users: \", ratings.userId.nunique())\n",
    "print(\"Average # of Ratings per User: \", np.mean(list(ratings.userId.value_counts())))\n",
    "print(\"Median # of Ratings per User: \", np.median(list(ratings.userId.value_counts())))\n",
    "print(\"Average Ratings per Movie: \", ratings.groupby(by = \"movieId\", axis = 0).sum().rating.mean())\n",
    "print(\"Median # of Ratings per Movie\", ratings.groupby(by = \"movieId\", axis = 0).sum().rating.median())\n",
    "print(\"rating min: \", min(ratings.rating))\n",
    "print(\"rating max: \", max(ratings.rating))\n",
    "print(\"Unique Rating Possibilities: \", ratings.rating.unique())\n",
    "ratings.head()"
   ]
  },
  {
   "cell_type": "code",
   "execution_count": 8,
   "metadata": {},
   "outputs": [
    {
     "data": {
      "text/plain": [
       "8.5"
      ]
     },
     "execution_count": 8,
     "metadata": {},
     "output_type": "execute_result"
    }
   ],
   "source": [
    "ratings.groupby(by = \"movieId\", axis = 0).sum().rating.median()"
   ]
  },
  {
   "cell_type": "code",
   "execution_count": 9,
   "metadata": {},
   "outputs": [
    {
     "data": {
      "text/plain": [
       "2.3428753180661577"
      ]
     },
     "execution_count": 9,
     "metadata": {},
     "output_type": "execute_result"
    }
   ],
   "source": [
    "tags.groupby(by = \"movieId\", axis = 0).count().tag.mean()"
   ]
  },
  {
   "cell_type": "code",
   "execution_count": 10,
   "metadata": {},
   "outputs": [
    {
     "name": "stdout",
     "output_type": "stream",
     "text": [
      "<class 'pandas._libs.tslibs.timestamps.Timestamp'>\n",
      "Min Time: 2006-01-14 03:09:12\n",
      "Max Time: 2018-09-16 19:50:03\n",
      "number of users 58\n",
      "Average Number of Tags per Movie: 2.3428753180661577\n",
      "Median Number of Tags per Movie: 1.0\n"
     ]
    },
    {
     "data": {
      "text/html": [
       "<div>\n",
       "<style scoped>\n",
       "    .dataframe tbody tr th:only-of-type {\n",
       "        vertical-align: middle;\n",
       "    }\n",
       "\n",
       "    .dataframe tbody tr th {\n",
       "        vertical-align: top;\n",
       "    }\n",
       "\n",
       "    .dataframe thead th {\n",
       "        text-align: right;\n",
       "    }\n",
       "</style>\n",
       "<table border=\"1\" class=\"dataframe\">\n",
       "  <thead>\n",
       "    <tr style=\"text-align: right;\">\n",
       "      <th></th>\n",
       "      <th>userId</th>\n",
       "      <th>movieId</th>\n",
       "      <th>tag</th>\n",
       "      <th>timestamp</th>\n",
       "    </tr>\n",
       "  </thead>\n",
       "  <tbody>\n",
       "    <tr>\n",
       "      <td>0</td>\n",
       "      <td>2</td>\n",
       "      <td>60756</td>\n",
       "      <td>funny</td>\n",
       "      <td>2015-10-25 03:29:54</td>\n",
       "    </tr>\n",
       "    <tr>\n",
       "      <td>1</td>\n",
       "      <td>2</td>\n",
       "      <td>60756</td>\n",
       "      <td>Highly quotable</td>\n",
       "      <td>2015-10-25 03:29:56</td>\n",
       "    </tr>\n",
       "    <tr>\n",
       "      <td>2</td>\n",
       "      <td>2</td>\n",
       "      <td>60756</td>\n",
       "      <td>will ferrell</td>\n",
       "      <td>2015-10-25 03:29:52</td>\n",
       "    </tr>\n",
       "    <tr>\n",
       "      <td>3</td>\n",
       "      <td>2</td>\n",
       "      <td>89774</td>\n",
       "      <td>Boxing story</td>\n",
       "      <td>2015-10-25 03:33:27</td>\n",
       "    </tr>\n",
       "    <tr>\n",
       "      <td>4</td>\n",
       "      <td>2</td>\n",
       "      <td>89774</td>\n",
       "      <td>MMA</td>\n",
       "      <td>2015-10-25 03:33:20</td>\n",
       "    </tr>\n",
       "  </tbody>\n",
       "</table>\n",
       "</div>"
      ],
      "text/plain": [
       "   userId  movieId              tag           timestamp\n",
       "0       2    60756            funny 2015-10-25 03:29:54\n",
       "1       2    60756  Highly quotable 2015-10-25 03:29:56\n",
       "2       2    60756     will ferrell 2015-10-25 03:29:52\n",
       "3       2    89774     Boxing story 2015-10-25 03:33:27\n",
       "4       2    89774              MMA 2015-10-25 03:33:20"
      ]
     },
     "execution_count": 10,
     "metadata": {},
     "output_type": "execute_result"
    }
   ],
   "source": [
    "# print(tags.tag.nunique()) #1589 Unique Tags\n",
    "#Data Tags Range from 2006 to 2018\n",
    "print(type(tags.timestamp[0]))\n",
    "print(\"Min Time:\", tags.timestamp.min())\n",
    "print(\"Max Time:\", tags.timestamp.max())\n",
    "print(\"number of users\", tags.userId.nunique())\n",
    "print(\"Average Number of Tags per Movie:\", tags.groupby(by = \"movieId\", axis = 0).count().tag.mean())\n",
    "print(\"Median Number of Tags per Movie:\", tags.groupby(by = \"movieId\", axis = 0).count().tag.median()) #Median Tag Number is 1\n",
    "tags.head()"
   ]
  },
  {
   "cell_type": "code",
   "execution_count": 11,
   "metadata": {},
   "outputs": [
    {
     "name": "stdout",
     "output_type": "stream",
     "text": [
      "odict_values([34, 87, 158, 167, 334, 382, 440, 573, 611, 664, 779, 978, 980, 1199, 1263, 1596, 1828, 1894, 3756, 4361])\n",
      "odict_keys(['(no genres listed)', 'Film-Noir', 'IMAX', 'Western', 'Musical', 'War', 'Documentary', 'Mystery', 'Animation', 'Children', 'Fantasy', 'Horror', 'Sci-Fi', 'Crime', 'Adventure', 'Romance', 'Action', 'Thriller', 'Comedy', 'Drama'])\n"
     ]
    }
   ],
   "source": [
    "#Getting unique genres and unique tags\n",
    "import collections\n",
    "genre_dict = {}\n",
    "for entry in movies.genres:\n",
    "    temp = entry.split('|')\n",
    "    for j in temp:\n",
    "        try:\n",
    "            genre_dict[j] += 1\n",
    "        except:\n",
    "            genre_dict[j] = 1\n",
    "            \n",
    "genre_dict = collections.OrderedDict(sorted(genre_dict.items(), key=lambda x:x[1]))\n",
    "print(genre_dict.values())\n",
    "print(genre_dict.keys())"
   ]
  },
  {
   "cell_type": "code",
   "execution_count": 12,
   "metadata": {},
   "outputs": [
    {
     "name": "stdout",
     "output_type": "stream",
     "text": [
      "Length: 20\n"
     ]
    },
    {
     "data": {
      "text/plain": [
       "(-1.101904743349182,\n",
       " 1.1163828500180555,\n",
       " -1.1024517392200537,\n",
       " 1.1001167576325557)"
      ]
     },
     "execution_count": 12,
     "metadata": {},
     "output_type": "execute_result"
    },
    {
     "data": {
      "image/png": "[encoded data removed]",
      "text/plain": [
       "<Figure size 720x720 with 1 Axes>"
      ]
     },
     "metadata": {},
     "output_type": "display_data"
    }
   ],
   "source": [
    "#Graph Distribution\n",
    "\n",
    "print(\"Length:\", len(genre_dict))\n",
    "plt.figure(figsize=(10,10))\n",
    "patches, texts, autotext = plt.pie(genre_dict.values(),  autopct='%2.0f%%', startangle=90)\n",
    "plt.legend(patches, genre_dict.keys(), loc=\"best\")\n",
    "# plt.tight_layout()\n",
    "plt.axis('equal')\n"
   ]
  },
  {
   "cell_type": "code",
   "execution_count": 13,
   "metadata": {},
   "outputs": [
    {
     "data": {
      "image/png": "[encoded data removed]",
      "text/plain": [
       "<Figure size 2160x720 with 1 Axes>"
      ]
     },
     "metadata": {
      "needs_background": "light"
     },
     "output_type": "display_data"
    }
   ],
   "source": [
    "plt.figure(figsize=(30,10))\n",
    "plt.bar(range(len(genre_dict)), list(genre_dict.values()), align='center')\n",
    "plt.xticks(range(len(genre_dict)), list(genre_dict.keys()))\n",
    "# # for python 2.x:\n",
    "# plt.bar(range(len(D)), D.values(), align='center')  # python 2.x\n",
    "# plt.xticks(range(len(D)), D.keys())  # in python 2.x\n",
    "plt.show()"
   ]
  },
  {
   "cell_type": "code",
   "execution_count": 14,
   "metadata": {},
   "outputs": [],
   "source": [
    "#identify genres commonly seen together (this would be good for a node chart)\n",
    "from numpy import array\n",
    "from scipy.linalg import svd\n",
    "\n",
    "#First creating the initial matrix\n",
    "#we want users as rows, movies as columns\n",
    "\n",
    "rating_matrix = ratings.pivot(index = \"userId\", columns = \"movieId\", values = \"rating\")\n",
    "rating_matrix = rating_matrix.fillna(0)\n",
    "nparray = rating_matrix.to_numpy()\n",
    "nparray_norm = (nparray - np.mean(nparray)) / np.std(nparray)"
   ]
  },
  {
   "cell_type": "code",
   "execution_count": 15,
   "metadata": {},
   "outputs": [
    {
     "name": "stdout",
     "output_type": "stream",
     "text": [
      "(610, 9724)\n"
     ]
    },
    {
     "data": {
      "text/plain": [
       "array([[ 8.33760998, -0.1259491 ,  8.33760998, ..., -0.1259491 ,\n",
       "        -0.1259491 , -0.1259491 ],\n",
       "       [-0.1259491 , -0.1259491 , -0.1259491 , ..., -0.1259491 ,\n",
       "        -0.1259491 , -0.1259491 ],\n",
       "       [-0.1259491 , -0.1259491 , -0.1259491 , ..., -0.1259491 ,\n",
       "        -0.1259491 , -0.1259491 ],\n",
       "       ...,\n",
       "       [ 5.16377533,  4.10583044,  4.10583044, ..., -0.1259491 ,\n",
       "        -0.1259491 , -0.1259491 ],\n",
       "       [ 6.22172021, -0.1259491 , -0.1259491 , ..., -0.1259491 ,\n",
       "        -0.1259491 , -0.1259491 ],\n",
       "       [10.45349975, -0.1259491 , -0.1259491 , ..., -0.1259491 ,\n",
       "        -0.1259491 , -0.1259491 ]])"
      ]
     },
     "execution_count": 15,
     "metadata": {},
     "output_type": "execute_result"
    }
   ],
   "source": [
    "print(nparray_norm.shape)\n",
    "nparray_norm"
   ]
  },
  {
   "cell_type": "code",
   "execution_count": 16,
   "metadata": {},
   "outputs": [],
   "source": [
    "s, v, d = np.linalg.svd(nparray_norm, compute_uv = True)"
   ]
  },
  {
   "cell_type": "code",
   "execution_count": 17,
   "metadata": {},
   "outputs": [
    {
     "name": "stdout",
     "output_type": "stream",
     "text": [
      "(610, 610) (610,) (9724, 9724)\n",
      "[83]\n",
      "<class 'numpy.ndarray'>\n",
      "<class 'numpy.float64'>\n",
      "[]\n"
     ]
    }
   ],
   "source": [
    "print(s.shape, v.shape, d.shape)\n",
    "#The first users most powerful concept is:\n",
    "\n",
    "#Find users whose \"concepts\" correspond to the largest eigen vector\n",
    "index_of_top = []\n",
    "for i in range(len(s)):\n",
    "    index = np.where(s[i] == np.amax(s[i]))[0][0]\n",
    "    if index == 0:\n",
    "        index_of_top += [i]\n",
    "#     print(list(index))\n",
    "\n",
    "print(np.where(s[0] == np.amax(s[0]))[0])\n",
    "print(type(np.where(s[0] == np.amax(s[0]))[0]))\n",
    "print(type(np.amin(s[0])))\n",
    "sum(s[0])\n",
    "print(index_of_top)"
   ]
  },
  {
   "cell_type": "code",
   "execution_count": 18,
   "metadata": {},
   "outputs": [
    {
     "name": "stdout",
     "output_type": "stream",
     "text": [
      "(610, 9724)\n",
      "[[ 8.33760998 -0.1259491   8.33760998 ... -0.1259491  -0.1259491\n",
      "  -0.1259491 ]\n",
      " [-0.1259491  -0.1259491  -0.1259491  ... -0.1259491  -0.1259491\n",
      "  -0.1259491 ]\n",
      " [-0.1259491  -0.1259491  -0.1259491  ... -0.1259491  -0.1259491\n",
      "  -0.1259491 ]\n",
      " ...\n",
      " [ 5.16377533  4.10583044  4.10583044 ... -0.1259491  -0.1259491\n",
      "  -0.1259491 ]\n",
      " [ 6.22172021 -0.1259491  -0.1259491  ... -0.1259491  -0.1259491\n",
      "  -0.1259491 ]\n",
      " [10.45349975 -0.1259491  -0.1259491  ... -0.1259491  -0.1259491\n",
      "  -0.1259491 ]]\n",
      "[[ 8.33760998 -0.1259491   8.33760998 ... -0.1259491  -0.1259491\n",
      "  -0.1259491 ]\n",
      " [-0.1259491  -0.1259491  -0.1259491  ... -0.1259491  -0.1259491\n",
      "  -0.1259491 ]\n",
      " [-0.1259491  -0.1259491  -0.1259491  ... -0.1259491  -0.1259491\n",
      "  -0.1259491 ]\n",
      " ...\n",
      " [ 5.16377533  4.10583044  4.10583044 ... -0.1259491  -0.1259491\n",
      "  -0.1259491 ]\n",
      " [ 6.22172021 -0.1259491  -0.1259491  ... -0.1259491  -0.1259491\n",
      "  -0.1259491 ]\n",
      " [10.45349975 -0.1259491  -0.1259491  ... -0.1259491  -0.1259491\n",
      "  -0.1259491 ]]\n",
      "(610, 9724)\n"
     ]
    }
   ],
   "source": [
    "type(d.T[0:610])\n",
    "print(d.T[0:610].shape)\n",
    "print(np.dot(np.dot(s,np.diag(v)), d[0:610]))\n",
    "print(nparray_norm)\n",
    "#Testing if numpy correctly performs SVD (it does)\n",
    "#Applying result to original array\n",
    "print(nparray_norm.shape)\n",
    "#This should be the covariance matrix PCA for users (610 users represented by 2 attributes)\n",
    "pca_mat_user = np.dot(np.dot(nparray_norm,nparray_norm.T), s[:,:2])\n",
    "pca_mat_mov = np.dot(np.dot(nparray_norm.T, nparray_norm),d[:,:2])\n",
    "pca_mat_user_test = np.dot(s[:,:2],np.diag(v)[:2,:2]**2)\n",
    "pca_mat_mov_test = np.dot(d[:,:2],np.diag(v)[:2,:2]**2)"
   ]
  },
  {
   "cell_type": "code",
   "execution_count": 19,
   "metadata": {},
   "outputs": [
    {
     "name": "stdout",
     "output_type": "stream",
     "text": [
      "-0.05651213974860059\n",
      "[1051.86830807  492.65070266  470.83771998  371.33882105  326.20280597\n",
      "  309.11211903  285.87492007  259.8960798   258.5832499   239.81179017\n",
      "  234.24201395  228.44562213  224.32837924  215.74052321  211.54497932\n",
      "  210.37722216  205.64522506  197.62422968  195.38342627  192.58768608\n",
      "  191.15611499  186.30436718  184.2262184   182.07009292  180.83792238\n",
      "  175.83713105  174.86927989  173.53450926  170.47306226  168.64886781\n",
      "  167.27049157  166.03653438  165.31949727  162.3482464   160.32450285\n",
      "  159.26158955  158.90437973  157.43489072  156.6516716   155.79741195\n",
      "  155.03356     153.27577971  151.94232069  148.52616696  148.50625136\n",
      "  148.06971252  147.40718142  146.37714317  144.69214191  143.64250602\n",
      "  143.11466516  142.78697901  141.92979222  141.07753516  139.8308434\n",
      "  138.60685856  138.13768378  137.0717038   136.24751032  135.74775335\n",
      "  135.03458682  134.66097825  133.94475649  133.56357251  133.18672321\n",
      "  131.83399164  130.89539426  130.39264459  130.05431448  128.65384187\n",
      "  128.32667176  127.97884355  127.23179944  126.44306867  125.79913296\n",
      "  125.5041032   124.89849451  124.55341469  123.6156336   123.18493959\n",
      "  123.0196489   122.71517868  121.77670099  121.30539217  120.78609812\n",
      "  120.4756999   120.33404685  119.59444101  118.80175089  118.56592919\n",
      "  117.49734797  117.00190965  116.44710319  115.76660941  115.3694453\n",
      "  115.24559499  114.67130014  114.34889112  113.47603059  113.39149166\n",
      "  112.49979027  112.18133047  111.76739069  111.41822174  110.72862973\n",
      "  110.27887506  110.21186424  110.10889112  109.56267982  109.16513235\n",
      "  108.25531499  107.64901001  107.3986643   106.83410235  106.4006875\n",
      "  106.10801803  105.57584757  105.16328979  104.33922594  104.00777285\n",
      "  103.84602541  103.32137106  103.01448814  102.44106402  102.12879719\n",
      "  101.95015296  101.50569553  100.85292535  100.79291119  100.21989342\n",
      "   99.61422834   99.41607817   98.51857001   98.41549407   98.30366671\n",
      "   97.87411108   97.52393561   96.94430639   96.73834952   96.39658843\n",
      "   95.76229576   95.39949835   94.77061025   94.4049605    94.01218195\n",
      "   93.53540802   93.4408899    93.30628572   93.14849501   92.93907573\n",
      "   92.63252099   92.10926098   91.88433449   91.70567014   90.91683361\n",
      "   90.80184478   90.69810766   90.47045425   89.91420098   89.52598749\n",
      "   89.07158476   88.88318782   88.3869485    88.16008507   87.5461575\n",
      "   86.8809095    86.66600163   86.4628734    86.2585879    86.00981713\n",
      "   85.47305621   85.24666269   84.85062609   84.48340076   84.36411666\n",
      "   84.06517048   83.88549107   83.50812247   83.47861107   83.19268806\n",
      "   82.73704392   82.38240484   82.04147101   81.61111008   81.21752919\n",
      "   81.02619299   80.82307476   80.31589788   79.96046417   79.72669991\n",
      "   79.36838315   79.2038983    78.76262002   78.43231386   78.33611976\n",
      "   78.16488966   77.88421445   77.4976503    77.25835717   77.04683612\n",
      "   76.57580003   76.41742877   76.18280766   76.01180576   75.80856003\n",
      "   75.40421668   74.8238177    74.61847768   74.5746119    74.36985451\n",
      "   73.89664474   73.59204675   73.45490812   73.09699991   72.93237614\n",
      "   72.71925459   72.52122897   72.45110432   72.00754228   71.97880299\n",
      "   71.63570837   71.31619151   71.01168246   70.72253293   70.57391557\n",
      "   70.30200279   70.1739149    70.13556809   69.64422815   69.46884598\n",
      "   69.15187246   68.89839668   68.59746786   68.33445848   68.0061763\n",
      "   67.83472692   67.44895236   67.36836566   67.2454593    67.04344685\n",
      "   66.57497737   66.16175712   65.94576886   65.66350158   65.59416459\n",
      "   65.29878967   65.16378448   64.93369529   64.65245335   64.45850845\n",
      "   63.9562791    63.93723592   63.75306376   63.57567858   63.48009131\n",
      "   63.42888725   63.16897994   62.82581099   62.41529584   62.30951033\n",
      "   62.17420079   61.88655778   61.84869314   61.49701982   61.33196095\n",
      "   60.9769045    60.88424339   60.51300884   60.25215784   60.1898234\n",
      "   60.15819562   59.89626785   59.71273581   59.30747305   59.15828081\n",
      "   58.94572232   58.78094232   58.55385579   58.2940209    58.16167483\n",
      "   58.0632205    57.97410633   57.87663706   57.55783922   57.38890196\n",
      "   57.2650835    56.95149719   56.74254546   56.60910067   56.49749545\n",
      "   56.39143719   56.06410025   55.78620605   55.68061657   55.57394951\n",
      "   55.3499132    55.30187562   55.07911503   55.0586138    54.72718371\n",
      "   54.5134324    54.47704722   54.04641391   53.97034523   53.87298478\n",
      "   53.65729247   53.5916823    53.43439349   53.17372344   52.99525986\n",
      "   52.89282187   52.53556515   52.48973785   52.27085489   52.16012446\n",
      "   52.08220172   51.89305159   51.61747469   51.32618448   51.09575607\n",
      "   51.00456985   50.86308918   50.55358775   50.48447588   50.3845301\n",
      "   50.19484682   50.02077119   49.85527684   49.76778223   49.66603667\n",
      "   49.29369469   49.24961313   49.07790114   48.94933794   48.76933969\n",
      "   48.6149246    48.50367198   48.3894645    48.2005602    48.08730984\n",
      "   47.91485679   47.86858487   47.60495372   47.39914695   47.31808337\n",
      "   47.08357969   47.03313724   46.8558682    46.74778241   46.69711742\n",
      "   46.45593924   46.25446821   46.20981444   46.03610745   45.97862921\n",
      "   45.66524097   45.57447289   45.48125398   45.31764231   45.14406046\n",
      "   45.11153869   44.91317593   44.76802207   44.63529727   44.46655843\n",
      "   44.41648939   44.25194166   44.14603906   44.0773898    43.95336338\n",
      "   43.61406976   43.55272635   43.40631026   43.34305119   43.18593725\n",
      "   43.10979394   42.76981266   42.74603194   42.34381061   42.26678578\n",
      "   42.21398138   42.12694398   41.98945015   41.88767303   41.6624186\n",
      "   41.53168644   41.45070313   41.39670382   41.27327155   41.20786245\n",
      "   41.10074577   40.8164225    40.72358869   40.59454188   40.56376407\n",
      "   40.38709218   40.16583277   40.0902076    40.06870785   39.90992549\n",
      "   39.70839185   39.61939802   39.41534352   39.39719366   39.30752508\n",
      "   39.25626642   39.09196377   38.97395331   38.63006902   38.61101079\n",
      "   38.48533316   38.39016316   38.21422992   38.0823886    37.84330126\n",
      "   37.78733156   37.75229107   37.61321139   37.46992525   37.43362842\n",
      "   37.27386598   37.20718744   37.18808379   36.98058348   36.73349799\n",
      "   36.65131902   36.47851408   36.46014195   36.27850719   36.14102145\n",
      "   36.02264857   35.90531256   35.81199095   35.76293963   35.65851774\n",
      "   35.60139504   35.36271712   35.27684326   35.06997021   35.01820914\n",
      "   34.98487888   34.76892953   34.71474039   34.59509447   34.36362799\n",
      "   34.27861657   34.22257448   34.12649213   33.92868401   33.86746832\n",
      "   33.73037045   33.56101802   33.54964355   33.3634412    33.30836527\n",
      "   33.16660802   32.99972507   32.91429815   32.80653763   32.7051515\n",
      "   32.58923791   32.44287532   32.33895588   32.24899056   32.16080147\n",
      "   32.03343617   32.00537754   31.75387973   31.65355256   31.51957043\n",
      "   31.42910165   31.29846647   31.25233554   31.10776455   31.06483067\n",
      "   30.98418109   30.82016097   30.61628426   30.58273445   30.39101708\n",
      "   30.34762711   30.21007346   30.08220077   30.05738508   29.82650386\n",
      "   29.73843266   29.62489494   29.54943093   29.48589648   29.26566914\n",
      "   29.17615118   29.08085935   28.99682085   28.89583285   28.70103232\n",
      "   28.60725453   28.47860532   28.31638965   28.26309647   28.17443179\n",
      "   28.01626317   27.99128807   27.73750714   27.72012169   27.46627722\n",
      "   27.35556955   27.21181665   27.05461236   26.88232086   26.83345384\n",
      "   26.71129526   26.6674864    26.40258978   26.32403185   26.19166717\n",
      "   26.13168587   26.10763131   25.92043853   25.88036179   25.76524998\n",
      "   25.56337187   25.52015545   25.36406057   25.2330139    25.10218917\n",
      "   25.01844981   24.88589844   24.70048291   24.61135629   24.5009974\n",
      "   24.32704524   24.17477313   24.13069703   23.98310082   23.81190796\n",
      "   23.6529565    23.57290023   23.41208207   23.39309629   23.21332409\n",
      "   23.14463061   22.98103448   22.89040316   22.86558426   22.74349008\n",
      "   22.51735235   22.40641247   22.31166628   22.01945291   21.98765408\n",
      "   21.81924145   21.66681066   21.52080122   21.39214277   21.34231957\n",
      "   21.27398847   20.94998262   20.75456634   20.55490896   20.35532199\n",
      "   20.30684687   20.24480789   20.01883404   19.80757191   19.77570443\n",
      "   19.64333343   19.40143649   19.25953288   18.98762755   18.86310567\n",
      "   18.78409141   18.64047504   18.51499526   18.42568521   18.09291022\n",
      "   18.03600507   17.66420981   17.49087563   17.27585476   17.21822867\n",
      "   16.82346771   16.65032828   16.56601291   16.45131302   16.29627787\n",
      "   15.65745512   15.57892322   15.35690127   15.1158616    14.95356189\n",
      "   14.57474311   14.19188455   13.95818207   13.8382396    13.47460775\n",
      "   13.12429166   12.91408411   12.81293955   12.52448043   12.1188139\n",
      "   11.50940875   10.98619792   10.50199042   10.11162892    9.66294675\n",
      "    9.50365904    9.28930664    8.20738392    6.59742961    6.23799726]\n"
     ]
    }
   ],
   "source": [
    "print(s[0][0])\n",
    "print(v)\n"
   ]
  },
  {
   "cell_type": "code",
   "execution_count": 20,
   "metadata": {},
   "outputs": [
    {
     "name": "stdout",
     "output_type": "stream",
     "text": [
      "[[-4162.33521779  -423.95995964]\n",
      " [-1235.31546179  -576.92003447]\n",
      " [ -372.79142633  -169.53927899]\n",
      " ...\n",
      " [   53.76555732    -4.40076691]\n",
      " [   53.76555732    -4.40076691]\n",
      " [   76.21118402    14.39101203]]\n",
      "[[ -62526.55371512   15623.96073751]\n",
      " [  -2808.64017619   -1858.78953874]\n",
      " [   2841.68306199    1819.9833517 ]\n",
      " ...\n",
      " [-133644.32417246    1170.27236716]\n",
      " [  -4780.11091157    6656.78800023]\n",
      " [-153677.80949393  -55266.99290624]]\n",
      "[[ -62526.55371512   15623.96073751]\n",
      " [  -2808.64017619   -1858.78953874]\n",
      " [   2841.68306199    1819.9833517 ]\n",
      " ...\n",
      " [-133644.32417246    1170.27236716]\n",
      " [  -4780.11091157    6656.78800023]\n",
      " [-153677.80949393  -55266.99290623]]\n",
      "[[-80295.35890795  -9531.05146987]\n",
      " [ 56038.12908223   2512.96276426]\n",
      " [ 58046.85815074   5563.57068199]\n",
      " ...\n",
      " [   156.36794387   -188.37190356]\n",
      " [   156.36794387   -188.37190356]\n",
      " [  4239.65636581    354.0984063 ]]\n"
     ]
    }
   ],
   "source": [
    "print(pca_mat_mov)\n",
    "print(pca_mat_user)\n",
    "print(pca_mat_user_test)\n",
    "print(pca_mat_mov_test)"
   ]
  },
  {
   "cell_type": "code",
   "execution_count": 21,
   "metadata": {},
   "outputs": [
    {
     "data": {
      "text/plain": [
       "[<matplotlib.lines.Line2D at 0x109308410>]"
      ]
     },
     "execution_count": 21,
     "metadata": {},
     "output_type": "execute_result"
    },
    {
     "data": {
      "image/png": "[encoded data removed]",
      "text/plain": [
       "<Figure size 432x288 with 1 Axes>"
      ]
     },
     "metadata": {
      "needs_background": "light"
     },
     "output_type": "display_data"
    }
   ],
   "source": [
    "#Plotting PCA\n",
    "#COlor by most watched film genre\n",
    "\n",
    "plt.plot \n",
    "plt.plot(pca_mat_user[:,0], pca_mat_user[:,1], \"bo\")"
   ]
  },
  {
   "cell_type": "code",
   "execution_count": 22,
   "metadata": {},
   "outputs": [
    {
     "data": {
      "text/plain": [
       "[<matplotlib.lines.Line2D at 0x1170f59d0>]"
      ]
     },
     "execution_count": 22,
     "metadata": {},
     "output_type": "execute_result"
    },
    {
     "data": {
      "image/png": "[encoded data removed]",
      "text/plain": [
       "<Figure size 432x288 with 1 Axes>"
      ]
     },
     "metadata": {
      "needs_background": "light"
     },
     "output_type": "display_data"
    }
   ],
   "source": [
    "plt.plot(pca_mat_user_test[:,0], pca_mat_user_test[:,1], \"bo\")"
   ]
  },
  {
   "cell_type": "code",
   "execution_count": 23,
   "metadata": {},
   "outputs": [
    {
     "data": {
      "text/plain": [
       "[<matplotlib.lines.Line2D at 0x116f39a10>]"
      ]
     },
     "execution_count": 23,
     "metadata": {},
     "output_type": "execute_result"
    },
    {
     "data": {
      "image/png": "[encoded data removed]",
      "text/plain": [
       "<Figure size 432x288 with 1 Axes>"
      ]
     },
     "metadata": {
      "needs_background": "light"
     },
     "output_type": "display_data"
    }
   ],
   "source": [
    "plt.plot(pca_mat_mov[:,0], pca_mat_mov[:,1], \"bo\")"
   ]
  },
  {
   "cell_type": "code",
   "execution_count": 24,
   "metadata": {},
   "outputs": [
    {
     "name": "stdout",
     "output_type": "stream",
     "text": [
      "Number of Unique Tags:  1589\n",
      "Number of Unique Users:  58\n",
      "Number of Unique Movies:  1572\n",
      "Number of Tags:  3683\n"
     ]
    },
    {
     "data": {
      "text/html": [
       "<div>\n",
       "<style scoped>\n",
       "    .dataframe tbody tr th:only-of-type {\n",
       "        vertical-align: middle;\n",
       "    }\n",
       "\n",
       "    .dataframe tbody tr th {\n",
       "        vertical-align: top;\n",
       "    }\n",
       "\n",
       "    .dataframe thead th {\n",
       "        text-align: right;\n",
       "    }\n",
       "</style>\n",
       "<table border=\"1\" class=\"dataframe\">\n",
       "  <thead>\n",
       "    <tr style=\"text-align: right;\">\n",
       "      <th></th>\n",
       "      <th>userId</th>\n",
       "      <th>movieId</th>\n",
       "      <th>tag</th>\n",
       "      <th>timestamp</th>\n",
       "    </tr>\n",
       "  </thead>\n",
       "  <tbody>\n",
       "    <tr>\n",
       "      <td>0</td>\n",
       "      <td>2</td>\n",
       "      <td>60756</td>\n",
       "      <td>funny</td>\n",
       "      <td>2015-10-25 03:29:54</td>\n",
       "    </tr>\n",
       "    <tr>\n",
       "      <td>1</td>\n",
       "      <td>2</td>\n",
       "      <td>60756</td>\n",
       "      <td>Highly quotable</td>\n",
       "      <td>2015-10-25 03:29:56</td>\n",
       "    </tr>\n",
       "    <tr>\n",
       "      <td>2</td>\n",
       "      <td>2</td>\n",
       "      <td>60756</td>\n",
       "      <td>will ferrell</td>\n",
       "      <td>2015-10-25 03:29:52</td>\n",
       "    </tr>\n",
       "    <tr>\n",
       "      <td>3</td>\n",
       "      <td>2</td>\n",
       "      <td>89774</td>\n",
       "      <td>Boxing story</td>\n",
       "      <td>2015-10-25 03:33:27</td>\n",
       "    </tr>\n",
       "    <tr>\n",
       "      <td>4</td>\n",
       "      <td>2</td>\n",
       "      <td>89774</td>\n",
       "      <td>MMA</td>\n",
       "      <td>2015-10-25 03:33:20</td>\n",
       "    </tr>\n",
       "  </tbody>\n",
       "</table>\n",
       "</div>"
      ],
      "text/plain": [
       "   userId  movieId              tag           timestamp\n",
       "0       2    60756            funny 2015-10-25 03:29:54\n",
       "1       2    60756  Highly quotable 2015-10-25 03:29:56\n",
       "2       2    60756     will ferrell 2015-10-25 03:29:52\n",
       "3       2    89774     Boxing story 2015-10-25 03:33:27\n",
       "4       2    89774              MMA 2015-10-25 03:33:20"
      ]
     },
     "execution_count": 24,
     "metadata": {},
     "output_type": "execute_result"
    }
   ],
   "source": [
    "#Perfect - SVD and PCA are working Great! - now it's time to cluster movies by genres and topics\n",
    "#Back to the Movies dataset (has genres & has user tags)\n",
    "#1. Identify which genres co-occur the most\n",
    "#2. Identify which tags are the most correlated with which genres\n",
    "#3. Identify which tags co-occur with each other\n",
    "#4. Identify the n-most popular tags\n",
    "#5. Use the above + extra information to identify top n movies from each cluster with the most amount of reviews \n",
    "#6. We can use them for SVD and raw PCA (for visualizing) and this information can be added to classify \n",
    "\n",
    "# There is a question of whether we can get sentiment from the tags? or perhaps group them into more general themes...\n",
    "# May look into this...\n",
    "#Tags will need lots of cleaning in order to be useful as approximately 1/2 of them are unique \n",
    "print(\"Number of Unique Tags: \", tags.tag.nunique())\n",
    "print(\"Number of Unique Users: \", tags.userId.nunique())\n",
    "print(\"Number of Unique Movies: \", tags.movieId.nunique())\n",
    "print(\"Number of Tags: \", tags.shape[0])\n",
    "tags.head()\n"
   ]
  },
  {
   "cell_type": "code",
   "execution_count": 25,
   "metadata": {},
   "outputs": [
    {
     "name": "stdout",
     "output_type": "stream",
     "text": [
      "Number of Unique Genres:  20\n"
     ]
    },
    {
     "data": {
      "text/html": [
       "<div>\n",
       "<style scoped>\n",
       "    .dataframe tbody tr th:only-of-type {\n",
       "        vertical-align: middle;\n",
       "    }\n",
       "\n",
       "    .dataframe tbody tr th {\n",
       "        vertical-align: top;\n",
       "    }\n",
       "\n",
       "    .dataframe thead th {\n",
       "        text-align: right;\n",
       "    }\n",
       "</style>\n",
       "<table border=\"1\" class=\"dataframe\">\n",
       "  <thead>\n",
       "    <tr style=\"text-align: right;\">\n",
       "      <th></th>\n",
       "      <th>movieId</th>\n",
       "      <th>title</th>\n",
       "      <th>genres</th>\n",
       "    </tr>\n",
       "  </thead>\n",
       "  <tbody>\n",
       "    <tr>\n",
       "      <td>0</td>\n",
       "      <td>1</td>\n",
       "      <td>Toy Story (1995)</td>\n",
       "      <td>Adventure|Animation|Children|Comedy|Fantasy</td>\n",
       "    </tr>\n",
       "    <tr>\n",
       "      <td>1</td>\n",
       "      <td>2</td>\n",
       "      <td>Jumanji (1995)</td>\n",
       "      <td>Adventure|Children|Fantasy</td>\n",
       "    </tr>\n",
       "    <tr>\n",
       "      <td>2</td>\n",
       "      <td>3</td>\n",
       "      <td>Grumpier Old Men (1995)</td>\n",
       "      <td>Comedy|Romance</td>\n",
       "    </tr>\n",
       "    <tr>\n",
       "      <td>3</td>\n",
       "      <td>4</td>\n",
       "      <td>Waiting to Exhale (1995)</td>\n",
       "      <td>Comedy|Drama|Romance</td>\n",
       "    </tr>\n",
       "    <tr>\n",
       "      <td>4</td>\n",
       "      <td>5</td>\n",
       "      <td>Father of the Bride Part II (1995)</td>\n",
       "      <td>Comedy</td>\n",
       "    </tr>\n",
       "  </tbody>\n",
       "</table>\n",
       "</div>"
      ],
      "text/plain": [
       "   movieId                               title  \\\n",
       "0        1                    Toy Story (1995)   \n",
       "1        2                      Jumanji (1995)   \n",
       "2        3             Grumpier Old Men (1995)   \n",
       "3        4            Waiting to Exhale (1995)   \n",
       "4        5  Father of the Bride Part II (1995)   \n",
       "\n",
       "                                        genres  \n",
       "0  Adventure|Animation|Children|Comedy|Fantasy  \n",
       "1                   Adventure|Children|Fantasy  \n",
       "2                               Comedy|Romance  \n",
       "3                         Comedy|Drama|Romance  \n",
       "4                                       Comedy  "
      ]
     },
     "execution_count": 25,
     "metadata": {},
     "output_type": "execute_result"
    }
   ],
   "source": [
    "# Let's begin with Genre Analysis then\n",
    "# Use Genre Analysis to group movies (we can use genres as a )\n",
    "print(\"Number of Unique Genres: \", len(genre_dict))\n",
    "movies.head()"
   ]
  },
  {
   "cell_type": "code",
   "execution_count": 26,
   "metadata": {},
   "outputs": [],
   "source": [
    "#can do a \"most popular genres over time\"\n",
    "#Definitely do a Parallel Coordinates Chart\n",
    "#Use the Radial Axis Technique to model the user tags (can switch tags based on top n-most popular)\n",
    "#Likely will requires some NLP to cluster the tags...\n",
    "#Can even do a geo map of release times for the movies\n",
    "#Glyphs and Icon Visualization Strategy...\n",
    "#Use a SPiral Chart to show movies released over time (with color corresponding to genre)\n",
    "\n",
    "#Let's connect to IMDB API\n",
    "import imdb"
   ]
  },
  {
   "cell_type": "code",
   "execution_count": 27,
   "metadata": {},
   "outputs": [],
   "source": [
    "ia = imdb.IMDb()"
   ]
  },
  {
   "cell_type": "code",
   "execution_count": 28,
   "metadata": {},
   "outputs": [
    {
     "data": {
      "text/html": [
       "<div>\n",
       "<style scoped>\n",
       "    .dataframe tbody tr th:only-of-type {\n",
       "        vertical-align: middle;\n",
       "    }\n",
       "\n",
       "    .dataframe tbody tr th {\n",
       "        vertical-align: top;\n",
       "    }\n",
       "\n",
       "    .dataframe thead th {\n",
       "        text-align: right;\n",
       "    }\n",
       "</style>\n",
       "<table border=\"1\" class=\"dataframe\">\n",
       "  <thead>\n",
       "    <tr style=\"text-align: right;\">\n",
       "      <th></th>\n",
       "      <th>movieId</th>\n",
       "      <th>title</th>\n",
       "      <th>genres</th>\n",
       "      <th>imdbId</th>\n",
       "      <th>tmdbId</th>\n",
       "    </tr>\n",
       "  </thead>\n",
       "  <tbody>\n",
       "    <tr>\n",
       "      <td>0</td>\n",
       "      <td>1</td>\n",
       "      <td>Toy Story (1995)</td>\n",
       "      <td>Adventure|Animation|Children|Comedy|Fantasy</td>\n",
       "      <td>114709</td>\n",
       "      <td>862.0</td>\n",
       "    </tr>\n",
       "    <tr>\n",
       "      <td>1</td>\n",
       "      <td>2</td>\n",
       "      <td>Jumanji (1995)</td>\n",
       "      <td>Adventure|Children|Fantasy</td>\n",
       "      <td>113497</td>\n",
       "      <td>8844.0</td>\n",
       "    </tr>\n",
       "    <tr>\n",
       "      <td>2</td>\n",
       "      <td>3</td>\n",
       "      <td>Grumpier Old Men (1995)</td>\n",
       "      <td>Comedy|Romance</td>\n",
       "      <td>113228</td>\n",
       "      <td>15602.0</td>\n",
       "    </tr>\n",
       "    <tr>\n",
       "      <td>3</td>\n",
       "      <td>4</td>\n",
       "      <td>Waiting to Exhale (1995)</td>\n",
       "      <td>Comedy|Drama|Romance</td>\n",
       "      <td>114885</td>\n",
       "      <td>31357.0</td>\n",
       "    </tr>\n",
       "    <tr>\n",
       "      <td>4</td>\n",
       "      <td>5</td>\n",
       "      <td>Father of the Bride Part II (1995)</td>\n",
       "      <td>Comedy</td>\n",
       "      <td>113041</td>\n",
       "      <td>11862.0</td>\n",
       "    </tr>\n",
       "    <tr>\n",
       "      <td>...</td>\n",
       "      <td>...</td>\n",
       "      <td>...</td>\n",
       "      <td>...</td>\n",
       "      <td>...</td>\n",
       "      <td>...</td>\n",
       "    </tr>\n",
       "    <tr>\n",
       "      <td>9737</td>\n",
       "      <td>193581</td>\n",
       "      <td>Black Butler: Book of the Atlantic (2017)</td>\n",
       "      <td>Action|Animation|Comedy|Fantasy</td>\n",
       "      <td>5476944</td>\n",
       "      <td>432131.0</td>\n",
       "    </tr>\n",
       "    <tr>\n",
       "      <td>9738</td>\n",
       "      <td>193583</td>\n",
       "      <td>No Game No Life: Zero (2017)</td>\n",
       "      <td>Animation|Comedy|Fantasy</td>\n",
       "      <td>5914996</td>\n",
       "      <td>445030.0</td>\n",
       "    </tr>\n",
       "    <tr>\n",
       "      <td>9739</td>\n",
       "      <td>193585</td>\n",
       "      <td>Flint (2017)</td>\n",
       "      <td>Drama</td>\n",
       "      <td>6397426</td>\n",
       "      <td>479308.0</td>\n",
       "    </tr>\n",
       "    <tr>\n",
       "      <td>9740</td>\n",
       "      <td>193587</td>\n",
       "      <td>Bungo Stray Dogs: Dead Apple (2018)</td>\n",
       "      <td>Action|Animation</td>\n",
       "      <td>8391976</td>\n",
       "      <td>483455.0</td>\n",
       "    </tr>\n",
       "    <tr>\n",
       "      <td>9741</td>\n",
       "      <td>193609</td>\n",
       "      <td>Andrew Dice Clay: Dice Rules (1991)</td>\n",
       "      <td>Comedy</td>\n",
       "      <td>101726</td>\n",
       "      <td>37891.0</td>\n",
       "    </tr>\n",
       "  </tbody>\n",
       "</table>\n",
       "<p>9742 rows × 5 columns</p>\n",
       "</div>"
      ],
      "text/plain": [
       "      movieId                                      title  \\\n",
       "0           1                           Toy Story (1995)   \n",
       "1           2                             Jumanji (1995)   \n",
       "2           3                    Grumpier Old Men (1995)   \n",
       "3           4                   Waiting to Exhale (1995)   \n",
       "4           5         Father of the Bride Part II (1995)   \n",
       "...       ...                                        ...   \n",
       "9737   193581  Black Butler: Book of the Atlantic (2017)   \n",
       "9738   193583               No Game No Life: Zero (2017)   \n",
       "9739   193585                               Flint (2017)   \n",
       "9740   193587        Bungo Stray Dogs: Dead Apple (2018)   \n",
       "9741   193609        Andrew Dice Clay: Dice Rules (1991)   \n",
       "\n",
       "                                           genres   imdbId    tmdbId  \n",
       "0     Adventure|Animation|Children|Comedy|Fantasy   114709     862.0  \n",
       "1                      Adventure|Children|Fantasy   113497    8844.0  \n",
       "2                                  Comedy|Romance   113228   15602.0  \n",
       "3                            Comedy|Drama|Romance   114885   31357.0  \n",
       "4                                          Comedy   113041   11862.0  \n",
       "...                                           ...      ...       ...  \n",
       "9737              Action|Animation|Comedy|Fantasy  5476944  432131.0  \n",
       "9738                     Animation|Comedy|Fantasy  5914996  445030.0  \n",
       "9739                                        Drama  6397426  479308.0  \n",
       "9740                             Action|Animation  8391976  483455.0  \n",
       "9741                                       Comedy   101726   37891.0  \n",
       "\n",
       "[9742 rows x 5 columns]"
      ]
     },
     "execution_count": 28,
     "metadata": {},
     "output_type": "execute_result"
    }
   ],
   "source": [
    "movies_updated = movies.join(links, rsuffix=\"links\")\n",
    "movies_updated = movies_updated.drop('movieIdlinks', axis = 1)\n",
    "movies_updated"
   ]
  },
  {
   "cell_type": "code",
   "execution_count": 29,
   "metadata": {},
   "outputs": [],
   "source": [
    "#Testing API\n",
    "ia.get_movie_infoset() #Provides the attributes of movies\n",
    "toy_story = ia.get_movie(114709, info = ['keywords'])\n",
    "# test = ia.get_movie(movies_updated.imdbId[20], info = ['release dates'])"
   ]
  },
  {
   "cell_type": "code",
   "execution_count": 30,
   "metadata": {},
   "outputs": [],
   "source": [
    "# toy_story.get('keywords')"
   ]
  },
  {
   "cell_type": "code",
   "execution_count": 31,
   "metadata": {},
   "outputs": [
    {
     "data": {
      "text/plain": [
       "movieId                                                   1\n",
       "title                                      Toy Story (1995)\n",
       "genres          Adventure|Animation|Children|Comedy|Fantasy\n",
       "imdbId                                               114709\n",
       "tmdbId                                                  862\n",
       "Release_Year                                            NaN\n",
       "Name: 0, dtype: object"
      ]
     },
     "execution_count": 31,
     "metadata": {},
     "output_type": "execute_result"
    }
   ],
   "source": [
    "movies_updated[\"Release_Year\"] = \"NaN\"\n",
    "movies_updated.iloc[0]"
   ]
  },
  {
   "cell_type": "code",
   "execution_count": 32,
   "metadata": {},
   "outputs": [],
   "source": [
    "#create the ranges\n",
    "ranges = [(i,i+100) for i in range(0,10000,100)]"
   ]
  },
  {
   "cell_type": "code",
   "execution_count": 33,
   "metadata": {},
   "outputs": [],
   "source": [
    "#Release Dates seem to return ordered (Grab, the first one)\n",
    "# movies_updated.Release_Year = movies_updated.apply(lambda x : ia.get_movie(x.imdbId, info = ['release dates']).get('release dates')[0], axis = 1)\n",
    "# toy_story.infoset2keys\n",
    "# toy_story.get('release dates')\n",
    "# start = ranges[0][0]\n",
    "# stop = ranges[0][1]\n",
    "# for index, row in movies_updated.iterrows():\n",
    "#     if index >= start & index < stop:\n",
    "#         try:\n",
    "#             result = ia.get_movie(row['imdbId'], info = ['release dates']).get('release dates')[0]\n",
    "#             movies_updated.loc[index, \"Release_Year\"] = result\n",
    "#         except:\n",
    "#             print(\"Error: \", row['title'])\n",
    "#         if index % 20 == 0:\n",
    "#             print(\"Success: \", index, movies_updated.loc[index, \"Release_Year\"])\n",
    "#     else:\n",
    "#         break"
   ]
  },
  {
   "cell_type": "code",
   "execution_count": 34,
   "metadata": {},
   "outputs": [],
   "source": [
    "#Preparing Data for radial axis graph\n",
    "#There needs to be some pre-processing?\n",
    "#Won't work, not enough diversity in the data set\n",
    "#Instead, let's focus on grouping movies by genre (and finding the relationships there...)\n",
    "# What's the best way to depict the strength of the overlapping relationships graphically?\n",
    "#Can split the dataframe to columns \n",
    "#What about the streangth of the relationship being a function of genres\n",
    "#E.g. Toy Story may be categorized as Adventure, Animation, Children, Comedy, etc.\n",
    "#and the streangth of the relationship will be a calculation of the overlapping gernes :) \n",
    "# In this case, we would have the genres as links** (What are the groups?) - assigned later via PCA?\n",
    "\n",
    "genre_df = (movies.set_index(['movieId','title']).apply(lambda x : x.str.split('|').explode()).reset_index())"
   ]
  },
  {
   "cell_type": "code",
   "execution_count": null,
   "metadata": {},
   "outputs": [],
   "source": [
    "print(movies.shape)\n",
    "# genre_df"
   ]
  },
  {
   "cell_type": "code",
   "execution_count": 35,
   "metadata": {},
   "outputs": [
    {
     "data": {
      "text/html": [
       "<div>\n",
       "<style scoped>\n",
       "    .dataframe tbody tr th:only-of-type {\n",
       "        vertical-align: middle;\n",
       "    }\n",
       "\n",
       "    .dataframe tbody tr th {\n",
       "        vertical-align: top;\n",
       "    }\n",
       "\n",
       "    .dataframe thead th {\n",
       "        text-align: right;\n",
       "    }\n",
       "</style>\n",
       "<table border=\"1\" class=\"dataframe\">\n",
       "  <thead>\n",
       "    <tr style=\"text-align: right;\">\n",
       "      <th></th>\n",
       "      <th>movieId</th>\n",
       "      <th>title</th>\n",
       "      <th>genres</th>\n",
       "    </tr>\n",
       "  </thead>\n",
       "  <tbody>\n",
       "    <tr>\n",
       "      <td>0</td>\n",
       "      <td>1</td>\n",
       "      <td>Toy Story (1995)</td>\n",
       "      <td>Adventure</td>\n",
       "    </tr>\n",
       "    <tr>\n",
       "      <td>1</td>\n",
       "      <td>1</td>\n",
       "      <td>Toy Story (1995)</td>\n",
       "      <td>Animation</td>\n",
       "    </tr>\n",
       "    <tr>\n",
       "      <td>2</td>\n",
       "      <td>1</td>\n",
       "      <td>Toy Story (1995)</td>\n",
       "      <td>Children</td>\n",
       "    </tr>\n",
       "    <tr>\n",
       "      <td>3</td>\n",
       "      <td>1</td>\n",
       "      <td>Toy Story (1995)</td>\n",
       "      <td>Comedy</td>\n",
       "    </tr>\n",
       "    <tr>\n",
       "      <td>4</td>\n",
       "      <td>1</td>\n",
       "      <td>Toy Story (1995)</td>\n",
       "      <td>Fantasy</td>\n",
       "    </tr>\n",
       "    <tr>\n",
       "      <td>...</td>\n",
       "      <td>...</td>\n",
       "      <td>...</td>\n",
       "      <td>...</td>\n",
       "    </tr>\n",
       "    <tr>\n",
       "      <td>22079</td>\n",
       "      <td>193583</td>\n",
       "      <td>No Game No Life: Zero (2017)</td>\n",
       "      <td>Fantasy</td>\n",
       "    </tr>\n",
       "    <tr>\n",
       "      <td>22080</td>\n",
       "      <td>193585</td>\n",
       "      <td>Flint (2017)</td>\n",
       "      <td>Drama</td>\n",
       "    </tr>\n",
       "    <tr>\n",
       "      <td>22081</td>\n",
       "      <td>193587</td>\n",
       "      <td>Bungo Stray Dogs: Dead Apple (2018)</td>\n",
       "      <td>Action</td>\n",
       "    </tr>\n",
       "    <tr>\n",
       "      <td>22082</td>\n",
       "      <td>193587</td>\n",
       "      <td>Bungo Stray Dogs: Dead Apple (2018)</td>\n",
       "      <td>Animation</td>\n",
       "    </tr>\n",
       "    <tr>\n",
       "      <td>22083</td>\n",
       "      <td>193609</td>\n",
       "      <td>Andrew Dice Clay: Dice Rules (1991)</td>\n",
       "      <td>Comedy</td>\n",
       "    </tr>\n",
       "  </tbody>\n",
       "</table>\n",
       "<p>22084 rows × 3 columns</p>\n",
       "</div>"
      ],
      "text/plain": [
       "       movieId                                title     genres\n",
       "0            1                     Toy Story (1995)  Adventure\n",
       "1            1                     Toy Story (1995)  Animation\n",
       "2            1                     Toy Story (1995)   Children\n",
       "3            1                     Toy Story (1995)     Comedy\n",
       "4            1                     Toy Story (1995)    Fantasy\n",
       "...        ...                                  ...        ...\n",
       "22079   193583         No Game No Life: Zero (2017)    Fantasy\n",
       "22080   193585                         Flint (2017)      Drama\n",
       "22081   193587  Bungo Stray Dogs: Dead Apple (2018)     Action\n",
       "22082   193587  Bungo Stray Dogs: Dead Apple (2018)  Animation\n",
       "22083   193609  Andrew Dice Clay: Dice Rules (1991)     Comedy\n",
       "\n",
       "[22084 rows x 3 columns]"
      ]
     },
     "execution_count": 35,
     "metadata": {},
     "output_type": "execute_result"
    }
   ],
   "source": [
    "genre_df"
   ]
  },
  {
   "cell_type": "code",
   "execution_count": 42,
   "metadata": {},
   "outputs": [],
   "source": [
    "#Getting the top most watched genres for each user\n",
    "user_genres = pd.merge(ratings, genre_df, on=\"movieId\")"
   ]
  },
  {
   "cell_type": "code",
   "execution_count": 43,
   "metadata": {},
   "outputs": [
    {
     "data": {
      "text/html": [
       "<div>\n",
       "<style scoped>\n",
       "    .dataframe tbody tr th:only-of-type {\n",
       "        vertical-align: middle;\n",
       "    }\n",
       "\n",
       "    .dataframe tbody tr th {\n",
       "        vertical-align: top;\n",
       "    }\n",
       "\n",
       "    .dataframe thead th {\n",
       "        text-align: right;\n",
       "    }\n",
       "</style>\n",
       "<table border=\"1\" class=\"dataframe\">\n",
       "  <thead>\n",
       "    <tr style=\"text-align: right;\">\n",
       "      <th></th>\n",
       "      <th>userId</th>\n",
       "      <th>movieId</th>\n",
       "      <th>rating</th>\n",
       "      <th>timestamp</th>\n",
       "      <th>title</th>\n",
       "      <th>genres</th>\n",
       "    </tr>\n",
       "  </thead>\n",
       "  <tbody>\n",
       "    <tr>\n",
       "      <td>0</td>\n",
       "      <td>1</td>\n",
       "      <td>1</td>\n",
       "      <td>4.0</td>\n",
       "      <td>2000-07-31 02:45:03</td>\n",
       "      <td>Toy Story (1995)</td>\n",
       "      <td>Adventure</td>\n",
       "    </tr>\n",
       "    <tr>\n",
       "      <td>1</td>\n",
       "      <td>1</td>\n",
       "      <td>1</td>\n",
       "      <td>4.0</td>\n",
       "      <td>2000-07-31 02:45:03</td>\n",
       "      <td>Toy Story (1995)</td>\n",
       "      <td>Animation</td>\n",
       "    </tr>\n",
       "    <tr>\n",
       "      <td>2</td>\n",
       "      <td>1</td>\n",
       "      <td>1</td>\n",
       "      <td>4.0</td>\n",
       "      <td>2000-07-31 02:45:03</td>\n",
       "      <td>Toy Story (1995)</td>\n",
       "      <td>Children</td>\n",
       "    </tr>\n",
       "    <tr>\n",
       "      <td>3</td>\n",
       "      <td>1</td>\n",
       "      <td>1</td>\n",
       "      <td>4.0</td>\n",
       "      <td>2000-07-31 02:45:03</td>\n",
       "      <td>Toy Story (1995)</td>\n",
       "      <td>Comedy</td>\n",
       "    </tr>\n",
       "    <tr>\n",
       "      <td>4</td>\n",
       "      <td>1</td>\n",
       "      <td>1</td>\n",
       "      <td>4.0</td>\n",
       "      <td>2000-07-31 02:45:03</td>\n",
       "      <td>Toy Story (1995)</td>\n",
       "      <td>Fantasy</td>\n",
       "    </tr>\n",
       "    <tr>\n",
       "      <td>...</td>\n",
       "      <td>...</td>\n",
       "      <td>...</td>\n",
       "      <td>...</td>\n",
       "      <td>...</td>\n",
       "      <td>...</td>\n",
       "      <td>...</td>\n",
       "    </tr>\n",
       "    <tr>\n",
       "      <td>274475</td>\n",
       "      <td>610</td>\n",
       "      <td>160836</td>\n",
       "      <td>3.0</td>\n",
       "      <td>2017-05-04 04:53:14</td>\n",
       "      <td>Hazard (2005)</td>\n",
       "      <td>Drama</td>\n",
       "    </tr>\n",
       "    <tr>\n",
       "      <td>274476</td>\n",
       "      <td>610</td>\n",
       "      <td>160836</td>\n",
       "      <td>3.0</td>\n",
       "      <td>2017-05-04 04:53:14</td>\n",
       "      <td>Hazard (2005)</td>\n",
       "      <td>Thriller</td>\n",
       "    </tr>\n",
       "    <tr>\n",
       "      <td>274477</td>\n",
       "      <td>610</td>\n",
       "      <td>163937</td>\n",
       "      <td>3.5</td>\n",
       "      <td>2017-05-04 05:59:49</td>\n",
       "      <td>Blair Witch (2016)</td>\n",
       "      <td>Horror</td>\n",
       "    </tr>\n",
       "    <tr>\n",
       "      <td>274478</td>\n",
       "      <td>610</td>\n",
       "      <td>163937</td>\n",
       "      <td>3.5</td>\n",
       "      <td>2017-05-04 05:59:49</td>\n",
       "      <td>Blair Witch (2016)</td>\n",
       "      <td>Thriller</td>\n",
       "    </tr>\n",
       "    <tr>\n",
       "      <td>274479</td>\n",
       "      <td>610</td>\n",
       "      <td>163981</td>\n",
       "      <td>3.5</td>\n",
       "      <td>2017-05-04 06:22:35</td>\n",
       "      <td>31 (2016)</td>\n",
       "      <td>Horror</td>\n",
       "    </tr>\n",
       "  </tbody>\n",
       "</table>\n",
       "<p>274480 rows × 6 columns</p>\n",
       "</div>"
      ],
      "text/plain": [
       "        userId  movieId  rating           timestamp               title  \\\n",
       "0            1        1     4.0 2000-07-31 02:45:03    Toy Story (1995)   \n",
       "1            1        1     4.0 2000-07-31 02:45:03    Toy Story (1995)   \n",
       "2            1        1     4.0 2000-07-31 02:45:03    Toy Story (1995)   \n",
       "3            1        1     4.0 2000-07-31 02:45:03    Toy Story (1995)   \n",
       "4            1        1     4.0 2000-07-31 02:45:03    Toy Story (1995)   \n",
       "...        ...      ...     ...                 ...                 ...   \n",
       "274475     610   160836     3.0 2017-05-04 04:53:14       Hazard (2005)   \n",
       "274476     610   160836     3.0 2017-05-04 04:53:14       Hazard (2005)   \n",
       "274477     610   163937     3.5 2017-05-04 05:59:49  Blair Witch (2016)   \n",
       "274478     610   163937     3.5 2017-05-04 05:59:49  Blair Witch (2016)   \n",
       "274479     610   163981     3.5 2017-05-04 06:22:35           31 (2016)   \n",
       "\n",
       "           genres  \n",
       "0       Adventure  \n",
       "1       Animation  \n",
       "2        Children  \n",
       "3          Comedy  \n",
       "4         Fantasy  \n",
       "...           ...  \n",
       "274475      Drama  \n",
       "274476   Thriller  \n",
       "274477     Horror  \n",
       "274478   Thriller  \n",
       "274479     Horror  \n",
       "\n",
       "[274480 rows x 6 columns]"
      ]
     },
     "execution_count": 43,
     "metadata": {},
     "output_type": "execute_result"
    }
   ],
   "source": [
    "user_genres"
   ]
  },
  {
   "cell_type": "code",
   "execution_count": 44,
   "metadata": {},
   "outputs": [],
   "source": [
    "user_genre_dict ={}\n",
    "for index, row in user_genres.iterrows():\n",
    "    try:\n",
    "        user_genre_dict[row['userId']]\n",
    "    except:\n",
    "        user_genre_dict[row['userId']] = {}\n",
    "    try:\n",
    "        user_genre_dict[row['userId']][row['genres']] += 1\n",
    "    except:\n",
    "        user_genre_dict[row['userId']][row['genres']] = 1\n",
    "        "
   ]
  },
  {
   "cell_type": "code",
   "execution_count": 48,
   "metadata": {},
   "outputs": [],
   "source": [
    "# user_genre_dict"
   ]
  },
  {
   "cell_type": "code",
   "execution_count": 66,
   "metadata": {},
   "outputs": [],
   "source": [
    "import operator\n",
    "fav_genre = {}\n",
    "for key in user_genre_dict:\n",
    "    maximum = max(user_genre_dict[key].items(), key = operator.itemgetter(1))[0]\n",
    "    fav_genre[key] = maximum\n",
    "\n",
    "fav_genre = pd.DataFrame.from_dict(fav_genre, orient = \"index\")"
   ]
  },
  {
   "cell_type": "code",
   "execution_count": 68,
   "metadata": {},
   "outputs": [],
   "source": [
    "fav_genre = fav_genre.reset_index()\n",
    "fav_genre.columns = ['userId','FavGenre']"
   ]
  },
  {
   "cell_type": "code",
   "execution_count": 87,
   "metadata": {},
   "outputs": [],
   "source": [
    "fav_genre.FavGenre.nunique()\n",
    "fav_genre\n",
    "pca_df.index = np.arange(1, len(pca_df) + 1)\n",
    "pca_df = pd.DataFrame(pca_mat_user)\n",
    "pca_df.index = np.arange(1, len(pca_df) + 1)\n",
    "pca_df = pca_df.reset_index()\n",
    "pca_df.columns = ['userId', 'factor_1', 'factor_2']"
   ]
  },
  {
   "cell_type": "code",
   "execution_count": 88,
   "metadata": {},
   "outputs": [],
   "source": [
    "plot_df = pd.merge(pca_df, fav_genre, on = \"userId\")"
   ]
  },
  {
   "cell_type": "code",
   "execution_count": 91,
   "metadata": {},
   "outputs": [
    {
     "data": {
      "text/plain": [
       "<matplotlib.legend.Legend at 0x161561250>"
      ]
     },
     "execution_count": 91,
     "metadata": {},
     "output_type": "execute_result"
    },
    {
     "data": {
      "image/png": "[encoded data removed]",
      "text/plain": [
       "<Figure size 360x360 with 1 Axes>"
      ]
     },
     "metadata": {
      "needs_background": "light"
     },
     "output_type": "display_data"
    }
   ],
   "source": [
    "import seaborn as sns"
   ]
  },
  {
   "cell_type": "code",
   "execution_count": 95,
   "metadata": {},
   "outputs": [
    {
     "data": {
      "text/plain": [
       "<matplotlib.legend.Legend at 0x16208ff50>"
      ]
     },
     "execution_count": 95,
     "metadata": {},
     "output_type": "execute_result"
    },
    {
     "data": {
      "image/png": "[encoded data removed]",
      "text/plain": [
       "<Figure size 1440x720 with 1 Axes>"
      ]
     },
     "metadata": {
      "needs_background": "light"
     },
     "output_type": "display_data"
    }
   ],
   "source": [
    "# Use the 'hue' argument to provide a factor variable\n",
    "sns.lmplot( x=\"factor_1\", y=\"factor_2\", data=plot_df, fit_reg=False, hue='FavGenre', height = 10, aspect = 2, legend=False)\n",
    " \n",
    "# Move the legend to an empty part of the plot\n",
    "plt.legend(loc='lower right')\n"
   ]
  },
  {
   "cell_type": "code",
   "execution_count": 115,
   "metadata": {},
   "outputs": [],
   "source": [
    "#What data can be pulled from IMDB?\n",
    "ia.get_movie_infoset() #Provides the attributes of movies\n",
    "\n",
    "#Movie Recommendation Visualization\n",
    "#ia.get_top250_movies()\n",
    "\n",
    "#Possible important Attributes\n",
    "#1. awards\n",
    "#2. connections\n",
    "#3. countries\n",
    "#4. keywords (This is a long list for some movies)\n",
    "#5. \n",
    "\n",
    "#By Default IMDBpy returns (main, plot, synopsis)\n",
    "toy_story = ia.get_movie('193585')\n"
   ]
  },
  {
   "cell_type": "code",
   "execution_count": 116,
   "metadata": {},
   "outputs": [
    {
     "name": "stderr",
     "output_type": "stream",
     "text": [
      "2019-11-27 11:35:57,144 ERROR [imdbpy] /usr/local/lib/python3.7/site-packages/imdb/__init__.py:728: unknown information set \"business\"\n"
     ]
    }
   ],
   "source": [
    "ia.update(toy_story, \"business\")"
   ]
  },
  {
   "cell_type": "code",
   "execution_count": 117,
   "metadata": {},
   "outputs": [
    {
     "name": "stdout",
     "output_type": "stream",
     "text": [
      "[]\n"
     ]
    }
   ],
   "source": [
    "print(toy_story.infoset2keys['business'])"
   ]
  },
  {
   "cell_type": "code",
   "execution_count": 67,
   "metadata": {},
   "outputs": [
    {
     "data": {
      "text/plain": [
       "['airing',\n",
       " 'akas',\n",
       " 'alternate versions',\n",
       " 'awards',\n",
       " 'connections',\n",
       " 'crazy credits',\n",
       " 'critic reviews',\n",
       " 'episodes',\n",
       " 'external reviews',\n",
       " 'external sites',\n",
       " 'faqs',\n",
       " 'full credits',\n",
       " 'goofs',\n",
       " 'keywords',\n",
       " 'locations',\n",
       " 'main',\n",
       " 'misc sites',\n",
       " 'news',\n",
       " 'official sites',\n",
       " 'parents guide',\n",
       " 'photo sites',\n",
       " 'plot',\n",
       " 'quotes',\n",
       " 'release dates',\n",
       " 'release info',\n",
       " 'reviews',\n",
       " 'sound clips',\n",
       " 'soundtrack',\n",
       " 'synopsis',\n",
       " 'taglines',\n",
       " 'technical',\n",
       " 'trivia',\n",
       " 'tv schedule',\n",
       " 'video clips',\n",
       " 'vote details']"
      ]
     },
     "execution_count": 67,
     "metadata": {},
     "output_type": "execute_result"
    }
   ],
   "source": [
    "ia.get_movie_infoset()"
   ]
  },
  {
   "cell_type": "code",
   "execution_count": null,
   "metadata": {},
   "outputs": [],
   "source": [
    "# IMDB Error Handling\n",
    "# from imdb import IMDb, IMDbError\n",
    "\n",
    "# try:\n",
    "#     ia = IMDb()\n",
    "#     people = ia.search_person('Mel Gibson')\n",
    "# except IMDbError as e:\n",
    "#     print(e)"
   ]
  },
  {
   "cell_type": "code",
   "execution_count": 118,
   "metadata": {},
   "outputs": [],
   "source": [
    "from tmdbv3api import TMDb\n",
    "tmdb = TMDb()\n",
    "tmdb.api_key = 'bbf25fae7203def03e17f79789d653c6'"
   ]
  },
  {
   "cell_type": "code",
   "execution_count": 120,
   "metadata": {},
   "outputs": [],
   "source": [
    "from tmdbv3api import Movie\n",
    "movie = Movie()"
   ]
  },
  {
   "cell_type": "code",
   "execution_count": 121,
   "metadata": {},
   "outputs": [
    {
     "data": {
      "text/html": [
       "<div>\n",
       "<style scoped>\n",
       "    .dataframe tbody tr th:only-of-type {\n",
       "        vertical-align: middle;\n",
       "    }\n",
       "\n",
       "    .dataframe tbody tr th {\n",
       "        vertical-align: top;\n",
       "    }\n",
       "\n",
       "    .dataframe thead th {\n",
       "        text-align: right;\n",
       "    }\n",
       "</style>\n",
       "<table border=\"1\" class=\"dataframe\">\n",
       "  <thead>\n",
       "    <tr style=\"text-align: right;\">\n",
       "      <th></th>\n",
       "      <th>movieId</th>\n",
       "      <th>imdbId</th>\n",
       "      <th>tmdbId</th>\n",
       "    </tr>\n",
       "  </thead>\n",
       "  <tbody>\n",
       "    <tr>\n",
       "      <td>0</td>\n",
       "      <td>1</td>\n",
       "      <td>114709</td>\n",
       "      <td>862.0</td>\n",
       "    </tr>\n",
       "    <tr>\n",
       "      <td>1</td>\n",
       "      <td>2</td>\n",
       "      <td>113497</td>\n",
       "      <td>8844.0</td>\n",
       "    </tr>\n",
       "    <tr>\n",
       "      <td>2</td>\n",
       "      <td>3</td>\n",
       "      <td>113228</td>\n",
       "      <td>15602.0</td>\n",
       "    </tr>\n",
       "    <tr>\n",
       "      <td>3</td>\n",
       "      <td>4</td>\n",
       "      <td>114885</td>\n",
       "      <td>31357.0</td>\n",
       "    </tr>\n",
       "    <tr>\n",
       "      <td>4</td>\n",
       "      <td>5</td>\n",
       "      <td>113041</td>\n",
       "      <td>11862.0</td>\n",
       "    </tr>\n",
       "  </tbody>\n",
       "</table>\n",
       "</div>"
      ],
      "text/plain": [
       "   movieId  imdbId   tmdbId\n",
       "0        1  114709    862.0\n",
       "1        2  113497   8844.0\n",
       "2        3  113228  15602.0\n",
       "3        4  114885  31357.0\n",
       "4        5  113041  11862.0"
      ]
     },
     "execution_count": 121,
     "metadata": {},
     "output_type": "execute_result"
    }
   ],
   "source": [
    "links.head()"
   ]
  },
  {
   "cell_type": "code",
   "execution_count": 278,
   "metadata": {},
   "outputs": [],
   "source": [
    "from bs4 import BeautifulSoup\n",
    "import bs4\n",
    "from selenium import webdriver\n",
    "import pandas as pd\n",
    "import numpy as np\n",
    "from selenium.webdriver.chrome.options import Options\n",
    "from re import sub\n",
    "from decimal import Decimal\n"
   ]
  },
  {
   "cell_type": "code",
   "execution_count": 364,
   "metadata": {},
   "outputs": [],
   "source": [
    "\n",
    "\n",
    "url = \"https://www.boxofficemojo.com/year/{}/\".format(2012)\n",
    "\n",
    "def create_driver():\n",
    "    browser_options = Options()\n",
    "    browser_options.add_argument(\"--headless\")\n",
    "    browser_options.add_argument('--no-sandbox')\n",
    "    driver = webdriver.Chrome(chrome_options=browser_options)\n",
    "    print(\"Done Creating Browser\")\n",
    "    return driver\n",
    "\n",
    "\n",
    "def convdollar(x):\n",
    "    if 'k' in x:\n",
    "        return float(x.replace('k',''))*1000\n",
    "    else:\n",
    "        return float(x)*1000000\n",
    "    \n",
    "def scrape(box_office, start, finish):\n",
    "    driver = create_driver()\n",
    "    years=[str(a) for a in range(start,finish)]\n",
    "    df_list=[]\n",
    "    for year in years:\n",
    "        url = \"https://www.boxofficemojo.com/year/{}/\".format(year) \n",
    "        driver.get(url)\n",
    "        page_content = driver.page_source\n",
    "        print('Box Office data for %s scraped' % year)\n",
    "        p=BeautifulSoup(page_content)\n",
    "        table = p.find_all(\"table\")\n",
    "        mov_dict = {}\n",
    "#         value = Decimal(sub(r'[^\\d.]', '', money))\n",
    "        mov_dict[\"rank\"] = [i.getText() for i in table[1].find_all(\"td\", { \"class\" : \"mojo-field-type-rank\"})]\n",
    "        mov_dict[\"year\"] = [year for i in range(len(mov_dict[\"rank\"]))]\n",
    "        mov_dict[\"movie\"] = [i.getText() for i in table[1].find_all(\"td\", { \"class\" : \"mojo-field-type-release\"})]\n",
    "        mov_dict[\"studio\"] = [i.getText().replace(\"\\n\",\"\") for i in table[1].find_all(\"td\", { \"class\" : \"mojo-field-type-studio\"}) if i.getText() != None]\n",
    "        mov_dict[\"gross\"] = [Decimal(sub(\"[^0-9a-zA-Z]+\",\"\", j)) for j in [i.getText() for i in table[1].find_all(\"td\", { \"class\" : \"mojo-field-type-money\"})][2::3]]\n",
    "        mov_dict[\"release\"] = [i.getText() for i in table[1].find_all(\"td\", { \"class\" : \"mojo-field-type-date\"})]\n",
    "        temp_frame = pd.DataFrame(mov_dict)\n",
    "        box_office = box_office.append(temp_frame, ignore_index = True)\n",
    "    driver.quit()\n",
    "    return box_office\n"
   ]
  },
  {
   "cell_type": "code",
   "execution_count": 365,
   "metadata": {},
   "outputs": [
    {
     "data": {
      "text/plain": [
       "Decimal('251188924')"
      ]
     },
     "execution_count": 365,
     "metadata": {},
     "output_type": "execute_result"
    }
   ],
   "source": [
    "# page_content\n",
    "Decimal(\"251188924\")"
   ]
  },
  {
   "cell_type": "code",
   "execution_count": 369,
   "metadata": {},
   "outputs": [
    {
     "name": "stdout",
     "output_type": "stream",
     "text": [
      "Empty DataFrame\n",
      "Columns: []\n",
      "Index: []\n"
     ]
    },
    {
     "name": "stderr",
     "output_type": "stream",
     "text": [
      "/usr/local/lib/python3.7/site-packages/ipykernel_launcher.py:7: DeprecationWarning: use options instead of chrome_options\n",
      "  import sys\n"
     ]
    },
    {
     "name": "stdout",
     "output_type": "stream",
     "text": [
      "Done Creating Browser\n",
      "Box Office data for 1989 scraped\n",
      "Box Office data for 1990 scraped\n",
      "Box Office data for 1991 scraped\n",
      "Box Office data for 1992 scraped\n",
      "Box Office data for 1993 scraped\n",
      "Box Office data for 1994 scraped\n",
      "Box Office data for 1995 scraped\n",
      "Box Office data for 1996 scraped\n",
      "Box Office data for 1997 scraped\n",
      "Box Office data for 1998 scraped\n",
      "Box Office data for 1999 scraped\n",
      "Box Office data for 2000 scraped\n",
      "Box Office data for 2001 scraped\n",
      "Box Office data for 2002 scraped\n",
      "Box Office data for 2003 scraped\n",
      "Box Office data for 2004 scraped\n",
      "Box Office data for 2005 scraped\n",
      "Box Office data for 2006 scraped\n",
      "Box Office data for 2007 scraped\n",
      "Box Office data for 2008 scraped\n",
      "Box Office data for 2009 scraped\n",
      "Box Office data for 2010 scraped\n",
      "Box Office data for 2011 scraped\n",
      "Box Office data for 2012 scraped\n",
      "Box Office data for 2013 scraped\n",
      "Box Office data for 2014 scraped\n",
      "Box Office data for 2015 scraped\n",
      "Box Office data for 2016 scraped\n",
      "Box Office data for 2017 scraped\n",
      "Box Office data for 2018 scraped\n"
     ]
    }
   ],
   "source": [
    "box_office = pd.DataFrame()\n",
    "# columns = [\"Year\",\"Rank\", \"Release\", \"Distributor\", \"Gross\", \"Theaters\", \"Total Gross\", \"Release Date\"]\n",
    "print(box_office)\n",
    "box_office = scrape(box_office, 1989, 2019)\n",
    "cols = box_office.columns.tolist()\n",
    "new_cols = cols[1:2] + cols[0:1] + cols[2:]\n",
    "box_office = box_office[new_cols]"
   ]
  },
  {
   "cell_type": "code",
   "execution_count": 370,
   "metadata": {},
   "outputs": [],
   "source": [
    "box_office.to_csv(\"Box_Office_Data_1989_2018.csv\")"
   ]
  },
  {
   "cell_type": "code",
   "execution_count": 1,
   "metadata": {},
   "outputs": [
    {
     "ename": "NameError",
     "evalue": "name 'pd' is not defined",
     "output_type": "error",
     "traceback": [
      "\u001b[0;31m---------------------------------------------------------------------------\u001b[0m",
      "\u001b[0;31mNameError\u001b[0m                                 Traceback (most recent call last)",
      "\u001b[0;32m<ipython-input-1-f9eaca17dd70>\u001b[0m in \u001b[0;36m<module>\u001b[0;34m\u001b[0m\n\u001b[0;32m----> 1\u001b[0;31m \u001b[0mbox_office\u001b[0m \u001b[0;34m=\u001b[0m \u001b[0mpd\u001b[0m\u001b[0;34m.\u001b[0m\u001b[0mread_csv\u001b[0m\u001b[0;34m(\u001b[0m\u001b[0;34m\"Box_Office_Data_1989_2018.csv\"\u001b[0m\u001b[0;34m)\u001b[0m\u001b[0;34m\u001b[0m\u001b[0;34m\u001b[0m\u001b[0m\n\u001b[0m\u001b[1;32m      2\u001b[0m \u001b[0mbox_office\u001b[0m\u001b[0;34m[\u001b[0m\u001b[0;34m\"gross\"\u001b[0m\u001b[0;34m]\u001b[0m \u001b[0;34m=\u001b[0m \u001b[0mbox_office\u001b[0m\u001b[0;34m.\u001b[0m\u001b[0mgross\u001b[0m\u001b[0;34m.\u001b[0m\u001b[0mastype\u001b[0m\u001b[0;34m(\u001b[0m\u001b[0;34m'float'\u001b[0m\u001b[0;34m)\u001b[0m\u001b[0;34m\u001b[0m\u001b[0;34m\u001b[0m\u001b[0m\n\u001b[1;32m      3\u001b[0m \u001b[0mbox_office\u001b[0m \u001b[0;34m=\u001b[0m \u001b[0mbox_office\u001b[0m\u001b[0;34m.\u001b[0m\u001b[0mdrop\u001b[0m\u001b[0;34m(\u001b[0m\u001b[0;34m[\u001b[0m\u001b[0;34m\"Unnamed: 0\"\u001b[0m\u001b[0;34m]\u001b[0m\u001b[0;34m,\u001b[0m \u001b[0maxis\u001b[0m \u001b[0;34m=\u001b[0m \u001b[0;36m1\u001b[0m\u001b[0;34m)\u001b[0m\u001b[0;34m\u001b[0m\u001b[0;34m\u001b[0m\u001b[0m\n",
      "\u001b[0;31mNameError\u001b[0m: name 'pd' is not defined"
     ]
    }
   ],
   "source": [
    "box_office = pd.read_csv(\"Box_Office_Data_1989_2018.csv\")\n",
    "box_office[\"gross\"] = box_office.gross.astype('float')\n",
    "box_office = box_office.drop([\"Unnamed: 0\"], axis = 1)"
   ]
  },
  {
   "cell_type": "code",
   "execution_count": 410,
   "metadata": {},
   "outputs": [
    {
     "data": {
      "text/html": [
       "<div>\n",
       "<style scoped>\n",
       "    .dataframe tbody tr th:only-of-type {\n",
       "        vertical-align: middle;\n",
       "    }\n",
       "\n",
       "    .dataframe tbody tr th {\n",
       "        vertical-align: top;\n",
       "    }\n",
       "\n",
       "    .dataframe thead th {\n",
       "        text-align: right;\n",
       "    }\n",
       "</style>\n",
       "<table border=\"1\" class=\"dataframe\">\n",
       "  <thead>\n",
       "    <tr style=\"text-align: right;\">\n",
       "      <th></th>\n",
       "      <th>year</th>\n",
       "      <th>rank</th>\n",
       "      <th>movie</th>\n",
       "      <th>studio</th>\n",
       "      <th>gross</th>\n",
       "      <th>release</th>\n",
       "    </tr>\n",
       "  </thead>\n",
       "  <tbody>\n",
       "    <tr>\n",
       "      <td>12233</td>\n",
       "      <td>2018</td>\n",
       "      <td>1</td>\n",
       "      <td>Black Panther</td>\n",
       "      <td>Walt Disney Studios Motion Pictures</td>\n",
       "      <td>700059566.0</td>\n",
       "      <td>Feb 16</td>\n",
       "    </tr>\n",
       "    <tr>\n",
       "      <td>12234</td>\n",
       "      <td>2018</td>\n",
       "      <td>2</td>\n",
       "      <td>Avengers: Infinity War</td>\n",
       "      <td>Walt Disney Studios Motion Pictures</td>\n",
       "      <td>678815482.0</td>\n",
       "      <td>Apr 27</td>\n",
       "    </tr>\n",
       "    <tr>\n",
       "      <td>12235</td>\n",
       "      <td>2018</td>\n",
       "      <td>3</td>\n",
       "      <td>The Incredibles 2</td>\n",
       "      <td>Walt Disney Studios Motion Pictures</td>\n",
       "      <td>608581744.0</td>\n",
       "      <td>Jun 15</td>\n",
       "    </tr>\n",
       "    <tr>\n",
       "      <td>12236</td>\n",
       "      <td>2018</td>\n",
       "      <td>4</td>\n",
       "      <td>Jurassic World: Fallen Kingdom</td>\n",
       "      <td>Universal Pictures</td>\n",
       "      <td>417719760.0</td>\n",
       "      <td>Jun 22</td>\n",
       "    </tr>\n",
       "    <tr>\n",
       "      <td>12237</td>\n",
       "      <td>2018</td>\n",
       "      <td>5</td>\n",
       "      <td>Deadpool 2</td>\n",
       "      <td>Twentieth Century Fox</td>\n",
       "      <td>318491426.0</td>\n",
       "      <td>May 18</td>\n",
       "    </tr>\n",
       "    <tr>\n",
       "      <td>...</td>\n",
       "      <td>...</td>\n",
       "      <td>...</td>\n",
       "      <td>...</td>\n",
       "      <td>...</td>\n",
       "      <td>...</td>\n",
       "      <td>...</td>\n",
       "    </tr>\n",
       "    <tr>\n",
       "      <td>13149</td>\n",
       "      <td>2018</td>\n",
       "      <td>917</td>\n",
       "      <td>Ridge Runners</td>\n",
       "      <td>Indican Pictures</td>\n",
       "      <td>25183.0</td>\n",
       "      <td>Jan 19</td>\n",
       "    </tr>\n",
       "    <tr>\n",
       "      <td>13150</td>\n",
       "      <td>2018</td>\n",
       "      <td>918</td>\n",
       "      <td>Husband Material</td>\n",
       "      <td>Eros International</td>\n",
       "      <td>567417.0</td>\n",
       "      <td>Sep 14</td>\n",
       "    </tr>\n",
       "    <tr>\n",
       "      <td>13151</td>\n",
       "      <td>2018</td>\n",
       "      <td>919</td>\n",
       "      <td>Born to Be Wild</td>\n",
       "      <td>Warner Bros.</td>\n",
       "      <td>25921547.0</td>\n",
       "      <td>Apr 8</td>\n",
       "    </tr>\n",
       "    <tr>\n",
       "      <td>13152</td>\n",
       "      <td>2018</td>\n",
       "      <td>920</td>\n",
       "      <td>The Family</td>\n",
       "      <td>Film Movement</td>\n",
       "      <td>3696.0</td>\n",
       "      <td>Aug 3</td>\n",
       "    </tr>\n",
       "    <tr>\n",
       "      <td>13153</td>\n",
       "      <td>2018</td>\n",
       "      <td>921</td>\n",
       "      <td>Cocote</td>\n",
       "      <td>Grasshopper Film</td>\n",
       "      <td>3000.0</td>\n",
       "      <td>Aug 3</td>\n",
       "    </tr>\n",
       "  </tbody>\n",
       "</table>\n",
       "<p>921 rows × 6 columns</p>\n",
       "</div>"
      ],
      "text/plain": [
       "       year  rank                           movie  \\\n",
       "12233  2018     1                   Black Panther   \n",
       "12234  2018     2          Avengers: Infinity War   \n",
       "12235  2018     3               The Incredibles 2   \n",
       "12236  2018     4  Jurassic World: Fallen Kingdom   \n",
       "12237  2018     5                      Deadpool 2   \n",
       "...     ...   ...                             ...   \n",
       "13149  2018   917                   Ridge Runners   \n",
       "13150  2018   918                Husband Material   \n",
       "13151  2018   919                 Born to Be Wild   \n",
       "13152  2018   920                      The Family   \n",
       "13153  2018   921                          Cocote   \n",
       "\n",
       "                                    studio        gross release  \n",
       "12233  Walt Disney Studios Motion Pictures  700059566.0  Feb 16  \n",
       "12234  Walt Disney Studios Motion Pictures  678815482.0  Apr 27  \n",
       "12235  Walt Disney Studios Motion Pictures  608581744.0  Jun 15  \n",
       "12236                   Universal Pictures  417719760.0  Jun 22  \n",
       "12237                Twentieth Century Fox  318491426.0  May 18  \n",
       "...                                    ...          ...     ...  \n",
       "13149                     Indican Pictures      25183.0  Jan 19  \n",
       "13150                   Eros International     567417.0  Sep 14  \n",
       "13151                         Warner Bros.   25921547.0   Apr 8  \n",
       "13152                        Film Movement       3696.0   Aug 3  \n",
       "13153                     Grasshopper Film       3000.0   Aug 3  \n",
       "\n",
       "[921 rows x 6 columns]"
      ]
     },
     "execution_count": 410,
     "metadata": {},
     "output_type": "execute_result"
    }
   ],
   "source": [
    "#Ready for Visualization\n",
    "box_office[box_office[\"year\"] == 2018]\n",
    "#We can go by month with the visual"
   ]
  },
  {
   "cell_type": "code",
   "execution_count": 412,
   "metadata": {},
   "outputs": [
    {
     "data": {
      "text/plain": [
       "array(['Warner Bros.', 'Paramount Pictures', 'Columbia Pictures',\n",
       "       'Universal Pictures', 'Walt Disney Studios Motion Pictures', '-',\n",
       "       'Twentieth Century Fox', 'United Artists', 'Orion Pictures',\n",
       "       'Avenue Pictures Productions', 'New Line Cinema',\n",
       "       'Metro-Goldwyn-Mayer (MGM)', 'Cinecom Pictures', 'Roxie Releasing',\n",
       "       'New World Pictures', 'Taurus Entertainment Company',\n",
       "       'Corsair Pictures', 'New Century', 'Four Seasons',\n",
       "       'The Samuel Goldwyn Company', 'Orion Classics', 'Skouras Pictures',\n",
       "       'Hemdale', 'First Run', 'Vestron Pictures', 'Miramax',\n",
       "       'Apollo Associates', 'Triumph Releasing Corporation',\n",
       "       'Island Pictures', 'Alive Films', 'Trimark Pictures',\n",
       "       'Sony Pictures Releasing', 'Concorde Pictures', 'Troma',\n",
       "       'Aries Films', 'Rainbow Releasing', 'Academy Entertainment',\n",
       "       'Castle Hill Productions', 'Fine Line Features',\n",
       "       'Expanded Entertainment', 'Triton Pictures', 'Circle Films',\n",
       "       'October Films', 'Sony Pictures Classics',\n",
       "       'Cannon Film Distributors', 'Empowerment Project', 'IRS Media',\n",
       "       'Outsider Films', 'Kino International', 'Strand Releasing',\n",
       "       'Hansen Entertainment', 'Two Moon Releasing',\n",
       "       'Gramercy Pictures (I)', 'Dimension Films', 'Tara Releasing',\n",
       "       'First Look International', 'Lionsgate', 'Shadow Distribution',\n",
       "       'Ocean Releasing', 'Seventh Art Releasing',\n",
       "       'DreamWorks Distribution', 'Fox Searchlight Pictures',\n",
       "       'New Yorker Films', 'Artisan Entertainment',\n",
       "       'Banner Entertainment', 'Zeitgeist Films', 'Artistic License',\n",
       "       'Northern Arts Entertainment', 'Plainview Pictures',\n",
       "       'MacGillivray Freeman Films', 'PolyGram',\n",
       "       'Providence Entertainment', 'Rialto Pictures', 'Cowboy Pictures',\n",
       "       'Alliance Atlantis Vivafilm', 'Wellspring Media', 'IMAX',\n",
       "       'USA Films', 'Destination Films', 'Eros International',\n",
       "       'Good Machine', 'Independent Artists', 'Lot 47 Films',\n",
       "       'Paramount Classics', 'Palm Pictures', 'Sceneries Distribution',\n",
       "       'WinStar Cinema', 'Phaedra Cinema', 'Focus Features',\n",
       "       'Video Sound', 'Indican Pictures', 'Odeon', 'Empire Pictures Inc.',\n",
       "       'IDP Distribution', 'Shooting Gallery', 'Screen Gems',\n",
       "       'Regent Releasing', 'Silver Nitrate', 'Monarch',\n",
       "       'Revolution Studios', 'Newmarket Films', '8x Entertainment',\n",
       "       'IFC Films', 'Avatar Films', 'Access Entertainment',\n",
       "       'Excel Entertainment', 'Panorama Entertainment',\n",
       "       'Two Silks Releasing', 'Arrow Releasing', 'Cinemax',\n",
       "       'Attitude Films', 'Social Media Productions',\n",
       "       'Cinema Village Features', 'Menemsha Films', 'THINKFilm',\n",
       "       'Media Partners', 'Five & Two Pictures', 'Christal Films',\n",
       "       'Outrider Pictures', 'Innovation Film Group (IFG)',\n",
       "       'Peninsula Films', 'Milestone', 'MAC Releasing', 'Magic Lamp',\n",
       "       'Magnolia Pictures', 'Vitagraph Films', 'National Amusements',\n",
       "       'Icarus Films', 'TLA Releasing', 'Gabriel Film Group',\n",
       "       'Leisure Time Features', 'Tartan', 'ArtMattan Productions',\n",
       "       'Cheapo Films', 'Boll Films', 'Five Sisters Productions', 'Tips',\n",
       "       'Sundance Film Series', 'Lang Films', 'Films Philos',\n",
       "       'Spark Media', 'Music Masala Films', 'ADV Films',\n",
       "       '120 Degree Films', 'Small Island Films', 'The Cinema Guild',\n",
       "       'Sony Pictures Repertory', 'Pioneer', 'Loop Filmworks',\n",
       "       'Film Movement', 'Arab Film Distribution', 'Manifesto Films',\n",
       "       'Balcony Releasing', 'Cinema Tropical',\n",
       "       'Miracle Film Distribution', 'Cinema Four', 'R.S. Entertainment',\n",
       "       'Tidepoint Pictures', 'Arrival Pictures', 'Running Entertainment',\n",
       "       'Emerging Pictures', 'Abramorama', 'SK Films',\n",
       "       'Warner Independent Pictures (WIP)', 'Televisa Cine',\n",
       "       'Mongrel Media', 'UTV Motion Pictures', 'Arenas Entertainment',\n",
       "       'Rogue Pictures', 'Dada Films', 'Cinema Service',\n",
       "       'Slugger Pictures', 'Cinema Libre Studio', 'Koch Lorber Films',\n",
       "       'Slowhand Cinema Releasing', 'Lantern Lane Entertainment',\n",
       "       'Norador Productions', 'RKO Radio Pictures', 'Wolfe Releasing',\n",
       "       'Hannover House', 'Illuminare Entertainment',\n",
       "       'Prime Media Pictures', 'Rogue Arts', 'Screen Media Films',\n",
       "       'Unico Entertainment', 'ISA Releasing', 'RBC Radio', 'Plexifilm',\n",
       "       'Organic Pictures', 'Tag Entertainment', 'Atopia', 'Kathi Arts',\n",
       "       'The Weinstein Company', 'Giant Screen Films', 'Picturehouse',\n",
       "       'Vineyard Distribution', 'Freestyle Releasing',\n",
       "       'First Independent Pictures', 'Geneon Entertainment', 'Cineville',\n",
       "       'California Newsreel', 'Echo Bridge Entertainment',\n",
       "       'International Film Circuit', 'Fader Films', 'Fabrication Films',\n",
       "       'High Cotton Films', 'Silver Plane Films', 'Dinsdale Releasing',\n",
       "       'Cockeyed Caravan', 'Rumur Releasing',\n",
       "       'Sony Pictures Home Entertainment', 'Goodbye Cruel Releasing',\n",
       "       'Romar Entertainment', 'HB Filmworks', 'Hummingbird Pictures',\n",
       "       'Lumiere Productions', 'Viz Media', 'DreamWorks',\n",
       "       'Yari Film Group Releasing', 'Paramount Vantage', 'Dragon Dynasty',\n",
       "       'Fox Atomic', 'Adlabs Films', 'Libero', 'RAM Entertainment',\n",
       "       'Cyan Pictures', 'City Lights Pictures', 'Lovett Releasing',\n",
       "       'First Stripe Productions', 'Kindred Media Group',\n",
       "       'Meadowbrook Pictures', 'Truly Indie', 'Reel Source',\n",
       "       'Maya Entertainment', 'Thread Cross Films',\n",
       "       'Ariztical Entertainment', 'Rocky Mountain Pictures',\n",
       "       'Quixotic Media', 'Skylight Pictures', 'ABKCO Films',\n",
       "       'The Bigger Picture', 'Sagewood Cinema Ventures', 'The 7th Floor',\n",
       "       'Delphi Film Foundation', 'HP Releasing', 'Olive Films',\n",
       "       'Frontier Films', 'Four Eyed Monsters', 'Argot Pictures',\n",
       "       \"Dog Lover's Symphony\", 'Oilrag Productions',\n",
       "       'Bullz Eye Productions', 'Tilapia Film', 'Newport Films',\n",
       "       'Roadside Attractions', 'Chicago Pictures',\n",
       "       'National Geographic Entertainment', 'Summit Entertainment',\n",
       "       'ImaginAsian Pictures', '518 Media', 'Warrior Poets Releasing',\n",
       "       'Anchor Bay Films', 'Janus Films', 'Luminous Velocity Releasing',\n",
       "       'Eleven Arts', 'Wildcat Releasing', 'Monterey Media',\n",
       "       'After Dark Films', 'Priority Films', 'Codeblack Entertainment',\n",
       "       'Outsider Pictures', 'Success Films', 'Halo8 Releasing',\n",
       "       'Elephant Eye Films', 'Xenon Pictures', 'Stand Up Films',\n",
       "       'New Love Films', '600 West Productions', 'Arthouse Films',\n",
       "       'D Street Releasing', 'Green Forest Films',\n",
       "       'The Documentary Group', 'Radio London Films',\n",
       "       'Lonely Seal Releasing', 'Diversa Films',\n",
       "       'Red Envelope Entertainment', 'Mitropoulos Films',\n",
       "       'Sky Island Films', 'Overture Films', 'Studio 18',\n",
       "       'Vivendi Entertainment', 'Third Rail Releasing',\n",
       "       'Candlelight Media Group', 'Crane Movie Company',\n",
       "       'Super Chief Films', 'Fair Trade Pictures',\n",
       "       'Tentmakers Entertainment', 'Image Entertainment',\n",
       "       'Dark Coast Pictures', 'Music Box Films', 'Oscilloscope',\n",
       "       'Alluvial Film Company', 'Embrem Entertainment',\n",
       "       'Stone Five Studios', 'Typecast Releasing', 'InterPositive Media',\n",
       "       'Sidetrack Films', 'Waldo West Productions', 'The Film Desk',\n",
       "       'Cavalier Films', 'MCR Releasing', 'Myriad Pictures',\n",
       "       'Unison Films', 'Liberation Entertainment', 'Mile End Films',\n",
       "       'Mandt Bros. Productions', 'Lafayette Films',\n",
       "       'Engel Entertainment', 'Mountain Top Releasing',\n",
       "       'Arts Alliance America', 'MPI Media Group', 'Apparition',\n",
       "       'Reliance Big Pictures', '3D Entertainment',\n",
       "       'Shorts International', 'Full Circle Releasing', 'Zipporah Films',\n",
       "       'American Zoetrope', 'Cinedigm Entertainment Group',\n",
       "       'Variance Films', 'Paladin', 'Palisades Tartan',\n",
       "       '21st Century Film Production', 'Lorber Films', 'Corinth Films',\n",
       "       'Mypheduh Films', 'Trela Media', 'Roebuck Media', 'Aliquot Films',\n",
       "       'Mangusta Productions', 'Inspired Life', 'MSK Productions',\n",
       "       'Sumbadhat Productions', 'Nocturnal Features', '28 Entertainment',\n",
       "       'CBS Films', 'Relativity Media', 'GKIDS', 'CJ Entertainment',\n",
       "       'CanZion Films', 'Blue Collar Releasing',\n",
       "       'China Lion Film Distribution', 'Drafthouse Films',\n",
       "       'Parallel Media', '7-57 Releasing', 'New Films Cinema',\n",
       "       'CFI Releasing', 'IndieVest Pictures', 'Worldplay',\n",
       "       'The Film Collaborative', 'Grassroots Films', 'Walking Shadows',\n",
       "       'Darius Films', 'New American Vision', 'Cinema Purgatorio',\n",
       "       'Cabin Films', 'Delaware Pictures', 'Area 23a', 'Phase 4 Films',\n",
       "       'The World According to Shorts', 'Flicker Alley',\n",
       "       'Rockstone Releasing', 'All Rise Films', 'Clay Way Media',\n",
       "       'Driving With Our Eyes Shut', 'FilmDistrict',\n",
       "       'Open Road Films (II)', 'Visio Entertainment', 'Quaker Media',\n",
       "       'ATO Pictures', 'SModcast Pictures', 'NeoClassics Films',\n",
       "       'Peace Film', 'Submarine Deluxe', 'Arc Entertainment',\n",
       "       'Tribeca Film', 'Motion Film Group', 'Millennium Entertainment',\n",
       "       'Long Shot Factory', 'Shotown Pictures', 'Rocket Releasing',\n",
       "       'Kino Lorber', 'Tostie Productions', 'FilmDemic',\n",
       "       'Entertainment One', 'Kinobild Releasing', 'Rogers & Cowan/PMK',\n",
       "       'Blackrock Films', 'Breaking Glass Pictures',\n",
       "       'Check Entertainment', 'LD Entertainment',\n",
       "       'Atlas Distribution Company', 'Cohen Media Group',\n",
       "       'Kenn Viselman Presents', 'FIP', 'Page 124 Productions',\n",
       "       'Well Go USA Entertainment', 'Loki Films', 'Adopt Films',\n",
       "       'ArtAffects Entertainment', 'The Film Arcade', 'In the Family',\n",
       "       'Brainstorm Media', 'Dutchmen Films', 'GoDigital', 'S2BN Films',\n",
       "       '7A Productions', 'Datari Turner Productions',\n",
       "       'Pro-Motion Pictures', 'House Lights Media', 'Gravity Arch',\n",
       "       'Cortelyou Films', 'Feature Presentations Releasing',\n",
       "       'Gigapix Releasing', 'A24', 'RADiUS-TWC', 'High Top Releasing',\n",
       "       'EchoLight Studios', 'GathrFilms', 'Purdie Distribution',\n",
       "       'RCR Distribution', 'The Vladar Company',\n",
       "       'Pan Media & Entertainment', 'Ketchup Entertainment',\n",
       "       'Main Street Films', 'Film Collective', 'Focus World',\n",
       "       \"Gabriel's Messenger Films\", 'Noujaim Films', 'Le Petit Canyon',\n",
       "       'XLrator Media', 'Onyx Films', 'Cinipix', 'Carlotta Films',\n",
       "       'FilmBuff', 'Steelyard Pictures', 'Active Fox Productions',\n",
       "       'GoGoGo Entertainment', 'NoCoast Artists', 'Janson Media',\n",
       "       'Follow Your Nose Films', 'Vanguardia Films', 'Gold Cap Films',\n",
       "       'Striped Entertainment', 'Under The Milky Way', 'The Ashton Times',\n",
       "       'Reactor 88 Studios', 'Distrib Films', 'Clarius Entertainment',\n",
       "       'Screenvision', 'Saban Films', 'Ten Furlongs',\n",
       "       'Ocean Avenue Entertainment', 'American Experience Films',\n",
       "       'JSC Entertainment', 'Amplify', 'Bond/360',\n",
       "       'Proud Mother Pictures', 'Saboteur Media', 'The Orchard',\n",
       "       'Gravitas Ventures', 'Starz Digital Media', 'Spacey',\n",
       "       'Providence Film Partners', 'Big World Pictures',\n",
       "       'Kartemquin Films', 'Barking Cow Media Group',\n",
       "       'Revolver Entertainment', 'Parade Deck Films',\n",
       "       'Fox Trail Productions', 'Vertical Entertainment',\n",
       "       'Shout! Factory', 'Scarlet Sky Productions',\n",
       "       \"Brothers' Ink Productions\", 'Liberty Studios',\n",
       "       'Moving Visions Entertainment', 'Doppelganger Releasing',\n",
       "       'Phantom Pain Films', 'STX Entertainment', 'Broad Green Pictures',\n",
       "       'EuropaCorp', 'Pure Flix Entertainment',\n",
       "       'FUNimation Entertainment', 'Bleecker Street Media', 'BH Tilt',\n",
       "       'Cinelou Films', 'Universal Home Video', 'Aascar Film',\n",
       "       'Thinking Man Films', 'Alchemy', 'FilmRise', 'Blue Sky Cinema',\n",
       "       'Lionsgate Premiere', 'BBC Worldwide North America',\n",
       "       'Strasson Group', 'GVN Releasing', 'Participant', 'Fork Films',\n",
       "       'Watchman Pictures', 'Hanover Multimedia',\n",
       "       'The American Film Company', 'Dark Frames',\n",
       "       'Reel One Entertainment', 'Zell-Koj Studio', 'Monument Releasing',\n",
       "       'Fathom Events', 'LifeWay Films', 'Tugg', 'JBG Pictures',\n",
       "       'Forewarned', 'Grasshopper Film', 'Lightyear Entertainment',\n",
       "       'Dreamwest Pictures', 'Cartuna', 'Transatlantic',\n",
       "       'Linn Productions', 'Matson Films', '25th Frame',\n",
       "       'Electric Entertainment', 'Red Dirt Pictures', 'Eammon Films',\n",
       "       'WRA Productions', 'Vanish Films', 'Wonder Vision',\n",
       "       'Hey Jude Productions', 'MarVista Entertainment',\n",
       "       'Entertainment Studios Motion Pictures', 'Great India Films',\n",
       "       'Annapurna Pictures', 'Affirm Films', 'Neon', 'Amazon Studios',\n",
       "       'The H Collective', 'PBS Distribution', 'Sumerian Films',\n",
       "       'Gunpowder & Sky', 'Good Deed Entertainment', 'Newcity', 'Carusel',\n",
       "       'TriCoast Worldwide', 'Arrow Films', 'Artsploitation Films',\n",
       "       'Studio 8', 'Trafalgar Releasing', 'Greenwich Entertainment',\n",
       "       'Spanglish Movies', 'Tulip Pictures', 'Conglomerate Media', 'MUBI',\n",
       "       'Home Box Office (HBO)', 'Blue Fox Entertainment',\n",
       "       'Great Point Media', 'Idle Wild Films', 'SingularDTV',\n",
       "       'Ammo Content', 'Mr. Pictures',\n",
       "       'Gaumont British Picture Corporation', '4th Row Films',\n",
       "       'Synergetic Distribution', 'Elevation Pictures'], dtype=object)"
      ]
     },
     "execution_count": 412,
     "metadata": {},
     "output_type": "execute_result"
    }
   ],
   "source": [
    "box_office.studio.nunique() #570 unique studios\n",
    "box_office.studio.unique() #We Will visualize the largest (n) studios, 10 or 15\n",
    "#and group the others in (other) - whatever sums up to what we need in a visualization\n"
   ]
  },
  {
   "cell_type": "code",
   "execution_count": null,
   "metadata": {},
   "outputs": [],
   "source": []
  }
 ],
 "metadata": {
  "kernelspec": {
   "display_name": "Python 3",
   "language": "python",
   "name": "python3"
  },
  "language_info": {
   "codemirror_mode": {
    "name": "ipython",
    "version": 3
   },
   "file_extension": ".py",
   "mimetype": "text/x-python",
   "name": "python",
   "nbconvert_exporter": "python",
   "pygments_lexer": "ipython3",
   "version": "3.7.4"
  }
 },
 "nbformat": 4,
 "nbformat_minor": 4
}
